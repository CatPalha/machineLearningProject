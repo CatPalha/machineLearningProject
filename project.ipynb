{
 "cells": [
  {
   "cell_type": "markdown",
   "metadata": {},
   "source": [
    "## <h1><center>Machine Learning Project</center></h1>\n",
    "\n",
    "### <center> Class of 2019/2020 </center> \n",
    "\n",
    "\n",
    "\n",
    "   <center> Maren Leuthner - M20190134\n",
    "    <br>\n",
    "    Catarina Palha - M20190156\n",
    "    <br>\n",
    "    Mafalda Zúquete - M20190257\n",
    "    <br>\n",
    "    Pedro Carvalho - M20190417</center>\n"
   ]
  },
  {
   "cell_type": "markdown",
   "metadata": {},
   "source": [
    "### TODO - TO BE TRNSFORMED INTO INDEX\n",
    "\n",
    "* [1. Inroduction](#intro)\n",
    "* [2. About the data](#dataAnalysis)\n",
    "    * [2.1. Adding variables](#tech1)"
   ]
  },
  {
   "cell_type": "markdown",
   "metadata": {},
   "source": [
    "## 1. Introduction\n",
    "\n",
    "On January 1st, 2020, an epidemy was originated in Albuquerque, in New Mexico state, and spread on the\n",
    "following days to Santa Fe and Taos. It is estimated that the epidemy has already affected more than 1000\n",
    "people at the end of February, with a mortality rate of more than 50%.\n",
    "\n",
    "***GOAL: What are the people more likely to survive to the boolean pandemic?***\n",
    "\n",
    "\n",
    "## 2. About the data\n",
    "\n",
    "`Patient_ID` The unique identifier of the patient<br>\n",
    "`Family_Case_ID` The family identification<br>\n",
    "`Severity`The severity of the disease, where 1 is the lowest and 3 the highest severity<br>\n",
    "`Name`The name of the patient<br>\n",
    "`Birthday_year`The year of birthday of the patient<br>\n",
    "`Parents_Siblings_Infected` The number of parents and/or siblings infected<br>\n",
    "`Partner_Children_Infected`The number of partner and/or children infected<br>\n",
    "`Medical_Expenses_Family`The medical expenses associated to try to contain the epidemy on the family<br>\n",
    "`Medical_Tent` The medical tent where the patient is / was lodged<br>\n",
    "`City` The original city of the patient<br>\n",
    "`Deceased` Flag if the patient deceased or not with the virus (0 = No, 1 = Yes)<br>"
   ]
  },
  {
   "cell_type": "code",
   "execution_count": 26,
   "metadata": {},
   "outputs": [],
   "source": [
    "import pandas as pd\n",
    "import numpy as np\n",
    "\n",
    "import warnings\n",
    "warnings.filterwarnings(\"ignore\")"
   ]
  },
  {
   "cell_type": "markdown",
   "metadata": {},
   "source": [
    "### 1. First Look at the data "
   ]
  },
  {
   "cell_type": "markdown",
   "metadata": {},
   "source": [
    "1.1. Adding variables: \n",
    "\n",
    "`Infected_per_Family` Sum of Parents or sibilings infected and Wife/Husband or children infected<br>\n",
    "`Maritial_state` 1 if it is married 0 otherwise <br>\n",
    "`Gender` 1 if it is female 0 otherwise <br>\n",
    "`is_young: `0 if the age is lower than 60, 1 otherwise<br>\n"
   ]
  },
  {
   "cell_type": "code",
   "execution_count": 27,
   "metadata": {},
   "outputs": [],
   "source": [
    " #Importing the data\n",
    "df = pd.read_csv('train.csv')\n",
    "\n",
    "df['Infected_per_Family'] = df['Parents or siblings infected'] + df['Wife/Husband or children infected']\n",
    "\n",
    "df['Maritial_Status'] = 0\n",
    "\n",
    "df['Gender'] = 0\n",
    "\n",
    "df['Title'] = 0"
   ]
  },
  {
   "cell_type": "code",
   "execution_count": 28,
   "metadata": {
    "jupyter": {
     "source_hidden": true
    }
   },
   "outputs": [],
   "source": [
    "for i in range(0, df.shape[0]):\n",
    "    \n",
    "    if df.Name[i].startswith('Miss'):\n",
    "        df['Maritial_Status'][i] = 0\n",
    "        df['Gender'][i] = 1\n",
    "        df['Title'][i] = 'Miss'\n",
    "        \n",
    "    elif df.Name[i].startswith('Ms.'):\n",
    "        df['Maritial_Status'][i] = 'unknown'\n",
    "        df['Gender'][i] = 1\n",
    "        df['Title'][i] = 'Ms.'\n",
    "    \n",
    "    elif df.Name[i].startswith('Mrs.'):\n",
    "        df['Maritial_Status'][i] = 1\n",
    "        df['Gender'][i] = 1\n",
    "        df['Title'][i] = 'Mrs.'\n",
    "        \n",
    "    elif df.Name[i].startswith('Mr.'):\n",
    "        df['Maritial_Status'][i] = 1\n",
    "        df['Gender'][i] = 0\n",
    "        df['Title'][i] = 'Mr.'\n",
    "        \n",
    "    elif df.Name[i].startswith('Master'):\n",
    "        df['Maritial_Status'][i] = 0\n",
    "        df['Gender'][i] = 0\n",
    "        df['Title'][i] = 'Master'"
   ]
  },
  {
   "cell_type": "code",
   "execution_count": 29,
   "metadata": {},
   "outputs": [
    {
     "data": {
      "text/html": [
       "<div>\n",
       "<style scoped>\n",
       "    .dataframe tbody tr th:only-of-type {\n",
       "        vertical-align: middle;\n",
       "    }\n",
       "\n",
       "    .dataframe tbody tr th {\n",
       "        vertical-align: top;\n",
       "    }\n",
       "\n",
       "    .dataframe thead th {\n",
       "        text-align: right;\n",
       "    }\n",
       "</style>\n",
       "<table border=\"1\" class=\"dataframe\">\n",
       "  <thead>\n",
       "    <tr style=\"text-align: right;\">\n",
       "      <th></th>\n",
       "      <th>Patient_ID</th>\n",
       "      <th>Family_Case_ID</th>\n",
       "      <th>Severity</th>\n",
       "      <th>Name</th>\n",
       "      <th>Birthday_year</th>\n",
       "      <th>Parents or siblings infected</th>\n",
       "      <th>Wife/Husband or children infected</th>\n",
       "      <th>Medical_Expenses_Family</th>\n",
       "      <th>Medical_Tent</th>\n",
       "      <th>City</th>\n",
       "      <th>Deceased</th>\n",
       "      <th>Infected_per_Family</th>\n",
       "      <th>Maritial_Status</th>\n",
       "      <th>Gender</th>\n",
       "      <th>Title</th>\n",
       "    </tr>\n",
       "  </thead>\n",
       "  <tbody>\n",
       "    <tr>\n",
       "      <th>0</th>\n",
       "      <td>1</td>\n",
       "      <td>4696</td>\n",
       "      <td>3</td>\n",
       "      <td>Miss Linda Betty</td>\n",
       "      <td>NaN</td>\n",
       "      <td>0</td>\n",
       "      <td>0</td>\n",
       "      <td>225</td>\n",
       "      <td>NaN</td>\n",
       "      <td>Santa Fe</td>\n",
       "      <td>1</td>\n",
       "      <td>0</td>\n",
       "      <td>0</td>\n",
       "      <td>1</td>\n",
       "      <td>Miss</td>\n",
       "    </tr>\n",
       "    <tr>\n",
       "      <th>1</th>\n",
       "      <td>2</td>\n",
       "      <td>21436</td>\n",
       "      <td>1</td>\n",
       "      <td>Ms. Ramona Elvira</td>\n",
       "      <td>1966.0</td>\n",
       "      <td>0</td>\n",
       "      <td>1</td>\n",
       "      <td>1663</td>\n",
       "      <td>NaN</td>\n",
       "      <td>Albuquerque</td>\n",
       "      <td>0</td>\n",
       "      <td>1</td>\n",
       "      <td>unknown</td>\n",
       "      <td>1</td>\n",
       "      <td>Ms.</td>\n",
       "    </tr>\n",
       "    <tr>\n",
       "      <th>2</th>\n",
       "      <td>3</td>\n",
       "      <td>7273</td>\n",
       "      <td>3</td>\n",
       "      <td>Mr. Mario Vernon</td>\n",
       "      <td>1982.0</td>\n",
       "      <td>0</td>\n",
       "      <td>0</td>\n",
       "      <td>221</td>\n",
       "      <td>NaN</td>\n",
       "      <td>Santa Fe</td>\n",
       "      <td>1</td>\n",
       "      <td>0</td>\n",
       "      <td>1</td>\n",
       "      <td>0</td>\n",
       "      <td>Mr.</td>\n",
       "    </tr>\n",
       "    <tr>\n",
       "      <th>3</th>\n",
       "      <td>4</td>\n",
       "      <td>8226</td>\n",
       "      <td>3</td>\n",
       "      <td>Mr. Hector Joe</td>\n",
       "      <td>1997.0</td>\n",
       "      <td>0</td>\n",
       "      <td>0</td>\n",
       "      <td>220</td>\n",
       "      <td>NaN</td>\n",
       "      <td>Santa Fe</td>\n",
       "      <td>1</td>\n",
       "      <td>0</td>\n",
       "      <td>1</td>\n",
       "      <td>0</td>\n",
       "      <td>Mr.</td>\n",
       "    </tr>\n",
       "    <tr>\n",
       "      <th>4</th>\n",
       "      <td>5</td>\n",
       "      <td>19689</td>\n",
       "      <td>3</td>\n",
       "      <td>Ms. Jennie Debra</td>\n",
       "      <td>1994.0</td>\n",
       "      <td>0</td>\n",
       "      <td>0</td>\n",
       "      <td>222</td>\n",
       "      <td>NaN</td>\n",
       "      <td>Santa Fe</td>\n",
       "      <td>0</td>\n",
       "      <td>0</td>\n",
       "      <td>unknown</td>\n",
       "      <td>1</td>\n",
       "      <td>Ms.</td>\n",
       "    </tr>\n",
       "  </tbody>\n",
       "</table>\n",
       "</div>"
      ],
      "text/plain": [
       "   Patient_ID  Family_Case_ID  Severity               Name  Birthday_year  \\\n",
       "0           1            4696         3   Miss Linda Betty            NaN   \n",
       "1           2           21436         1  Ms. Ramona Elvira         1966.0   \n",
       "2           3            7273         3   Mr. Mario Vernon         1982.0   \n",
       "3           4            8226         3     Mr. Hector Joe         1997.0   \n",
       "4           5           19689         3   Ms. Jennie Debra         1994.0   \n",
       "\n",
       "   Parents or siblings infected  Wife/Husband or children infected  \\\n",
       "0                             0                                  0   \n",
       "1                             0                                  1   \n",
       "2                             0                                  0   \n",
       "3                             0                                  0   \n",
       "4                             0                                  0   \n",
       "\n",
       "   Medical_Expenses_Family Medical_Tent         City  Deceased  \\\n",
       "0                      225          NaN     Santa Fe         1   \n",
       "1                     1663          NaN  Albuquerque         0   \n",
       "2                      221          NaN     Santa Fe         1   \n",
       "3                      220          NaN     Santa Fe         1   \n",
       "4                      222          NaN     Santa Fe         0   \n",
       "\n",
       "   Infected_per_Family Maritial_Status  Gender Title  \n",
       "0                    0               0       1  Miss  \n",
       "1                    1         unknown       1   Ms.  \n",
       "2                    0               1       0   Mr.  \n",
       "3                    0               1       0   Mr.  \n",
       "4                    0         unknown       1   Ms.  "
      ]
     },
     "execution_count": 29,
     "metadata": {},
     "output_type": "execute_result"
    }
   ],
   "source": [
    "df.head()"
   ]
  },
  {
   "cell_type": "markdown",
   "metadata": {},
   "source": [
    "Let's replace the unknowns on Maritial_Status variable"
   ]
  },
  {
   "cell_type": "code",
   "execution_count": 30,
   "metadata": {},
   "outputs": [
    {
     "data": {
      "text/html": [
       "<div>\n",
       "<style scoped>\n",
       "    .dataframe tbody tr th:only-of-type {\n",
       "        vertical-align: middle;\n",
       "    }\n",
       "\n",
       "    .dataframe tbody tr th {\n",
       "        vertical-align: top;\n",
       "    }\n",
       "\n",
       "    .dataframe thead th {\n",
       "        text-align: right;\n",
       "    }\n",
       "</style>\n",
       "<table border=\"1\" class=\"dataframe\">\n",
       "  <thead>\n",
       "    <tr style=\"text-align: right;\">\n",
       "      <th></th>\n",
       "      <th>Family_Case_ID</th>\n",
       "      <th>City</th>\n",
       "      <th>Title</th>\n",
       "    </tr>\n",
       "  </thead>\n",
       "  <tbody>\n",
       "    <tr>\n",
       "      <th>0</th>\n",
       "      <td>345</td>\n",
       "      <td>Taos</td>\n",
       "      <td>[Mr.]</td>\n",
       "    </tr>\n",
       "    <tr>\n",
       "      <th>1</th>\n",
       "      <td>981</td>\n",
       "      <td>Taos</td>\n",
       "      <td>[Miss]</td>\n",
       "    </tr>\n",
       "    <tr>\n",
       "      <th>2</th>\n",
       "      <td>1773</td>\n",
       "      <td>Santa Fe</td>\n",
       "      <td>[Mr.]</td>\n",
       "    </tr>\n",
       "    <tr>\n",
       "      <th>3</th>\n",
       "      <td>1794</td>\n",
       "      <td>Santa Fe</td>\n",
       "      <td>[Mr.]</td>\n",
       "    </tr>\n",
       "    <tr>\n",
       "      <th>4</th>\n",
       "      <td>1816</td>\n",
       "      <td>Santa Fe</td>\n",
       "      <td>[Mr.]</td>\n",
       "    </tr>\n",
       "  </tbody>\n",
       "</table>\n",
       "</div>"
      ],
      "text/plain": [
       "   Family_Case_ID      City   Title\n",
       "0             345      Taos   [Mr.]\n",
       "1             981      Taos  [Miss]\n",
       "2            1773  Santa Fe   [Mr.]\n",
       "3            1794  Santa Fe   [Mr.]\n",
       "4            1816  Santa Fe   [Mr.]"
      ]
     },
     "execution_count": 30,
     "metadata": {},
     "output_type": "execute_result"
    }
   ],
   "source": [
    "df_title = df.groupby(['Family_Case_ID', 'City'])['Title'].apply(list).reset_index().head(50).sort_values('Family_Case_ID')\n",
    "df_title.head()"
   ]
  },
  {
   "cell_type": "code",
   "execution_count": 31,
   "metadata": {},
   "outputs": [],
   "source": [
    "len_list = []\n",
    "\n",
    "for i in list(df_title['Title']):\n",
    "    len_list.append(len(i))\n",
    "    \n",
    "df_title['fam_length_per_city'] = len_list"
   ]
  },
  {
   "cell_type": "markdown",
   "metadata": {},
   "source": [
    "Let's see where fam_legth_per_city is not 1"
   ]
  },
  {
   "cell_type": "code",
   "execution_count": 32,
   "metadata": {},
   "outputs": [
    {
     "data": {
      "text/html": [
       "<div>\n",
       "<style scoped>\n",
       "    .dataframe tbody tr th:only-of-type {\n",
       "        vertical-align: middle;\n",
       "    }\n",
       "\n",
       "    .dataframe tbody tr th {\n",
       "        vertical-align: top;\n",
       "    }\n",
       "\n",
       "    .dataframe thead th {\n",
       "        text-align: right;\n",
       "    }\n",
       "</style>\n",
       "<table border=\"1\" class=\"dataframe\">\n",
       "  <thead>\n",
       "    <tr style=\"text-align: right;\">\n",
       "      <th></th>\n",
       "      <th>Family_Case_ID</th>\n",
       "      <th>City</th>\n",
       "      <th>Title</th>\n",
       "      <th>fam_length_per_city</th>\n",
       "    </tr>\n",
       "  </thead>\n",
       "  <tbody>\n",
       "    <tr>\n",
       "      <th>5</th>\n",
       "      <td>1817</td>\n",
       "      <td>Albuquerque</td>\n",
       "      <td>[Mr., Ms.]</td>\n",
       "      <td>2</td>\n",
       "    </tr>\n",
       "    <tr>\n",
       "      <th>18</th>\n",
       "      <td>2098</td>\n",
       "      <td>Santa Fe</td>\n",
       "      <td>[Miss, Mr., Ms.]</td>\n",
       "      <td>3</td>\n",
       "    </tr>\n",
       "    <tr>\n",
       "      <th>20</th>\n",
       "      <td>2201</td>\n",
       "      <td>Santa Fe</td>\n",
       "      <td>[Miss, Mr., Miss]</td>\n",
       "      <td>3</td>\n",
       "    </tr>\n",
       "    <tr>\n",
       "      <th>23</th>\n",
       "      <td>2309</td>\n",
       "      <td>Albuquerque</td>\n",
       "      <td>[Miss, Miss, Ms., Miss]</td>\n",
       "      <td>4</td>\n",
       "    </tr>\n",
       "    <tr>\n",
       "      <th>25</th>\n",
       "      <td>2396</td>\n",
       "      <td>Santa Fe</td>\n",
       "      <td>[Mr., Ms.]</td>\n",
       "      <td>2</td>\n",
       "    </tr>\n",
       "    <tr>\n",
       "      <th>35</th>\n",
       "      <td>2741</td>\n",
       "      <td>Albuquerque</td>\n",
       "      <td>[Master, Mr.]</td>\n",
       "      <td>2</td>\n",
       "    </tr>\n",
       "    <tr>\n",
       "      <th>43</th>\n",
       "      <td>3060</td>\n",
       "      <td>Albuquerque</td>\n",
       "      <td>[Miss, Mr.]</td>\n",
       "      <td>2</td>\n",
       "    </tr>\n",
       "    <tr>\n",
       "      <th>46</th>\n",
       "      <td>3165</td>\n",
       "      <td>Santa Fe</td>\n",
       "      <td>[Mr., Ms.]</td>\n",
       "      <td>2</td>\n",
       "    </tr>\n",
       "    <tr>\n",
       "      <th>47</th>\n",
       "      <td>3196</td>\n",
       "      <td>Santa Fe</td>\n",
       "      <td>[Ms., Master]</td>\n",
       "      <td>2</td>\n",
       "    </tr>\n",
       "  </tbody>\n",
       "</table>\n",
       "</div>"
      ],
      "text/plain": [
       "    Family_Case_ID         City                    Title  fam_length_per_city\n",
       "5             1817  Albuquerque               [Mr., Ms.]                    2\n",
       "18            2098     Santa Fe         [Miss, Mr., Ms.]                    3\n",
       "20            2201     Santa Fe        [Miss, Mr., Miss]                    3\n",
       "23            2309  Albuquerque  [Miss, Miss, Ms., Miss]                    4\n",
       "25            2396     Santa Fe               [Mr., Ms.]                    2\n",
       "35            2741  Albuquerque            [Master, Mr.]                    2\n",
       "43            3060  Albuquerque              [Miss, Mr.]                    2\n",
       "46            3165     Santa Fe               [Mr., Ms.]                    2\n",
       "47            3196     Santa Fe            [Ms., Master]                    2"
      ]
     },
     "execution_count": 32,
     "metadata": {},
     "output_type": "execute_result"
    }
   ],
   "source": [
    "df_title[df_title['fam_length_per_city'] != 1]"
   ]
  },
  {
   "cell_type": "markdown",
   "metadata": {},
   "source": [
    "First, we're going to assume that:\n",
    "\n",
    "`Family_Case_ID 1817` The Ms. is married<br>\n",
    "`Family_Case_ID 2098` The Ms. is married<br>\n",
    "`Family_Case_ID 2309` The Ms. is married<br>\n",
    "`Family_Case_ID 2396` The Ms. is married <br>\n",
    "`Family_Case_ID 3165` The Ms. is married<br>\n",
    "`Family_Case_ID 3196` The Ms. is married<br>\n",
    "`All the others` The Ms. is not married<br>\n"
   ]
  },
  {
   "cell_type": "code",
   "execution_count": 33,
   "metadata": {},
   "outputs": [
    {
     "data": {
      "text/html": [
       "<div>\n",
       "<style scoped>\n",
       "    .dataframe tbody tr th:only-of-type {\n",
       "        vertical-align: middle;\n",
       "    }\n",
       "\n",
       "    .dataframe tbody tr th {\n",
       "        vertical-align: top;\n",
       "    }\n",
       "\n",
       "    .dataframe thead th {\n",
       "        text-align: right;\n",
       "    }\n",
       "</style>\n",
       "<table border=\"1\" class=\"dataframe\">\n",
       "  <thead>\n",
       "    <tr style=\"text-align: right;\">\n",
       "      <th></th>\n",
       "      <th>Patient_ID</th>\n",
       "      <th>Family_Case_ID</th>\n",
       "      <th>Severity</th>\n",
       "      <th>Name</th>\n",
       "      <th>Birthday_year</th>\n",
       "      <th>Parents or siblings infected</th>\n",
       "      <th>Wife/Husband or children infected</th>\n",
       "      <th>Medical_Expenses_Family</th>\n",
       "      <th>Medical_Tent</th>\n",
       "      <th>City</th>\n",
       "      <th>Deceased</th>\n",
       "      <th>Infected_per_Family</th>\n",
       "      <th>Maritial_Status</th>\n",
       "      <th>Gender</th>\n",
       "      <th>Title</th>\n",
       "    </tr>\n",
       "  </thead>\n",
       "  <tbody>\n",
       "    <tr>\n",
       "      <th>881</th>\n",
       "      <td>882</td>\n",
       "      <td>1817</td>\n",
       "      <td>1</td>\n",
       "      <td>Ms. Georgia Joann</td>\n",
       "      <td>1984.0</td>\n",
       "      <td>0</td>\n",
       "      <td>0</td>\n",
       "      <td>3798</td>\n",
       "      <td>C</td>\n",
       "      <td>Albuquerque</td>\n",
       "      <td>0</td>\n",
       "      <td>0</td>\n",
       "      <td>unknown</td>\n",
       "      <td>1</td>\n",
       "      <td>Ms.</td>\n",
       "    </tr>\n",
       "  </tbody>\n",
       "</table>\n",
       "</div>"
      ],
      "text/plain": [
       "     Patient_ID  Family_Case_ID  Severity               Name  Birthday_year  \\\n",
       "881         882            1817         1  Ms. Georgia Joann         1984.0   \n",
       "\n",
       "     Parents or siblings infected  Wife/Husband or children infected  \\\n",
       "881                             0                                  0   \n",
       "\n",
       "     Medical_Expenses_Family Medical_Tent         City  Deceased  \\\n",
       "881                     3798            C  Albuquerque         0   \n",
       "\n",
       "     Infected_per_Family Maritial_Status  Gender Title  \n",
       "881                    0         unknown       1   Ms.  "
      ]
     },
     "execution_count": 33,
     "metadata": {},
     "output_type": "execute_result"
    }
   ],
   "source": [
    "df[(df['Family_Case_ID'] == 1817) & (df['Title'] == 'Ms.') & (df['City'] == 'Albuquerque')]"
   ]
  },
  {
   "cell_type": "code",
   "execution_count": 34,
   "metadata": {},
   "outputs": [],
   "source": [
    "df.loc[882,'Maritial_Status'] = 1"
   ]
  },
  {
   "cell_type": "code",
   "execution_count": 35,
   "metadata": {},
   "outputs": [
    {
     "data": {
      "text/html": [
       "<div>\n",
       "<style scoped>\n",
       "    .dataframe tbody tr th:only-of-type {\n",
       "        vertical-align: middle;\n",
       "    }\n",
       "\n",
       "    .dataframe tbody tr th {\n",
       "        vertical-align: top;\n",
       "    }\n",
       "\n",
       "    .dataframe thead th {\n",
       "        text-align: right;\n",
       "    }\n",
       "</style>\n",
       "<table border=\"1\" class=\"dataframe\">\n",
       "  <thead>\n",
       "    <tr style=\"text-align: right;\">\n",
       "      <th></th>\n",
       "      <th>Patient_ID</th>\n",
       "      <th>Family_Case_ID</th>\n",
       "      <th>Severity</th>\n",
       "      <th>Name</th>\n",
       "      <th>Birthday_year</th>\n",
       "      <th>Parents or siblings infected</th>\n",
       "      <th>Wife/Husband or children infected</th>\n",
       "      <th>Medical_Expenses_Family</th>\n",
       "      <th>Medical_Tent</th>\n",
       "      <th>City</th>\n",
       "      <th>Deceased</th>\n",
       "      <th>Infected_per_Family</th>\n",
       "      <th>Maritial_Status</th>\n",
       "      <th>Gender</th>\n",
       "      <th>Title</th>\n",
       "    </tr>\n",
       "  </thead>\n",
       "  <tbody>\n",
       "    <tr>\n",
       "      <th>580</th>\n",
       "      <td>581</td>\n",
       "      <td>2309</td>\n",
       "      <td>3</td>\n",
       "      <td>Ms. Melinda Rhonda</td>\n",
       "      <td>1996.0</td>\n",
       "      <td>3</td>\n",
       "      <td>0</td>\n",
       "      <td>539</td>\n",
       "      <td>NaN</td>\n",
       "      <td>Albuquerque</td>\n",
       "      <td>0</td>\n",
       "      <td>3</td>\n",
       "      <td>unknown</td>\n",
       "      <td>1</td>\n",
       "      <td>Ms.</td>\n",
       "    </tr>\n",
       "  </tbody>\n",
       "</table>\n",
       "</div>"
      ],
      "text/plain": [
       "     Patient_ID  Family_Case_ID  Severity                Name  Birthday_year  \\\n",
       "580         581            2309         3  Ms. Melinda Rhonda         1996.0   \n",
       "\n",
       "     Parents or siblings infected  Wife/Husband or children infected  \\\n",
       "580                             3                                  0   \n",
       "\n",
       "     Medical_Expenses_Family Medical_Tent         City  Deceased  \\\n",
       "580                      539          NaN  Albuquerque         0   \n",
       "\n",
       "     Infected_per_Family Maritial_Status  Gender Title  \n",
       "580                    3         unknown       1   Ms.  "
      ]
     },
     "execution_count": 35,
     "metadata": {},
     "output_type": "execute_result"
    }
   ],
   "source": [
    "df[(df['Family_Case_ID'] == 2309) & (df['Title'] == 'Ms.') & (df['City'] == 'Albuquerque')]"
   ]
  },
  {
   "cell_type": "code",
   "execution_count": 36,
   "metadata": {},
   "outputs": [],
   "source": [
    "df.loc[580,'Maritial_Status'] = 1"
   ]
  },
  {
   "cell_type": "code",
   "execution_count": 37,
   "metadata": {},
   "outputs": [
    {
     "data": {
      "text/html": [
       "<div>\n",
       "<style scoped>\n",
       "    .dataframe tbody tr th:only-of-type {\n",
       "        vertical-align: middle;\n",
       "    }\n",
       "\n",
       "    .dataframe tbody tr th {\n",
       "        vertical-align: top;\n",
       "    }\n",
       "\n",
       "    .dataframe thead th {\n",
       "        text-align: right;\n",
       "    }\n",
       "</style>\n",
       "<table border=\"1\" class=\"dataframe\">\n",
       "  <thead>\n",
       "    <tr style=\"text-align: right;\">\n",
       "      <th></th>\n",
       "      <th>Patient_ID</th>\n",
       "      <th>Family_Case_ID</th>\n",
       "      <th>Severity</th>\n",
       "      <th>Name</th>\n",
       "      <th>Birthday_year</th>\n",
       "      <th>Parents or siblings infected</th>\n",
       "      <th>Wife/Husband or children infected</th>\n",
       "      <th>Medical_Expenses_Family</th>\n",
       "      <th>Medical_Tent</th>\n",
       "      <th>City</th>\n",
       "      <th>Deceased</th>\n",
       "      <th>Infected_per_Family</th>\n",
       "      <th>Maritial_Status</th>\n",
       "      <th>Gender</th>\n",
       "      <th>Title</th>\n",
       "    </tr>\n",
       "  </thead>\n",
       "  <tbody>\n",
       "    <tr>\n",
       "      <th>509</th>\n",
       "      <td>510</td>\n",
       "      <td>2098</td>\n",
       "      <td>2</td>\n",
       "      <td>Ms. Stephanie Myrtle</td>\n",
       "      <td>1987.0</td>\n",
       "      <td>2</td>\n",
       "      <td>1</td>\n",
       "      <td>777</td>\n",
       "      <td>NaN</td>\n",
       "      <td>Santa Fe</td>\n",
       "      <td>0</td>\n",
       "      <td>3</td>\n",
       "      <td>unknown</td>\n",
       "      <td>1</td>\n",
       "      <td>Ms.</td>\n",
       "    </tr>\n",
       "  </tbody>\n",
       "</table>\n",
       "</div>"
      ],
      "text/plain": [
       "     Patient_ID  Family_Case_ID  Severity                  Name  \\\n",
       "509         510            2098         2  Ms. Stephanie Myrtle   \n",
       "\n",
       "     Birthday_year  Parents or siblings infected  \\\n",
       "509         1987.0                             2   \n",
       "\n",
       "     Wife/Husband or children infected  Medical_Expenses_Family Medical_Tent  \\\n",
       "509                                  1                      777          NaN   \n",
       "\n",
       "         City  Deceased  Infected_per_Family Maritial_Status  Gender Title  \n",
       "509  Santa Fe         0                    3         unknown       1   Ms.  "
      ]
     },
     "execution_count": 37,
     "metadata": {},
     "output_type": "execute_result"
    }
   ],
   "source": [
    "df[(df['Family_Case_ID'] == 2098) & (df['Title'] == 'Ms.') & (df['City'] == 'Santa Fe')]"
   ]
  },
  {
   "cell_type": "code",
   "execution_count": 38,
   "metadata": {},
   "outputs": [],
   "source": [
    "df.loc[509,'Maritial_Status'] = 1"
   ]
  },
  {
   "cell_type": "code",
   "execution_count": 39,
   "metadata": {},
   "outputs": [
    {
     "data": {
      "text/html": [
       "<div>\n",
       "<style scoped>\n",
       "    .dataframe tbody tr th:only-of-type {\n",
       "        vertical-align: middle;\n",
       "    }\n",
       "\n",
       "    .dataframe tbody tr th {\n",
       "        vertical-align: top;\n",
       "    }\n",
       "\n",
       "    .dataframe thead th {\n",
       "        text-align: right;\n",
       "    }\n",
       "</style>\n",
       "<table border=\"1\" class=\"dataframe\">\n",
       "  <thead>\n",
       "    <tr style=\"text-align: right;\">\n",
       "      <th></th>\n",
       "      <th>Patient_ID</th>\n",
       "      <th>Family_Case_ID</th>\n",
       "      <th>Severity</th>\n",
       "      <th>Name</th>\n",
       "      <th>Birthday_year</th>\n",
       "      <th>Parents or siblings infected</th>\n",
       "      <th>Wife/Husband or children infected</th>\n",
       "      <th>Medical_Expenses_Family</th>\n",
       "      <th>Medical_Tent</th>\n",
       "      <th>City</th>\n",
       "      <th>Deceased</th>\n",
       "      <th>Infected_per_Family</th>\n",
       "      <th>Maritial_Status</th>\n",
       "      <th>Gender</th>\n",
       "      <th>Title</th>\n",
       "    </tr>\n",
       "  </thead>\n",
       "  <tbody>\n",
       "    <tr>\n",
       "      <th>721</th>\n",
       "      <td>722</td>\n",
       "      <td>2396</td>\n",
       "      <td>3</td>\n",
       "      <td>Ms. Karla Verna</td>\n",
       "      <td>1992.0</td>\n",
       "      <td>1</td>\n",
       "      <td>1</td>\n",
       "      <td>403</td>\n",
       "      <td>NaN</td>\n",
       "      <td>Santa Fe</td>\n",
       "      <td>1</td>\n",
       "      <td>2</td>\n",
       "      <td>unknown</td>\n",
       "      <td>1</td>\n",
       "      <td>Ms.</td>\n",
       "    </tr>\n",
       "  </tbody>\n",
       "</table>\n",
       "</div>"
      ],
      "text/plain": [
       "     Patient_ID  Family_Case_ID  Severity             Name  Birthday_year  \\\n",
       "721         722            2396         3  Ms. Karla Verna         1992.0   \n",
       "\n",
       "     Parents or siblings infected  Wife/Husband or children infected  \\\n",
       "721                             1                                  1   \n",
       "\n",
       "     Medical_Expenses_Family Medical_Tent      City  Deceased  \\\n",
       "721                      403          NaN  Santa Fe         1   \n",
       "\n",
       "     Infected_per_Family Maritial_Status  Gender Title  \n",
       "721                    2         unknown       1   Ms.  "
      ]
     },
     "execution_count": 39,
     "metadata": {},
     "output_type": "execute_result"
    }
   ],
   "source": [
    "df[(df['Family_Case_ID'] == 2396) & (df['Title'] == 'Ms.') & (df['City'] == 'Santa Fe')]"
   ]
  },
  {
   "cell_type": "code",
   "execution_count": 40,
   "metadata": {},
   "outputs": [],
   "source": [
    "df.loc[721,'Maritial_Status'] = 1"
   ]
  },
  {
   "cell_type": "code",
   "execution_count": 41,
   "metadata": {},
   "outputs": [
    {
     "data": {
      "text/html": [
       "<div>\n",
       "<style scoped>\n",
       "    .dataframe tbody tr th:only-of-type {\n",
       "        vertical-align: middle;\n",
       "    }\n",
       "\n",
       "    .dataframe tbody tr th {\n",
       "        vertical-align: top;\n",
       "    }\n",
       "\n",
       "    .dataframe thead th {\n",
       "        text-align: right;\n",
       "    }\n",
       "</style>\n",
       "<table border=\"1\" class=\"dataframe\">\n",
       "  <thead>\n",
       "    <tr style=\"text-align: right;\">\n",
       "      <th></th>\n",
       "      <th>Patient_ID</th>\n",
       "      <th>Family_Case_ID</th>\n",
       "      <th>Severity</th>\n",
       "      <th>Name</th>\n",
       "      <th>Birthday_year</th>\n",
       "      <th>Parents or siblings infected</th>\n",
       "      <th>Wife/Husband or children infected</th>\n",
       "      <th>Medical_Expenses_Family</th>\n",
       "      <th>Medical_Tent</th>\n",
       "      <th>City</th>\n",
       "      <th>Deceased</th>\n",
       "      <th>Infected_per_Family</th>\n",
       "      <th>Maritial_Status</th>\n",
       "      <th>Gender</th>\n",
       "      <th>Title</th>\n",
       "    </tr>\n",
       "  </thead>\n",
       "  <tbody>\n",
       "    <tr>\n",
       "      <th>457</th>\n",
       "      <td>458</td>\n",
       "      <td>3165</td>\n",
       "      <td>3</td>\n",
       "      <td>Ms. Dianne Regina</td>\n",
       "      <td>1996.0</td>\n",
       "      <td>0</td>\n",
       "      <td>1</td>\n",
       "      <td>444</td>\n",
       "      <td>NaN</td>\n",
       "      <td>Santa Fe</td>\n",
       "      <td>0</td>\n",
       "      <td>1</td>\n",
       "      <td>unknown</td>\n",
       "      <td>1</td>\n",
       "      <td>Ms.</td>\n",
       "    </tr>\n",
       "  </tbody>\n",
       "</table>\n",
       "</div>"
      ],
      "text/plain": [
       "     Patient_ID  Family_Case_ID  Severity               Name  Birthday_year  \\\n",
       "457         458            3165         3  Ms. Dianne Regina         1996.0   \n",
       "\n",
       "     Parents or siblings infected  Wife/Husband or children infected  \\\n",
       "457                             0                                  1   \n",
       "\n",
       "     Medical_Expenses_Family Medical_Tent      City  Deceased  \\\n",
       "457                      444          NaN  Santa Fe         0   \n",
       "\n",
       "     Infected_per_Family Maritial_Status  Gender Title  \n",
       "457                    1         unknown       1   Ms.  "
      ]
     },
     "execution_count": 41,
     "metadata": {},
     "output_type": "execute_result"
    }
   ],
   "source": [
    "df[(df['Family_Case_ID'] == 3165) & (df['Title'] == 'Ms.') & (df['City'] == 'Santa Fe')]"
   ]
  },
  {
   "cell_type": "code",
   "execution_count": 42,
   "metadata": {},
   "outputs": [],
   "source": [
    "df.loc[457,'Maritial_Status'] = 1"
   ]
  },
  {
   "cell_type": "code",
   "execution_count": 43,
   "metadata": {},
   "outputs": [
    {
     "data": {
      "text/html": [
       "<div>\n",
       "<style scoped>\n",
       "    .dataframe tbody tr th:only-of-type {\n",
       "        vertical-align: middle;\n",
       "    }\n",
       "\n",
       "    .dataframe tbody tr th {\n",
       "        vertical-align: top;\n",
       "    }\n",
       "\n",
       "    .dataframe thead th {\n",
       "        text-align: right;\n",
       "    }\n",
       "</style>\n",
       "<table border=\"1\" class=\"dataframe\">\n",
       "  <thead>\n",
       "    <tr style=\"text-align: right;\">\n",
       "      <th></th>\n",
       "      <th>Patient_ID</th>\n",
       "      <th>Family_Case_ID</th>\n",
       "      <th>Severity</th>\n",
       "      <th>Name</th>\n",
       "      <th>Birthday_year</th>\n",
       "      <th>Parents or siblings infected</th>\n",
       "      <th>Wife/Husband or children infected</th>\n",
       "      <th>Medical_Expenses_Family</th>\n",
       "      <th>Medical_Tent</th>\n",
       "      <th>City</th>\n",
       "      <th>Deceased</th>\n",
       "      <th>Infected_per_Family</th>\n",
       "      <th>Maritial_Status</th>\n",
       "      <th>Gender</th>\n",
       "      <th>Title</th>\n",
       "    </tr>\n",
       "  </thead>\n",
       "  <tbody>\n",
       "    <tr>\n",
       "      <th>141</th>\n",
       "      <td>142</td>\n",
       "      <td>3196</td>\n",
       "      <td>3</td>\n",
       "      <td>Ms. Roxanne Faye</td>\n",
       "      <td>1993.0</td>\n",
       "      <td>1</td>\n",
       "      <td>0</td>\n",
       "      <td>349</td>\n",
       "      <td>E</td>\n",
       "      <td>Santa Fe</td>\n",
       "      <td>0</td>\n",
       "      <td>1</td>\n",
       "      <td>unknown</td>\n",
       "      <td>1</td>\n",
       "      <td>Ms.</td>\n",
       "    </tr>\n",
       "  </tbody>\n",
       "</table>\n",
       "</div>"
      ],
      "text/plain": [
       "     Patient_ID  Family_Case_ID  Severity              Name  Birthday_year  \\\n",
       "141         142            3196         3  Ms. Roxanne Faye         1993.0   \n",
       "\n",
       "     Parents or siblings infected  Wife/Husband or children infected  \\\n",
       "141                             1                                  0   \n",
       "\n",
       "     Medical_Expenses_Family Medical_Tent      City  Deceased  \\\n",
       "141                      349            E  Santa Fe         0   \n",
       "\n",
       "     Infected_per_Family Maritial_Status  Gender Title  \n",
       "141                    1         unknown       1   Ms.  "
      ]
     },
     "execution_count": 43,
     "metadata": {},
     "output_type": "execute_result"
    }
   ],
   "source": [
    "df[(df['Family_Case_ID'] == 3196) & (df['Title'] == 'Ms.') & (df['City'] == 'Santa Fe')]"
   ]
  },
  {
   "cell_type": "code",
   "execution_count": 44,
   "metadata": {},
   "outputs": [],
   "source": [
    "df.loc[141,'Maritial_Status'] = 1"
   ]
  },
  {
   "cell_type": "code",
   "execution_count": 45,
   "metadata": {},
   "outputs": [],
   "source": [
    "df['Maritial_Status'] = df['Maritial_Status'].replace('unknown', 0)"
   ]
  },
  {
   "cell_type": "code",
   "execution_count": 46,
   "metadata": {},
   "outputs": [
    {
     "data": {
      "text/html": [
       "<div>\n",
       "<style scoped>\n",
       "    .dataframe tbody tr th:only-of-type {\n",
       "        vertical-align: middle;\n",
       "    }\n",
       "\n",
       "    .dataframe tbody tr th {\n",
       "        vertical-align: top;\n",
       "    }\n",
       "\n",
       "    .dataframe thead th {\n",
       "        text-align: right;\n",
       "    }\n",
       "</style>\n",
       "<table border=\"1\" class=\"dataframe\">\n",
       "  <thead>\n",
       "    <tr style=\"text-align: right;\">\n",
       "      <th></th>\n",
       "      <th>Patient_ID</th>\n",
       "      <th>Family_Case_ID</th>\n",
       "      <th>Severity</th>\n",
       "      <th>Name</th>\n",
       "      <th>Birthday_year</th>\n",
       "      <th>Parents or siblings infected</th>\n",
       "      <th>Wife/Husband or children infected</th>\n",
       "      <th>Medical_Expenses_Family</th>\n",
       "      <th>Medical_Tent</th>\n",
       "      <th>City</th>\n",
       "      <th>Deceased</th>\n",
       "      <th>Infected_per_Family</th>\n",
       "      <th>Maritial_Status</th>\n",
       "      <th>Gender</th>\n",
       "      <th>Title</th>\n",
       "    </tr>\n",
       "  </thead>\n",
       "  <tbody>\n",
       "    <tr>\n",
       "      <th>0</th>\n",
       "      <td>1</td>\n",
       "      <td>4696</td>\n",
       "      <td>3</td>\n",
       "      <td>Miss Linda Betty</td>\n",
       "      <td>NaN</td>\n",
       "      <td>0</td>\n",
       "      <td>0</td>\n",
       "      <td>225</td>\n",
       "      <td>NaN</td>\n",
       "      <td>Santa Fe</td>\n",
       "      <td>1</td>\n",
       "      <td>0</td>\n",
       "      <td>0</td>\n",
       "      <td>1</td>\n",
       "      <td>Miss</td>\n",
       "    </tr>\n",
       "    <tr>\n",
       "      <th>1</th>\n",
       "      <td>2</td>\n",
       "      <td>21436</td>\n",
       "      <td>1</td>\n",
       "      <td>Ms. Ramona Elvira</td>\n",
       "      <td>1966.0</td>\n",
       "      <td>0</td>\n",
       "      <td>1</td>\n",
       "      <td>1663</td>\n",
       "      <td>NaN</td>\n",
       "      <td>Albuquerque</td>\n",
       "      <td>0</td>\n",
       "      <td>1</td>\n",
       "      <td>0</td>\n",
       "      <td>1</td>\n",
       "      <td>Ms.</td>\n",
       "    </tr>\n",
       "    <tr>\n",
       "      <th>2</th>\n",
       "      <td>3</td>\n",
       "      <td>7273</td>\n",
       "      <td>3</td>\n",
       "      <td>Mr. Mario Vernon</td>\n",
       "      <td>1982.0</td>\n",
       "      <td>0</td>\n",
       "      <td>0</td>\n",
       "      <td>221</td>\n",
       "      <td>NaN</td>\n",
       "      <td>Santa Fe</td>\n",
       "      <td>1</td>\n",
       "      <td>0</td>\n",
       "      <td>1</td>\n",
       "      <td>0</td>\n",
       "      <td>Mr.</td>\n",
       "    </tr>\n",
       "    <tr>\n",
       "      <th>3</th>\n",
       "      <td>4</td>\n",
       "      <td>8226</td>\n",
       "      <td>3</td>\n",
       "      <td>Mr. Hector Joe</td>\n",
       "      <td>1997.0</td>\n",
       "      <td>0</td>\n",
       "      <td>0</td>\n",
       "      <td>220</td>\n",
       "      <td>NaN</td>\n",
       "      <td>Santa Fe</td>\n",
       "      <td>1</td>\n",
       "      <td>0</td>\n",
       "      <td>1</td>\n",
       "      <td>0</td>\n",
       "      <td>Mr.</td>\n",
       "    </tr>\n",
       "    <tr>\n",
       "      <th>4</th>\n",
       "      <td>5</td>\n",
       "      <td>19689</td>\n",
       "      <td>3</td>\n",
       "      <td>Ms. Jennie Debra</td>\n",
       "      <td>1994.0</td>\n",
       "      <td>0</td>\n",
       "      <td>0</td>\n",
       "      <td>222</td>\n",
       "      <td>NaN</td>\n",
       "      <td>Santa Fe</td>\n",
       "      <td>0</td>\n",
       "      <td>0</td>\n",
       "      <td>0</td>\n",
       "      <td>1</td>\n",
       "      <td>Ms.</td>\n",
       "    </tr>\n",
       "  </tbody>\n",
       "</table>\n",
       "</div>"
      ],
      "text/plain": [
       "   Patient_ID  Family_Case_ID  Severity               Name  Birthday_year  \\\n",
       "0           1            4696         3   Miss Linda Betty            NaN   \n",
       "1           2           21436         1  Ms. Ramona Elvira         1966.0   \n",
       "2           3            7273         3   Mr. Mario Vernon         1982.0   \n",
       "3           4            8226         3     Mr. Hector Joe         1997.0   \n",
       "4           5           19689         3   Ms. Jennie Debra         1994.0   \n",
       "\n",
       "   Parents or siblings infected  Wife/Husband or children infected  \\\n",
       "0                             0                                  0   \n",
       "1                             0                                  1   \n",
       "2                             0                                  0   \n",
       "3                             0                                  0   \n",
       "4                             0                                  0   \n",
       "\n",
       "   Medical_Expenses_Family Medical_Tent         City  Deceased  \\\n",
       "0                      225          NaN     Santa Fe         1   \n",
       "1                     1663          NaN  Albuquerque         0   \n",
       "2                      221          NaN     Santa Fe         1   \n",
       "3                      220          NaN     Santa Fe         1   \n",
       "4                      222          NaN     Santa Fe         0   \n",
       "\n",
       "   Infected_per_Family  Maritial_Status  Gender Title  \n",
       "0                    0                0       1  Miss  \n",
       "1                    1                0       1   Ms.  \n",
       "2                    0                1       0   Mr.  \n",
       "3                    0                1       0   Mr.  \n",
       "4                    0                0       1   Ms.  "
      ]
     },
     "execution_count": 46,
     "metadata": {},
     "output_type": "execute_result"
    }
   ],
   "source": [
    "df.head()"
   ]
  },
  {
   "cell_type": "code",
   "execution_count": 47,
   "metadata": {},
   "outputs": [],
   "source": [
    "df['Age'] = 2020 - df['Birthday_year']\n",
    "\n",
    "df['Is_young'] = 0"
   ]
  },
  {
   "cell_type": "code",
   "execution_count": 48,
   "metadata": {},
   "outputs": [],
   "source": [
    "for i in range(0, df.shape[0]):\n",
    "    \n",
    "    if df['Age'][i] > 60:\n",
    "        df['Is_young'][i] = 1\n",
    "    \n",
    "    else:\n",
    "        df['Is_young'][i] = 0"
   ]
  },
  {
   "cell_type": "code",
   "execution_count": 51,
   "metadata": {},
   "outputs": [
    {
     "data": {
      "text/html": [
       "<div>\n",
       "<style scoped>\n",
       "    .dataframe tbody tr th:only-of-type {\n",
       "        vertical-align: middle;\n",
       "    }\n",
       "\n",
       "    .dataframe tbody tr th {\n",
       "        vertical-align: top;\n",
       "    }\n",
       "\n",
       "    .dataframe thead th {\n",
       "        text-align: right;\n",
       "    }\n",
       "</style>\n",
       "<table border=\"1\" class=\"dataframe\">\n",
       "  <thead>\n",
       "    <tr style=\"text-align: right;\">\n",
       "      <th></th>\n",
       "      <th>Patient_ID</th>\n",
       "      <th>Family_Case_ID</th>\n",
       "      <th>Severity</th>\n",
       "      <th>Name</th>\n",
       "      <th>Birthday_year</th>\n",
       "      <th>Parents or siblings infected</th>\n",
       "      <th>Wife/Husband or children infected</th>\n",
       "      <th>Medical_Expenses_Family</th>\n",
       "      <th>Medical_Tent</th>\n",
       "      <th>City</th>\n",
       "      <th>Deceased</th>\n",
       "      <th>Infected_per_Family</th>\n",
       "      <th>Maritial_Status</th>\n",
       "      <th>Gender</th>\n",
       "      <th>Title</th>\n",
       "      <th>Age</th>\n",
       "      <th>Is_young</th>\n",
       "    </tr>\n",
       "  </thead>\n",
       "  <tbody>\n",
       "    <tr>\n",
       "      <th>0</th>\n",
       "      <td>1</td>\n",
       "      <td>4696</td>\n",
       "      <td>3</td>\n",
       "      <td>Miss Linda Betty</td>\n",
       "      <td>NaN</td>\n",
       "      <td>0</td>\n",
       "      <td>0</td>\n",
       "      <td>225</td>\n",
       "      <td>NaN</td>\n",
       "      <td>Santa Fe</td>\n",
       "      <td>1</td>\n",
       "      <td>0</td>\n",
       "      <td>0</td>\n",
       "      <td>1</td>\n",
       "      <td>Miss</td>\n",
       "      <td>NaN</td>\n",
       "      <td>0</td>\n",
       "    </tr>\n",
       "    <tr>\n",
       "      <th>1</th>\n",
       "      <td>2</td>\n",
       "      <td>21436</td>\n",
       "      <td>1</td>\n",
       "      <td>Ms. Ramona Elvira</td>\n",
       "      <td>1966.0</td>\n",
       "      <td>0</td>\n",
       "      <td>1</td>\n",
       "      <td>1663</td>\n",
       "      <td>NaN</td>\n",
       "      <td>Albuquerque</td>\n",
       "      <td>0</td>\n",
       "      <td>1</td>\n",
       "      <td>0</td>\n",
       "      <td>1</td>\n",
       "      <td>Ms.</td>\n",
       "      <td>54.0</td>\n",
       "      <td>0</td>\n",
       "    </tr>\n",
       "    <tr>\n",
       "      <th>2</th>\n",
       "      <td>3</td>\n",
       "      <td>7273</td>\n",
       "      <td>3</td>\n",
       "      <td>Mr. Mario Vernon</td>\n",
       "      <td>1982.0</td>\n",
       "      <td>0</td>\n",
       "      <td>0</td>\n",
       "      <td>221</td>\n",
       "      <td>NaN</td>\n",
       "      <td>Santa Fe</td>\n",
       "      <td>1</td>\n",
       "      <td>0</td>\n",
       "      <td>1</td>\n",
       "      <td>0</td>\n",
       "      <td>Mr.</td>\n",
       "      <td>38.0</td>\n",
       "      <td>0</td>\n",
       "    </tr>\n",
       "    <tr>\n",
       "      <th>3</th>\n",
       "      <td>4</td>\n",
       "      <td>8226</td>\n",
       "      <td>3</td>\n",
       "      <td>Mr. Hector Joe</td>\n",
       "      <td>1997.0</td>\n",
       "      <td>0</td>\n",
       "      <td>0</td>\n",
       "      <td>220</td>\n",
       "      <td>NaN</td>\n",
       "      <td>Santa Fe</td>\n",
       "      <td>1</td>\n",
       "      <td>0</td>\n",
       "      <td>1</td>\n",
       "      <td>0</td>\n",
       "      <td>Mr.</td>\n",
       "      <td>23.0</td>\n",
       "      <td>0</td>\n",
       "    </tr>\n",
       "    <tr>\n",
       "      <th>4</th>\n",
       "      <td>5</td>\n",
       "      <td>19689</td>\n",
       "      <td>3</td>\n",
       "      <td>Ms. Jennie Debra</td>\n",
       "      <td>1994.0</td>\n",
       "      <td>0</td>\n",
       "      <td>0</td>\n",
       "      <td>222</td>\n",
       "      <td>NaN</td>\n",
       "      <td>Santa Fe</td>\n",
       "      <td>0</td>\n",
       "      <td>0</td>\n",
       "      <td>0</td>\n",
       "      <td>1</td>\n",
       "      <td>Ms.</td>\n",
       "      <td>26.0</td>\n",
       "      <td>0</td>\n",
       "    </tr>\n",
       "  </tbody>\n",
       "</table>\n",
       "</div>"
      ],
      "text/plain": [
       "   Patient_ID  Family_Case_ID  Severity               Name  Birthday_year  \\\n",
       "0           1            4696         3   Miss Linda Betty            NaN   \n",
       "1           2           21436         1  Ms. Ramona Elvira         1966.0   \n",
       "2           3            7273         3   Mr. Mario Vernon         1982.0   \n",
       "3           4            8226         3     Mr. Hector Joe         1997.0   \n",
       "4           5           19689         3   Ms. Jennie Debra         1994.0   \n",
       "\n",
       "   Parents or siblings infected  Wife/Husband or children infected  \\\n",
       "0                             0                                  0   \n",
       "1                             0                                  1   \n",
       "2                             0                                  0   \n",
       "3                             0                                  0   \n",
       "4                             0                                  0   \n",
       "\n",
       "   Medical_Expenses_Family Medical_Tent         City  Deceased  \\\n",
       "0                      225          NaN     Santa Fe         1   \n",
       "1                     1663          NaN  Albuquerque         0   \n",
       "2                      221          NaN     Santa Fe         1   \n",
       "3                      220          NaN     Santa Fe         1   \n",
       "4                      222          NaN     Santa Fe         0   \n",
       "\n",
       "   Infected_per_Family  Maritial_Status  Gender Title   Age  Is_young  \n",
       "0                    0                0       1  Miss   NaN         0  \n",
       "1                    1                0       1   Ms.  54.0         0  \n",
       "2                    0                1       0   Mr.  38.0         0  \n",
       "3                    0                1       0   Mr.  23.0         0  \n",
       "4                    0                0       1   Ms.  26.0         0  "
      ]
     },
     "execution_count": 51,
     "metadata": {},
     "output_type": "execute_result"
    }
   ],
   "source": [
    "df.head()"
   ]
  },
  {
   "cell_type": "code",
   "execution_count": 52,
   "metadata": {},
   "outputs": [
    {
     "data": {
      "text/html": [
       "<div>\n",
       "<style scoped>\n",
       "    .dataframe tbody tr th:only-of-type {\n",
       "        vertical-align: middle;\n",
       "    }\n",
       "\n",
       "    .dataframe tbody tr th {\n",
       "        vertical-align: top;\n",
       "    }\n",
       "\n",
       "    .dataframe thead th {\n",
       "        text-align: right;\n",
       "    }\n",
       "</style>\n",
       "<table border=\"1\" class=\"dataframe\">\n",
       "  <thead>\n",
       "    <tr style=\"text-align: right;\">\n",
       "      <th></th>\n",
       "      <th>Patient_ID</th>\n",
       "      <th>Family_Case_ID</th>\n",
       "      <th>Severity</th>\n",
       "      <th>Birthday_year</th>\n",
       "      <th>Parents or siblings infected</th>\n",
       "      <th>Wife/Husband or children infected</th>\n",
       "      <th>Medical_Expenses_Family</th>\n",
       "      <th>Deceased</th>\n",
       "      <th>Infected_per_Family</th>\n",
       "      <th>Maritial_Status</th>\n",
       "      <th>Gender</th>\n",
       "      <th>Age</th>\n",
       "      <th>Is_young</th>\n",
       "    </tr>\n",
       "  </thead>\n",
       "  <tbody>\n",
       "    <tr>\n",
       "      <th>count</th>\n",
       "      <td>900.000000</td>\n",
       "      <td>900.000000</td>\n",
       "      <td>900.000000</td>\n",
       "      <td>723.000000</td>\n",
       "      <td>900.000000</td>\n",
       "      <td>900.000000</td>\n",
       "      <td>900.000000</td>\n",
       "      <td>900.000000</td>\n",
       "      <td>900.000000</td>\n",
       "      <td>900.00000</td>\n",
       "      <td>900.000000</td>\n",
       "      <td>723.000000</td>\n",
       "      <td>900.000000</td>\n",
       "    </tr>\n",
       "    <tr>\n",
       "      <th>mean</th>\n",
       "      <td>450.500000</td>\n",
       "      <td>14305.827778</td>\n",
       "      <td>2.313333</td>\n",
       "      <td>1990.266943</td>\n",
       "      <td>0.380000</td>\n",
       "      <td>0.521111</td>\n",
       "      <td>895.743333</td>\n",
       "      <td>0.614444</td>\n",
       "      <td>0.901111</td>\n",
       "      <td>0.45000</td>\n",
       "      <td>0.353333</td>\n",
       "      <td>29.733057</td>\n",
       "      <td>0.025556</td>\n",
       "    </tr>\n",
       "    <tr>\n",
       "      <th>std</th>\n",
       "      <td>259.951919</td>\n",
       "      <td>25418.153900</td>\n",
       "      <td>0.834223</td>\n",
       "      <td>14.523335</td>\n",
       "      <td>0.803247</td>\n",
       "      <td>1.098385</td>\n",
       "      <td>1385.829926</td>\n",
       "      <td>0.486997</td>\n",
       "      <td>1.607892</td>\n",
       "      <td>0.49777</td>\n",
       "      <td>0.478271</td>\n",
       "      <td>14.523335</td>\n",
       "      <td>0.157893</td>\n",
       "    </tr>\n",
       "    <tr>\n",
       "      <th>min</th>\n",
       "      <td>1.000000</td>\n",
       "      <td>345.000000</td>\n",
       "      <td>1.000000</td>\n",
       "      <td>1940.000000</td>\n",
       "      <td>0.000000</td>\n",
       "      <td>0.000000</td>\n",
       "      <td>0.000000</td>\n",
       "      <td>0.000000</td>\n",
       "      <td>0.000000</td>\n",
       "      <td>0.00000</td>\n",
       "      <td>0.000000</td>\n",
       "      <td>1.000000</td>\n",
       "      <td>0.000000</td>\n",
       "    </tr>\n",
       "    <tr>\n",
       "      <th>25%</th>\n",
       "      <td>225.750000</td>\n",
       "      <td>8203.000000</td>\n",
       "      <td>2.000000</td>\n",
       "      <td>1982.000000</td>\n",
       "      <td>0.000000</td>\n",
       "      <td>0.000000</td>\n",
       "      <td>221.000000</td>\n",
       "      <td>0.000000</td>\n",
       "      <td>0.000000</td>\n",
       "      <td>0.00000</td>\n",
       "      <td>0.000000</td>\n",
       "      <td>20.500000</td>\n",
       "      <td>0.000000</td>\n",
       "    </tr>\n",
       "    <tr>\n",
       "      <th>50%</th>\n",
       "      <td>450.500000</td>\n",
       "      <td>13593.500000</td>\n",
       "      <td>3.000000</td>\n",
       "      <td>1992.000000</td>\n",
       "      <td>0.000000</td>\n",
       "      <td>0.000000</td>\n",
       "      <td>405.000000</td>\n",
       "      <td>1.000000</td>\n",
       "      <td>0.000000</td>\n",
       "      <td>0.00000</td>\n",
       "      <td>0.000000</td>\n",
       "      <td>28.000000</td>\n",
       "      <td>0.000000</td>\n",
       "    </tr>\n",
       "    <tr>\n",
       "      <th>75%</th>\n",
       "      <td>675.250000</td>\n",
       "      <td>18906.500000</td>\n",
       "      <td>3.000000</td>\n",
       "      <td>1999.500000</td>\n",
       "      <td>0.000000</td>\n",
       "      <td>1.000000</td>\n",
       "      <td>861.250000</td>\n",
       "      <td>1.000000</td>\n",
       "      <td>1.000000</td>\n",
       "      <td>1.00000</td>\n",
       "      <td>1.000000</td>\n",
       "      <td>38.000000</td>\n",
       "      <td>0.000000</td>\n",
       "    </tr>\n",
       "    <tr>\n",
       "      <th>max</th>\n",
       "      <td>900.000000</td>\n",
       "      <td>742836.000000</td>\n",
       "      <td>3.000000</td>\n",
       "      <td>2019.000000</td>\n",
       "      <td>6.000000</td>\n",
       "      <td>8.000000</td>\n",
       "      <td>14345.000000</td>\n",
       "      <td>1.000000</td>\n",
       "      <td>10.000000</td>\n",
       "      <td>1.00000</td>\n",
       "      <td>1.000000</td>\n",
       "      <td>80.000000</td>\n",
       "      <td>1.000000</td>\n",
       "    </tr>\n",
       "  </tbody>\n",
       "</table>\n",
       "</div>"
      ],
      "text/plain": [
       "       Patient_ID  Family_Case_ID    Severity  Birthday_year  \\\n",
       "count  900.000000      900.000000  900.000000     723.000000   \n",
       "mean   450.500000    14305.827778    2.313333    1990.266943   \n",
       "std    259.951919    25418.153900    0.834223      14.523335   \n",
       "min      1.000000      345.000000    1.000000    1940.000000   \n",
       "25%    225.750000     8203.000000    2.000000    1982.000000   \n",
       "50%    450.500000    13593.500000    3.000000    1992.000000   \n",
       "75%    675.250000    18906.500000    3.000000    1999.500000   \n",
       "max    900.000000   742836.000000    3.000000    2019.000000   \n",
       "\n",
       "       Parents or siblings infected  Wife/Husband or children infected  \\\n",
       "count                    900.000000                         900.000000   \n",
       "mean                       0.380000                           0.521111   \n",
       "std                        0.803247                           1.098385   \n",
       "min                        0.000000                           0.000000   \n",
       "25%                        0.000000                           0.000000   \n",
       "50%                        0.000000                           0.000000   \n",
       "75%                        0.000000                           1.000000   \n",
       "max                        6.000000                           8.000000   \n",
       "\n",
       "       Medical_Expenses_Family    Deceased  Infected_per_Family  \\\n",
       "count               900.000000  900.000000           900.000000   \n",
       "mean                895.743333    0.614444             0.901111   \n",
       "std                1385.829926    0.486997             1.607892   \n",
       "min                   0.000000    0.000000             0.000000   \n",
       "25%                 221.000000    0.000000             0.000000   \n",
       "50%                 405.000000    1.000000             0.000000   \n",
       "75%                 861.250000    1.000000             1.000000   \n",
       "max               14345.000000    1.000000            10.000000   \n",
       "\n",
       "       Maritial_Status      Gender         Age    Is_young  \n",
       "count        900.00000  900.000000  723.000000  900.000000  \n",
       "mean           0.45000    0.353333   29.733057    0.025556  \n",
       "std            0.49777    0.478271   14.523335    0.157893  \n",
       "min            0.00000    0.000000    1.000000    0.000000  \n",
       "25%            0.00000    0.000000   20.500000    0.000000  \n",
       "50%            0.00000    0.000000   28.000000    0.000000  \n",
       "75%            1.00000    1.000000   38.000000    0.000000  \n",
       "max            1.00000    1.000000   80.000000    1.000000  "
      ]
     },
     "execution_count": 52,
     "metadata": {},
     "output_type": "execute_result"
    }
   ],
   "source": [
    "df.describe()"
   ]
  },
  {
   "cell_type": "code",
   "execution_count": 53,
   "metadata": {},
   "outputs": [
    {
     "name": "stdout",
     "output_type": "stream",
     "text": [
      "<class 'pandas.core.frame.DataFrame'>\n",
      "RangeIndex: 900 entries, 0 to 899\n",
      "Data columns (total 17 columns):\n",
      " #   Column                             Non-Null Count  Dtype  \n",
      "---  ------                             --------------  -----  \n",
      " 0   Patient_ID                         900 non-null    int64  \n",
      " 1   Family_Case_ID                     900 non-null    int64  \n",
      " 2   Severity                           900 non-null    int64  \n",
      " 3   Name                               900 non-null    object \n",
      " 4   Birthday_year                      723 non-null    float64\n",
      " 5   Parents or siblings infected       900 non-null    int64  \n",
      " 6   Wife/Husband or children infected  900 non-null    int64  \n",
      " 7   Medical_Expenses_Family            900 non-null    int64  \n",
      " 8   Medical_Tent                       198 non-null    object \n",
      " 9   City                               898 non-null    object \n",
      " 10  Deceased                           900 non-null    int64  \n",
      " 11  Infected_per_Family                900 non-null    int64  \n",
      " 12  Maritial_Status                    900 non-null    int64  \n",
      " 13  Gender                             900 non-null    int64  \n",
      " 14  Title                              900 non-null    object \n",
      " 15  Age                                723 non-null    float64\n",
      " 16  Is_young                           900 non-null    int64  \n",
      "dtypes: float64(2), int64(11), object(4)\n",
      "memory usage: 119.7+ KB\n"
     ]
    }
   ],
   "source": [
    "df.info()"
   ]
  },
  {
   "cell_type": "markdown",
   "metadata": {},
   "source": [
    "## 4. Replacing Nulls"
   ]
  },
  {
   "cell_type": "markdown",
   "metadata": {},
   "source": [
    "There were nulls values in the columns Birthday_year, City and Medical_tent.\n",
    "\n",
    "- **Birthday_year:** 117 (13% of the data)\n",
    "- **Medical_Tent:** 702 (78% of the data)\n",
    "- **City:** 2\n",
    "\n"
   ]
  },
  {
   "cell_type": "code",
   "execution_count": 54,
   "metadata": {},
   "outputs": [
    {
     "data": {
      "text/plain": [
       "Patient_ID                             0\n",
       "Family_Case_ID                         0\n",
       "Severity                               0\n",
       "Name                                   0\n",
       "Birthday_year                        177\n",
       "Parents or siblings infected           0\n",
       "Wife/Husband or children infected      0\n",
       "Medical_Expenses_Family                0\n",
       "Medical_Tent                         702\n",
       "City                                   2\n",
       "Deceased                               0\n",
       "Infected_per_Family                    0\n",
       "Maritial_Status                        0\n",
       "Gender                                 0\n",
       "Title                                  0\n",
       "Age                                  177\n",
       "Is_young                               0\n",
       "dtype: int64"
      ]
     },
     "execution_count": 54,
     "metadata": {},
     "output_type": "execute_result"
    }
   ],
   "source": [
    "df.isnull().sum()"
   ]
  },
  {
   "cell_type": "markdown",
   "metadata": {},
   "source": [
    "#### **City column replacement:**\n",
    "\n",
    "On the dataframe with the NaN values we can see that the Family_Case_ID is the same for both patients. Therefore, we'll replace the values with the mode."
   ]
  },
  {
   "cell_type": "code",
   "execution_count": 55,
   "metadata": {},
   "outputs": [
    {
     "data": {
      "text/html": [
       "<div>\n",
       "<style scoped>\n",
       "    .dataframe tbody tr th:only-of-type {\n",
       "        vertical-align: middle;\n",
       "    }\n",
       "\n",
       "    .dataframe tbody tr th {\n",
       "        vertical-align: top;\n",
       "    }\n",
       "\n",
       "    .dataframe thead th {\n",
       "        text-align: right;\n",
       "    }\n",
       "</style>\n",
       "<table border=\"1\" class=\"dataframe\">\n",
       "  <thead>\n",
       "    <tr style=\"text-align: right;\">\n",
       "      <th></th>\n",
       "      <th>Patient_ID</th>\n",
       "      <th>Family_Case_ID</th>\n",
       "      <th>Severity</th>\n",
       "      <th>Name</th>\n",
       "      <th>Birthday_year</th>\n",
       "      <th>Parents or siblings infected</th>\n",
       "      <th>Wife/Husband or children infected</th>\n",
       "      <th>Medical_Expenses_Family</th>\n",
       "      <th>Medical_Tent</th>\n",
       "      <th>City</th>\n",
       "      <th>Deceased</th>\n",
       "      <th>Infected_per_Family</th>\n",
       "      <th>Maritial_Status</th>\n",
       "      <th>Gender</th>\n",
       "      <th>Title</th>\n",
       "      <th>Age</th>\n",
       "      <th>Is_young</th>\n",
       "    </tr>\n",
       "  </thead>\n",
       "  <tbody>\n",
       "    <tr>\n",
       "      <th>49</th>\n",
       "      <td>50</td>\n",
       "      <td>23155</td>\n",
       "      <td>1</td>\n",
       "      <td>Ms. Elizabeth Teri</td>\n",
       "      <td>1958.0</td>\n",
       "      <td>0</td>\n",
       "      <td>0</td>\n",
       "      <td>2240</td>\n",
       "      <td>B</td>\n",
       "      <td>NaN</td>\n",
       "      <td>0</td>\n",
       "      <td>0</td>\n",
       "      <td>0</td>\n",
       "      <td>1</td>\n",
       "      <td>Ms.</td>\n",
       "      <td>62.0</td>\n",
       "      <td>1</td>\n",
       "    </tr>\n",
       "    <tr>\n",
       "      <th>530</th>\n",
       "      <td>531</td>\n",
       "      <td>23155</td>\n",
       "      <td>1</td>\n",
       "      <td>Ms. Tricia Kathryn</td>\n",
       "      <td>1982.0</td>\n",
       "      <td>0</td>\n",
       "      <td>0</td>\n",
       "      <td>2240</td>\n",
       "      <td>B</td>\n",
       "      <td>NaN</td>\n",
       "      <td>0</td>\n",
       "      <td>0</td>\n",
       "      <td>0</td>\n",
       "      <td>1</td>\n",
       "      <td>Ms.</td>\n",
       "      <td>38.0</td>\n",
       "      <td>0</td>\n",
       "    </tr>\n",
       "  </tbody>\n",
       "</table>\n",
       "</div>"
      ],
      "text/plain": [
       "     Patient_ID  Family_Case_ID  Severity                Name  Birthday_year  \\\n",
       "49           50           23155         1  Ms. Elizabeth Teri         1958.0   \n",
       "530         531           23155         1  Ms. Tricia Kathryn         1982.0   \n",
       "\n",
       "     Parents or siblings infected  Wife/Husband or children infected  \\\n",
       "49                              0                                  0   \n",
       "530                             0                                  0   \n",
       "\n",
       "     Medical_Expenses_Family Medical_Tent City  Deceased  Infected_per_Family  \\\n",
       "49                      2240            B  NaN         0                    0   \n",
       "530                     2240            B  NaN         0                    0   \n",
       "\n",
       "     Maritial_Status  Gender Title   Age  Is_young  \n",
       "49                 0       1   Ms.  62.0         1  \n",
       "530                0       1   Ms.  38.0         0  "
      ]
     },
     "execution_count": 55,
     "metadata": {},
     "output_type": "execute_result"
    }
   ],
   "source": [
    "df_city_nan = df[df['City'].isnull()]\n",
    "df_city_nan"
   ]
  },
  {
   "cell_type": "code",
   "execution_count": 56,
   "metadata": {},
   "outputs": [
    {
     "data": {
      "text/html": [
       "<div>\n",
       "<style scoped>\n",
       "    .dataframe tbody tr th:only-of-type {\n",
       "        vertical-align: middle;\n",
       "    }\n",
       "\n",
       "    .dataframe tbody tr th {\n",
       "        vertical-align: top;\n",
       "    }\n",
       "\n",
       "    .dataframe thead th {\n",
       "        text-align: right;\n",
       "    }\n",
       "</style>\n",
       "<table border=\"1\" class=\"dataframe\">\n",
       "  <thead>\n",
       "    <tr style=\"text-align: right;\">\n",
       "      <th></th>\n",
       "      <th>Patient_ID</th>\n",
       "      <th>Family_Case_ID</th>\n",
       "      <th>Severity</th>\n",
       "      <th>Name</th>\n",
       "      <th>Birthday_year</th>\n",
       "      <th>Parents or siblings infected</th>\n",
       "      <th>Wife/Husband or children infected</th>\n",
       "      <th>Medical_Expenses_Family</th>\n",
       "      <th>Medical_Tent</th>\n",
       "      <th>City</th>\n",
       "      <th>Deceased</th>\n",
       "      <th>Infected_per_Family</th>\n",
       "      <th>Maritial_Status</th>\n",
       "      <th>Gender</th>\n",
       "      <th>Title</th>\n",
       "      <th>Age</th>\n",
       "      <th>Is_young</th>\n",
       "    </tr>\n",
       "  </thead>\n",
       "  <tbody>\n",
       "    <tr>\n",
       "      <th>49</th>\n",
       "      <td>50</td>\n",
       "      <td>23155</td>\n",
       "      <td>1</td>\n",
       "      <td>Ms. Elizabeth Teri</td>\n",
       "      <td>1958.0</td>\n",
       "      <td>0</td>\n",
       "      <td>0</td>\n",
       "      <td>2240</td>\n",
       "      <td>B</td>\n",
       "      <td>NaN</td>\n",
       "      <td>0</td>\n",
       "      <td>0</td>\n",
       "      <td>0</td>\n",
       "      <td>1</td>\n",
       "      <td>Ms.</td>\n",
       "      <td>62.0</td>\n",
       "      <td>1</td>\n",
       "    </tr>\n",
       "    <tr>\n",
       "      <th>530</th>\n",
       "      <td>531</td>\n",
       "      <td>23155</td>\n",
       "      <td>1</td>\n",
       "      <td>Ms. Tricia Kathryn</td>\n",
       "      <td>1982.0</td>\n",
       "      <td>0</td>\n",
       "      <td>0</td>\n",
       "      <td>2240</td>\n",
       "      <td>B</td>\n",
       "      <td>NaN</td>\n",
       "      <td>0</td>\n",
       "      <td>0</td>\n",
       "      <td>0</td>\n",
       "      <td>1</td>\n",
       "      <td>Ms.</td>\n",
       "      <td>38.0</td>\n",
       "      <td>0</td>\n",
       "    </tr>\n",
       "  </tbody>\n",
       "</table>\n",
       "</div>"
      ],
      "text/plain": [
       "     Patient_ID  Family_Case_ID  Severity                Name  Birthday_year  \\\n",
       "49           50           23155         1  Ms. Elizabeth Teri         1958.0   \n",
       "530         531           23155         1  Ms. Tricia Kathryn         1982.0   \n",
       "\n",
       "     Parents or siblings infected  Wife/Husband or children infected  \\\n",
       "49                              0                                  0   \n",
       "530                             0                                  0   \n",
       "\n",
       "     Medical_Expenses_Family Medical_Tent City  Deceased  Infected_per_Family  \\\n",
       "49                      2240            B  NaN         0                    0   \n",
       "530                     2240            B  NaN         0                    0   \n",
       "\n",
       "     Maritial_Status  Gender Title   Age  Is_young  \n",
       "49                 0       1   Ms.  62.0         1  \n",
       "530                0       1   Ms.  38.0         0  "
      ]
     },
     "execution_count": 56,
     "metadata": {},
     "output_type": "execute_result"
    }
   ],
   "source": [
    "df[df['Family_Case_ID'] == 23155] #there is only these two, therefore replace in the mode"
   ]
  },
  {
   "cell_type": "code",
   "execution_count": 57,
   "metadata": {},
   "outputs": [
    {
     "data": {
      "text/plain": [
       "0    Santa Fe\n",
       "dtype: object"
      ]
     },
     "execution_count": 57,
     "metadata": {},
     "output_type": "execute_result"
    }
   ],
   "source": [
    "mode = df['City'].mode()\n",
    "mode"
   ]
  },
  {
   "cell_type": "code",
   "execution_count": 58,
   "metadata": {},
   "outputs": [],
   "source": [
    "df['City'] = df['City'].fillna('Santa Fe')"
   ]
  },
  {
   "cell_type": "code",
   "execution_count": 59,
   "metadata": {},
   "outputs": [
    {
     "data": {
      "text/plain": [
       "0"
      ]
     },
     "execution_count": 59,
     "metadata": {},
     "output_type": "execute_result"
    }
   ],
   "source": [
    "df['City'].isnull().sum()"
   ]
  },
  {
   "cell_type": "markdown",
   "metadata": {},
   "source": [
    "Mapping the cities instead of using names:\n",
    "\n",
    "\n",
    "`Albuquerque:` 1<br>\n",
    "`Santa Fe: ` 2<br>\n",
    "`Taos: `3<br>"
   ]
  },
  {
   "cell_type": "code",
   "execution_count": 60,
   "metadata": {},
   "outputs": [
    {
     "name": "stdout",
     "output_type": "stream",
     "text": [
      "0      2\n",
      "1      1\n",
      "2      2\n",
      "3      2\n",
      "4      2\n",
      "      ..\n",
      "895    2\n",
      "896    2\n",
      "897    3\n",
      "898    2\n",
      "899    1\n",
      "Name: City, Length: 900, dtype: int64\n"
     ]
    }
   ],
   "source": [
    "#Mapping the cities into numbers\n",
    "cities = {'Albuquerque': 1, 'Santa Fe': 2, 'Taos': 3}\n",
    "  \n",
    "df['City'] = [cities[item] for item in df['City']] \n",
    "print(df['City']) "
   ]
  },
  {
   "cell_type": "markdown",
   "metadata": {},
   "source": [
    "#### **Medical_Tent drop:**\n",
    "\n",
    "We have 78% of the data missing here, isto is too much therefore we'll drop this column.\n",
    "\n",
    "We're going to drop on this step the Name column as well."
   ]
  },
  {
   "cell_type": "code",
   "execution_count": 61,
   "metadata": {},
   "outputs": [],
   "source": [
    "df = df.drop(['Medical_Tent'], axis = 1)"
   ]
  },
  {
   "cell_type": "markdown",
   "metadata": {},
   "source": [
    "**Rules**"
   ]
  },
  {
   "cell_type": "markdown",
   "metadata": {},
   "source": [
    "So, we decided to give random numbers based on Maritial_Status and Title:\n",
    "\n",
    "The marrige average for 2019 in the USA to women was 27y and to men 29y.\n",
    "\n",
    "\n",
    "`Mrs. and Ms. married` random number between 1993 and 1940<br>\n",
    "`Mrs.` random number between 1991 and 1940<br>\n",
    "`Master` random number between 2008 and 2019<br>\n",
    "`Ms. not married` random number between 2002 and 1940<br>\n",
    "`Miss if child` random number between 2008 and 2019<br>\n",
    "`Miss if not child` random number between 2008 and 1940<br>"
   ]
  },
  {
   "cell_type": "code",
   "execution_count": 62,
   "metadata": {},
   "outputs": [
    {
     "data": {
      "text/plain": [
       "array(['Miss', 'Master'], dtype=object)"
      ]
     },
     "execution_count": 62,
     "metadata": {},
     "output_type": "execute_result"
    }
   ],
   "source": [
    "birth_nan = df[(df.isna().any(axis=1))]\n",
    "\n",
    "birth_nan['Title'].unique() #we only have miss and master missing, and some of them are children"
   ]
  },
  {
   "cell_type": "code",
   "execution_count": 63,
   "metadata": {},
   "outputs": [],
   "source": [
    "df_grouped = birth_nan.groupby(['Family_Case_ID', 'City'])['Title'].apply(list).reset_index()"
   ]
  },
  {
   "cell_type": "code",
   "execution_count": 64,
   "metadata": {},
   "outputs": [],
   "source": [
    "len_list = []\n",
    "\n",
    "for i in list(df_grouped['Title']):\n",
    "    len_list.append(len(i))\n",
    "    \n",
    "df_grouped['fam_length_per_city'] = len_list"
   ]
  },
  {
   "cell_type": "markdown",
   "metadata": {},
   "source": [
    "We're going to assume that these misses are children so we must replace with a number between 2008 and 2019."
   ]
  },
  {
   "cell_type": "code",
   "execution_count": 65,
   "metadata": {},
   "outputs": [
    {
     "data": {
      "text/html": [
       "<div>\n",
       "<style scoped>\n",
       "    .dataframe tbody tr th:only-of-type {\n",
       "        vertical-align: middle;\n",
       "    }\n",
       "\n",
       "    .dataframe tbody tr th {\n",
       "        vertical-align: top;\n",
       "    }\n",
       "\n",
       "    .dataframe thead th {\n",
       "        text-align: right;\n",
       "    }\n",
       "</style>\n",
       "<table border=\"1\" class=\"dataframe\">\n",
       "  <thead>\n",
       "    <tr style=\"text-align: right;\">\n",
       "      <th></th>\n",
       "      <th>Family_Case_ID</th>\n",
       "      <th>City</th>\n",
       "      <th>Title</th>\n",
       "      <th>fam_length_per_city</th>\n",
       "    </tr>\n",
       "  </thead>\n",
       "  <tbody>\n",
       "    <tr>\n",
       "      <th>9</th>\n",
       "      <td>3929</td>\n",
       "      <td>3</td>\n",
       "      <td>[Master, Master, Miss]</td>\n",
       "      <td>3</td>\n",
       "    </tr>\n",
       "    <tr>\n",
       "      <th>29</th>\n",
       "      <td>6152</td>\n",
       "      <td>2</td>\n",
       "      <td>[Miss, Miss, Miss, Master]</td>\n",
       "      <td>4</td>\n",
       "    </tr>\n",
       "    <tr>\n",
       "      <th>30</th>\n",
       "      <td>6349</td>\n",
       "      <td>3</td>\n",
       "      <td>[Miss, Master]</td>\n",
       "      <td>2</td>\n",
       "    </tr>\n",
       "    <tr>\n",
       "      <th>72</th>\n",
       "      <td>13324</td>\n",
       "      <td>3</td>\n",
       "      <td>[Miss, Miss]</td>\n",
       "      <td>2</td>\n",
       "    </tr>\n",
       "    <tr>\n",
       "      <th>82</th>\n",
       "      <td>14392</td>\n",
       "      <td>1</td>\n",
       "      <td>[Miss, Miss]</td>\n",
       "      <td>2</td>\n",
       "    </tr>\n",
       "    <tr>\n",
       "      <th>83</th>\n",
       "      <td>14502</td>\n",
       "      <td>2</td>\n",
       "      <td>[Master, Miss, Miss, Master, Master, Miss, Mas...</td>\n",
       "      <td>7</td>\n",
       "    </tr>\n",
       "    <tr>\n",
       "      <th>86</th>\n",
       "      <td>14904</td>\n",
       "      <td>2</td>\n",
       "      <td>[Master, Miss]</td>\n",
       "      <td>2</td>\n",
       "    </tr>\n",
       "    <tr>\n",
       "      <th>99</th>\n",
       "      <td>16621</td>\n",
       "      <td>1</td>\n",
       "      <td>[Master, Master]</td>\n",
       "      <td>2</td>\n",
       "    </tr>\n",
       "    <tr>\n",
       "      <th>109</th>\n",
       "      <td>17504</td>\n",
       "      <td>2</td>\n",
       "      <td>[Master, Miss]</td>\n",
       "      <td>2</td>\n",
       "    </tr>\n",
       "    <tr>\n",
       "      <th>110</th>\n",
       "      <td>17598</td>\n",
       "      <td>2</td>\n",
       "      <td>[Master, Master, Master]</td>\n",
       "      <td>3</td>\n",
       "    </tr>\n",
       "    <tr>\n",
       "      <th>117</th>\n",
       "      <td>18593</td>\n",
       "      <td>2</td>\n",
       "      <td>[Master, Master, Master]</td>\n",
       "      <td>3</td>\n",
       "    </tr>\n",
       "    <tr>\n",
       "      <th>131</th>\n",
       "      <td>19898</td>\n",
       "      <td>3</td>\n",
       "      <td>[Miss, Master]</td>\n",
       "      <td>2</td>\n",
       "    </tr>\n",
       "  </tbody>\n",
       "</table>\n",
       "</div>"
      ],
      "text/plain": [
       "     Family_Case_ID  City                                              Title  \\\n",
       "9              3929     3                             [Master, Master, Miss]   \n",
       "29             6152     2                         [Miss, Miss, Miss, Master]   \n",
       "30             6349     3                                     [Miss, Master]   \n",
       "72            13324     3                                       [Miss, Miss]   \n",
       "82            14392     1                                       [Miss, Miss]   \n",
       "83            14502     2  [Master, Miss, Miss, Master, Master, Miss, Mas...   \n",
       "86            14904     2                                     [Master, Miss]   \n",
       "99            16621     1                                   [Master, Master]   \n",
       "109           17504     2                                     [Master, Miss]   \n",
       "110           17598     2                           [Master, Master, Master]   \n",
       "117           18593     2                           [Master, Master, Master]   \n",
       "131           19898     3                                     [Miss, Master]   \n",
       "\n",
       "     fam_length_per_city  \n",
       "9                      3  \n",
       "29                     4  \n",
       "30                     2  \n",
       "72                     2  \n",
       "82                     2  \n",
       "83                     7  \n",
       "86                     2  \n",
       "99                     2  \n",
       "109                    2  \n",
       "110                    3  \n",
       "117                    3  \n",
       "131                    2  "
      ]
     },
     "execution_count": 65,
     "metadata": {},
     "output_type": "execute_result"
    }
   ],
   "source": [
    "df_grouped[df_grouped['fam_length_per_city'] != 1]"
   ]
  },
  {
   "cell_type": "code",
   "execution_count": 66,
   "metadata": {},
   "outputs": [],
   "source": [
    "import random"
   ]
  },
  {
   "cell_type": "code",
   "execution_count": 67,
   "metadata": {},
   "outputs": [
    {
     "data": {
      "text/html": [
       "<div>\n",
       "<style scoped>\n",
       "    .dataframe tbody tr th:only-of-type {\n",
       "        vertical-align: middle;\n",
       "    }\n",
       "\n",
       "    .dataframe tbody tr th {\n",
       "        vertical-align: top;\n",
       "    }\n",
       "\n",
       "    .dataframe thead th {\n",
       "        text-align: right;\n",
       "    }\n",
       "</style>\n",
       "<table border=\"1\" class=\"dataframe\">\n",
       "  <thead>\n",
       "    <tr style=\"text-align: right;\">\n",
       "      <th></th>\n",
       "      <th>Patient_ID</th>\n",
       "      <th>Family_Case_ID</th>\n",
       "      <th>Severity</th>\n",
       "      <th>Name</th>\n",
       "      <th>Birthday_year</th>\n",
       "      <th>Parents or siblings infected</th>\n",
       "      <th>Wife/Husband or children infected</th>\n",
       "      <th>Medical_Expenses_Family</th>\n",
       "      <th>City</th>\n",
       "      <th>Deceased</th>\n",
       "      <th>Infected_per_Family</th>\n",
       "      <th>Maritial_Status</th>\n",
       "      <th>Gender</th>\n",
       "      <th>Title</th>\n",
       "      <th>Age</th>\n",
       "      <th>Is_young</th>\n",
       "    </tr>\n",
       "  </thead>\n",
       "  <tbody>\n",
       "    <tr>\n",
       "      <th>5</th>\n",
       "      <td>6</td>\n",
       "      <td>17598</td>\n",
       "      <td>2</td>\n",
       "      <td>Master Terrell Bob</td>\n",
       "      <td>NaN</td>\n",
       "      <td>0</td>\n",
       "      <td>0</td>\n",
       "      <td>0</td>\n",
       "      <td>2</td>\n",
       "      <td>1</td>\n",
       "      <td>0</td>\n",
       "      <td>0</td>\n",
       "      <td>0</td>\n",
       "      <td>Master</td>\n",
       "      <td>NaN</td>\n",
       "      <td>0</td>\n",
       "    </tr>\n",
       "    <tr>\n",
       "      <th>15</th>\n",
       "      <td>16</td>\n",
       "      <td>19174</td>\n",
       "      <td>3</td>\n",
       "      <td>Master Alfredo Marty</td>\n",
       "      <td>NaN</td>\n",
       "      <td>0</td>\n",
       "      <td>0</td>\n",
       "      <td>211</td>\n",
       "      <td>2</td>\n",
       "      <td>1</td>\n",
       "      <td>0</td>\n",
       "      <td>0</td>\n",
       "      <td>0</td>\n",
       "      <td>Master</td>\n",
       "      <td>NaN</td>\n",
       "      <td>0</td>\n",
       "    </tr>\n",
       "    <tr>\n",
       "      <th>26</th>\n",
       "      <td>27</td>\n",
       "      <td>4274</td>\n",
       "      <td>2</td>\n",
       "      <td>Master Elias Wilson</td>\n",
       "      <td>NaN</td>\n",
       "      <td>0</td>\n",
       "      <td>0</td>\n",
       "      <td>0</td>\n",
       "      <td>2</td>\n",
       "      <td>1</td>\n",
       "      <td>0</td>\n",
       "      <td>0</td>\n",
       "      <td>0</td>\n",
       "      <td>Master</td>\n",
       "      <td>NaN</td>\n",
       "      <td>0</td>\n",
       "    </tr>\n",
       "    <tr>\n",
       "      <th>27</th>\n",
       "      <td>28</td>\n",
       "      <td>22832</td>\n",
       "      <td>3</td>\n",
       "      <td>Master Jeremiah Billy</td>\n",
       "      <td>NaN</td>\n",
       "      <td>0</td>\n",
       "      <td>0</td>\n",
       "      <td>217</td>\n",
       "      <td>3</td>\n",
       "      <td>1</td>\n",
       "      <td>0</td>\n",
       "      <td>0</td>\n",
       "      <td>0</td>\n",
       "      <td>Master</td>\n",
       "      <td>NaN</td>\n",
       "      <td>0</td>\n",
       "    </tr>\n",
       "    <tr>\n",
       "      <th>32</th>\n",
       "      <td>33</td>\n",
       "      <td>19631</td>\n",
       "      <td>3</td>\n",
       "      <td>Master Matthew Guillermo</td>\n",
       "      <td>NaN</td>\n",
       "      <td>0</td>\n",
       "      <td>0</td>\n",
       "      <td>405</td>\n",
       "      <td>1</td>\n",
       "      <td>1</td>\n",
       "      <td>0</td>\n",
       "      <td>0</td>\n",
       "      <td>0</td>\n",
       "      <td>Master</td>\n",
       "      <td>NaN</td>\n",
       "      <td>0</td>\n",
       "    </tr>\n",
       "    <tr>\n",
       "      <th>...</th>\n",
       "      <td>...</td>\n",
       "      <td>...</td>\n",
       "      <td>...</td>\n",
       "      <td>...</td>\n",
       "      <td>...</td>\n",
       "      <td>...</td>\n",
       "      <td>...</td>\n",
       "      <td>...</td>\n",
       "      <td>...</td>\n",
       "      <td>...</td>\n",
       "      <td>...</td>\n",
       "      <td>...</td>\n",
       "      <td>...</td>\n",
       "      <td>...</td>\n",
       "      <td>...</td>\n",
       "      <td>...</td>\n",
       "    </tr>\n",
       "    <tr>\n",
       "      <th>855</th>\n",
       "      <td>856</td>\n",
       "      <td>13946</td>\n",
       "      <td>1</td>\n",
       "      <td>Master Glenn Darrell</td>\n",
       "      <td>NaN</td>\n",
       "      <td>0</td>\n",
       "      <td>0</td>\n",
       "      <td>994</td>\n",
       "      <td>2</td>\n",
       "      <td>0</td>\n",
       "      <td>0</td>\n",
       "      <td>0</td>\n",
       "      <td>0</td>\n",
       "      <td>Master</td>\n",
       "      <td>NaN</td>\n",
       "      <td>0</td>\n",
       "    </tr>\n",
       "    <tr>\n",
       "      <th>869</th>\n",
       "      <td>870</td>\n",
       "      <td>3539</td>\n",
       "      <td>3</td>\n",
       "      <td>Master Duane Dallas</td>\n",
       "      <td>NaN</td>\n",
       "      <td>0</td>\n",
       "      <td>0</td>\n",
       "      <td>423</td>\n",
       "      <td>2</td>\n",
       "      <td>1</td>\n",
       "      <td>0</td>\n",
       "      <td>0</td>\n",
       "      <td>0</td>\n",
       "      <td>Master</td>\n",
       "      <td>NaN</td>\n",
       "      <td>0</td>\n",
       "    </tr>\n",
       "    <tr>\n",
       "      <th>870</th>\n",
       "      <td>871</td>\n",
       "      <td>4275</td>\n",
       "      <td>3</td>\n",
       "      <td>Master Louis Elias</td>\n",
       "      <td>NaN</td>\n",
       "      <td>0</td>\n",
       "      <td>0</td>\n",
       "      <td>202</td>\n",
       "      <td>1</td>\n",
       "      <td>1</td>\n",
       "      <td>0</td>\n",
       "      <td>0</td>\n",
       "      <td>0</td>\n",
       "      <td>Master</td>\n",
       "      <td>NaN</td>\n",
       "      <td>0</td>\n",
       "    </tr>\n",
       "    <tr>\n",
       "      <th>871</th>\n",
       "      <td>872</td>\n",
       "      <td>11524</td>\n",
       "      <td>1</td>\n",
       "      <td>Master Bryan Vincent</td>\n",
       "      <td>NaN</td>\n",
       "      <td>0</td>\n",
       "      <td>0</td>\n",
       "      <td>0</td>\n",
       "      <td>2</td>\n",
       "      <td>1</td>\n",
       "      <td>0</td>\n",
       "      <td>0</td>\n",
       "      <td>0</td>\n",
       "      <td>Master</td>\n",
       "      <td>NaN</td>\n",
       "      <td>0</td>\n",
       "    </tr>\n",
       "    <tr>\n",
       "      <th>876</th>\n",
       "      <td>877</td>\n",
       "      <td>4392</td>\n",
       "      <td>3</td>\n",
       "      <td>Master Warren Ivan</td>\n",
       "      <td>NaN</td>\n",
       "      <td>0</td>\n",
       "      <td>0</td>\n",
       "      <td>216</td>\n",
       "      <td>3</td>\n",
       "      <td>1</td>\n",
       "      <td>0</td>\n",
       "      <td>0</td>\n",
       "      <td>0</td>\n",
       "      <td>Master</td>\n",
       "      <td>NaN</td>\n",
       "      <td>0</td>\n",
       "    </tr>\n",
       "  </tbody>\n",
       "</table>\n",
       "<p>124 rows × 16 columns</p>\n",
       "</div>"
      ],
      "text/plain": [
       "     Patient_ID  Family_Case_ID  Severity                      Name  \\\n",
       "5             6           17598         2        Master Terrell Bob   \n",
       "15           16           19174         3      Master Alfredo Marty   \n",
       "26           27            4274         2       Master Elias Wilson   \n",
       "27           28           22832         3     Master Jeremiah Billy   \n",
       "32           33           19631         3  Master Matthew Guillermo   \n",
       "..          ...             ...       ...                       ...   \n",
       "855         856           13946         1      Master Glenn Darrell   \n",
       "869         870            3539         3       Master Duane Dallas   \n",
       "870         871            4275         3        Master Louis Elias   \n",
       "871         872           11524         1      Master Bryan Vincent   \n",
       "876         877            4392         3        Master Warren Ivan   \n",
       "\n",
       "     Birthday_year  Parents or siblings infected  \\\n",
       "5              NaN                             0   \n",
       "15             NaN                             0   \n",
       "26             NaN                             0   \n",
       "27             NaN                             0   \n",
       "32             NaN                             0   \n",
       "..             ...                           ...   \n",
       "855            NaN                             0   \n",
       "869            NaN                             0   \n",
       "870            NaN                             0   \n",
       "871            NaN                             0   \n",
       "876            NaN                             0   \n",
       "\n",
       "     Wife/Husband or children infected  Medical_Expenses_Family  City  \\\n",
       "5                                    0                        0     2   \n",
       "15                                   0                      211     2   \n",
       "26                                   0                        0     2   \n",
       "27                                   0                      217     3   \n",
       "32                                   0                      405     1   \n",
       "..                                 ...                      ...   ...   \n",
       "855                                  0                      994     2   \n",
       "869                                  0                      423     2   \n",
       "870                                  0                      202     1   \n",
       "871                                  0                        0     2   \n",
       "876                                  0                      216     3   \n",
       "\n",
       "     Deceased  Infected_per_Family  Maritial_Status  Gender   Title  Age  \\\n",
       "5           1                    0                0       0  Master  NaN   \n",
       "15          1                    0                0       0  Master  NaN   \n",
       "26          1                    0                0       0  Master  NaN   \n",
       "27          1                    0                0       0  Master  NaN   \n",
       "32          1                    0                0       0  Master  NaN   \n",
       "..        ...                  ...              ...     ...     ...  ...   \n",
       "855         0                    0                0       0  Master  NaN   \n",
       "869         1                    0                0       0  Master  NaN   \n",
       "870         1                    0                0       0  Master  NaN   \n",
       "871         1                    0                0       0  Master  NaN   \n",
       "876         1                    0                0       0  Master  NaN   \n",
       "\n",
       "     Is_young  \n",
       "5           0  \n",
       "15          0  \n",
       "26          0  \n",
       "27          0  \n",
       "32          0  \n",
       "..        ...  \n",
       "855         0  \n",
       "869         0  \n",
       "870         0  \n",
       "871         0  \n",
       "876         0  \n",
       "\n",
       "[124 rows x 16 columns]"
      ]
     },
     "execution_count": 67,
     "metadata": {},
     "output_type": "execute_result"
    }
   ],
   "source": [
    "df[(df['Title'] == 'Master') & (df['Birthday_year'].isna())]"
   ]
  },
  {
   "cell_type": "code",
   "execution_count": 68,
   "metadata": {},
   "outputs": [],
   "source": [
    "loop_list_master = list(df[(df['Title'] == 'Master') & (df['Birthday_year'].isna())].index)"
   ]
  },
  {
   "cell_type": "code",
   "execution_count": 69,
   "metadata": {},
   "outputs": [],
   "source": [
    "for i in loop_list_master:\n",
    "    \n",
    "    #Insures that every row has different random numbers.\n",
    "    \n",
    "    df['Birthday_year'][i] = random.randint(2008,2019)"
   ]
  },
  {
   "cell_type": "code",
   "execution_count": 70,
   "metadata": {},
   "outputs": [
    {
     "name": "stdout",
     "output_type": "stream",
     "text": [
      "2016.0\n",
      "2012.0\n",
      "2012.0\n"
     ]
    }
   ],
   "source": [
    "print(df['Birthday_year'][5])\n",
    "print(df['Birthday_year'][15])\n",
    "print(df['Birthday_year'][26])"
   ]
  },
  {
   "cell_type": "code",
   "execution_count": 71,
   "metadata": {},
   "outputs": [
    {
     "data": {
      "text/plain": [
       "53"
      ]
     },
     "execution_count": 71,
     "metadata": {},
     "output_type": "execute_result"
    }
   ],
   "source": [
    "df['Birthday_year'].isnull().sum()"
   ]
  },
  {
   "cell_type": "code",
   "execution_count": 72,
   "metadata": {},
   "outputs": [
    {
     "data": {
      "text/plain": [
       "Patient_ID                             0\n",
       "Family_Case_ID                         0\n",
       "Severity                               0\n",
       "Name                                   0\n",
       "Birthday_year                         53\n",
       "Parents or siblings infected           0\n",
       "Wife/Husband or children infected      0\n",
       "Medical_Expenses_Family                0\n",
       "City                                   0\n",
       "Deceased                               0\n",
       "Infected_per_Family                    0\n",
       "Maritial_Status                        0\n",
       "Gender                                 0\n",
       "Title                                  0\n",
       "Age                                  177\n",
       "Is_young                               0\n",
       "dtype: int64"
      ]
     },
     "execution_count": 72,
     "metadata": {},
     "output_type": "execute_result"
    }
   ],
   "source": [
    "df.isnull().sum()"
   ]
  },
  {
   "cell_type": "code",
   "execution_count": 73,
   "metadata": {},
   "outputs": [
    {
     "data": {
      "text/plain": [
       "(900, 16)"
      ]
     },
     "execution_count": 73,
     "metadata": {},
     "output_type": "execute_result"
    }
   ],
   "source": [
    "df.shape"
   ]
  },
  {
   "cell_type": "code",
   "execution_count": 74,
   "metadata": {},
   "outputs": [
    {
     "data": {
      "text/plain": [
       "(900, 18)"
      ]
     },
     "execution_count": 74,
     "metadata": {},
     "output_type": "execute_result"
    }
   ],
   "source": [
    "df = pd.merge(df, df_grouped, on = ['Family_Case_ID', 'City'], how = 'left')\n",
    "df.shape"
   ]
  },
  {
   "cell_type": "code",
   "execution_count": 75,
   "metadata": {},
   "outputs": [],
   "source": [
    "loop_list_miss_children = list(df[(df['fam_length_per_city'] != 1) & (df['Birthday_year'].isna())].index)"
   ]
  },
  {
   "cell_type": "code",
   "execution_count": 76,
   "metadata": {},
   "outputs": [],
   "source": [
    "for i in loop_list_miss_children:\n",
    "    \n",
    "    #Insures that every row has different random numbers.\n",
    "    \n",
    "    df['Birthday_year'][i] = random.randint(2008,2019)"
   ]
  },
  {
   "cell_type": "code",
   "execution_count": 77,
   "metadata": {},
   "outputs": [
    {
     "data": {
      "text/plain": [
       "38"
      ]
     },
     "execution_count": 77,
     "metadata": {},
     "output_type": "execute_result"
    }
   ],
   "source": [
    "df['Birthday_year'].isnull().sum()"
   ]
  },
  {
   "cell_type": "code",
   "execution_count": 78,
   "metadata": {},
   "outputs": [],
   "source": [
    "loop_list_miss_adult = list(df[(df['Title_x'] == 'Miss') & (df['Birthday_year'].isna())].index)"
   ]
  },
  {
   "cell_type": "code",
   "execution_count": 79,
   "metadata": {},
   "outputs": [],
   "source": [
    "for i in loop_list_miss_adult:\n",
    "    \n",
    "    #Insures that every row has different random numbers.\n",
    "    \n",
    "    df['Birthday_year'][i] = random.randint(1940,2008)"
   ]
  },
  {
   "cell_type": "code",
   "execution_count": 80,
   "metadata": {},
   "outputs": [
    {
     "data": {
      "text/plain": [
       "Patient_ID                             0\n",
       "Family_Case_ID                         0\n",
       "Severity                               0\n",
       "Name                                   0\n",
       "Birthday_year                          0\n",
       "Parents or siblings infected           0\n",
       "Wife/Husband or children infected      0\n",
       "Medical_Expenses_Family                0\n",
       "City                                   0\n",
       "Deceased                               0\n",
       "Infected_per_Family                    0\n",
       "Maritial_Status                        0\n",
       "Gender                                 0\n",
       "Title_x                                0\n",
       "Age                                  177\n",
       "Is_young                               0\n",
       "Title_y                              698\n",
       "fam_length_per_city                  698\n",
       "dtype: int64"
      ]
     },
     "execution_count": 80,
     "metadata": {},
     "output_type": "execute_result"
    }
   ],
   "source": [
    "df.isnull().sum()"
   ]
  },
  {
   "cell_type": "code",
   "execution_count": 81,
   "metadata": {},
   "outputs": [
    {
     "data": {
      "text/plain": [
       "Index(['Patient_ID', 'Family_Case_ID', 'Severity', 'Name', 'Birthday_year',\n",
       "       'Parents or siblings infected', 'Wife/Husband or children infected',\n",
       "       'Medical_Expenses_Family', 'City', 'Deceased', 'Infected_per_Family',\n",
       "       'Maritial_Status', 'Gender', 'Title_x', 'Age', 'Is_young', 'Title_y',\n",
       "       'fam_length_per_city'],\n",
       "      dtype='object')"
      ]
     },
     "execution_count": 81,
     "metadata": {},
     "output_type": "execute_result"
    }
   ],
   "source": [
    "df.columns"
   ]
  },
  {
   "cell_type": "code",
   "execution_count": 82,
   "metadata": {},
   "outputs": [],
   "source": [
    "df = df.drop(['Title_y', 'fam_length_per_city'], axis = 1)"
   ]
  },
  {
   "cell_type": "code",
   "execution_count": 83,
   "metadata": {},
   "outputs": [],
   "source": [
    "df = df.rename(columns={\"City_x\": \"City\", \"Title_x\": \"Title\"})"
   ]
  },
  {
   "cell_type": "code",
   "execution_count": 84,
   "metadata": {},
   "outputs": [
    {
     "data": {
      "text/plain": [
       "(900, 16)"
      ]
     },
     "execution_count": 84,
     "metadata": {},
     "output_type": "execute_result"
    }
   ],
   "source": [
    "df.shape"
   ]
  },
  {
   "cell_type": "code",
   "execution_count": 85,
   "metadata": {},
   "outputs": [
    {
     "data": {
      "text/plain": [
       "Index(['Patient_ID', 'Family_Case_ID', 'Severity', 'Name', 'Birthday_year',\n",
       "       'Parents or siblings infected', 'Wife/Husband or children infected',\n",
       "       'Medical_Expenses_Family', 'City', 'Deceased', 'Infected_per_Family',\n",
       "       'Maritial_Status', 'Gender', 'Title', 'Age', 'Is_young'],\n",
       "      dtype='object')"
      ]
     },
     "execution_count": 85,
     "metadata": {},
     "output_type": "execute_result"
    }
   ],
   "source": [
    "df.columns"
   ]
  },
  {
   "cell_type": "markdown",
   "metadata": {},
   "source": [
    "## 5. Removing Outliers"
   ]
  },
  {
   "cell_type": "code",
   "execution_count": 115,
   "metadata": {},
   "outputs": [],
   "source": [
    "import matplotlib.pyplot as plt"
   ]
  },
  {
   "cell_type": "code",
   "execution_count": 116,
   "metadata": {},
   "outputs": [],
   "source": [
    "import seaborn as sns"
   ]
  },
  {
   "cell_type": "code",
   "execution_count": 58,
   "metadata": {},
   "outputs": [
    {
     "data": {
      "text/plain": [
       "Index(['Patient_ID', 'Family_Case_ID', 'Severity', 'Name', 'Birthday_year',\n",
       "       'Parents or siblings infected', 'Wife/Husband or children infected',\n",
       "       'Medical_Expenses_Family', 'City', 'Deceased', 'Infected_per_Family',\n",
       "       'Maritial_Status', 'Gender', 'Title'],\n",
       "      dtype='object')"
      ]
     },
     "execution_count": 58,
     "metadata": {},
     "output_type": "execute_result"
    }
   ],
   "source": [
    "df.columns"
   ]
  },
  {
   "cell_type": "code",
   "execution_count": 59,
   "metadata": {},
   "outputs": [
    {
     "data": {
      "image/png": "[encoded data removed]",
      "text/plain": [
       "<Figure size 432x288 with 1 Axes>"
      ]
     },
     "metadata": {
      "needs_background": "light"
     },
     "output_type": "display_data"
    },
    {
     "data": {
      "image/png": "[encoded data removed]",
      "text/plain": [
       "<Figure size 432x288 with 1 Axes>"
      ]
     },
     "metadata": {
      "needs_background": "light"
     },
     "output_type": "display_data"
    },
    {
     "data": {
      "image/png": "[encoded data removed]",
      "text/plain": [
       "<Figure size 432x288 with 1 Axes>"
      ]
     },
     "metadata": {
      "needs_background": "light"
     },
     "output_type": "display_data"
    }
   ],
   "source": [
    "col = ['Birthday_year', 'Medical_Expenses_Family', 'Infected_per_Family']\n",
    "\n",
    "for col in col:\n",
    "\n",
    "    sns.boxplot(data = df[col], orient = \"h\", whis = 3.5)\n",
    "    plt.ylabel(col)\n",
    "    plt.show()"
   ]
  },
  {
   "cell_type": "markdown",
   "metadata": {},
   "source": [
    "We have outliers in: Family_Case_ID, Parents or siblings infected, Wife/Husband or children infected and Medical_Expenses_Family"
   ]
  },
  {
   "cell_type": "code",
   "execution_count": 86,
   "metadata": {},
   "outputs": [],
   "source": [
    "def zscore(series):\n",
    "    \"\"\"Returns the Z score\"\"\"\n",
    "    return (series-series.mean()) / series.std()"
   ]
  },
  {
   "cell_type": "code",
   "execution_count": 87,
   "metadata": {},
   "outputs": [],
   "source": [
    "out_1 = zscore(df['Medical_Expenses_Family'])\n",
    "out_2 = zscore(df['Infected_per_Family'])"
   ]
  },
  {
   "cell_type": "code",
   "execution_count": 88,
   "metadata": {},
   "outputs": [],
   "source": [
    "df_out = pd.DataFrame({'Medical_Expenses_Family': out_1, 'Infected_per_Family': out_2\n",
    "                      })"
   ]
  },
  {
   "cell_type": "code",
   "execution_count": 89,
   "metadata": {},
   "outputs": [
    {
     "data": {
      "text/plain": [
       "(900, 2)"
      ]
     },
     "execution_count": 89,
     "metadata": {},
     "output_type": "execute_result"
    }
   ],
   "source": [
    "df_out.shape #Correct"
   ]
  },
  {
   "cell_type": "code",
   "execution_count": 90,
   "metadata": {},
   "outputs": [
    {
     "name": "stdout",
     "output_type": "stream",
     "text": [
      "(11, 2)\n"
     ]
    }
   ],
   "source": [
    "df_out_1 = df_out[(df_out['Medical_Expenses_Family'] > 4) | (df_out['Medical_Expenses_Family'] < -4)]\n",
    "print(df_out_1.shape)\n",
    "#20 outliers with threshold = 3\n",
    "#11 outliers with threshold = 4\n",
    "list_1 = list(df_out_1.index)"
   ]
  },
  {
   "cell_type": "code",
   "execution_count": 91,
   "metadata": {},
   "outputs": [
    {
     "name": "stdout",
     "output_type": "stream",
     "text": [
      "(7, 2)\n"
     ]
    }
   ],
   "source": [
    "df_out_2 = df_out[(df_out['Infected_per_Family'] > 4) | (df_out['Infected_per_Family'] < -4)]\n",
    "print(df_out_2.shape)\n",
    "#25 outliers with threshold = 3\n",
    "#7 outliers with threshold = 4\n",
    "list_2 = list(df_out_2.index)"
   ]
  },
  {
   "cell_type": "code",
   "execution_count": 92,
   "metadata": {},
   "outputs": [],
   "source": [
    "#all outliers together\n",
    "list_all = list_1 + list_2\n",
    "\n",
    "list_to_remove = []\n",
    "\n",
    "for i in list_all:\n",
    "  if i not in list_to_remove:\n",
    "    list_to_remove.append(i)"
   ]
  },
  {
   "cell_type": "code",
   "execution_count": 93,
   "metadata": {},
   "outputs": [],
   "source": [
    "for i in list_to_remove:\n",
    "    df = df.drop([df.index[i]])"
   ]
  },
  {
   "cell_type": "code",
   "execution_count": 94,
   "metadata": {},
   "outputs": [],
   "source": [
    "df = df.reset_index(drop = True)"
   ]
  },
  {
   "cell_type": "code",
   "execution_count": 95,
   "metadata": {},
   "outputs": [
    {
     "data": {
      "text/plain": [
       "(882, 16)"
      ]
     },
     "execution_count": 95,
     "metadata": {},
     "output_type": "execute_result"
    }
   ],
   "source": [
    "df.shape"
   ]
  },
  {
   "cell_type": "code",
   "execution_count": 96,
   "metadata": {},
   "outputs": [
    {
     "data": {
      "text/plain": [
       "Index(['Patient_ID', 'Family_Case_ID', 'Severity', 'Name', 'Birthday_year',\n",
       "       'Parents or siblings infected', 'Wife/Husband or children infected',\n",
       "       'Medical_Expenses_Family', 'City', 'Deceased', 'Infected_per_Family',\n",
       "       'Maritial_Status', 'Gender', 'Title', 'Age', 'Is_young'],\n",
       "      dtype='object')"
      ]
     },
     "execution_count": 96,
     "metadata": {},
     "output_type": "execute_result"
    }
   ],
   "source": [
    "df.columns"
   ]
  },
  {
   "cell_type": "markdown",
   "metadata": {},
   "source": [
    "We lost 2% of the data, not bad."
   ]
  },
  {
   "cell_type": "code",
   "execution_count": 97,
   "metadata": {},
   "outputs": [],
   "source": [
    "df.to_csv('clean_data.csv', index = False)"
   ]
  },
  {
   "cell_type": "markdown",
   "metadata": {},
   "source": [
    "## 6. Feature Selection"
   ]
  },
  {
   "cell_type": "code",
   "execution_count": 117,
   "metadata": {},
   "outputs": [
    {
     "data": {
      "text/plain": [
       "Index(['Patient_ID', 'Family_Case_ID', 'Severity', 'Name', 'Birthday_year',\n",
       "       'Parents or siblings infected', 'Wife/Husband or children infected',\n",
       "       'Medical_Expenses_Family', 'City', 'Deceased', 'Infected_per_Family',\n",
       "       'Maritial_Status', 'Gender', 'Title', 'Age', 'Is_young'],\n",
       "      dtype='object')"
      ]
     },
     "execution_count": 117,
     "metadata": {},
     "output_type": "execute_result"
    }
   ],
   "source": [
    "df = pd.read_csv('clean_data.csv')\n",
    "df.columns"
   ]
  },
  {
   "cell_type": "markdown",
   "metadata": {},
   "source": [
    "Let's add a variable:\n",
    "\n",
    "`is_young: `0 if the age is lower than 60, 1 otherwise<br>"
   ]
  },
  {
   "cell_type": "code",
   "execution_count": 118,
   "metadata": {},
   "outputs": [],
   "source": [
    "df['Age'] = 2020 - df['Birthday_year']\n",
    "\n",
    "df['Is_young'] = 0"
   ]
  },
  {
   "cell_type": "code",
   "execution_count": 119,
   "metadata": {},
   "outputs": [],
   "source": [
    "for i in range(0, df.shape[0]):\n",
    "    \n",
    "    if df['Age'][i] > 60:\n",
    "        df['Is_young'][i] = 1\n",
    "    \n",
    "    else:\n",
    "        df['Is_young'][i] = 0"
   ]
  },
  {
   "cell_type": "markdown",
   "metadata": {},
   "source": [
    "`FEATURES`categorical and numerical<br>\n",
    "\n",
    "`TARGET` categorical<br>\n",
    "\n",
    "Once we have categorical and numerical input we need to divide the features in order to decide which numerical and categorical feature contributes the most:\n",
    "\n",
    "1. Numerical Input/ Categorical Output: ANOVA and Kendall's\n",
    "\n",
    "2. Categorical Input/ Categorical Output: Chi-Squared and Mutual Information"
   ]
  },
  {
   "cell_type": "markdown",
   "metadata": {},
   "source": [
    "Dividing the features into Numerical and Categorical\n"
   ]
  },
  {
   "cell_type": "code",
   "execution_count": 120,
   "metadata": {},
   "outputs": [],
   "source": [
    "df_numerical = df[['Birthday_year', 'Infected_per_Family', 'Medical_Expenses_Family', 'Parents or siblings infected', 'Wife/Husband or children infected']]\n",
    "\n",
    "df_categorical = df[['Severity', 'City', 'Maritial_Status', 'Gender']] #isYoung is missing.\n",
    "\n",
    "target = df['Deceased']"
   ]
  },
  {
   "cell_type": "markdown",
   "metadata": {},
   "source": [
    "#### 1. ANOVA\n",
    "\n",
    "\n",
    "`INPUT VARIABLES`: Numerical <br>\n",
    "`OUPUT VARIABLE`: categorical <br>"
   ]
  },
  {
   "cell_type": "code",
   "execution_count": 121,
   "metadata": {},
   "outputs": [],
   "source": [
    "from sklearn.feature_selection import SelectKBest\n",
    "from sklearn.feature_selection import f_classif\n",
    "from sklearn.feature_selection import chi2"
   ]
  },
  {
   "cell_type": "markdown",
   "metadata": {},
   "source": [
    "Selecting the features with the best ANOVA F-Values"
   ]
  },
  {
   "cell_type": "code",
   "execution_count": 122,
   "metadata": {},
   "outputs": [],
   "source": [
    "X_numerical = df_numerical.to_numpy()\n",
    "\n",
    "y_target = target.to_numpy()"
   ]
  },
  {
   "cell_type": "code",
   "execution_count": 123,
   "metadata": {},
   "outputs": [
    {
     "data": {
      "text/plain": [
       "array([[1.988e+03, 0.000e+00, 2.250e+02, 0.000e+00, 0.000e+00],\n",
       "       [1.966e+03, 1.000e+00, 1.663e+03, 0.000e+00, 1.000e+00],\n",
       "       [1.982e+03, 0.000e+00, 2.210e+02, 0.000e+00, 0.000e+00],\n",
       "       ...,\n",
       "       [1.990e+03, 0.000e+00, 2.140e+02, 0.000e+00, 0.000e+00],\n",
       "       [1.994e+03, 2.000e+00, 8.120e+02, 1.000e+00, 1.000e+00],\n",
       "       [2.002e+03, 0.000e+00, 2.020e+02, 0.000e+00, 0.000e+00]])"
      ]
     },
     "execution_count": 123,
     "metadata": {},
     "output_type": "execute_result"
    }
   ],
   "source": [
    "# Create a SelectKBest object to select features with two best ANOVA F-Values\n",
    "model = SelectKBest(f_classif, k = 'all')\n",
    "\n",
    "# Apply the SelectKBest object to the features and target\n",
    "best = model.fit_transform(X_numerical, y_target)\n",
    "best"
   ]
  },
  {
   "cell_type": "code",
   "execution_count": 124,
   "metadata": {},
   "outputs": [
    {
     "data": {
      "text/plain": [
       "array([2.07709026e-01, 6.67294265e-01, 2.40287772e-14, 2.02721664e-02,\n",
       "       2.86538592e-01])"
      ]
     },
     "execution_count": 124,
     "metadata": {},
     "output_type": "execute_result"
    }
   ],
   "source": [
    "model.pvalues_"
   ]
  },
  {
   "cell_type": "code",
   "execution_count": 125,
   "metadata": {},
   "outputs": [
    {
     "data": {
      "text/plain": [
       "array([ 1.58965904,  0.18490787, 60.17191729,  5.40791373,  1.1371936 ])"
      ]
     },
     "execution_count": 125,
     "metadata": {},
     "output_type": "execute_result"
    }
   ],
   "source": [
    "scores = model.scores_\n",
    "scores"
   ]
  },
  {
   "cell_type": "code",
   "execution_count": 126,
   "metadata": {},
   "outputs": [],
   "source": [
    "X_indices = np.arange(X_numerical.shape[-1])"
   ]
  },
  {
   "cell_type": "code",
   "execution_count": 127,
   "metadata": {},
   "outputs": [
    {
     "data": {
      "text/plain": [
       "<BarContainer object of 5 artists>"
      ]
     },
     "execution_count": 127,
     "metadata": {},
     "output_type": "execute_result"
    },
    {
     "data": {
      "image/png": "[encoded data removed]",
      "text/plain": [
       "<Figure size 432x288 with 1 Axes>"
      ]
     },
     "metadata": {
      "needs_background": "light"
     },
     "output_type": "display_data"
    }
   ],
   "source": [
    "plt.bar(X_indices, scores, width = .2, color = 'blue', edgecolor = 'black')\n",
    "#It seems that the most important feature is Medical_Expenses and parents_and_siblings_infected."
   ]
  },
  {
   "cell_type": "code",
   "execution_count": 128,
   "metadata": {},
   "outputs": [],
   "source": [
    "from sklearn.feature_selection import RFE\n",
    "from sklearn.linear_model import LogisticRegression"
   ]
  },
  {
   "cell_type": "code",
   "execution_count": 129,
   "metadata": {},
   "outputs": [],
   "source": [
    "from sklearn.model_selection import train_test_split\n",
    "from sklearn.tree import DecisionTreeClassifier\n",
    "from sklearn.naive_bayes import MultinomialNB\n",
    "from sklearn.ensemble import RandomForestClassifier"
   ]
  },
  {
   "cell_type": "code",
   "execution_count": 130,
   "metadata": {},
   "outputs": [
    {
     "name": "stdout",
     "output_type": "stream",
     "text": [
      "0.5660377358490566\n",
      "0.5735849056603773\n",
      "0.6716981132075471\n",
      "0.6452830188679245\n",
      "0.5811320754716981\n",
      "0.5811320754716981\n",
      "0.6377358490566037\n",
      "0.630188679245283\n",
      "0.5811320754716981\n",
      "0.5811320754716981\n",
      "0.6490566037735849\n",
      "0.690566037735849\n",
      "0.660377358490566\n",
      "0.6226415094339622\n",
      "0.6264150943396226\n",
      "0.660377358490566\n",
      "0.660377358490566\n",
      "0.6528301886792452\n",
      "0.6037735849056604\n",
      "0.660377358490566\n",
      "Optimum number of features: 3\n",
      "Score with 3 features: 0.690566\n",
      "Using: put decision tree\n"
     ]
    }
   ],
   "source": [
    "#no of features\n",
    "nof_list=np.arange(1, 6) \n",
    "\n",
    "high_score=0\n",
    "\n",
    "#Variable to store the optimum features\n",
    "nof=0           \n",
    "\n",
    "score_list =[]\n",
    "\n",
    "models = [LogisticRegression(), MultinomialNB(), DecisionTreeClassifier(), RandomForestClassifier()]\n",
    "\n",
    "m = []\n",
    "\n",
    "for n in range(len(nof_list)):\n",
    "    for model in models:\n",
    "    \n",
    "        X_train, X_test, y_train, y_test = train_test_split(X_numerical,y_target, test_size = 0.3, random_state = 0)\n",
    "        \n",
    "        rfe = RFE(model,nof_list[n])\n",
    "        X_train_rfe = rfe.fit_transform(X_train,y_train)\n",
    "        X_test_rfe = rfe.transform(X_test)\n",
    "        model.fit(X_train_rfe, y_train)\n",
    "\n",
    "        score = model.score(X_test_rfe, y_test)\n",
    "        score_list.append(score)\n",
    "        print(score)\n",
    "        m.append(model)\n",
    "\n",
    "        if(score > high_score):\n",
    "            high_score = score\n",
    "            nof = nof_list[n]\n",
    "\n",
    "print(\"Optimum number of features: %d\" %nof)\n",
    "print(\"Score with %d features: %f\" % (nof, high_score))\n",
    "print(\"Using: put decision tree\")"
   ]
  },
  {
   "cell_type": "markdown",
   "metadata": {},
   "source": [
    "The model tell us to choose Birthday_year, infected_per_Family and Meadical Expenses."
   ]
  },
  {
   "cell_type": "code",
   "execution_count": 131,
   "metadata": {},
   "outputs": [
    {
     "name": "stdout",
     "output_type": "stream",
     "text": [
      "Num Features: 3\n",
      "Selected Features: [ True  True  True False False]\n",
      "Feature Ranking: [1 1 1 3 2]\n"
     ]
    }
   ],
   "source": [
    "dt = RandomForestClassifier()\n",
    "\n",
    "rfe = RFE(dt, 3)\n",
    "model = rfe.fit(X_numerical, y_target)\n",
    "print(\"Num Features: %s\" % (model.n_features_))\n",
    "print(\"Selected Features: %s\" % (model.support_))\n",
    "print(\"Feature Ranking: %s\" % (model.ranking_))\n",
    "#Medical Expenses "
   ]
  },
  {
   "cell_type": "markdown",
   "metadata": {},
   "source": [
    "#### 2. Kendall\n",
    "\n",
    "\n",
    "`INPUT VARIABLES`: Numerical <br>\n",
    "`OUPUT VARIABLE`: categorical <br>"
   ]
  },
  {
   "cell_type": "code",
   "execution_count": 132,
   "metadata": {},
   "outputs": [
    {
     "data": {
      "image/png": "[encoded data removed]",
      "text/plain": [
       "<Figure size 792x792 with 2 Axes>"
      ]
     },
     "metadata": {
      "needs_background": "light"
     },
     "output_type": "display_data"
    }
   ],
   "source": [
    "df_kendall = df[['Birthday_year', 'Infected_per_Family', 'Medical_Expenses_Family', 'Parents or siblings infected', 'Wife/Husband or children infected', 'Deceased']]\n",
    "\n",
    "# create the correlation matrix (default to pearson)\n",
    "corr_matrix = df_kendall.corr(method = 'kendall')\n",
    "\n",
    "# optional: display a heatmap of the correlation matrix\n",
    "plt.figure(figsize=(11,11))\n",
    "sns.heatmap(data = corr_matrix, annot = True, cmap = plt.cm.Reds, fmt='.1')\n",
    "plt.show()\n"
   ]
  },
  {
   "cell_type": "markdown",
   "metadata": {},
   "source": [
    "We don't have any feature well correlated with the target. We cannot take a conclusion about which feature to choose."
   ]
  },
  {
   "cell_type": "code",
   "execution_count": 133,
   "metadata": {},
   "outputs": [],
   "source": [
    "from scipy.stats import kendalltau\n",
    "\n",
    "variables = list(df_numerical.columns)"
   ]
  },
  {
   "cell_type": "code",
   "execution_count": 134,
   "metadata": {},
   "outputs": [
    {
     "name": "stdout",
     "output_type": "stream",
     "text": [
      "Kendall correlation coefficient: 0.041\n",
      "Samples are uncorrelated (fail to reject H0) p = 0.143\n",
      "Kendall correlation coefficient: -0.153\n",
      "Samples are correlated (reject H0) p = 0.000\n",
      "Kendall correlation coefficient: -0.261\n",
      "Samples are correlated (reject H0) p = 0.000\n",
      "Kendall correlation coefficient: -0.130\n",
      "Samples are correlated (reject H0) p = 0.000\n",
      "Kendall correlation coefficient: -0.088\n",
      "Samples are correlated (reject H0) p = 0.007\n"
     ]
    }
   ],
   "source": [
    "for var in variables:\n",
    "    X = df_numerical[var].to_numpy()\n",
    "    y = target.to_numpy()\n",
    "\n",
    "    # calculate kendall's correlation\n",
    "    tau, p = kendalltau(X, y)\n",
    "\n",
    "    print('Kendall correlation coefficient: %.3f' % tau)\n",
    "    \n",
    "    # interpret the significance\n",
    "    alpha = 0.05\n",
    "    if p > alpha:\n",
    "        print('Samples are uncorrelated (fail to reject H0) p = %.3f' % p)\n",
    "    else:\n",
    "        print('Samples are correlated (reject H0) p = %.3f' % p)"
   ]
  },
  {
   "cell_type": "markdown",
   "metadata": {},
   "source": [
    "#### 3. Chi-Squared\n",
    "\n",
    "`INPUT VARIABLES`: Categorical <br>\n",
    "`OUPUT VARIABLE`: Categorical <br>"
   ]
  },
  {
   "cell_type": "code",
   "execution_count": 135,
   "metadata": {},
   "outputs": [],
   "source": [
    "from sklearn.feature_selection import chi2"
   ]
  },
  {
   "cell_type": "code",
   "execution_count": 136,
   "metadata": {},
   "outputs": [
    {
     "data": {
      "text/plain": [
       "(array([ 29.463969  ,   2.04117937,  66.34428711, 164.33653021]),\n",
       " array([5.69659617e-08, 1.53090913e-01, 3.78654737e-16, 1.27715972e-37]))"
      ]
     },
     "execution_count": 136,
     "metadata": {},
     "output_type": "execute_result"
    }
   ],
   "source": [
    "chi_scores = chi2(df_categorical, target)\n",
    "chi_scores"
   ]
  },
  {
   "cell_type": "code",
   "execution_count": 137,
   "metadata": {},
   "outputs": [],
   "source": [
    "p_values = pd.Series(chi_scores[1],index = df_categorical.columns)\n",
    "p_values.sort_values(ascending = False , inplace = True)"
   ]
  },
  {
   "cell_type": "code",
   "execution_count": 138,
   "metadata": {},
   "outputs": [
    {
     "data": {
      "text/plain": [
       "<matplotlib.axes._subplots.AxesSubplot at 0x7ff68ce390d0>"
      ]
     },
     "execution_count": 138,
     "metadata": {},
     "output_type": "execute_result"
    },
    {
     "data": {
      "image/png": "[encoded data removed]",
      "text/plain": [
       "<Figure size 432x288 with 1 Axes>"
      ]
     },
     "metadata": {
      "needs_background": "light"
     },
     "output_type": "display_data"
    }
   ],
   "source": [
    "p_values.plot.bar()\n",
    "#it says that is_young and city cannot be used to train the model."
   ]
  },
  {
   "cell_type": "code",
   "execution_count": 139,
   "metadata": {},
   "outputs": [],
   "source": [
    "X_categorical = df_categorical.to_numpy()"
   ]
  },
  {
   "cell_type": "code",
   "execution_count": 140,
   "metadata": {},
   "outputs": [],
   "source": [
    "model = SelectKBest(chi2, k = 4) \n",
    "best = model.fit_transform(X_categorical, y_target) "
   ]
  },
  {
   "cell_type": "code",
   "execution_count": 141,
   "metadata": {},
   "outputs": [
    {
     "data": {
      "text/plain": [
       "array([ 29.463969  ,   2.04117937,  66.34428711, 164.33653021])"
      ]
     },
     "execution_count": 141,
     "metadata": {},
     "output_type": "execute_result"
    }
   ],
   "source": [
    "scores = model.scores_\n",
    "scores"
   ]
  },
  {
   "cell_type": "code",
   "execution_count": 142,
   "metadata": {},
   "outputs": [
    {
     "data": {
      "text/plain": [
       "<BarContainer object of 4 artists>"
      ]
     },
     "execution_count": 142,
     "metadata": {},
     "output_type": "execute_result"
    },
    {
     "data": {
      "image/png": "[encoded data removed]",
      "text/plain": [
       "<Figure size 432x288 with 1 Axes>"
      ]
     },
     "metadata": {
      "needs_background": "light"
     },
     "output_type": "display_data"
    }
   ],
   "source": [
    "X_indices = np.arange(X_categorical.shape[-1])\n",
    "\n",
    "plt.bar(X_indices, scores, width = .2, color = 'blue', edgecolor = 'black')"
   ]
  },
  {
   "cell_type": "code",
   "execution_count": 143,
   "metadata": {},
   "outputs": [
    {
     "name": "stdout",
     "output_type": "stream",
     "text": [
      "0.7811320754716982\n",
      "0.5735849056603773\n",
      "0.7811320754716982\n",
      "0.7811320754716982\n",
      "0.7773584905660378\n",
      "0.7660377358490567\n",
      "0.7622641509433963\n",
      "0.7773584905660378\n",
      "0.7811320754716982\n",
      "0.7622641509433963\n",
      "0.7773584905660378\n",
      "0.769811320754717\n",
      "Optimum number of features: 1\n",
      "Score with 1 features: 0.781132\n",
      "Using: put decision tree\n"
     ]
    }
   ],
   "source": [
    "#no of features\n",
    "nof_list=np.arange(1, 5) \n",
    "\n",
    "high_score=0\n",
    "\n",
    "#Variable to store the optimum features\n",
    "nof=0           \n",
    "\n",
    "score_list =[]\n",
    "\n",
    "models = [LogisticRegression(), MultinomialNB(), DecisionTreeClassifier()]\n",
    "\n",
    "m = []\n",
    "\n",
    "for n in range(len(nof_list)):\n",
    "    for model in models:\n",
    "    \n",
    "        X_train, X_test, y_train, y_test = train_test_split(X_categorical,y_target, test_size = 0.3, random_state = 0)\n",
    "        \n",
    "        rfe = RFE(model,nof_list[n])\n",
    "        X_train_rfe = rfe.fit_transform(X_train,y_train)\n",
    "        X_test_rfe = rfe.transform(X_test)\n",
    "        model.fit(X_train_rfe, y_train)\n",
    "\n",
    "\n",
    "        score = model.score(X_test_rfe, y_test)\n",
    "        print(score)\n",
    "        score_list.append(score)\n",
    "        m.append(model)\n",
    "\n",
    "        if(score > high_score):\n",
    "            high_score = score\n",
    "            nof = nof_list[n]\n",
    "\n",
    "print(\"Optimum number of features: %d\" %nof)\n",
    "print(\"Score with %d features: %f\" % (nof, high_score))\n",
    "print(\"Using: put decision tree\")"
   ]
  },
  {
   "cell_type": "code",
   "execution_count": 144,
   "metadata": {},
   "outputs": [
    {
     "name": "stdout",
     "output_type": "stream",
     "text": [
      "Num Features: 3\n",
      "Selected Features: [ True False  True  True]\n",
      "Feature Ranking: [1 2 1 1]\n"
     ]
    }
   ],
   "source": [
    "lr = LogisticRegression()\n",
    "\n",
    "rfe = RFE(lr, 3)\n",
    "model = rfe.fit(X_categorical, y_target)\n",
    "print(\"Num Features: %s\" % (model.n_features_))\n",
    "print(\"Selected Features: %s\" % (model.support_))\n",
    "print(\"Feature Ranking: %s\" % (model.ranking_))\n",
    "#Gender, severity and is_young "
   ]
  },
  {
   "cell_type": "markdown",
   "metadata": {},
   "source": [
    "#### 4. Mutual Information\n",
    "\n",
    "`INPUT VARIABLES`: Categorical <br>\n",
    "`OUPUT VARIABLE`: Categorical <br>"
   ]
  },
  {
   "cell_type": "code",
   "execution_count": 145,
   "metadata": {},
   "outputs": [],
   "source": [
    "from sklearn.feature_selection import mutual_info_classif"
   ]
  },
  {
   "cell_type": "code",
   "execution_count": 146,
   "metadata": {},
   "outputs": [],
   "source": [
    "model = mutual_info_classif(X_categorical, y_target, discrete_features = True, random_state = 5)"
   ]
  },
  {
   "cell_type": "code",
   "execution_count": 147,
   "metadata": {},
   "outputs": [
    {
     "data": {
      "text/plain": [
       "array([0.05668076, 0.01402987, 0.07112326, 0.14830229])"
      ]
     },
     "execution_count": 147,
     "metadata": {},
     "output_type": "execute_result"
    }
   ],
   "source": [
    "model"
   ]
  },
  {
   "cell_type": "code",
   "execution_count": null,
   "metadata": {},
   "outputs": [],
   "source": []
  },
  {
   "cell_type": "code",
   "execution_count": null,
   "metadata": {},
   "outputs": [],
   "source": []
  },
  {
   "cell_type": "markdown",
   "metadata": {},
   "source": [
    "#### ***6. Modeling***"
   ]
  },
  {
   "cell_type": "markdown",
   "metadata": {},
   "source": [
    "6.1. Decision Tree"
   ]
  },
  {
   "cell_type": "code",
   "execution_count": 162,
   "metadata": {},
   "outputs": [],
   "source": [
    "from sklearn.tree import DecisionTreeClassifier"
   ]
  },
  {
   "cell_type": "code",
   "execution_count": 163,
   "metadata": {},
   "outputs": [],
   "source": [
    "from sklearn.model_selection import RandomizedSearchCV\n",
    "from sklearn.model_selection import StratifiedKFold\n",
    "from sklearn.metrics import confusion_matrix, accuracy_score, precision_score, recall_score, f1_score, classification_report"
   ]
  },
  {
   "cell_type": "code",
   "execution_count": 205,
   "metadata": {},
   "outputs": [],
   "source": [
    "from sklearn.preprocessing import StandardScaler\n",
    "from sklearn.preprocessing import MinMaxScaler\n",
    "from sklearn.preprocessing import RobustScaler"
   ]
  },
  {
   "cell_type": "code",
   "execution_count": 231,
   "metadata": {},
   "outputs": [],
   "source": [
    "scaler = StandardScaler()\n",
    "#scaler = MinMaxScaler()\n",
    "#scaler = RobustScaler()"
   ]
  },
  {
   "cell_type": "code",
   "execution_count": 248,
   "metadata": {},
   "outputs": [
    {
     "data": {
      "text/plain": [
       "Index(['Patient_ID', 'Family_Case_ID', 'Severity', 'Name', 'Birthday_year',\n",
       "       'Parents or siblings infected', 'Wife/Husband or children infected',\n",
       "       'Medical_Expenses_Family', 'City', 'Deceased', 'Infected_per_Family',\n",
       "       'Maritial_Status', 'Gender', 'Title', 'Age', 'Is_young'],\n",
       "      dtype='object')"
      ]
     },
     "execution_count": 248,
     "metadata": {},
     "output_type": "execute_result"
    }
   ],
   "source": [
    "df.columns"
   ]
  },
  {
   "cell_type": "code",
   "execution_count": 337,
   "metadata": {},
   "outputs": [],
   "source": [
    "features = df.drop(['Patient_ID', 'Deceased', 'Name', 'Title', 'Birthday_year', 'Infected_per_Family', 'Parents or siblings infected', 'Wife/Husband or children infected'], axis = 1)\n",
    "#print(features.columns)\n",
    "\n",
    "target = df['Deceased']"
   ]
  },
  {
   "cell_type": "code",
   "execution_count": 338,
   "metadata": {},
   "outputs": [],
   "source": [
    "parameter_space = {'criterion': ['gini', 'entropy'], 'splitter': ['best', 'random'], \n",
    "                   'max_depth': [2, 3, 4, 5, 6, 7, 8, 9, 10, 11, 12],\n",
    "                   'min_samples_split': [1, 2, 3, 4, 5, 6, 7, 8, 9, 10, 11, 12], \n",
    "                   'min_samples_leaf': [1, 2, 3, 4, 5, 6, 7, 8, 9, 10, 11, 12],\n",
    "                   'random_state': [10, 42],\n",
    "                   'max_leaf_nodes': [1, 2, 3, 4, 5, 6, 7, 8, 9, 10, 11, 12]\n",
    "                   \n",
    "                  }"
   ]
  },
  {
   "cell_type": "code",
   "execution_count": 339,
   "metadata": {},
   "outputs": [],
   "source": [
    "model = DecisionTreeClassifier()"
   ]
  },
  {
   "cell_type": "code",
   "execution_count": 340,
   "metadata": {},
   "outputs": [],
   "source": [
    "clf = RandomizedSearchCV(model, parameter_space, n_jobs = -1, random_state = 42)"
   ]
  },
  {
   "cell_type": "code",
   "execution_count": 341,
   "metadata": {},
   "outputs": [],
   "source": [
    "kFold = StratifiedKFold(n_splits = 5, shuffle = True, random_state = 10)"
   ]
  },
  {
   "cell_type": "code",
   "execution_count": 342,
   "metadata": {},
   "outputs": [
    {
     "name": "stdout",
     "output_type": "stream",
     "text": [
      "{'splitter': 'best', 'random_state': 42, 'min_samples_split': 11, 'min_samples_leaf': 11, 'max_leaf_nodes': 8, 'max_depth': 3, 'criterion': 'entropy'}\n",
      "              precision    recall  f1-score   support\n",
      "\n",
      "           0       0.84      0.62      0.72        69\n",
      "           1       0.79      0.93      0.85       108\n",
      "\n",
      "    accuracy                           0.81       177\n",
      "   macro avg       0.82      0.77      0.79       177\n",
      "weighted avg       0.81      0.81      0.80       177\n",
      "\n",
      "[[ 43  26]\n",
      " [  8 100]]\n",
      "{'splitter': 'best', 'random_state': 42, 'min_samples_split': 6, 'min_samples_leaf': 4, 'max_leaf_nodes': 12, 'max_depth': 9, 'criterion': 'gini'}\n",
      "              precision    recall  f1-score   support\n",
      "\n",
      "           0       0.81      0.61      0.69        69\n",
      "           1       0.78      0.91      0.84       108\n",
      "\n",
      "    accuracy                           0.79       177\n",
      "   macro avg       0.80      0.76      0.77       177\n",
      "weighted avg       0.79      0.79      0.78       177\n",
      "\n",
      "[[42 27]\n",
      " [10 98]]\n",
      "{'splitter': 'best', 'random_state': 42, 'min_samples_split': 11, 'min_samples_leaf': 11, 'max_leaf_nodes': 8, 'max_depth': 3, 'criterion': 'entropy'}\n",
      "              precision    recall  f1-score   support\n",
      "\n",
      "           0       0.71      0.69      0.70        68\n",
      "           1       0.81      0.82      0.82       108\n",
      "\n",
      "    accuracy                           0.77       176\n",
      "   macro avg       0.76      0.76      0.76       176\n",
      "weighted avg       0.77      0.77      0.77       176\n",
      "\n",
      "[[47 21]\n",
      " [19 89]]\n",
      "{'splitter': 'best', 'random_state': 42, 'min_samples_split': 6, 'min_samples_leaf': 4, 'max_leaf_nodes': 12, 'max_depth': 9, 'criterion': 'gini'}\n",
      "              precision    recall  f1-score   support\n",
      "\n",
      "           0       0.86      0.71      0.77        68\n",
      "           1       0.83      0.93      0.88       108\n",
      "\n",
      "    accuracy                           0.84       176\n",
      "   macro avg       0.85      0.82      0.83       176\n",
      "weighted avg       0.84      0.84      0.84       176\n",
      "\n",
      "[[ 48  20]\n",
      " [  8 100]]\n",
      "{'splitter': 'best', 'random_state': 42, 'min_samples_split': 11, 'min_samples_leaf': 11, 'max_leaf_nodes': 8, 'max_depth': 3, 'criterion': 'entropy'}\n",
      "              precision    recall  f1-score   support\n",
      "\n",
      "           0       0.71      0.71      0.71        68\n",
      "           1       0.81      0.81      0.81       108\n",
      "\n",
      "    accuracy                           0.77       176\n",
      "   macro avg       0.76      0.76      0.76       176\n",
      "weighted avg       0.77      0.77      0.77       176\n",
      "\n",
      "[[48 20]\n",
      " [20 88]]\n",
      "Accuracy Score:  79.70467385721622\n"
     ]
    }
   ],
   "source": [
    "#f1_mean = 0\n",
    "accuracy = 0\n",
    "#recall = 0\n",
    "\n",
    "# for each of the 5-fold splits\n",
    "for (train, val) in kFold.split(features, target):\n",
    "    # normalize the train and val sets\n",
    "    \n",
    "    X_train = scaler.fit_transform(features.iloc[train])\n",
    "    X_val = scaler.transform(features.iloc[val])\n",
    "    \n",
    "    # fit the classifier to the train sets\n",
    "    clf.fit(X_train, target[train])\n",
    "    model = clf.best_estimator_\n",
    "    model.fit(X_train, target[train])\n",
    "    \n",
    "    print(clf.best_params_)\n",
    "    \n",
    "    # predict the labels of the val set\n",
    "    pred = model.predict(X_val)\n",
    "    \n",
    "    accuracy += accuracy_score(target[val], pred) * 100\n",
    "    #recall += recall_score(target[val], pred, average = None) * 100\n",
    "    \n",
    "    # print a classification report and confusion matrix\n",
    "    print(classification_report(y_true = target[val], y_pred = pred))\n",
    "    print(confusion_matrix(y_true = target[val], y_pred = pred))\n",
    "\n",
    "# print the average accuracy and recall for the classifier\n",
    "#print(\"F1 Score: \", f1_mean / 5)\n",
    "print(\"Accuracy Score: \", accuracy / 5)\n",
    "#print(\"Recal Score: \", recall / 5)"
   ]
  },
  {
   "cell_type": "code",
   "execution_count": 343,
   "metadata": {},
   "outputs": [
    {
     "data": {
      "text/plain": [
       "0.8044750774148437"
      ]
     },
     "execution_count": 343,
     "metadata": {},
     "output_type": "execute_result"
    }
   ],
   "source": [
    "clf.best_score_"
   ]
  },
  {
   "cell_type": "code",
   "execution_count": 308,
   "metadata": {},
   "outputs": [
    {
     "data": {
      "text/plain": [
       "{'splitter': 'best',\n",
       " 'random_state': 42,\n",
       " 'min_samples_split': 11,\n",
       " 'min_samples_leaf': 11,\n",
       " 'max_leaf_nodes': 8,\n",
       " 'max_depth': 3,\n",
       " 'criterion': 'entropy'}"
      ]
     },
     "execution_count": 308,
     "metadata": {},
     "output_type": "execute_result"
    }
   ],
   "source": [
    "clf.best_params_"
   ]
  },
  {
   "cell_type": "markdown",
   "metadata": {},
   "source": [
    "### ***Training the model***"
   ]
  },
  {
   "cell_type": "code",
   "execution_count": 180,
   "metadata": {},
   "outputs": [],
   "source": [
    "X = df.drop(['Patient_ID', 'Deceased', 'Is_young', 'Name', 'Title', 'Birthday_year'], axis = 1)\n",
    "\n",
    "y = df['Deceased']"
   ]
  },
  {
   "cell_type": "code",
   "execution_count": 181,
   "metadata": {},
   "outputs": [],
   "source": [
    "X = scaler.fit_transform(X)\n",
    "\n",
    "y = y.to_numpy()"
   ]
  },
  {
   "cell_type": "code",
   "execution_count": 182,
   "metadata": {},
   "outputs": [
    {
     "data": {
      "text/plain": [
       "{'splitter': 'best',\n",
       " 'random_state': 10,\n",
       " 'min_samples_split': 10,\n",
       " 'min_samples_leaf': 6,\n",
       " 'max_depth': 3,\n",
       " 'criterion': 'gini'}"
      ]
     },
     "execution_count": 182,
     "metadata": {},
     "output_type": "execute_result"
    }
   ],
   "source": [
    "clf.fit(X, y)\n",
    "\n",
    "model = clf.best_estimator_\n",
    "clf.best_params_"
   ]
  },
  {
   "cell_type": "code",
   "execution_count": 183,
   "metadata": {},
   "outputs": [
    {
     "data": {
      "text/plain": [
       "DecisionTreeClassifier(ccp_alpha=0.0, class_weight=None, criterion='gini',\n",
       "                       max_depth=3, max_features=None, max_leaf_nodes=None,\n",
       "                       min_impurity_decrease=0.0, min_impurity_split=None,\n",
       "                       min_samples_leaf=6, min_samples_split=10,\n",
       "                       min_weight_fraction_leaf=0.0, presort='deprecated',\n",
       "                       random_state=10, splitter='best')"
      ]
     },
     "execution_count": 183,
     "metadata": {},
     "output_type": "execute_result"
    }
   ],
   "source": [
    "model.fit(X, y)"
   ]
  },
  {
   "cell_type": "code",
   "execution_count": 184,
   "metadata": {},
   "outputs": [
    {
     "data": {
      "text/plain": [
       "0.8072562358276644"
      ]
     },
     "execution_count": 184,
     "metadata": {},
     "output_type": "execute_result"
    }
   ],
   "source": [
    "model.score(X, y) #gave 93% on the test set, the less overfitted"
   ]
  },
  {
   "cell_type": "markdown",
   "metadata": {},
   "source": [
    "### Preparing the submition for the test Set\n"
   ]
  },
  {
   "cell_type": "code",
   "execution_count": 98,
   "metadata": {},
   "outputs": [],
   "source": [
    "df_ = pd.read_csv('test.csv')"
   ]
  },
  {
   "cell_type": "code",
   "execution_count": 185,
   "metadata": {},
   "outputs": [
    {
     "data": {
      "text/plain": [
       "Patient_ID                           0\n",
       "Family_Case_ID                       0\n",
       "Severity                             0\n",
       "Name                                 0\n",
       "Birthday_year                        0\n",
       "Parents or siblings infected         0\n",
       "Wife/Husband or children infected    0\n",
       "Medical_Expenses_Family              0\n",
       "City                                 0\n",
       "Deceased                             0\n",
       "Infected_per_Family                  0\n",
       "Maritial_Status                      0\n",
       "Gender                               0\n",
       "Title                                0\n",
       "Age                                  0\n",
       "Is_young                             0\n",
       "dtype: int64"
      ]
     },
     "execution_count": 185,
     "metadata": {},
     "output_type": "execute_result"
    }
   ],
   "source": [
    "df.isnull().sum()"
   ]
  },
  {
   "cell_type": "code",
   "execution_count": 99,
   "metadata": {},
   "outputs": [],
   "source": [
    "df_['Gender'] = [0 if df_['Gender'][i] == 'Male' else 1 for i in range(0, df_.shape[0])]"
   ]
  },
  {
   "cell_type": "code",
   "execution_count": 100,
   "metadata": {},
   "outputs": [],
   "source": [
    "df_['Type'] = [0 if df_['Type'][i] == 'Business travel' else 1 for i in range(0, df_.shape[0])]"
   ]
  },
  {
   "cell_type": "code",
   "execution_count": 101,
   "metadata": {},
   "outputs": [],
   "source": [
    "df_['Flight_Class'] = [0 if df_['Flight_Class'][i] == 'Eco' else 1 if df_['Flight_Class'][i] == 'Eco Plus' else 2 for i in range(0, df_.shape[0])]"
   ]
  },
  {
   "cell_type": "code",
   "execution_count": 102,
   "metadata": {},
   "outputs": [],
   "source": [
    "df__ = df_.drop(['Guest_ID'], axis = 1)"
   ]
  },
  {
   "cell_type": "code",
   "execution_count": 103,
   "metadata": {},
   "outputs": [
    {
     "data": {
      "text/plain": [
       "array([[1.        , 0.        , 0.42465753, ..., 0.2       , 0.19683656,\n",
       "        0.24861878],\n",
       "       [1.        , 1.        , 0.53424658, ..., 0.6       , 0.        ,\n",
       "        0.        ],\n",
       "       [0.        , 1.        , 0.35616438, ..., 0.8       , 0.        ,\n",
       "        0.        ],\n",
       "       ...,\n",
       "       [1.        , 1.        , 0.1369863 , ..., 0.2       , 0.        ,\n",
       "        0.05893186],\n",
       "       [0.        , 1.        , 0.21917808, ..., 0.8       , 0.26713533,\n",
       "        0.30202578],\n",
       "       [1.        , 1.        , 0.61643836, ..., 0.8       , 0.        ,\n",
       "        0.00552486]])"
      ]
     },
     "execution_count": 103,
     "metadata": {},
     "output_type": "execute_result"
    }
   ],
   "source": [
    "X_test = scaler.fit_transform(df__)\n",
    "\n",
    "X_test"
   ]
  },
  {
   "cell_type": "code",
   "execution_count": 104,
   "metadata": {},
   "outputs": [],
   "source": [
    "pred = model.predict(X_test)"
   ]
  },
  {
   "cell_type": "code",
   "execution_count": 105,
   "metadata": {},
   "outputs": [
    {
     "data": {
      "text/plain": [
       "array([0, 1, 1, ..., 1, 0, 1])"
      ]
     },
     "execution_count": 105,
     "metadata": {},
     "output_type": "execute_result"
    }
   ],
   "source": [
    "pred"
   ]
  },
  {
   "cell_type": "code",
   "execution_count": 106,
   "metadata": {},
   "outputs": [],
   "source": [
    "df_['Repeater'] = pred"
   ]
  },
  {
   "cell_type": "code",
   "execution_count": 107,
   "metadata": {},
   "outputs": [],
   "source": [
    "test = df_[['Guest_ID', 'Repeater']]"
   ]
  },
  {
   "cell_type": "code",
   "execution_count": 108,
   "metadata": {},
   "outputs": [],
   "source": [
    "test.to_csv('sampleSubmission.csv', index = False)"
   ]
  }
 ],
 "metadata": {
  "kernelspec": {
   "display_name": "Python 3",
   "language": "python",
   "name": "python3"
  },
  "language_info": {
   "codemirror_mode": {
    "name": "ipython",
    "version": 3
   },
   "file_extension": ".py",
   "mimetype": "text/x-python",
   "name": "python",
   "nbconvert_exporter": "python",
   "pygments_lexer": "ipython3",
   "version": "3.8.2"
  }
 },
 "nbformat": 4,
 "nbformat_minor": 4
}
