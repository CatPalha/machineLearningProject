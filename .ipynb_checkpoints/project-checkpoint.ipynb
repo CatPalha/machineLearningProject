{
 "cells": [
  {
   "cell_type": "markdown",
   "metadata": {},
   "source": [
    "## <h1><center>Machine Learning Project</center></h1>\n",
    "\n",
    "### <center> Class of 2019/2020 </center> \n",
    "\n",
    "\n",
    "\n",
    "   <center> Maren Leuthner\n",
    "    <br>\n",
    "    Catarina Palha - M20190156\n",
    "    <br>\n",
    "    Mafalda Zúquete - M20190257\n",
    "    <br>\n",
    "    Pedro Maria</center>\n"
   ]
  },
  {
   "cell_type": "code",
   "execution_count": 1,
   "metadata": {},
   "outputs": [],
   "source": [
    "#FILL WITH YOUR NAME AND NUMBER PLZ, THE LAST ONE DELETES THIS CELL"
   ]
  },
  {
   "cell_type": "markdown",
   "metadata": {},
   "source": [
    "### TODO - TO BE TRNSFORMED INTO INDEX\n",
    "\n",
    "* [1. Datasets to analyse](#firstAnalyse)\n",
    "    * [1.1. Drop all nulls](#tech1)\n",
    "    * [1.2. Replace all the nulls](#tech2)\n",
    "    * [1.2. Replace birthday_year column and drop the tents one](#tech3)\n",
    "* [2. Rank features](#selection)"
   ]
  },
  {
   "cell_type": "markdown",
   "metadata": {},
   "source": [
    "## 1. Introduction\n",
    "\n",
    "On January 1st, 2020, an epidemy was originated in Albuquerque, in New Mexico state, and spread on the\n",
    "following days to Santa Fe and Taos. It is estimated that the epidemy has already affected more than 1000\n",
    "people at the end of February, with a mortality rate of more than 50%.\n",
    "\n",
    "***GOAL: What are the people more likely to survive to the boolean pandemic?***\n",
    "\n",
    "\n",
    "## 2. About the data\n",
    "\n",
    "`Patient_ID` The unique identifier of the patient<br>\n",
    "`Family_Case_ID` The family identification<br>\n",
    "`Severity`The severity of the disease, where 1 is the lowest and 3 the highest severity<br>\n",
    "`Name`The name of the patient<br>\n",
    "`Birthday_year`The year of birthday of the patient<br>\n",
    "`Parents_Siblings_Infected` The number of parents and/or siblings infected<br>\n",
    "`Partner_Children_Infected`The number of partner and/or children infected<br>\n",
    "`Medical_Expenses_Family`The medical expenses associated to try to contain the epidemy on the family<br>\n",
    "`Medical_Tent` The medical tent where the patient is / was lodged<br>\n",
    "`City` The original city of the patient<br>\n",
    "`Deceased` Flag if the patient deceased or not with the virus (0 = No, 1 = Yes)<br>"
   ]
  },
  {
   "cell_type": "code",
   "execution_count": 2,
   "metadata": {},
   "outputs": [],
   "source": [
    "import pandas as pd\n",
    "import numpy as np\n",
    "\n",
    "import warnings\n",
    "warnings.filterwarnings(\"ignore\")"
   ]
  },
  {
   "cell_type": "markdown",
   "metadata": {},
   "source": [
    "### 1. First Look at the data \n",
    "\n",
    "!!! WRITE HERE THE FIRST ANALYSES !!! "
   ]
  },
  {
   "cell_type": "code",
   "execution_count": 3,
   "metadata": {},
   "outputs": [
    {
     "data": {
      "text/html": [
       "<div>\n",
       "<style scoped>\n",
       "    .dataframe tbody tr th:only-of-type {\n",
       "        vertical-align: middle;\n",
       "    }\n",
       "\n",
       "    .dataframe tbody tr th {\n",
       "        vertical-align: top;\n",
       "    }\n",
       "\n",
       "    .dataframe thead th {\n",
       "        text-align: right;\n",
       "    }\n",
       "</style>\n",
       "<table border=\"1\" class=\"dataframe\">\n",
       "  <thead>\n",
       "    <tr style=\"text-align: right;\">\n",
       "      <th></th>\n",
       "      <th>Patient_ID</th>\n",
       "      <th>Family_Case_ID</th>\n",
       "      <th>Severity</th>\n",
       "      <th>Name</th>\n",
       "      <th>Birthday_year</th>\n",
       "      <th>Parents or siblings infected</th>\n",
       "      <th>Wife/Husband or children infected</th>\n",
       "      <th>Medical_Expenses_Family</th>\n",
       "      <th>Medical_Tent</th>\n",
       "      <th>City</th>\n",
       "      <th>Deceased</th>\n",
       "    </tr>\n",
       "  </thead>\n",
       "  <tbody>\n",
       "    <tr>\n",
       "      <th>0</th>\n",
       "      <td>1</td>\n",
       "      <td>4696</td>\n",
       "      <td>3</td>\n",
       "      <td>Miss Linda Betty</td>\n",
       "      <td>NaN</td>\n",
       "      <td>0</td>\n",
       "      <td>0</td>\n",
       "      <td>225</td>\n",
       "      <td>NaN</td>\n",
       "      <td>Santa Fe</td>\n",
       "      <td>1</td>\n",
       "    </tr>\n",
       "    <tr>\n",
       "      <th>1</th>\n",
       "      <td>2</td>\n",
       "      <td>21436</td>\n",
       "      <td>1</td>\n",
       "      <td>Ms. Ramona Elvira</td>\n",
       "      <td>1966.0</td>\n",
       "      <td>0</td>\n",
       "      <td>1</td>\n",
       "      <td>1663</td>\n",
       "      <td>NaN</td>\n",
       "      <td>Albuquerque</td>\n",
       "      <td>0</td>\n",
       "    </tr>\n",
       "    <tr>\n",
       "      <th>2</th>\n",
       "      <td>3</td>\n",
       "      <td>7273</td>\n",
       "      <td>3</td>\n",
       "      <td>Mr. Mario Vernon</td>\n",
       "      <td>1982.0</td>\n",
       "      <td>0</td>\n",
       "      <td>0</td>\n",
       "      <td>221</td>\n",
       "      <td>NaN</td>\n",
       "      <td>Santa Fe</td>\n",
       "      <td>1</td>\n",
       "    </tr>\n",
       "    <tr>\n",
       "      <th>3</th>\n",
       "      <td>4</td>\n",
       "      <td>8226</td>\n",
       "      <td>3</td>\n",
       "      <td>Mr. Hector Joe</td>\n",
       "      <td>1997.0</td>\n",
       "      <td>0</td>\n",
       "      <td>0</td>\n",
       "      <td>220</td>\n",
       "      <td>NaN</td>\n",
       "      <td>Santa Fe</td>\n",
       "      <td>1</td>\n",
       "    </tr>\n",
       "    <tr>\n",
       "      <th>4</th>\n",
       "      <td>5</td>\n",
       "      <td>19689</td>\n",
       "      <td>3</td>\n",
       "      <td>Ms. Jennie Debra</td>\n",
       "      <td>1994.0</td>\n",
       "      <td>0</td>\n",
       "      <td>0</td>\n",
       "      <td>222</td>\n",
       "      <td>NaN</td>\n",
       "      <td>Santa Fe</td>\n",
       "      <td>0</td>\n",
       "    </tr>\n",
       "  </tbody>\n",
       "</table>\n",
       "</div>"
      ],
      "text/plain": [
       "   Patient_ID  Family_Case_ID  Severity               Name  Birthday_year  \\\n",
       "0           1            4696         3   Miss Linda Betty            NaN   \n",
       "1           2           21436         1  Ms. Ramona Elvira         1966.0   \n",
       "2           3            7273         3   Mr. Mario Vernon         1982.0   \n",
       "3           4            8226         3     Mr. Hector Joe         1997.0   \n",
       "4           5           19689         3   Ms. Jennie Debra         1994.0   \n",
       "\n",
       "   Parents or siblings infected  Wife/Husband or children infected  \\\n",
       "0                             0                                  0   \n",
       "1                             0                                  1   \n",
       "2                             0                                  0   \n",
       "3                             0                                  0   \n",
       "4                             0                                  0   \n",
       "\n",
       "   Medical_Expenses_Family Medical_Tent         City  Deceased  \n",
       "0                      225          NaN     Santa Fe         1  \n",
       "1                     1663          NaN  Albuquerque         0  \n",
       "2                      221          NaN     Santa Fe         1  \n",
       "3                      220          NaN     Santa Fe         1  \n",
       "4                      222          NaN     Santa Fe         0  "
      ]
     },
     "execution_count": 3,
     "metadata": {},
     "output_type": "execute_result"
    }
   ],
   "source": [
    "#Importing the data\n",
    "df = pd.read_csv('train.csv')\n",
    "df.head()"
   ]
  },
  {
   "cell_type": "code",
   "execution_count": 4,
   "metadata": {},
   "outputs": [
    {
     "data": {
      "text/plain": [
       "(900, 11)"
      ]
     },
     "execution_count": 4,
     "metadata": {},
     "output_type": "execute_result"
    }
   ],
   "source": [
    "df.shape"
   ]
  },
  {
   "cell_type": "code",
   "execution_count": 5,
   "metadata": {},
   "outputs": [
    {
     "data": {
      "text/html": [
       "<div>\n",
       "<style scoped>\n",
       "    .dataframe tbody tr th:only-of-type {\n",
       "        vertical-align: middle;\n",
       "    }\n",
       "\n",
       "    .dataframe tbody tr th {\n",
       "        vertical-align: top;\n",
       "    }\n",
       "\n",
       "    .dataframe thead th {\n",
       "        text-align: right;\n",
       "    }\n",
       "</style>\n",
       "<table border=\"1\" class=\"dataframe\">\n",
       "  <thead>\n",
       "    <tr style=\"text-align: right;\">\n",
       "      <th></th>\n",
       "      <th>Patient_ID</th>\n",
       "      <th>Family_Case_ID</th>\n",
       "      <th>Severity</th>\n",
       "      <th>Birthday_year</th>\n",
       "      <th>Parents or siblings infected</th>\n",
       "      <th>Wife/Husband or children infected</th>\n",
       "      <th>Medical_Expenses_Family</th>\n",
       "      <th>Deceased</th>\n",
       "    </tr>\n",
       "  </thead>\n",
       "  <tbody>\n",
       "    <tr>\n",
       "      <th>count</th>\n",
       "      <td>900.000000</td>\n",
       "      <td>900.000000</td>\n",
       "      <td>900.000000</td>\n",
       "      <td>723.000000</td>\n",
       "      <td>900.000000</td>\n",
       "      <td>900.000000</td>\n",
       "      <td>900.000000</td>\n",
       "      <td>900.000000</td>\n",
       "    </tr>\n",
       "    <tr>\n",
       "      <th>mean</th>\n",
       "      <td>450.500000</td>\n",
       "      <td>14305.827778</td>\n",
       "      <td>2.313333</td>\n",
       "      <td>1990.266943</td>\n",
       "      <td>0.380000</td>\n",
       "      <td>0.521111</td>\n",
       "      <td>895.743333</td>\n",
       "      <td>0.614444</td>\n",
       "    </tr>\n",
       "    <tr>\n",
       "      <th>std</th>\n",
       "      <td>259.951919</td>\n",
       "      <td>25418.153900</td>\n",
       "      <td>0.834223</td>\n",
       "      <td>14.523335</td>\n",
       "      <td>0.803247</td>\n",
       "      <td>1.098385</td>\n",
       "      <td>1385.829926</td>\n",
       "      <td>0.486997</td>\n",
       "    </tr>\n",
       "    <tr>\n",
       "      <th>min</th>\n",
       "      <td>1.000000</td>\n",
       "      <td>345.000000</td>\n",
       "      <td>1.000000</td>\n",
       "      <td>1940.000000</td>\n",
       "      <td>0.000000</td>\n",
       "      <td>0.000000</td>\n",
       "      <td>0.000000</td>\n",
       "      <td>0.000000</td>\n",
       "    </tr>\n",
       "    <tr>\n",
       "      <th>25%</th>\n",
       "      <td>225.750000</td>\n",
       "      <td>8203.000000</td>\n",
       "      <td>2.000000</td>\n",
       "      <td>1982.000000</td>\n",
       "      <td>0.000000</td>\n",
       "      <td>0.000000</td>\n",
       "      <td>221.000000</td>\n",
       "      <td>0.000000</td>\n",
       "    </tr>\n",
       "    <tr>\n",
       "      <th>50%</th>\n",
       "      <td>450.500000</td>\n",
       "      <td>13593.500000</td>\n",
       "      <td>3.000000</td>\n",
       "      <td>1992.000000</td>\n",
       "      <td>0.000000</td>\n",
       "      <td>0.000000</td>\n",
       "      <td>405.000000</td>\n",
       "      <td>1.000000</td>\n",
       "    </tr>\n",
       "    <tr>\n",
       "      <th>75%</th>\n",
       "      <td>675.250000</td>\n",
       "      <td>18906.500000</td>\n",
       "      <td>3.000000</td>\n",
       "      <td>1999.500000</td>\n",
       "      <td>0.000000</td>\n",
       "      <td>1.000000</td>\n",
       "      <td>861.250000</td>\n",
       "      <td>1.000000</td>\n",
       "    </tr>\n",
       "    <tr>\n",
       "      <th>max</th>\n",
       "      <td>900.000000</td>\n",
       "      <td>742836.000000</td>\n",
       "      <td>3.000000</td>\n",
       "      <td>2019.000000</td>\n",
       "      <td>6.000000</td>\n",
       "      <td>8.000000</td>\n",
       "      <td>14345.000000</td>\n",
       "      <td>1.000000</td>\n",
       "    </tr>\n",
       "  </tbody>\n",
       "</table>\n",
       "</div>"
      ],
      "text/plain": [
       "       Patient_ID  Family_Case_ID    Severity  Birthday_year  \\\n",
       "count  900.000000      900.000000  900.000000     723.000000   \n",
       "mean   450.500000    14305.827778    2.313333    1990.266943   \n",
       "std    259.951919    25418.153900    0.834223      14.523335   \n",
       "min      1.000000      345.000000    1.000000    1940.000000   \n",
       "25%    225.750000     8203.000000    2.000000    1982.000000   \n",
       "50%    450.500000    13593.500000    3.000000    1992.000000   \n",
       "75%    675.250000    18906.500000    3.000000    1999.500000   \n",
       "max    900.000000   742836.000000    3.000000    2019.000000   \n",
       "\n",
       "       Parents or siblings infected  Wife/Husband or children infected  \\\n",
       "count                    900.000000                         900.000000   \n",
       "mean                       0.380000                           0.521111   \n",
       "std                        0.803247                           1.098385   \n",
       "min                        0.000000                           0.000000   \n",
       "25%                        0.000000                           0.000000   \n",
       "50%                        0.000000                           0.000000   \n",
       "75%                        0.000000                           1.000000   \n",
       "max                        6.000000                           8.000000   \n",
       "\n",
       "       Medical_Expenses_Family    Deceased  \n",
       "count               900.000000  900.000000  \n",
       "mean                895.743333    0.614444  \n",
       "std                1385.829926    0.486997  \n",
       "min                   0.000000    0.000000  \n",
       "25%                 221.000000    0.000000  \n",
       "50%                 405.000000    1.000000  \n",
       "75%                 861.250000    1.000000  \n",
       "max               14345.000000    1.000000  "
      ]
     },
     "execution_count": 5,
     "metadata": {},
     "output_type": "execute_result"
    }
   ],
   "source": [
    "df.describe()"
   ]
  },
  {
   "cell_type": "code",
   "execution_count": 6,
   "metadata": {},
   "outputs": [
    {
     "name": "stdout",
     "output_type": "stream",
     "text": [
      "Unique values for column Patient_ID are:  [  1   2   3   4   5   6   7   8   9  10  11  12  13  14  15  16  17  18\n",
      "  19  20  21  22  23  24  25  26  27  28  29  30  31  32  33  34  35  36\n",
      "  37  38  39  40  41  42  43  44  45  46  47  48  49  50  51  52  53  54\n",
      "  55  56  57  58  59  60  61  62  63  64  65  66  67  68  69  70  71  72\n",
      "  73  74  75  76  77  78  79  80  81  82  83  84  85  86  87  88  89  90\n",
      "  91  92  93  94  95  96  97  98  99 100 101 102 103 104 105 106 107 108\n",
      " 109 110 111 112 113 114 115 116 117 118 119 120 121 122 123 124 125 126\n",
      " 127 128 129 130 131 132 133 134 135 136 137 138 139 140 141 142 143 144\n",
      " 145 146 147 148 149 150 151 152 153 154 155 156 157 158 159 160 161 162\n",
      " 163 164 165 166 167 168 169 170 171 172 173 174 175 176 177 178 179 180\n",
      " 181 182 183 184 185 186 187 188 189 190 191 192 193 194 195 196 197 198\n",
      " 199 200 201 202 203 204 205 206 207 208 209 210 211 212 213 214 215 216\n",
      " 217 218 219 220 221 222 223 224 225 226 227 228 229 230 231 232 233 234\n",
      " 235 236 237 238 239 240 241 242 243 244 245 246 247 248 249 250 251 252\n",
      " 253 254 255 256 257 258 259 260 261 262 263 264 265 266 267 268 269 270\n",
      " 271 272 273 274 275 276 277 278 279 280 281 282 283 284 285 286 287 288\n",
      " 289 290 291 292 293 294 295 296 297 298 299 300 301 302 303 304 305 306\n",
      " 307 308 309 310 311 312 313 314 315 316 317 318 319 320 321 322 323 324\n",
      " 325 326 327 328 329 330 331 332 333 334 335 336 337 338 339 340 341 342\n",
      " 343 344 345 346 347 348 349 350 351 352 353 354 355 356 357 358 359 360\n",
      " 361 362 363 364 365 366 367 368 369 370 371 372 373 374 375 376 377 378\n",
      " 379 380 381 382 383 384 385 386 387 388 389 390 391 392 393 394 395 396\n",
      " 397 398 399 400 401 402 403 404 405 406 407 408 409 410 411 412 413 414\n",
      " 415 416 417 418 419 420 421 422 423 424 425 426 427 428 429 430 431 432\n",
      " 433 434 435 436 437 438 439 440 441 442 443 444 445 446 447 448 449 450\n",
      " 451 452 453 454 455 456 457 458 459 460 461 462 463 464 465 466 467 468\n",
      " 469 470 471 472 473 474 475 476 477 478 479 480 481 482 483 484 485 486\n",
      " 487 488 489 490 491 492 493 494 495 496 497 498 499 500 501 502 503 504\n",
      " 505 506 507 508 509 510 511 512 513 514 515 516 517 518 519 520 521 522\n",
      " 523 524 525 526 527 528 529 530 531 532 533 534 535 536 537 538 539 540\n",
      " 541 542 543 544 545 546 547 548 549 550 551 552 553 554 555 556 557 558\n",
      " 559 560 561 562 563 564 565 566 567 568 569 570 571 572 573 574 575 576\n",
      " 577 578 579 580 581 582 583 584 585 586 587 588 589 590 591 592 593 594\n",
      " 595 596 597 598 599 600 601 602 603 604 605 606 607 608 609 610 611 612\n",
      " 613 614 615 616 617 618 619 620 621 622 623 624 625 626 627 628 629 630\n",
      " 631 632 633 634 635 636 637 638 639 640 641 642 643 644 645 646 647 648\n",
      " 649 650 651 652 653 654 655 656 657 658 659 660 661 662 663 664 665 666\n",
      " 667 668 669 670 671 672 673 674 675 676 677 678 679 680 681 682 683 684\n",
      " 685 686 687 688 689 690 691 692 693 694 695 696 697 698 699 700 701 702\n",
      " 703 704 705 706 707 708 709 710 711 712 713 714 715 716 717 718 719 720\n",
      " 721 722 723 724 725 726 727 728 729 730 731 732 733 734 735 736 737 738\n",
      " 739 740 741 742 743 744 745 746 747 748 749 750 751 752 753 754 755 756\n",
      " 757 758 759 760 761 762 763 764 765 766 767 768 769 770 771 772 773 774\n",
      " 775 776 777 778 779 780 781 782 783 784 785 786 787 788 789 790 791 792\n",
      " 793 794 795 796 797 798 799 800 801 802 803 804 805 806 807 808 809 810\n",
      " 811 812 813 814 815 816 817 818 819 820 821 822 823 824 825 826 827 828\n",
      " 829 830 831 832 833 834 835 836 837 838 839 840 841 842 843 844 845 846\n",
      " 847 848 849 850 851 852 853 854 855 856 857 858 859 860 861 862 863 864\n",
      " 865 866 867 868 869 870 871 872 873 874 875 876 877 878 879 880 881 882\n",
      " 883 884 885 886 887 888 889 890 891 892 893 894 895 896 897 898 899 900]\n",
      "Unique values for column Family_Case_ID are:  [  4696  21436   7273   8226  19689  17598   7563   9520   6314  14392\n",
      "   2741   8434   5384  10262   6507  19174   8608   2414  14179  19944\n",
      "  24454   6152  14428  19898  18358   4108   4274  22832  16969   6981\n",
      "  16959   1987  19631   3648  10244  14502  16470  18084  15460  14413\n",
      "  21268  21705  10081  11480  20943   1773  24102  23155   3856   6007\n",
      "  13563  14355   7438   9920  21669   6649  11553  12497   2581  14914\n",
      "   1825  11260  12529  18523   3437   4680  24520   3406  20089  15585\n",
      "  21207   6817  14538  12147   5858   9975  16208  24166   2309   8467\n",
      "   8332  19004  19907   7039   3929  19708  23701  22933   9864  16571\n",
      "   6828   3535   3705   8776   5583  21522  20586  18270   8483  21979\n",
      "   5915   6113   9838  20825  19521  21604   5870  17395  10932  12670\n",
      "   9795  12172  15681  21429  24260  19265  11364  16806  19102  16262\n",
      "   6739  15406  14155  15443  18593  12364  17590  16451   4984   3196\n",
      "   6962  10355  19186  20026  17504  16031   5964  10617  15070  21658\n",
      "  14997  21697  15977  14357   2641  23302  13091  13082   1817  17476\n",
      "  12252  12513   7668  20093   8734  22397   1980  18562  13721  17095\n",
      "  14876   2799  18636   2602   1794  10772  18213  14995  14748   6861\n",
      "   9785  20826  16723  23210  14306  16686  18812  20651  17569  17084\n",
      "   4580   5282   9766   4459  10941   9819  17304   9522  20121   7744\n",
      "   8207  11396   9707  10472  20617   7385  14335   2197  19540   6514\n",
      "  20762  18602   3989  21458  15393  12159  11593   5206   4293  14739\n",
      "  20217  17713   5294  14314  20428   6683   2837  22263   5216   2531\n",
      "  22451  19461  18339  21648  12601  21662  17701  20274   1816  14904\n",
      "   3398   8327  22128  12344   3095  13264   5625   8570  19553   9423\n",
      "  19032  12666  21883   6498  17406   6027  17115  13861  17962  24112\n",
      "  10483  21038   4878  22720  21375  20276  21694  17360  12774  24057\n",
      "  12100   9033  22036  20850  16653  13594  11190   1935  16385  12151\n",
      "  20734  20275  16295  12484   9938  17207   7300  15512  23804  19288\n",
      "  13622  17298  14570  21439   2098   6646  13357  21036  20036   6253\n",
      "  19620   7287  16621   8912  11807  14919   3165  14414   5433  13324\n",
      "  14767   4404  20821  13139  15144  23426   5886   7591   5162  10289\n",
      "   6659  11251  14681  24175  10199   3037  19544  13504  10726   4476\n",
      "  10149  12430  23191  15101   5937  18917  21356   8047  13738   5346\n",
      "   5256   5990   9692  20660  10839   8191  21115  18922  10478  16483\n",
      "   8954  16078  14214  16235  21293  15231  16771  11650  12972   9730\n",
      "  13465  10596  10764   9217  16418  21188  18223  19688  21590  15734\n",
      "  11327  23922   9464  19218   7873  16194  10221   9404  13710  16799\n",
      "   5146  11409  16117  11404  19267   8361  11664  18366  14287  18525\n",
      "   6349  21210   3962  10400   7834  10511  18318  11250  14668  10505\n",
      "  22274  11309   8102  16312  19812   7019  15131  17793  10670  22334\n",
      "  20395   3060  22995  17234  12327   2845  23993   6752  23820  20642\n",
      "   5607  18897   5842  15883   8760  17618  14450  22046   8624  11867\n",
      "  12679  21927   6599  17086  13487   8377  22055  18353  14296  15016\n",
      "  18903  22283  14021  16773   7685   3409  17730  18918  20462   4748\n",
      "  24471   5266   3804   5482  10458   5999  22330   9335   5802  15551\n",
      "   2650   8418  11467  17772  23397  21740  23028  18535   5536  12413\n",
      "  14720  21621  19075  17916  10746   9572  18158   4326  13434   6342\n",
      "  15372  24383  13360   6343   5674  17931  19793  22134   1911  15368\n",
      "   2398  16685  23980  24032   8530  13174   3769   7278  18039   2396\n",
      "   2649  18181   8179  17588  21975  15677   3939  14875  15453   2010\n",
      "  20424  10841  22533  20857  11508  18496   2331   9239  13911   3434\n",
      "  21221   5636  22937  19318   3257  12112   3960   5123  21984  17415\n",
      "  16253   5023  18808  11935   6711   2201   9595  20978  18057   6873\n",
      "   9511  18873  15237  14000  10795  17721  19825  17819  12855  12622\n",
      "  22843  10094  23424   8791   9235  23183   7745   5515  22524  11909\n",
      "  15441  10811   4948  20469  11092   5157   6015   2824  19367   5227\n",
      "  22103   8183  11176  16007  10632  24182   6506  15929   9161  21129\n",
      "  22561   2892  21310   6480  24294   6793  10988   1843  11384  11879\n",
      "  14577   8129  18726  17110   6373  19725  19654  10273   2254   9806\n",
      "  13481  19405   5440   5525   6778  12998  11052  19893  19511   9060\n",
      "  17755  13451   7399  10824  15292  13593  12635   8180   2021   8472\n",
      "   2449  14228  13528  17118  23218  14304   1961  21504  20854  23731\n",
      "  21959   9166   9745  15827   6149  18616   4746  22622  11306   9282\n",
      "  20039  21492   5434   3109   2828  17349  21182   7484  17152   3413\n",
      "  14225  24238   6138   9539   3584  22936  21499  13946   8411  21327\n",
      "  13477  22953  24058   9415   3539   4275  11524   1967  16316  21043\n",
      "  18227   4392  23178  24243   2255   3756  13582   1907 742836 125421\n",
      "    345   9846   6483    981   3782]\n",
      "Unique values for column Severity are:  [3 1 2]\n",
      "Unique values for column Name are:  ['Miss Linda Betty' 'Ms. Ramona Elvira' 'Mr. Mario Vernon'\n",
      " 'Mr. Hector Joe' 'Ms. Jennie Debra' 'Master Terrell Bob'\n",
      " 'Mr. Kristopher Francis' 'Mr. Lorenzo Bennie' 'Mr. Rickey Dennis'\n",
      " 'Miss Elena Cathy' 'Master Marlon Percy' 'Mr. Casey Jeffrey'\n",
      " 'Mr. Cornelius William' 'Master Danny Harvey' 'Miss Pearl Elsie'\n",
      " 'Master Alfredo Marty' 'Mr. Laurence Salvador' 'Mr. Archie Albert'\n",
      " 'Miss Sabrina Rose' 'Ms. Lola Bethany' 'Miss Sara Lynne'\n",
      " 'Miss Essie Katie' 'Mr. Myron Shaun' 'Miss Shirley Dawn'\n",
      " 'Ms. Virginia Hattie' 'Mr. Taylor Lorenzo' 'Master Elias Wilson'\n",
      " 'Master Jeremiah Billy' 'Master Caleb Ben' 'Mr. Troy Neal'\n",
      " 'Miss Kristen Joy' 'Ms. Maxine Stacey' 'Master Matthew Guillermo'\n",
      " 'Mr. Doyle Carroll' 'Master Luke Erick' 'Ms. Lynne Darla'\n",
      " 'Master Elijah Devin' 'Mr. Jerry Harvey' 'Mr. Gerard Austin'\n",
      " 'Master Douglas Bernard' 'Miss Kim Elizabeth' 'Ms. Wilma Molly'\n",
      " 'Mr. Bobby Van' 'Mr. Alton Spencer' 'Ms. Sonja Christy' 'Mr. Joey Craig'\n",
      " 'Master Marion Bradley' 'Mr. Wilfred Joseph' 'Master Jay Evan'\n",
      " 'Ms. Elizabeth Teri' 'Miss Betsy Christie' 'Ms. Jaime Gwen'\n",
      " 'Ms. Inez Ellen' 'Master Ernesto Alfredo' 'Master Matt Virgil'\n",
      " 'Ms. Kari Sonja' 'Master Stuart Wm' 'Mr. Noah Luther' 'Mr. Jay Irvin'\n",
      " 'Mr. Charles Drew' 'Mr. Johnnie Terry' 'Master Larry Jan'\n",
      " 'Mr. Ramiro Amos' 'Mr. Kevin Gerald' 'Master Gregory Ramiro'\n",
      " 'Master Roderick Allan' 'Master Rogelio Ralph' 'Mr. Gregg Albert'\n",
      " 'Mr. Simon Mario' 'Miss Sheila Janet' 'Mr. Leonard Cameron'\n",
      " 'Master Antonio Sammy' 'Ms. Krista Tricia' 'Ms. Miranda Patty'\n",
      " 'Mr. Dale Grady' 'Mr. Hubert Joe' 'Mr. Lance Merle'\n",
      " 'Master Ramiro Johnny' 'Miss Maria Brenda' 'Mr. Philip Mathew'\n",
      " 'Ms. Stacy Delores' 'Miss Gwen Eileen' 'Mr. Adrian Felipe'\n",
      " 'Ms. Tiffany Denise' 'Mr. Terrell Marc' 'Mr. Aubrey Barry'\n",
      " 'Miss Peggy Gwendolyn' 'Ms. Nicole Heidi' 'Miss Lela Angel'\n",
      " 'Master Noel Ross' 'Mr. Rufus Walter' 'Ms. Grace Sandy'\n",
      " 'Mr. Moses Gilberto' 'Mr. Mike Eddie' 'Mr. Carlos Bill'\n",
      " 'Miss Marlene Jaime' 'Master David Jack' 'Mr. Otis Bert' 'Ms. Irma Sheri'\n",
      " 'Master Ignacio Roosevelt' 'Mr. Raymond Dominic' 'Master Ivan Doyle'\n",
      " 'Miss Lora Rosemary' 'Master Jerome Ray' 'Mr. Daryl Wilbur'\n",
      " 'Ms. Tara Alison' 'Miss Yvonne Nicole' 'Master Harvey Ignacio'\n",
      " 'Master Thomas Alejandro' 'Master Martin Douglas'\n",
      " 'Master Cameron Brandon' 'Miss Amber Nichole' 'Master Lyle Lance'\n",
      " 'Ms. Monica Candice' 'Mr. Spencer Rufus' 'Mr. Ronald Bernard'\n",
      " 'Ms. Andrea Katherine' 'Mr. Ellis Bennie' 'Master Wilfred Bert'\n",
      " 'Ms. Luz Elsa' 'Mr. Raymond Salvador' 'Ms. Nellie Mabel'\n",
      " 'Miss Ella Beulah' 'Mr. Perry Rodolfo' 'Mr. Darin Lowell'\n",
      " 'Mr. Clinton Alfonso' 'Mr. Ron Darnell' 'Mr. Glen Emanuel'\n",
      " 'Master Martin Pat' 'Miss Kendra Freda' 'Master Sammy Christopher'\n",
      " 'Mr. Roger Clyde' 'Ms. Hope Alexis' 'Ms. Lorene Courtney'\n",
      " 'Master Johnathan Eddie' 'Master Israel Oliver' 'Miss Cecilia Kathy'\n",
      " 'Ms. Nancy Myra' 'Ms. Nancy Katie' 'Ms. Alice Francis' 'Ms. Lee Lydia'\n",
      " 'Ms. Roxanne Faye' 'Mr. Luis Oliver' 'Mr. Leo Gary' 'Mr. Ruben Ismael'\n",
      " 'Mr. Clayton Spencer' 'Master Ian Darnell' 'Mr. Kerry Victor'\n",
      " 'Master Ronald Gerard' 'Mr. Dave Marvin' 'Mr. Alonzo Andrew'\n",
      " 'Master Anthony Dexter' 'Mr. Karl Bob' 'Mr. Miguel George'\n",
      " 'Mr. Garrett Malcolm' 'Mr. Kevin Shane' 'Mr. Todd Timmy' 'Mr. Joseph Ron'\n",
      " 'Miss Nora Francis' 'Mr. Darrel Eduardo' 'Mr. Erick Raul' 'Ms. Sara Judy'\n",
      " 'Ms. Ella Whitney' 'Ms. Eloise Mindy' 'Master Maurice Randy'\n",
      " 'Ms. Susan Lorene' 'Mr. Angelo Luis' 'Master Daniel Nathaniel'\n",
      " 'Miss Amy Courtney' 'Mr. Roberto Gabriel' 'Mr. Carlos Austin'\n",
      " 'Ms. Kathleen Christina' 'Master Richard Brendan' 'Mr. Ruben Duane'\n",
      " 'Mr. Lynn Roy' 'Ms. Marsha Brittany' 'Mr. Benny Jerry'\n",
      " 'Miss Gwendolyn Estelle' 'Mr. Oliver Courtney' 'Mr. Vincent Bill'\n",
      " 'Mr. Stuart Adrian' 'Mr. Clay Danny' 'Miss Roberta Donna'\n",
      " 'Ms. Nichole Nettie' 'Master Orlando Jean' 'Mr. Nick Rafael'\n",
      " 'Miss Kate Anna' 'Mr. Cornelius Raymond' 'Miss Thelma Ora'\n",
      " 'Mr. Oliver Grant' 'Mr. Nelson Roman' 'Mr. Delbert Paul'\n",
      " 'Mr. Lloyd Ellis' 'Mr. Garrett Tom' 'Mr. Leroy Ricky'\n",
      " 'Miss Lynn Adrienne' 'Ms. Elsie Debra' 'Ms. Doris Thelma'\n",
      " 'Ms. Amber Mamie' 'Master Bob Terence' 'Mr. John Duane'\n",
      " 'Master Spencer Mitchell' 'Mr. Wilbert Gordon' 'Mr. Gregg Johnny'\n",
      " 'Ms. Claire Valerie' 'Master Brett Roland' 'Ms. Brandy Alyssa'\n",
      " 'Mr. Ben Wade' 'Master Tyler Alonzo' 'Miss Cynthia Vanessa'\n",
      " 'Mr. Paul Mike' 'Ms. Kayla Sophia' 'Master Samuel Julius'\n",
      " 'Ms. Lauren Jeanette' 'Mr. Raul Calvin' 'Mr. Van Doug'\n",
      " 'Ms. Harriet Priscilla' 'Mr. Nelson Rodney' 'Ms. Gina Karen'\n",
      " 'Mr. Jacob Herbert' 'Ms. Hazel Allison' 'Ms. Nina Cora'\n",
      " 'Ms. Lillian Rhonda' 'Miss Holly Daisy' 'Ms. Kara Rosie'\n",
      " 'Ms. Connie Kristina' 'Mr. Gilbert Alonzo' 'Miss Claudia Nina'\n",
      " 'Mr. Claude Neil' 'Miss Hazel Esther' 'Ms. Mary Hope'\n",
      " 'Master Alfred Arnold' 'Mr. Domingo Sam' 'Mr. Terry Jason'\n",
      " 'Mr. Timothy Duane' 'Mr. Jean Lynn' 'Ms. Annie Gretchen'\n",
      " 'Ms. Jeanne Violet' 'Master Conrad Anthony' 'Miss Johnnie Catherine'\n",
      " 'Miss Rhonda Priscilla' 'Mr. Terrance Hugh' 'Mr. Felipe Cesar'\n",
      " 'Mr. Nathaniel Jessie' 'Mr. Terrence Taylor' 'Miss Sandy Jenna'\n",
      " 'Mr. Jesse Clay' 'Master Kelvin Virgil' 'Mr. Ramon Eric'\n",
      " 'Master Doyle Rodolfo' 'Mr. Austin Alfredo' 'Ms. Muriel Grace'\n",
      " 'Mr. Stewart Greg' 'Ms. Lorena Cecilia' 'Ms. Rosa Angie'\n",
      " 'Miss Katrina Regina' 'Ms. Bobbie Maryann' 'Mr. Don Andre'\n",
      " 'Mr. Merle Alberto' 'Miss Annie Hannah' 'Ms. Amber Gayle'\n",
      " 'Ms. Robin Ramona' 'Ms. Evelyn Annie' 'Mr. Jay Herbert' 'Mr. Amos Glenn'\n",
      " 'Master Perry Earl' 'Master Van Wesley' 'Master Ivan Cecil'\n",
      " 'Mr. Charles Freddie' 'Miss Joanna Ollie' 'Miss Margie Florence'\n",
      " 'Master Nicolas Benny' 'Master Moses Brent' 'Mr. Alfredo Doyle'\n",
      " 'Mr. Franklin Clifton' 'Mr. Lonnie Don' 'Master Herman Jared'\n",
      " 'Miss Guadalupe Luz' 'Ms. Jacquelyn Esther' 'Mr. Clarence Grant'\n",
      " 'Mr. Armando Harry' 'Master Dale Ervin' 'Mr. Alfonso Julian'\n",
      " 'Miss Wendy Krista' 'Master Eduardo Adrian' 'Mr. Jimmy Cecil'\n",
      " 'Master Leon Jesse' 'Mr. Brian Lynn' 'Master Curtis Joe'\n",
      " 'Master Roger Geoffrey' 'Mr. Matthew Tyler' 'Mr. Ignacio Evan'\n",
      " 'Master Raymond Grant' 'Mr. Elijah Bryan' 'Master Seth Fredrick'\n",
      " 'Miss Cecelia Danielle' 'Master Roman Sylvester' 'Mr. Clyde Homer'\n",
      " 'Master Eric Isaac' 'Mr. Rolando Thomas' 'Mr. Norman Wayne'\n",
      " 'Ms. Dora Miranda' 'Mr. Michael Louis' 'Mr. Owen Edgar'\n",
      " 'Master Cary Jerome' 'Ms. Janice Dorothy' 'Mr. Brian Marty'\n",
      " 'Miss Cathy Alberta' 'Ms. Jackie Marsha' 'Miss Erika Karla'\n",
      " 'Miss Billie Beverly' 'Mr. Shawn Jack' 'Master Jody Michael'\n",
      " 'Mr. Moses Otis' 'Miss Leticia Teresa' 'Mr. Doug Randall'\n",
      " 'Master Wilson Sheldon' 'Mr. Rodney Myron' 'Mr. Rufus Earnest'\n",
      " 'Master Fred Armando' 'Mr. Grady Dave' 'Mr. Matthew Dave' 'Ms. Patti Amy'\n",
      " 'Mr. Doug Neil' 'Ms. Sylvia Maryann' 'Mr. Tim Elbert'\n",
      " 'Mr. Lorenzo Felipe' 'Ms. Sophie Sophia' 'Master Earnest Dana'\n",
      " 'Ms. Mary Tiffany' 'Mr. Laurence Andre' 'Mr. Tim Robin'\n",
      " 'Mr. Vincent Richard' 'Mr. Marty Ivan' 'Ms. Karla Lucy'\n",
      " 'Ms. Tamara Jacqueline' 'Miss Jill Jeanette' 'Mr. Santos Charlie'\n",
      " 'Miss Mercedes Leona' 'Master Stanley Laurence' 'Mr. Willie Seth'\n",
      " 'Ms. Paula Tara' 'Mr. Jamie Marcus' 'Miss Ruby Edna' 'Ms. Alyssa Melanie'\n",
      " 'Mr. Elias Theodore' 'Master Howard Ian' 'Miss Tami Sharon'\n",
      " 'Master Terry Joshua' 'Master Terry Gustavo' 'Mr. Kyle Clarence'\n",
      " 'Mr. Ken Howard' 'Master Jackie Jacob' 'Miss Jamie Sonya'\n",
      " 'Ms. Bernice Kathryn' 'Miss Mattie Lora' 'Ms. Marian Ella'\n",
      " 'Mr. Tyler Loren' 'Master Albert Timothy' 'Ms. Doreen Kathleen'\n",
      " 'Mr. Ruben Rodolfo' 'Ms. Julie Sonja' 'Miss Sandra Julia'\n",
      " 'Master Sam Shaun' 'Ms. Hattie Anna' 'Mr. Sam Luis' 'Master Jon Manuel'\n",
      " 'Master Gerardo Marvin' 'Master Terrence Shannon' 'Ms. Shelly Kristi'\n",
      " 'Mr. Alfredo Jeffery' 'Master Eddie Kristopher' 'Miss Rosemary Lydia'\n",
      " 'Mr. Levi Ed' 'Mr. Jermaine Jerry' 'Mr. Kirk Oliver' 'Ms. Vickie Tami'\n",
      " 'Ms. Louise Anita' 'Mr. Tyler Wilbert' 'Miss Josefina Katherine'\n",
      " 'Miss Katherine Deborah' 'Master Darin Jacob' 'Mr. Bobby Michael'\n",
      " 'Mr. Ray Troy' 'Mr. Marion Santos' 'Ms. Shawna Gwendolyn'\n",
      " 'Ms. Ruby Jenny' 'Mr. Gustavo Ruben' 'Ms. Lana Bertha' 'Master Mack Glen'\n",
      " 'Mr. Taylor Bradford' 'Mr. Grady Sylvester' 'Miss Ernestine Lila'\n",
      " 'Mr. Dave Donald' 'Miss Carol Robyn' 'Mr. Matthew Emilio'\n",
      " 'Mr. Karl Jaime' 'Master Willis Arturo' 'Ms. Mae Ana'\n",
      " 'Master Enrique Malcolm' 'Master Wm Tommy' 'Ms. Sheri Jana'\n",
      " 'Master Percy Darrin' 'Miss Hope Stacy' 'Miss Willie Sylvia'\n",
      " 'Mr. Pablo Sidney' 'Master Jerry Hector' 'Master Jorge Simon'\n",
      " 'Mr. Micheal Eugene' 'Mr. Austin Earl' 'Ms. Leslie Teresa'\n",
      " 'Miss Jody Jennifer' 'Master Kyle Curtis' 'Mr. Preston Julius'\n",
      " 'Mr. Ben Robert' 'Master Jeffery Kenny' 'Ms. Peggy Kimberly'\n",
      " 'Mr. Mike Tom' 'Ms. Renee Mae' 'Mr. Warren Cary' 'Ms. Sherri Lillian'\n",
      " 'Mr. Donnie Noah' 'Ms. Eula Blanca' 'Master Elbert Wm'\n",
      " 'Ms. Monique Marian' 'Mr. Bradford Woodrow' 'Master Kent Julian'\n",
      " 'Master Danny Willie' 'Master Phil Moses' 'Ms. Maria Margaret'\n",
      " 'Mr. Ralph Gilberto' 'Ms. Hope Nellie' 'Miss Nichole Bernice'\n",
      " 'Ms. Cynthia Anita' 'Ms. Pearl Lora' 'Mr. Guadalupe Marcos'\n",
      " 'Mr. Jeffery Mitchell' 'Ms. Diane Opal' 'Mr. Carl Angel' 'Ms. Ann Joan'\n",
      " 'Mr. Tracy Horace' 'Mr. Bradford Rick' 'Master Ignacio Garry'\n",
      " 'Master Darryl Nick' 'Mr. Darren Sylvester' 'Mr. Jerry Jason'\n",
      " 'Mr. Antonio Jimmie' 'Master Seth Raul' 'Ms. Juanita Virginia'\n",
      " 'Master Austin William' 'Ms. Lela Carrie' 'Master Cornelius Alberto'\n",
      " 'Ms. Rosemary Marlene' 'Mr. Edmund Stewart' 'Master Ben Ivan'\n",
      " 'Master Bradford Clifford' 'Mr. Barry Luther' 'Ms. Dianne Regina'\n",
      " 'Master Marvin Irving' 'Miss Joanna Velma' 'Mr. Jesus Roger'\n",
      " 'Ms. Lynda Tonya' 'Mr. Rex Barry' 'Ms. Holly Raquel' 'Mr. Abraham Alex'\n",
      " 'Miss Silvia Stacey' 'Mr. Ian Joshua' 'Ms. Shirley Pearl'\n",
      " 'Mr. Clifton Reginald' 'Miss Ida Bobbie' 'Ms. Elisa Amanda'\n",
      " 'Mr. Wilbur Gordon' 'Mr. Nelson Wallace' 'Mr. Ricky Terry'\n",
      " 'Miss Toni Emma' 'Mr. Eddie Clint' 'Master Bradley Ignacio'\n",
      " 'Mr. Daryl Ray' 'Master Johnnie Frederick' 'Mr. Gerard Blake'\n",
      " 'Mr. Darren Dennis' 'Mr. Dominick Al' 'Miss Mona Nora' 'Mr. Lowell Ben'\n",
      " 'Mr. Keith Archie' 'Miss Renee Rosemary' 'Mr. Bradford Kristopher'\n",
      " 'Miss Jennifer Inez' 'Master Jose Rudy' 'Ms. Angelina Antoinette'\n",
      " 'Ms. Stacey Shawna' 'Mr. Edmund Miguel' 'Mr. Kenny Ryan' 'Mr. Cesar Mike'\n",
      " 'Miss Latoya Kristen' 'Master Shane Lynn' 'Mr. Cedric Chris'\n",
      " 'Mr. Eugene Carl' 'Master Aaron Ronald' 'Ms. Marlene Lorraine'\n",
      " 'Master Blake Pete' 'Miss Lucia Terry' 'Mr. Wallace Eugene'\n",
      " 'Mr. Bernard Colin' 'Mr. Jonathon Brendan' 'Master Kurt Tommie'\n",
      " 'Mr. Howard Gregg' 'Mr. Everett Leland' 'Mr. Guadalupe Jesse'\n",
      " 'Ms. Stephanie Myrtle' 'Mr. Louis Derek' 'Miss Danielle Jane'\n",
      " 'Mr. David Hugh' 'Miss Geneva Kathryn' 'Mr. Bernard Troy'\n",
      " 'Master Devin Matt' 'Miss Ann Sandra' 'Mr. Jaime Cory' 'Mr. Alan Marlon'\n",
      " 'Master Hugo Grant' 'Mr. Francis Kent' 'Mr. Dan Sherman'\n",
      " 'Miss Lynda Suzanne' 'Master Joel Corey' 'Ms. Joy Yvonne'\n",
      " 'Mr. Ira Everett' 'Mr. Drew Casey' 'Ms. Inez Tami' 'Ms. Samantha Rita'\n",
      " 'Mr. Bennie Abraham' 'Ms. Tricia Kathryn' 'Mr. Sherman Seth'\n",
      " 'Mr. Derrick Santos' 'Mr. Andre Julian' 'Mr. Melvin Tracy'\n",
      " 'Mr. Randy Terrence' 'Master Marcus Luke' 'Ms. Hilda Viola'\n",
      " 'Ms. Grace Natalie' 'Ms. Erma Kari' 'Ms. Lynda Ora' 'Mr. Jordan Shannon'\n",
      " 'Ms. Jeanette Kari' 'Ms. Brandi Sheila' 'Mr. Jonathan Herman'\n",
      " 'Mr. Lewis Dean' 'Mr. Marty Eddie' 'Master Lorenzo Luke'\n",
      " 'Master Alan Randolph' 'Ms. Jean Leah' 'Ms. Katherine Linda'\n",
      " 'Mr. Craig Cory' 'Ms. Wendy Winifred' 'Mr. Erik Warren' 'Mr. Rick Simon'\n",
      " 'Miss Vicki Brittany' 'Ms. Mae Lydia' 'Ms. Christie Brenda'\n",
      " 'Master John Earnest' 'Mr. Allan Gene' 'Master Roger Sylvester'\n",
      " 'Mr. Perry Rodney' 'Mr. Timmy Armando' 'Master Ralph Mitchell'\n",
      " 'Miss Regina Kimberly' 'Mr. Roderick Mark' 'Ms. Blanche Rosemarie'\n",
      " 'Mr. Christian Leo' 'Mr. Samuel Darnell' 'Ms. Daisy Toni'\n",
      " 'Ms. Shannon Michele' 'Mr. Pedro Johnny' 'Mr. Mike Ernesto'\n",
      " 'Master Amos Gerald' 'Ms. Cynthia Cristina' 'Mr. Roy Jerald'\n",
      " 'Master Wesley Vernon' 'Mr. Levi Ted' 'Master Rufus Doug'\n",
      " 'Mr. Jared Frederick' 'Ms. Melinda Rhonda' 'Mr. Tom Sam'\n",
      " 'Mr. Rafael Darrell' 'Mr. Karl Chad' 'Mr. Brian Joshua' 'Mr. Ignacio Jan'\n",
      " 'Master Lowell Wilbur' 'Ms. Jane Vera' 'Ms. Delores Lillie'\n",
      " 'Master Rodolfo Austin' 'Mr. Van Alfred' 'Miss Eleanor Lillie'\n",
      " 'Ms. Natasha Glenda' 'Mr. Warren Scott' 'Mr. Winston Gabriel'\n",
      " 'Master Brent Jordan' 'Miss Rachel Teri' 'Mr. Henry Salvador'\n",
      " 'Mr. Jared Raymond' 'Master Felipe Harry' 'Mr. Ralph Ivan'\n",
      " 'Master Jeff Bernard' 'Mr. Gilbert Preston' 'Mr. Guillermo Marion'\n",
      " 'Mr. Thomas Darrell' 'Master Byron Arthur' 'Mr. James Pedro'\n",
      " 'Master Doyle Jay' 'Master Harry Howard' 'Mr. Nathan Spencer'\n",
      " 'Mr. Tommie Nicolas' 'Mr. Theodore Dwayne' 'Mr. Francis Stephen'\n",
      " 'Mr. Brian Myron' 'Mr. Cornelius Keith' 'Master Jerome Ernesto'\n",
      " 'Mr. Melvin Leland' 'Mr. Ismael Curtis' 'Mr. Irvin Warren'\n",
      " 'Master Alexander Cameron' 'Ms. Geraldine Toni'\n",
      " 'Master Roosevelt Salvatore' 'Mr. Leon Amos' 'Ms. Eva Lena'\n",
      " 'Ms. Lucille Shelia' 'Miss Alma Maria' 'Ms. Janie Vickie'\n",
      " 'Mr. Marvin Rex' 'Ms. Olga Meredith' 'Mr. Gerald Ronnie'\n",
      " 'Mr. Willard Darrel' 'Mr. Jan Conrad' 'Miss Brandi Arlene' 'Mr. Sam Gene'\n",
      " 'Mr. Irvin Trevor' 'Master Luis Bert' 'Miss Dora Cynthia'\n",
      " 'Mr. Stanley Clifton' 'Ms. Jody Belinda' 'Ms. Tanya Pat'\n",
      " 'Ms. Antoinette Cindy' 'Ms. Kerry Laverne' 'Mr. Melvin Willis'\n",
      " 'Mr. Daryl Jeremy' 'Ms. Judy Faith' 'Ms. Deborah Michelle'\n",
      " 'Ms. Mona Sheri' 'Mr. Kim Jon' 'Ms. Sue Shannon' 'Master Julio Frank'\n",
      " 'Ms. Leticia Kristi' 'Miss Loretta Kelli' 'Master Micheal Enrique'\n",
      " 'Mr. Nicolas Roland' 'Ms. Misty Sonia' 'Mr. Horace Rudolph'\n",
      " 'Master Eddie Woodrow' 'Master Levi Pat' 'Mr. Toby Jared'\n",
      " 'Mr. Robert Alfred' 'Mr. Jamie Karl' 'Mr. Allen Lyle' 'Mr. Louis Clyde'\n",
      " 'Miss Agnes Verna' 'Ms. Gloria Evelyn' 'Ms. Thelma Ellen'\n",
      " 'Master Nelson Daniel' 'Ms. Meredith Lee' 'Ms. Bernice Juana'\n",
      " 'Ms. Myra Peggy' 'Ms. Suzanne Maureen' 'Ms. Wanda Marilyn'\n",
      " 'Mr. Anthony Derrick' 'Ms. Gretchen Tamara' 'Ms. Jana Bridget'\n",
      " 'Miss Kelley Minnie' 'Mr. Steven Jean' 'Mr. Tommy Nathan'\n",
      " 'Master Jason Jeremy' 'Master Tommie Emilio' 'Miss May Marlene'\n",
      " 'Miss Darlene Myrtle' 'Mr. Ruben Morris' 'Ms. Willie Tiffany'\n",
      " 'Master Derrick Sergio' 'Mr. Gilbert Abel' 'Ms. Jenny Michele'\n",
      " 'Ms. Mable Carla' 'Miss Crystal Sandy' 'Ms. Latoya Lindsay'\n",
      " 'Mr. Gerald Mario' 'Mr. Lewis Bryant' 'Mr. Floyd Raymond'\n",
      " 'Ms. Megan Judy' 'Master Hugh Benny' 'Miss Dorothy Sherry'\n",
      " 'Master Benny Danny' 'Master Leland Scott' 'Miss Connie Latoya'\n",
      " 'Mr. Terrence Darren' 'Ms. Dawn Loretta' 'Mr. Dale Paul'\n",
      " 'Mr. Darnell Claude' 'Master Ralph Noel' 'Mr. Cody Lorenzo'\n",
      " 'Mr. Salvatore Irving' 'Ms. Sonia Tricia' 'Ms. Sadie Kristy'\n",
      " 'Ms. Dixie Diana' 'Ms. Holly Sandra' 'Master Kelvin Cody' 'Mr. Ian Julio'\n",
      " 'Mr. Randal Keith' 'Mr. Rafael Julian' 'Mr. Jerald Jermaine'\n",
      " 'Master Alfredo Jose' 'Mr. Jay Darren' 'Ms. Kathryn Monique'\n",
      " 'Miss Antonia Kristi' 'Mr. Lorenzo Ignacio' 'Ms. Karla Verna'\n",
      " 'Mr. Joseph Raul' 'Mr. Orlando Homer' 'Ms. Veronica Alma'\n",
      " 'Master Doug Steven' 'Mr. Jerome Alton' 'Master Alan Chris'\n",
      " 'Master Guy George' 'Ms. Rosalie Mindy' 'Ms. Amy Samantha'\n",
      " 'Master Ervin Elbert' 'Mr. Walter Fred' 'Ms. Sylvia Laurie'\n",
      " 'Master Colin Dale' 'Mr. Orville Matt' 'Mr. Jeffrey Wallace'\n",
      " 'Mr. Malcolm Javier' 'Mr. Grant Hubert' 'Ms. Sandra Connie'\n",
      " 'Mr. Lucas Clinton' 'Mr. Colin Isaac' 'Mr. Spencer Rickey'\n",
      " 'Ms. Brandi Viola' 'Mr. Jermaine Keith' 'Mr. Laurence Kelly'\n",
      " 'Mr. Sheldon Frankie' 'Ms. Kristine Erma' 'Ms. Joan Leticia'\n",
      " 'Ms. Mandy Ellen' 'Mr. James Peter' 'Ms. Marsha Marta' 'Mr. Matt Wilfred'\n",
      " 'Ms. Pauline Christine' 'Mr. Marcus Wm' 'Miss Penny Rosemarie'\n",
      " 'Miss Ebony Joy' 'Ms. Lillie Anna' 'Ms. Cecelia Kelley'\n",
      " 'Ms. Marcia Kendra' 'Ms. Kayla Jaime' 'Mr. Terence Lester'\n",
      " 'Mr. Rudy Ervin' 'Ms. Claudia Jennie' 'Master Darrell Rodney'\n",
      " 'Mr. Gregory Caleb' 'Master Brett Tony' 'Ms. Laverne Michelle'\n",
      " 'Master Andy Seth' 'Miss Sarah Janis' 'Miss Marcella Sadie'\n",
      " 'Master Harold Casey' 'Ms. Maryann Jennifer' 'Mr. Stephen Jesse'\n",
      " 'Master Edward Brian' 'Ms. Doris Kim' 'Mr. Conrad Darrel'\n",
      " 'Mr. Enrique Ira' 'Mr. Jerry Hector' 'Mr. Lawrence Ricky'\n",
      " 'Ms. Geraldine Janie' 'Master Jonathon Tyrone' 'Mr. Sherman Bryant'\n",
      " 'Mr. Dexter Rudy' 'Mr. Emanuel Leon' 'Ms. Audrey Crystal'\n",
      " 'Master Mitchell Andrew' 'Mr. Clifford Angel' 'Mr. Darnell Kirk'\n",
      " 'Mr. Caleb Jimmy' 'Mr. Nick Alonzo' 'Master Clinton Byron'\n",
      " 'Miss Delia May' 'Master Douglas Damon' 'Mr. Brad Travis'\n",
      " 'Mr. Rolando Ricardo' 'Miss Donna Blanca' 'Mr. Owen Ervin'\n",
      " 'Miss Genevieve Marie' 'Mr. Spencer Van' 'Mr. Nicholas Doug'\n",
      " 'Mr. Cody Steve' 'Mr. Milton Jorge' 'Miss Beth Vera' 'Mr. Terry Max'\n",
      " 'Mr. Aaron Kurt' 'Miss Megan Marjorie' 'Mr. Ramon Jon' 'Master Rick Ben'\n",
      " 'Mr. Wilbur Timothy' 'Mr. Reginald Sammy' 'Ms. Sandra Janis'\n",
      " 'Mr. Earnest Darryl' 'Master Irvin Tomas' 'Miss Gail Lisa'\n",
      " 'Mr. Troy Earl' 'Master Benjamin Clinton' 'Mr. Charlie Amos'\n",
      " 'Mr. Archie Steve' 'Mr. Maurice Reginald' 'Mr. Lewis Lamar'\n",
      " 'Mr. Saul Owen' 'Ms. Cora Heather' 'Ms. Katie Shirley'\n",
      " 'Master Franklin Lionel' 'Mr. Frank Cedric' 'Mr. Felix Delbert'\n",
      " 'Mr. Nicolas Jason' 'Ms. Annette Kelly' 'Mr. Clifford Jose'\n",
      " 'Master Drew Alex' 'Mr. Ivan Jay' 'Ms. Joanna Jeanette'\n",
      " 'Mr. Curtis Wayne' 'Mr. Ismael Jordan' 'Mr. Oliver Bennie'\n",
      " 'Ms. Phyllis Jeannie' 'Miss Irma Rebecca' 'Ms. Pauline Hilda'\n",
      " 'Miss Tiffany Juanita' 'Ms. Vanessa Alice' 'Master Frederick Rufus'\n",
      " 'Mr. Tony Evan' 'Miss Constance Gladys' 'Ms. Marguerite Penny'\n",
      " 'Master Woodrow Richard' 'Mr. Lamar Rodolfo' 'Master Glenn Roy'\n",
      " 'Mr. Armando Vincent' 'Mr. Carl Howard' 'Mr. Darrin Alfonso'\n",
      " 'Mr. Dewey Nicolas' 'Master Elijah Doug' 'Master Lonnie Noel'\n",
      " 'Master Randall Angel' 'Master Glenn Darrell' 'Master Pablo Lyle'\n",
      " 'Mr. Stephen Roosevelt' 'Mr. Al Wesley' 'Miss Lorene Blanche'\n",
      " 'Mr. Clinton Joe' 'Mr. Nathan Danny' 'Ms. Faith Tabitha'\n",
      " 'Mr. Adrian Wilson' 'Mr. Everett Phillip' 'Mr. William Leland'\n",
      " 'Miss Eileen Carrie' 'Mr. Calvin Dale' 'Ms. Traci Robyn'\n",
      " 'Master Duane Dallas' 'Master Louis Elias' 'Master Bryan Vincent'\n",
      " 'Mr. Victor Edgar' 'Mr. Johnny Austin' 'Ms. Bertha Lorraine'\n",
      " 'Mr. Darrin Dale' 'Master Warren Ivan' 'Ms. Lola Bertha'\n",
      " 'Mr. Claude Lloyd' 'Mr. Cesar Terence' 'Mr. Oscar Pete'\n",
      " 'Ms. Georgia Joann' 'Mr. Neil Pete' 'Mr. Billy Cory'\n",
      " 'Mr. Alfonso Armando' 'Ms. Camille Naomi' 'Miss Maureen Erika'\n",
      " 'Mr. Arthur Andres' 'Mr. Jeffrey Harold' 'Mr. Benjamin Christian'\n",
      " 'Mr. Ronnie Hugo' 'Mr.  Dawson Beil' 'Ms. Shayan Meyer'\n",
      " 'Mr. Adam Donovan' 'Mr. Noel Mcdougall' 'Ms. Linda Wilcox'\n",
      " 'Mr. Haiden Vance' 'Miss Anaiya Love' 'Mr. Robert Williams'\n",
      " 'Ms. Marjorie Hays']\n",
      "Unique values for column Birthday_year are:  [  nan 1966. 1982. 1997. 1994. 1984. 1989. 2000. 2009. 1999. 1991. 2019.\n",
      " 1964. 2017. 1987. 2011. 1998. 2002. 1992. 1981. 1990. 1978. 2001. 1958.\n",
      " 1996. 2004. 1962. 1970. 1985. 1965. 2018. 1995. 1956. 2003. 1986. 1971.\n",
      " 1983. 2005. 1975. 1950. 2016. 2013. 1980. 1979. 2014. 1988. 1993. 1968.\n",
      " 2006. 1973. 2007. 2012. 1946. 1974. 1972. 2008. 1976. 1961. 1957. 1960.\n",
      " 1959. 2015. 2010. 1969. 1949. 1955. 1977. 1963. 1954. 1967. 1940.]\n",
      "Unique values for column Parents or siblings infected are:  [0 1 3 2 4 5 6]\n",
      "Unique values for column Wife/Husband or children infected are:  [0 1 4 3 5 8 2]\n",
      "Unique values for column Medical_Expenses_Family are:  [  225  1663   221   220   222     0   435   364   441   626   526   451\n",
      "   266  1111   217   211 14345   859   590  3742   713   575   434   644\n",
      "  1313   427   276   405   294  3360  1947   378   218   203  1565   236\n",
      "   202   756   879  2240   214   487   248   258  4297  1472   854   243\n",
      "   567   197  7364   728   228   200   910  6371  1594  1487   421   735\n",
      "   539  1988   468   676   189   219   546   876  4103  1164  3172   498\n",
      "   868   234   617  2337  2148  1582  2230   349  2520   238  1452   657\n",
      "   994   776   588   210  3798   736  3105   322   395  1552   444  2301\n",
      "   312  1187   420  4243   816  2495  2422   607  1713   354  1865  1029\n",
      "  1109   315  2980   743   840   504   346   268  1319  2218   265  1456\n",
      "   227   938   963   576   237   832   180  2292  2183  1414  1092  1623\n",
      "   726  6210   242  3766   275   175   777  6931   344   293   336   198\n",
      "  1820   781   182  1036  1940  1400   559   112   406   195  2208  2191\n",
      "   812  2058  2618   252   262  1386   525  1735  2164   651   631  3049\n",
      "   980   216   388   842  7347  1124   386   716  5917   361   672  2136\n",
      "   953  1078   351   403   798  1103  1596   285  2328   924   376   232\n",
      "   566  4616   140   445  1441  2107   804   970  1774   905   192   181\n",
      "  1540  2550  1996  1719   244   205   392   739   423  5922   235   448\n",
      "   196   271]\n",
      "Unique values for column Medical_Tent are:  [nan 'F' 'B' 'A' 'E' 'C' 'D' 'G' 'T']\n",
      "Unique values for column City are:  ['Santa Fe' 'Albuquerque' 'Taos' nan]\n",
      "Unique values for column Deceased are:  [1 0]\n"
     ]
    }
   ],
   "source": [
    "def unique(df):\n",
    "    \"\"\"To check the unique values of each columns\"\"\"\n",
    "    cols = df.columns\n",
    "    for name in cols:\n",
    "        print('Unique values for column' , name , 'are: ' , df[name].unique())\n",
    "        \n",
    "#It doesn't seem to exist anything strange\n",
    "unique(df)"
   ]
  },
  {
   "cell_type": "code",
   "execution_count": 7,
   "metadata": {},
   "outputs": [
    {
     "name": "stdout",
     "output_type": "stream",
     "text": [
      "Ducplicated values in column Patient_ID :  False\n",
      "Ducplicated values in column Family_Case_ID :  True\n",
      "Ducplicated values in column Severity :  True\n",
      "Ducplicated values in column Name :  True\n",
      "Ducplicated values in column Birthday_year :  True\n",
      "Ducplicated values in column Parents or siblings infected :  True\n",
      "Ducplicated values in column Wife/Husband or children infected :  True\n",
      "Ducplicated values in column Medical_Expenses_Family :  True\n",
      "Ducplicated values in column Medical_Tent :  True\n",
      "Ducplicated values in column City :  True\n",
      "Ducplicated values in column Deceased :  True\n"
     ]
    }
   ],
   "source": [
    "def duplicate(df):\n",
    "    \"\"\"To check the unique values of each columns\"\"\"\n",
    "    cols = df.columns\n",
    "    for name in cols:\n",
    "        print('Ducplicated values in column' , name , ': ' , df[name].duplicated().any())\n",
    "        \n",
    "#It doesn't seem to exist anything strange\n",
    "duplicate(df)"
   ]
  },
  {
   "cell_type": "code",
   "execution_count": 8,
   "metadata": {},
   "outputs": [
    {
     "data": {
      "text/plain": [
       "682    Mr. Samuel Darnell\n",
       "Name: Name, dtype: object"
      ]
     },
     "execution_count": 8,
     "metadata": {},
     "output_type": "execute_result"
    }
   ],
   "source": [
    "df.loc[df['Name'].duplicated()]['Name']"
   ]
  },
  {
   "cell_type": "code",
   "execution_count": 9,
   "metadata": {},
   "outputs": [
    {
     "data": {
      "text/html": [
       "<div>\n",
       "<style scoped>\n",
       "    .dataframe tbody tr th:only-of-type {\n",
       "        vertical-align: middle;\n",
       "    }\n",
       "\n",
       "    .dataframe tbody tr th {\n",
       "        vertical-align: top;\n",
       "    }\n",
       "\n",
       "    .dataframe thead th {\n",
       "        text-align: right;\n",
       "    }\n",
       "</style>\n",
       "<table border=\"1\" class=\"dataframe\">\n",
       "  <thead>\n",
       "    <tr style=\"text-align: right;\">\n",
       "      <th></th>\n",
       "      <th>Patient_ID</th>\n",
       "      <th>Family_Case_ID</th>\n",
       "      <th>Severity</th>\n",
       "      <th>Name</th>\n",
       "      <th>Birthday_year</th>\n",
       "      <th>Parents or siblings infected</th>\n",
       "      <th>Wife/Husband or children infected</th>\n",
       "      <th>Medical_Expenses_Family</th>\n",
       "      <th>Medical_Tent</th>\n",
       "      <th>City</th>\n",
       "      <th>Deceased</th>\n",
       "    </tr>\n",
       "  </thead>\n",
       "  <tbody>\n",
       "    <tr>\n",
       "      <th>568</th>\n",
       "      <td>569</td>\n",
       "      <td>21740</td>\n",
       "      <td>1</td>\n",
       "      <td>Mr. Samuel Darnell</td>\n",
       "      <td>1985.0</td>\n",
       "      <td>0</td>\n",
       "      <td>0</td>\n",
       "      <td>736</td>\n",
       "      <td>E</td>\n",
       "      <td>Santa Fe</td>\n",
       "      <td>0</td>\n",
       "    </tr>\n",
       "    <tr>\n",
       "      <th>682</th>\n",
       "      <td>683</td>\n",
       "      <td>17721</td>\n",
       "      <td>3</td>\n",
       "      <td>Mr. Samuel Darnell</td>\n",
       "      <td>1988.0</td>\n",
       "      <td>0</td>\n",
       "      <td>0</td>\n",
       "      <td>222</td>\n",
       "      <td>NaN</td>\n",
       "      <td>Santa Fe</td>\n",
       "      <td>1</td>\n",
       "    </tr>\n",
       "  </tbody>\n",
       "</table>\n",
       "</div>"
      ],
      "text/plain": [
       "     Patient_ID  Family_Case_ID  Severity                Name  Birthday_year  \\\n",
       "568         569           21740         1  Mr. Samuel Darnell         1985.0   \n",
       "682         683           17721         3  Mr. Samuel Darnell         1988.0   \n",
       "\n",
       "     Parents or siblings infected  Wife/Husband or children infected  \\\n",
       "568                             0                                  0   \n",
       "682                             0                                  0   \n",
       "\n",
       "     Medical_Expenses_Family Medical_Tent      City  Deceased  \n",
       "568                      736            E  Santa Fe         0  \n",
       "682                      222          NaN  Santa Fe         1  "
      ]
     },
     "execution_count": 9,
     "metadata": {},
     "output_type": "execute_result"
    }
   ],
   "source": [
    "#check if they're the same people\n",
    "df.loc[df['Name'] == 'Mr. Samuel Darnell']\n",
    "#it appears that they're different people with the same name"
   ]
  },
  {
   "cell_type": "code",
   "execution_count": 10,
   "metadata": {},
   "outputs": [
    {
     "name": "stdout",
     "output_type": "stream",
     "text": [
      "<class 'pandas.core.frame.DataFrame'>\n",
      "RangeIndex: 900 entries, 0 to 899\n",
      "Data columns (total 11 columns):\n",
      "Patient_ID                           900 non-null int64\n",
      "Family_Case_ID                       900 non-null int64\n",
      "Severity                             900 non-null int64\n",
      "Name                                 900 non-null object\n",
      "Birthday_year                        723 non-null float64\n",
      "Parents or siblings infected         900 non-null int64\n",
      "Wife/Husband or children infected    900 non-null int64\n",
      "Medical_Expenses_Family              900 non-null int64\n",
      "Medical_Tent                         198 non-null object\n",
      "City                                 898 non-null object\n",
      "Deceased                             900 non-null int64\n",
      "dtypes: float64(1), int64(7), object(3)\n",
      "memory usage: 77.4+ KB\n"
     ]
    }
   ],
   "source": [
    "df.info()"
   ]
  },
  {
   "cell_type": "code",
   "execution_count": 11,
   "metadata": {},
   "outputs": [],
   "source": [
    "df['Medical_Tent'].replace('A', 1, inplace = True)\n",
    "df['Medical_Tent'].replace('B', 2, inplace = True)\n",
    "df['Medical_Tent'].replace('C', 3, inplace = True)\n",
    "df['Medical_Tent'].replace('D', 4, inplace = True)\n",
    "df['Medical_Tent'].replace('E', 5, inplace = True)\n",
    "df['Medical_Tent'].replace('F', 6, inplace = True)\n",
    "df['Medical_Tent'].replace('G', 7, inplace = True)\n",
    "df['Medical_Tent'].replace('T', 8, inplace = True)"
   ]
  },
  {
   "cell_type": "code",
   "execution_count": 12,
   "metadata": {},
   "outputs": [],
   "source": [
    "df['City'].replace('Albuquerque', 1, inplace = True)\n",
    "df['City'].replace('Santa Fe', 2, inplace = True)\n",
    "df['City'].replace('Taos', 3, inplace = True)"
   ]
  },
  {
   "cell_type": "code",
   "execution_count": 13,
   "metadata": {},
   "outputs": [],
   "source": [
    "import seaborn as sns"
   ]
  },
  {
   "cell_type": "code",
   "execution_count": 14,
   "metadata": {
    "scrolled": true
   },
   "outputs": [
    {
     "data": {
      "text/plain": [
       "<seaborn.axisgrid.PairGrid at 0x82e7eb8>"
      ]
     },
     "execution_count": 14,
     "metadata": {},
     "output_type": "execute_result"
    },
    {
     "data": {
      "image/png": "[encoded data removed]",
      "text/plain": [
       "<Figure size 1440x1440 with 72 Axes>"
      ]
     },
     "metadata": {
      "needs_background": "light"
     },
     "output_type": "display_data"
    }
   ],
   "source": [
    "sns.pairplot(df[['Severity', 'Birthday_year', 'Parents or siblings infected', 'Wife/Husband or children infected', 'Medical_Expenses_Family',\n",
    "                'Medical_Tent', 'City', 'Deceased']])"
   ]
  },
  {
   "cell_type": "markdown",
   "metadata": {},
   "source": [
    "## 4. Replacing Nulls"
   ]
  },
  {
   "cell_type": "markdown",
   "metadata": {},
   "source": [
    "There were nulls values in the columns Birthday_year, City and Medical_tent.\n",
    "\n",
    "- **Birthday_year:** 117 (13% of the data)\n",
    "- **Medical_Tent:** 702 (78% of the data)\n",
    "- **City:** 2\n",
    "\n"
   ]
  },
  {
   "cell_type": "code",
   "execution_count": 15,
   "metadata": {},
   "outputs": [
    {
     "data": {
      "text/plain": [
       "Patient_ID                             0\n",
       "Family_Case_ID                         0\n",
       "Severity                               0\n",
       "Name                                   0\n",
       "Birthday_year                        177\n",
       "Parents or siblings infected           0\n",
       "Wife/Husband or children infected      0\n",
       "Medical_Expenses_Family                0\n",
       "Medical_Tent                         702\n",
       "City                                   2\n",
       "Deceased                               0\n",
       "dtype: int64"
      ]
     },
     "execution_count": 15,
     "metadata": {},
     "output_type": "execute_result"
    }
   ],
   "source": [
    "df.isnull().sum()"
   ]
  },
  {
   "cell_type": "markdown",
   "metadata": {},
   "source": [
    "#### **City column replacement:**\n",
    "\n",
    "On the dataframe with the NaN values we can see that the Family_Case_ID is the same for both patients. Therefore, we'll replace the values with the mode."
   ]
  },
  {
   "cell_type": "code",
   "execution_count": 16,
   "metadata": {
    "scrolled": true
   },
   "outputs": [
    {
     "data": {
      "text/html": [
       "<div>\n",
       "<style scoped>\n",
       "    .dataframe tbody tr th:only-of-type {\n",
       "        vertical-align: middle;\n",
       "    }\n",
       "\n",
       "    .dataframe tbody tr th {\n",
       "        vertical-align: top;\n",
       "    }\n",
       "\n",
       "    .dataframe thead th {\n",
       "        text-align: right;\n",
       "    }\n",
       "</style>\n",
       "<table border=\"1\" class=\"dataframe\">\n",
       "  <thead>\n",
       "    <tr style=\"text-align: right;\">\n",
       "      <th></th>\n",
       "      <th>Patient_ID</th>\n",
       "      <th>Family_Case_ID</th>\n",
       "      <th>Severity</th>\n",
       "      <th>Name</th>\n",
       "      <th>Birthday_year</th>\n",
       "      <th>Parents or siblings infected</th>\n",
       "      <th>Wife/Husband or children infected</th>\n",
       "      <th>Medical_Expenses_Family</th>\n",
       "      <th>Medical_Tent</th>\n",
       "      <th>City</th>\n",
       "      <th>Deceased</th>\n",
       "    </tr>\n",
       "  </thead>\n",
       "  <tbody>\n",
       "    <tr>\n",
       "      <th>49</th>\n",
       "      <td>50</td>\n",
       "      <td>23155</td>\n",
       "      <td>1</td>\n",
       "      <td>Ms. Elizabeth Teri</td>\n",
       "      <td>1958.0</td>\n",
       "      <td>0</td>\n",
       "      <td>0</td>\n",
       "      <td>2240</td>\n",
       "      <td>2.0</td>\n",
       "      <td>NaN</td>\n",
       "      <td>0</td>\n",
       "    </tr>\n",
       "    <tr>\n",
       "      <th>530</th>\n",
       "      <td>531</td>\n",
       "      <td>23155</td>\n",
       "      <td>1</td>\n",
       "      <td>Ms. Tricia Kathryn</td>\n",
       "      <td>1982.0</td>\n",
       "      <td>0</td>\n",
       "      <td>0</td>\n",
       "      <td>2240</td>\n",
       "      <td>2.0</td>\n",
       "      <td>NaN</td>\n",
       "      <td>0</td>\n",
       "    </tr>\n",
       "  </tbody>\n",
       "</table>\n",
       "</div>"
      ],
      "text/plain": [
       "     Patient_ID  Family_Case_ID  Severity                Name  Birthday_year  \\\n",
       "49           50           23155         1  Ms. Elizabeth Teri         1958.0   \n",
       "530         531           23155         1  Ms. Tricia Kathryn         1982.0   \n",
       "\n",
       "     Parents or siblings infected  Wife/Husband or children infected  \\\n",
       "49                              0                                  0   \n",
       "530                             0                                  0   \n",
       "\n",
       "     Medical_Expenses_Family  Medical_Tent  City  Deceased  \n",
       "49                      2240           2.0   NaN         0  \n",
       "530                     2240           2.0   NaN         0  "
      ]
     },
     "execution_count": 16,
     "metadata": {},
     "output_type": "execute_result"
    }
   ],
   "source": [
    "df_city_nan = df[df['City'].isnull()]\n",
    "df_city_nan"
   ]
  },
  {
   "cell_type": "code",
   "execution_count": 17,
   "metadata": {},
   "outputs": [
    {
     "data": {
      "text/html": [
       "<div>\n",
       "<style scoped>\n",
       "    .dataframe tbody tr th:only-of-type {\n",
       "        vertical-align: middle;\n",
       "    }\n",
       "\n",
       "    .dataframe tbody tr th {\n",
       "        vertical-align: top;\n",
       "    }\n",
       "\n",
       "    .dataframe thead th {\n",
       "        text-align: right;\n",
       "    }\n",
       "</style>\n",
       "<table border=\"1\" class=\"dataframe\">\n",
       "  <thead>\n",
       "    <tr style=\"text-align: right;\">\n",
       "      <th></th>\n",
       "      <th>Patient_ID</th>\n",
       "      <th>Family_Case_ID</th>\n",
       "      <th>Severity</th>\n",
       "      <th>Name</th>\n",
       "      <th>Birthday_year</th>\n",
       "      <th>Parents or siblings infected</th>\n",
       "      <th>Wife/Husband or children infected</th>\n",
       "      <th>Medical_Expenses_Family</th>\n",
       "      <th>Medical_Tent</th>\n",
       "      <th>City</th>\n",
       "      <th>Deceased</th>\n",
       "    </tr>\n",
       "  </thead>\n",
       "  <tbody>\n",
       "    <tr>\n",
       "      <th>49</th>\n",
       "      <td>50</td>\n",
       "      <td>23155</td>\n",
       "      <td>1</td>\n",
       "      <td>Ms. Elizabeth Teri</td>\n",
       "      <td>1958.0</td>\n",
       "      <td>0</td>\n",
       "      <td>0</td>\n",
       "      <td>2240</td>\n",
       "      <td>2.0</td>\n",
       "      <td>NaN</td>\n",
       "      <td>0</td>\n",
       "    </tr>\n",
       "    <tr>\n",
       "      <th>530</th>\n",
       "      <td>531</td>\n",
       "      <td>23155</td>\n",
       "      <td>1</td>\n",
       "      <td>Ms. Tricia Kathryn</td>\n",
       "      <td>1982.0</td>\n",
       "      <td>0</td>\n",
       "      <td>0</td>\n",
       "      <td>2240</td>\n",
       "      <td>2.0</td>\n",
       "      <td>NaN</td>\n",
       "      <td>0</td>\n",
       "    </tr>\n",
       "  </tbody>\n",
       "</table>\n",
       "</div>"
      ],
      "text/plain": [
       "     Patient_ID  Family_Case_ID  Severity                Name  Birthday_year  \\\n",
       "49           50           23155         1  Ms. Elizabeth Teri         1958.0   \n",
       "530         531           23155         1  Ms. Tricia Kathryn         1982.0   \n",
       "\n",
       "     Parents or siblings infected  Wife/Husband or children infected  \\\n",
       "49                              0                                  0   \n",
       "530                             0                                  0   \n",
       "\n",
       "     Medical_Expenses_Family  Medical_Tent  City  Deceased  \n",
       "49                      2240           2.0   NaN         0  \n",
       "530                     2240           2.0   NaN         0  "
      ]
     },
     "execution_count": 17,
     "metadata": {},
     "output_type": "execute_result"
    }
   ],
   "source": [
    "#if there are more people with the same Family_Case_ID it's likely they're from the same city\n",
    "df.loc[df['Family_Case_ID'] == 23155]"
   ]
  },
  {
   "cell_type": "code",
   "execution_count": 18,
   "metadata": {
    "scrolled": true
   },
   "outputs": [
    {
     "data": {
      "text/plain": [
       "0    2.0\n",
       "dtype: float64"
      ]
     },
     "execution_count": 18,
     "metadata": {},
     "output_type": "execute_result"
    }
   ],
   "source": [
    "df['City'].mode()"
   ]
  },
  {
   "cell_type": "code",
   "execution_count": 19,
   "metadata": {},
   "outputs": [],
   "source": [
    "df['City'] = df['City'].fillna(2.0)"
   ]
  },
  {
   "cell_type": "markdown",
   "metadata": {},
   "source": [
    "#### **Medical_Tent column replacement:**\n",
    "\n",
    "We have 78% of the data missing here, isto is too much therefore we'll drop this column.\n",
    "\n",
    "We're going to drop on this step the Name column as well."
   ]
  },
  {
   "cell_type": "code",
   "execution_count": 20,
   "metadata": {},
   "outputs": [],
   "source": [
    "df = df.drop(['Name', 'Medical_Tent'], axis = 1)"
   ]
  },
  {
   "cell_type": "markdown",
   "metadata": {},
   "source": [
    "#### **Birthday_year column replacement:**\n",
    "\n",
    "Although we only have 13% of the data missing in this column we'll drop the rows where this column is null.\n",
    "Once we're working with epidemic data the cost of using artificial data is too high, so we won't replace this values.\n"
   ]
  },
  {
   "cell_type": "code",
   "execution_count": 21,
   "metadata": {},
   "outputs": [],
   "source": [
    "df = df.dropna(axis = 0)"
   ]
  },
  {
   "cell_type": "code",
   "execution_count": 22,
   "metadata": {},
   "outputs": [
    {
     "data": {
      "text/plain": [
       "Patient_ID                           0\n",
       "Family_Case_ID                       0\n",
       "Severity                             0\n",
       "Birthday_year                        0\n",
       "Parents or siblings infected         0\n",
       "Wife/Husband or children infected    0\n",
       "Medical_Expenses_Family              0\n",
       "City                                 0\n",
       "Deceased                             0\n",
       "dtype: int64"
      ]
     },
     "execution_count": 22,
     "metadata": {},
     "output_type": "execute_result"
    }
   ],
   "source": [
    "df.isnull().sum()"
   ]
  },
  {
   "cell_type": "code",
   "execution_count": 23,
   "metadata": {},
   "outputs": [
    {
     "data": {
      "text/plain": [
       "(723, 9)"
      ]
     },
     "execution_count": 23,
     "metadata": {},
     "output_type": "execute_result"
    }
   ],
   "source": [
    "df.shape\n",
    "#We have now 723 rows and 9 columns"
   ]
  },
  {
   "cell_type": "code",
   "execution_count": 24,
   "metadata": {},
   "outputs": [],
   "source": [
    "#Reset the index\n",
    "df = df.reset_index(drop = True)"
   ]
  },
  {
   "cell_type": "markdown",
   "metadata": {},
   "source": [
    "## 5. Removing Outliers"
   ]
  },
  {
   "cell_type": "code",
   "execution_count": 25,
   "metadata": {},
   "outputs": [],
   "source": [
    "import matplotlib.pyplot as plt"
   ]
  },
  {
   "cell_type": "code",
   "execution_count": 26,
   "metadata": {},
   "outputs": [
    {
     "data": {
      "text/plain": [
       "Index(['Patient_ID', 'Family_Case_ID', 'Severity', 'Birthday_year',\n",
       "       'Parents or siblings infected', 'Wife/Husband or children infected',\n",
       "       'Medical_Expenses_Family', 'City', 'Deceased'],\n",
       "      dtype='object')"
      ]
     },
     "execution_count": 26,
     "metadata": {},
     "output_type": "execute_result"
    }
   ],
   "source": [
    "df.columns"
   ]
  },
  {
   "cell_type": "code",
   "execution_count": 27,
   "metadata": {},
   "outputs": [
    {
     "data": {
      "image/png": "[encoded data removed]",
      "text/plain": [
       "<Figure size 432x288 with 1 Axes>"
      ]
     },
     "metadata": {
      "needs_background": "light"
     },
     "output_type": "display_data"
    },
    {
     "data": {
      "image/png": "[encoded data removed]",
      "text/plain": [
       "<Figure size 432x288 with 1 Axes>"
      ]
     },
     "metadata": {
      "needs_background": "light"
     },
     "output_type": "display_data"
    },
    {
     "data": {
      "image/png": "[encoded data removed]",
      "text/plain": [
       "<Figure size 432x288 with 1 Axes>"
      ]
     },
     "metadata": {
      "needs_background": "light"
     },
     "output_type": "display_data"
    },
    {
     "data": {
      "image/png": "[encoded data removed]",
      "text/plain": [
       "<Figure size 432x288 with 1 Axes>"
      ]
     },
     "metadata": {
      "needs_background": "light"
     },
     "output_type": "display_data"
    },
    {
     "data": {
      "image/png": "[encoded data removed]",
      "text/plain": [
       "<Figure size 432x288 with 1 Axes>"
      ]
     },
     "metadata": {
      "needs_background": "light"
     },
     "output_type": "display_data"
    }
   ],
   "source": [
    "col = ['Family_Case_ID', 'Severity', 'Parents or siblings infected', 'Wife/Husband or children infected',\n",
    "       'Medical_Expenses_Family']\n",
    "\n",
    "for col in col:\n",
    "\n",
    "    sns.boxplot(data = df[col], orient = \"h\", whis = 3.5)\n",
    "    plt.ylabel(col)\n",
    "    plt.show()"
   ]
  },
  {
   "cell_type": "markdown",
   "metadata": {},
   "source": [
    "We have outliers in: Family_Case_ID, Parents or siblings infected, Wife/Husband or children infected and Medical_Expenses_Family"
   ]
  },
  {
   "cell_type": "code",
   "execution_count": 28,
   "metadata": {},
   "outputs": [],
   "source": [
    "def zscore(series):\n",
    "    \"\"\"Returns the Z score\"\"\"\n",
    "    return (series-series.mean()) / series.std()"
   ]
  },
  {
   "cell_type": "code",
   "execution_count": 29,
   "metadata": {},
   "outputs": [],
   "source": [
    "#out_1 = zscore(df['Family_Case_ID'])\n",
    "out_2 = zscore(df['Parents or siblings infected'])\n",
    "out_3 = zscore(df['Wife/Husband or children infected'])\n",
    "out_4 = zscore(df['Medical_Expenses_Family'])"
   ]
  },
  {
   "cell_type": "code",
   "execution_count": 30,
   "metadata": {},
   "outputs": [],
   "source": [
    "df_out = pd.DataFrame({#'Family_Case_ID': out_1,\n",
    "                       'Parents or siblings infected': out_2,\n",
    "                       'Wife/Husband or children infected': out_3, 'Medical_Expenses_Family': out_4\n",
    "                      })"
   ]
  },
  {
   "cell_type": "code",
   "execution_count": 31,
   "metadata": {},
   "outputs": [
    {
     "data": {
      "text/plain": [
       "(723, 3)"
      ]
     },
     "execution_count": 31,
     "metadata": {},
     "output_type": "execute_result"
    }
   ],
   "source": [
    "df_out.shape #Correct"
   ]
  },
  {
   "cell_type": "markdown",
   "metadata": {},
   "source": [
    "With a threshold of 3 we got 67 outliers that's about 7% of the data, too much.\n",
    "\n",
    "With a threshold of 4 we got 35 outliers that's about 4% of the data, this is fine."
   ]
  },
  {
   "cell_type": "code",
   "execution_count": 32,
   "metadata": {},
   "outputs": [
    {
     "data": {
      "text/plain": [
       "\"\\ndf_out_1 = df_out[(df_out['Family_Case_ID'] > 4) | (df_out['Family_Case_ID'] < -4)]\\n#df_out_1.shape\\n#2 outliers with threshold = 3\\n#2 outliers with threshold = 4\\nlist_1 = list(df_out_1.index)\\n\""
      ]
     },
     "execution_count": 32,
     "metadata": {},
     "output_type": "execute_result"
    }
   ],
   "source": [
    "\"\"\"\n",
    "df_out_1 = df_out[(df_out['Family_Case_ID'] > 4) | (df_out['Family_Case_ID'] < -4)]\n",
    "#df_out_1.shape\n",
    "#2 outliers with threshold = 3\n",
    "#2 outliers with threshold = 4\n",
    "list_1 = list(df_out_1.index)\n",
    "\"\"\""
   ]
  },
  {
   "cell_type": "code",
   "execution_count": 33,
   "metadata": {},
   "outputs": [],
   "source": [
    "df_out_2 = df_out[(df_out['Parents or siblings infected'] > 4) | (df_out['Parents or siblings infected'] < -4)]\n",
    "#df_out_2.shape\n",
    "#15 outliers with threshold = 3\n",
    "#10 outliers with threshold = 4\n",
    "list_2 = list(df_out_2.index)"
   ]
  },
  {
   "cell_type": "code",
   "execution_count": 37,
   "metadata": {},
   "outputs": [],
   "source": [
    "df_out_3 = df_out[(df_out['Wife/Husband or children infected'] > 4) | (df_out['Wife/Husband or children infected'] < -4)]\n",
    "#df_out_3.shape\n",
    "#30 outliers with threshold = 3\n",
    "#12 outliers with threshold = 4\n",
    "list_3 = list(df_out_3.index)"
   ]
  },
  {
   "cell_type": "code",
   "execution_count": 38,
   "metadata": {},
   "outputs": [],
   "source": [
    "df_out_4 = df_out[(df_out['Medical_Expenses_Family'] > 4) | (df_out['Medical_Expenses_Family'] < -4)]\n",
    "#df_out_4.shape\n",
    "#20 outliers with threshold = 3\n",
    "#11 outliers with threshold = 4\n",
    "list_4 = list(df_out_4.index)"
   ]
  },
  {
   "cell_type": "code",
   "execution_count": 39,
   "metadata": {},
   "outputs": [],
   "source": [
    "#all outliers together\n",
    "#removed list_1 because Family_ID is just a number and doesn't represent anything\n",
    "list_all = list_2 + list_3 + list_4\n",
    "\n",
    "list_to_remove = []\n",
    "\n",
    "for i in list_all:\n",
    "  if i not in list_to_remove:\n",
    "    list_to_remove.append(i)"
   ]
  },
  {
   "cell_type": "code",
   "execution_count": 40,
   "metadata": {},
   "outputs": [],
   "source": [
    "for i in list_to_remove:\n",
    "    df = df.drop([df.index[i]])"
   ]
  },
  {
   "cell_type": "code",
   "execution_count": 41,
   "metadata": {},
   "outputs": [],
   "source": [
    "df = df.reset_index(drop = True)"
   ]
  },
  {
   "cell_type": "markdown",
   "metadata": {},
   "source": [
    "We lost 4,43% of the data, not bad."
   ]
  },
  {
   "cell_type": "code",
   "execution_count": 42,
   "metadata": {},
   "outputs": [
    {
     "data": {
      "text/plain": [
       "(698, 9)"
      ]
     },
     "execution_count": 42,
     "metadata": {},
     "output_type": "execute_result"
    }
   ],
   "source": [
    "df.shape\n",
    "#697 rows and 9 columns"
   ]
  },
  {
   "cell_type": "markdown",
   "metadata": {},
   "source": [
    "## 6. Feature Selection"
   ]
  },
  {
   "cell_type": "code",
   "execution_count": 43,
   "metadata": {},
   "outputs": [],
   "source": [
    "from scipy.stats import spearmanr\n",
    "from sklearn.linear_model import LinearRegression\n",
    "from sklearn.feature_selection import RFE\n",
    "from sklearn.model_selection import train_test_split\n",
    "from sklearn.linear_model import LassoCV\n",
    "from sklearn.linear_model import RidgeCV"
   ]
  },
  {
   "cell_type": "code",
   "execution_count": 44,
   "metadata": {},
   "outputs": [
    {
     "data": {
      "text/plain": [
       "Index(['Patient_ID', 'Family_Case_ID', 'Severity', 'Birthday_year',\n",
       "       'Parents or siblings infected', 'Wife/Husband or children infected',\n",
       "       'Medical_Expenses_Family', 'City', 'Deceased'],\n",
       "      dtype='object')"
      ]
     },
     "execution_count": 44,
     "metadata": {},
     "output_type": "execute_result"
    }
   ],
   "source": [
    "df.columns"
   ]
  },
  {
   "cell_type": "markdown",
   "metadata": {},
   "source": [
    "`FEATURES`categorical and numerical<br>\n",
    "\n",
    "`TARGET` categorical<br>\n",
    "\n",
    "Once we have categorical and numerical input we need to divide the features in order to decide which numerical and categorical feature contributes the most:\n",
    "\n",
    "1. Numerical Input/ Categorical Output: ANOVA and Kendall's\n",
    "\n",
    "2. Categorical Input/ Categorical Output: Chi-Squared and Mutual Information"
   ]
  },
  {
   "cell_type": "markdown",
   "metadata": {},
   "source": [
    "#### 1. ANOVA - Feature selection for numeric input and categorical output"
   ]
  },
  {
   "cell_type": "code",
   "execution_count": 45,
   "metadata": {},
   "outputs": [],
   "source": [
    "df_ANOVA_X = df[['Birthday_year', 'Parents or siblings infected', \n",
    "              'Wife/Husband or children infected', 'Medical_Expenses_Family']]\n",
    "\n",
    "df_ANOVA_y = df['Deceased']\n",
    "\n",
    "X = df_ANOVA_X.to_numpy()\n",
    "\n",
    "y = df_ANOVA_y.to_numpy()"
   ]
  },
  {
   "cell_type": "code",
   "execution_count": 46,
   "metadata": {},
   "outputs": [],
   "source": [
    "from sklearn.datasets import make_classification\n",
    "from sklearn.feature_selection import SelectKBest, f_classif"
   ]
  },
  {
   "cell_type": "code",
   "execution_count": 47,
   "metadata": {},
   "outputs": [
    {
     "name": "stdout",
     "output_type": "stream",
     "text": [
      "[[-1.76048662  1.89330629]\n",
      " [ 0.65336752 -0.3850779 ]\n",
      " [ 1.05622046 -0.3291398 ]\n",
      " ...\n",
      " [ 1.40075127 -1.04391599]\n",
      " [-3.30998554  3.98449221]\n",
      " [-1.43901669  0.57747004]]\n"
     ]
    },
    {
     "ename": "NameError",
     "evalue": "name 'scores' is not defined",
     "output_type": "error",
     "traceback": [
      "\u001b[1;31m---------------------------------------------------------------------------\u001b[0m",
      "\u001b[1;31mNameError\u001b[0m                                 Traceback (most recent call last)",
      "\u001b[1;32m<ipython-input-47-bb996099931f>\u001b[0m in \u001b[0;36m<module>\u001b[1;34m\u001b[0m\n\u001b[0;32m      7\u001b[0m \u001b[0mX_selected\u001b[0m \u001b[1;33m=\u001b[0m \u001b[0mfs\u001b[0m\u001b[1;33m.\u001b[0m\u001b[0mfit_transform\u001b[0m\u001b[1;33m(\u001b[0m\u001b[0mX\u001b[0m\u001b[1;33m,\u001b[0m \u001b[0my\u001b[0m\u001b[1;33m)\u001b[0m\u001b[1;33m\u001b[0m\u001b[1;33m\u001b[0m\u001b[0m\n\u001b[0;32m      8\u001b[0m \u001b[0mprint\u001b[0m\u001b[1;33m(\u001b[0m\u001b[0mX_selected\u001b[0m\u001b[1;33m)\u001b[0m \u001b[1;31m# 2 best out of 4\u001b[0m\u001b[1;33m\u001b[0m\u001b[1;33m\u001b[0m\u001b[0m\n\u001b[1;32m----> 9\u001b[1;33m \u001b[0mscores\u001b[0m\u001b[1;33m(\u001b[0m\u001b[0mX_selected\u001b[0m\u001b[1;33m)\u001b[0m\u001b[1;33m\u001b[0m\u001b[1;33m\u001b[0m\u001b[0m\n\u001b[0m\u001b[0;32m     10\u001b[0m \u001b[1;31m#features_selected = pd.Series(X_selected, index = df_ANOVA_X.columns)\u001b[0m\u001b[1;33m\u001b[0m\u001b[1;33m\u001b[0m\u001b[1;33m\u001b[0m\u001b[0m\n\u001b[0;32m     11\u001b[0m \u001b[1;33m\u001b[0m\u001b[0m\n",
      "\u001b[1;31mNameError\u001b[0m: name 'scores' is not defined"
     ]
    }
   ],
   "source": [
    "X, y = make_classification(n_samples = 600, n_features = 4, n_informative = 2)\n",
    "\n",
    "# define feature selection: ANOVA\n",
    "fs = SelectKBest(score_func = f_classif, k = 2)\n",
    "\n",
    "# apply feature selection\n",
    "X_selected = fs.fit_transform(X, y)\n",
    "print(X_selected) # 2 best out of 4\n",
    "scores(X_selected)\n",
    "#features_selected = pd.Series(X_selected, index = df_ANOVA_X.columns)\n",
    "\n"
   ]
  },
  {
   "cell_type": "code",
   "execution_count": null,
   "metadata": {},
   "outputs": [],
   "source": []
  }
 ],
 "metadata": {
  "kernelspec": {
   "display_name": "Python 3",
   "language": "python",
   "name": "python3"
  },
  "language_info": {
   "codemirror_mode": {
    "name": "ipython",
    "version": 3
   },
   "file_extension": ".py",
   "mimetype": "text/x-python",
   "name": "python",
   "nbconvert_exporter": "python",
   "pygments_lexer": "ipython3",
   "version": "3.7.3"
  }
 },
 "nbformat": 4,
 "nbformat_minor": 4
}
