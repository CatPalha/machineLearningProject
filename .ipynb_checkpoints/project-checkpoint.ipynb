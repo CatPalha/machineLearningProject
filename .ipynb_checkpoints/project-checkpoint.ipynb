{
 "cells": [
  {
   "cell_type": "markdown",
   "metadata": {},
   "source": [
    "## <h1><center>Machine Learning Project</center></h1>\n",
    "\n",
    "### <center> Class of 2019/2020 </center> \n",
    "\n",
    "\n",
    "\n",
    "   <center> Maren\n",
    "    <br>\n",
    "    Catarina Palha - M20190156\n",
    "    <br>\n",
    "    Mafalda \n",
    "    <br>\n",
    "    Pedro </center>\n"
   ]
  },
  {
   "cell_type": "code",
   "execution_count": 43,
   "metadata": {},
   "outputs": [],
   "source": [
    "#FILL WITH YOUR NAME AND NUMBER PLZ, THE LAST ONE DELETES THIS CELL"
   ]
  },
  {
   "cell_type": "markdown",
   "metadata": {},
   "source": [
    "### TODO - TO BE TRNSFORMED INTO INDEX\n",
    "\n",
    "* [1. Datasets to analyse](#firstAnalyse)\n",
    "    * [1.1. Drop all nulls](#tech1)\n",
    "    * [1.2. Replace all the nulls](#tech2)\n",
    "    * [1.2. Replace birthday_year column and drop the tents one](#tech3)\n",
    "* [2. Rank features](#selection)"
   ]
  },
  {
   "cell_type": "markdown",
   "metadata": {},
   "source": [
    "## 1. Introduction\n",
    "\n",
    "On January 1st, 2020, an epidemy was originated in Albuquerque, in New Mexico state, and spread on the\n",
    "following days to Santa Fe and Taos. It is estimated that the epidemy has already affected more than 1000\n",
    "people at the end of February, with a mortality rate of more than 50%.\n",
    "\n",
    "***GOAL: What are the people more likely to survive to the boolean pandemic?***\n",
    "\n",
    "\n",
    "## 2. About the data\n",
    "\n",
    "`Patient_ID` The unique identifier of the patient<br>\n",
    "`Family_Case_ID` The family identification<br>\n",
    "`Severity`The severity of the disease, where 1 is the lowest and 3 the highest severity<br>\n",
    "`Name`The name of the patient<br>\n",
    "`Birthday_year`The year of birthday of the patient<br>\n",
    "`Parents_Siblings_Infected` The number of parents and/or siblings infected<br>\n",
    "`Partner_Children_Infected`The number of partner and/or children infected<br>\n",
    "`Medical_Expenses_Family`The medical expenses associated to try to contain the epidemy on the family<br>\n",
    "`Medical_Tent` The medical tent where the patient is / was lodged<br>\n",
    "`City` The original city of the patient<br>\n",
    "`Deceased` Flag if the patient deceased or not with the virus (0 = No, 1 = Yes)<br>"
   ]
  },
  {
   "cell_type": "code",
   "execution_count": 44,
   "metadata": {},
   "outputs": [],
   "source": [
    "import pandas as pd\n",
    "import numpy as np\n",
    "\n",
    "import warnings\n",
    "warnings.filterwarnings(\"ignore\")"
   ]
  },
  {
   "cell_type": "markdown",
   "metadata": {},
   "source": [
    "### 1. First Look at the data \n",
    "\n",
    "!!! WRITE HERE THE FIRST ANALYSES !!! "
   ]
  },
  {
   "cell_type": "code",
   "execution_count": 45,
   "metadata": {},
   "outputs": [
    {
     "data": {
      "text/html": [
       "<div>\n",
       "<style scoped>\n",
       "    .dataframe tbody tr th:only-of-type {\n",
       "        vertical-align: middle;\n",
       "    }\n",
       "\n",
       "    .dataframe tbody tr th {\n",
       "        vertical-align: top;\n",
       "    }\n",
       "\n",
       "    .dataframe thead th {\n",
       "        text-align: right;\n",
       "    }\n",
       "</style>\n",
       "<table border=\"1\" class=\"dataframe\">\n",
       "  <thead>\n",
       "    <tr style=\"text-align: right;\">\n",
       "      <th></th>\n",
       "      <th>Patient_ID</th>\n",
       "      <th>Family_Case_ID</th>\n",
       "      <th>Severity</th>\n",
       "      <th>Name</th>\n",
       "      <th>Birthday_year</th>\n",
       "      <th>Parents or siblings infected</th>\n",
       "      <th>Wife/Husband or children infected</th>\n",
       "      <th>Medical_Expenses_Family</th>\n",
       "      <th>Medical_Tent</th>\n",
       "      <th>City</th>\n",
       "      <th>Deceased</th>\n",
       "    </tr>\n",
       "  </thead>\n",
       "  <tbody>\n",
       "    <tr>\n",
       "      <th>0</th>\n",
       "      <td>1</td>\n",
       "      <td>4696</td>\n",
       "      <td>3</td>\n",
       "      <td>Miss Linda Betty</td>\n",
       "      <td>NaN</td>\n",
       "      <td>0</td>\n",
       "      <td>0</td>\n",
       "      <td>225</td>\n",
       "      <td>NaN</td>\n",
       "      <td>Santa Fe</td>\n",
       "      <td>1</td>\n",
       "    </tr>\n",
       "    <tr>\n",
       "      <th>1</th>\n",
       "      <td>2</td>\n",
       "      <td>21436</td>\n",
       "      <td>1</td>\n",
       "      <td>Ms. Ramona Elvira</td>\n",
       "      <td>1966.0</td>\n",
       "      <td>0</td>\n",
       "      <td>1</td>\n",
       "      <td>1663</td>\n",
       "      <td>NaN</td>\n",
       "      <td>Albuquerque</td>\n",
       "      <td>0</td>\n",
       "    </tr>\n",
       "    <tr>\n",
       "      <th>2</th>\n",
       "      <td>3</td>\n",
       "      <td>7273</td>\n",
       "      <td>3</td>\n",
       "      <td>Mr. Mario Vernon</td>\n",
       "      <td>1982.0</td>\n",
       "      <td>0</td>\n",
       "      <td>0</td>\n",
       "      <td>221</td>\n",
       "      <td>NaN</td>\n",
       "      <td>Santa Fe</td>\n",
       "      <td>1</td>\n",
       "    </tr>\n",
       "    <tr>\n",
       "      <th>3</th>\n",
       "      <td>4</td>\n",
       "      <td>8226</td>\n",
       "      <td>3</td>\n",
       "      <td>Mr. Hector Joe</td>\n",
       "      <td>1997.0</td>\n",
       "      <td>0</td>\n",
       "      <td>0</td>\n",
       "      <td>220</td>\n",
       "      <td>NaN</td>\n",
       "      <td>Santa Fe</td>\n",
       "      <td>1</td>\n",
       "    </tr>\n",
       "    <tr>\n",
       "      <th>4</th>\n",
       "      <td>5</td>\n",
       "      <td>19689</td>\n",
       "      <td>3</td>\n",
       "      <td>Ms. Jennie Debra</td>\n",
       "      <td>1994.0</td>\n",
       "      <td>0</td>\n",
       "      <td>0</td>\n",
       "      <td>222</td>\n",
       "      <td>NaN</td>\n",
       "      <td>Santa Fe</td>\n",
       "      <td>0</td>\n",
       "    </tr>\n",
       "  </tbody>\n",
       "</table>\n",
       "</div>"
      ],
      "text/plain": [
       "   Patient_ID  Family_Case_ID  Severity               Name  Birthday_year  \\\n",
       "0           1            4696         3   Miss Linda Betty            NaN   \n",
       "1           2           21436         1  Ms. Ramona Elvira         1966.0   \n",
       "2           3            7273         3   Mr. Mario Vernon         1982.0   \n",
       "3           4            8226         3     Mr. Hector Joe         1997.0   \n",
       "4           5           19689         3   Ms. Jennie Debra         1994.0   \n",
       "\n",
       "   Parents or siblings infected  Wife/Husband or children infected  \\\n",
       "0                             0                                  0   \n",
       "1                             0                                  1   \n",
       "2                             0                                  0   \n",
       "3                             0                                  0   \n",
       "4                             0                                  0   \n",
       "\n",
       "   Medical_Expenses_Family Medical_Tent         City  Deceased  \n",
       "0                      225          NaN     Santa Fe         1  \n",
       "1                     1663          NaN  Albuquerque         0  \n",
       "2                      221          NaN     Santa Fe         1  \n",
       "3                      220          NaN     Santa Fe         1  \n",
       "4                      222          NaN     Santa Fe         0  "
      ]
     },
     "execution_count": 45,
     "metadata": {},
     "output_type": "execute_result"
    }
   ],
   "source": [
    "#Importing the data\n",
    "df = pd.read_csv('train.csv')\n",
    "df.head()"
   ]
  },
  {
   "cell_type": "code",
   "execution_count": 46,
   "metadata": {},
   "outputs": [
    {
     "data": {
      "text/plain": [
       "(900, 11)"
      ]
     },
     "execution_count": 46,
     "metadata": {},
     "output_type": "execute_result"
    }
   ],
   "source": [
    "df.shape"
   ]
  },
  {
   "cell_type": "code",
   "execution_count": 47,
   "metadata": {},
   "outputs": [
    {
     "data": {
      "text/html": [
       "<div>\n",
       "<style scoped>\n",
       "    .dataframe tbody tr th:only-of-type {\n",
       "        vertical-align: middle;\n",
       "    }\n",
       "\n",
       "    .dataframe tbody tr th {\n",
       "        vertical-align: top;\n",
       "    }\n",
       "\n",
       "    .dataframe thead th {\n",
       "        text-align: right;\n",
       "    }\n",
       "</style>\n",
       "<table border=\"1\" class=\"dataframe\">\n",
       "  <thead>\n",
       "    <tr style=\"text-align: right;\">\n",
       "      <th></th>\n",
       "      <th>Patient_ID</th>\n",
       "      <th>Family_Case_ID</th>\n",
       "      <th>Severity</th>\n",
       "      <th>Birthday_year</th>\n",
       "      <th>Parents or siblings infected</th>\n",
       "      <th>Wife/Husband or children infected</th>\n",
       "      <th>Medical_Expenses_Family</th>\n",
       "      <th>Deceased</th>\n",
       "    </tr>\n",
       "  </thead>\n",
       "  <tbody>\n",
       "    <tr>\n",
       "      <th>count</th>\n",
       "      <td>900.000000</td>\n",
       "      <td>900.000000</td>\n",
       "      <td>900.000000</td>\n",
       "      <td>723.000000</td>\n",
       "      <td>900.000000</td>\n",
       "      <td>900.000000</td>\n",
       "      <td>900.000000</td>\n",
       "      <td>900.000000</td>\n",
       "    </tr>\n",
       "    <tr>\n",
       "      <th>mean</th>\n",
       "      <td>450.500000</td>\n",
       "      <td>14305.827778</td>\n",
       "      <td>2.313333</td>\n",
       "      <td>1990.266943</td>\n",
       "      <td>0.380000</td>\n",
       "      <td>0.521111</td>\n",
       "      <td>895.743333</td>\n",
       "      <td>0.614444</td>\n",
       "    </tr>\n",
       "    <tr>\n",
       "      <th>std</th>\n",
       "      <td>259.951919</td>\n",
       "      <td>25418.153900</td>\n",
       "      <td>0.834223</td>\n",
       "      <td>14.523335</td>\n",
       "      <td>0.803247</td>\n",
       "      <td>1.098385</td>\n",
       "      <td>1385.829926</td>\n",
       "      <td>0.486997</td>\n",
       "    </tr>\n",
       "    <tr>\n",
       "      <th>min</th>\n",
       "      <td>1.000000</td>\n",
       "      <td>345.000000</td>\n",
       "      <td>1.000000</td>\n",
       "      <td>1940.000000</td>\n",
       "      <td>0.000000</td>\n",
       "      <td>0.000000</td>\n",
       "      <td>0.000000</td>\n",
       "      <td>0.000000</td>\n",
       "    </tr>\n",
       "    <tr>\n",
       "      <th>25%</th>\n",
       "      <td>225.750000</td>\n",
       "      <td>8203.000000</td>\n",
       "      <td>2.000000</td>\n",
       "      <td>1982.000000</td>\n",
       "      <td>0.000000</td>\n",
       "      <td>0.000000</td>\n",
       "      <td>221.000000</td>\n",
       "      <td>0.000000</td>\n",
       "    </tr>\n",
       "    <tr>\n",
       "      <th>50%</th>\n",
       "      <td>450.500000</td>\n",
       "      <td>13593.500000</td>\n",
       "      <td>3.000000</td>\n",
       "      <td>1992.000000</td>\n",
       "      <td>0.000000</td>\n",
       "      <td>0.000000</td>\n",
       "      <td>405.000000</td>\n",
       "      <td>1.000000</td>\n",
       "    </tr>\n",
       "    <tr>\n",
       "      <th>75%</th>\n",
       "      <td>675.250000</td>\n",
       "      <td>18906.500000</td>\n",
       "      <td>3.000000</td>\n",
       "      <td>1999.500000</td>\n",
       "      <td>0.000000</td>\n",
       "      <td>1.000000</td>\n",
       "      <td>861.250000</td>\n",
       "      <td>1.000000</td>\n",
       "    </tr>\n",
       "    <tr>\n",
       "      <th>max</th>\n",
       "      <td>900.000000</td>\n",
       "      <td>742836.000000</td>\n",
       "      <td>3.000000</td>\n",
       "      <td>2019.000000</td>\n",
       "      <td>6.000000</td>\n",
       "      <td>8.000000</td>\n",
       "      <td>14345.000000</td>\n",
       "      <td>1.000000</td>\n",
       "    </tr>\n",
       "  </tbody>\n",
       "</table>\n",
       "</div>"
      ],
      "text/plain": [
       "       Patient_ID  Family_Case_ID    Severity  Birthday_year  \\\n",
       "count  900.000000      900.000000  900.000000     723.000000   \n",
       "mean   450.500000    14305.827778    2.313333    1990.266943   \n",
       "std    259.951919    25418.153900    0.834223      14.523335   \n",
       "min      1.000000      345.000000    1.000000    1940.000000   \n",
       "25%    225.750000     8203.000000    2.000000    1982.000000   \n",
       "50%    450.500000    13593.500000    3.000000    1992.000000   \n",
       "75%    675.250000    18906.500000    3.000000    1999.500000   \n",
       "max    900.000000   742836.000000    3.000000    2019.000000   \n",
       "\n",
       "       Parents or siblings infected  Wife/Husband or children infected  \\\n",
       "count                    900.000000                         900.000000   \n",
       "mean                       0.380000                           0.521111   \n",
       "std                        0.803247                           1.098385   \n",
       "min                        0.000000                           0.000000   \n",
       "25%                        0.000000                           0.000000   \n",
       "50%                        0.000000                           0.000000   \n",
       "75%                        0.000000                           1.000000   \n",
       "max                        6.000000                           8.000000   \n",
       "\n",
       "       Medical_Expenses_Family    Deceased  \n",
       "count               900.000000  900.000000  \n",
       "mean                895.743333    0.614444  \n",
       "std                1385.829926    0.486997  \n",
       "min                   0.000000    0.000000  \n",
       "25%                 221.000000    0.000000  \n",
       "50%                 405.000000    1.000000  \n",
       "75%                 861.250000    1.000000  \n",
       "max               14345.000000    1.000000  "
      ]
     },
     "execution_count": 47,
     "metadata": {},
     "output_type": "execute_result"
    }
   ],
   "source": [
    "df.describe()"
   ]
  },
  {
   "cell_type": "code",
   "execution_count": 48,
   "metadata": {},
   "outputs": [],
   "source": [
    "def unique(df):\n",
    "    \"\"\"To check the unique values of each columns\"\"\"\n",
    "    cols = df.columns\n",
    "    for name in cols:\n",
    "        print('Unique values for column' , name , 'are: ' , df[name].unique())\n",
    "        \n",
    "#It doesn't seem to exist anything strange\n",
    "#unique(df)"
   ]
  },
  {
   "cell_type": "code",
   "execution_count": 49,
   "metadata": {},
   "outputs": [
    {
     "name": "stdout",
     "output_type": "stream",
     "text": [
      "<class 'pandas.core.frame.DataFrame'>\n",
      "RangeIndex: 900 entries, 0 to 899\n",
      "Data columns (total 11 columns):\n",
      "Patient_ID                           900 non-null int64\n",
      "Family_Case_ID                       900 non-null int64\n",
      "Severity                             900 non-null int64\n",
      "Name                                 900 non-null object\n",
      "Birthday_year                        723 non-null float64\n",
      "Parents or siblings infected         900 non-null int64\n",
      "Wife/Husband or children infected    900 non-null int64\n",
      "Medical_Expenses_Family              900 non-null int64\n",
      "Medical_Tent                         198 non-null object\n",
      "City                                 898 non-null object\n",
      "Deceased                             900 non-null int64\n",
      "dtypes: float64(1), int64(7), object(3)\n",
      "memory usage: 77.5+ KB\n"
     ]
    }
   ],
   "source": [
    "df.info()"
   ]
  },
  {
   "cell_type": "code",
   "execution_count": 50,
   "metadata": {},
   "outputs": [],
   "source": [
    "import seaborn as sns"
   ]
  },
  {
   "cell_type": "code",
   "execution_count": 51,
   "metadata": {},
   "outputs": [
    {
     "data": {
      "text/plain": [
       "<seaborn.axisgrid.PairGrid at 0x7f6e5afe5510>"
      ]
     },
     "execution_count": 51,
     "metadata": {},
     "output_type": "execute_result"
    },
    {
     "data": {
      "image/png": "[encoded data removed]",
      "text/plain": [
       "<Figure size 1080x1080 with 42 Axes>"
      ]
     },
     "metadata": {
      "needs_background": "light"
     },
     "output_type": "display_data"
    }
   ],
   "source": [
    "sns.pairplot(df[['Severity', 'Birthday_year', 'Parents or siblings infected', 'Wife/Husband or children infected', 'Medical_Expenses_Family',\n",
    "                'Medical_Tent', 'City', 'Deceased']])"
   ]
  },
  {
   "cell_type": "markdown",
   "metadata": {},
   "source": [
    "## 4. Replacing Nulls"
   ]
  },
  {
   "cell_type": "markdown",
   "metadata": {},
   "source": [
    "There were nulls values in the columns Birthday_year, City and Medical_tent.\n",
    "\n",
    "- **Birthday_year:** 117 (13% of the data)\n",
    "- **Medical_Tent:** 702 (78% of the data)\n",
    "- **City:** 2\n",
    "\n"
   ]
  },
  {
   "cell_type": "code",
   "execution_count": 52,
   "metadata": {},
   "outputs": [
    {
     "data": {
      "text/plain": [
       "Patient_ID                             0\n",
       "Family_Case_ID                         0\n",
       "Severity                               0\n",
       "Name                                   0\n",
       "Birthday_year                        177\n",
       "Parents or siblings infected           0\n",
       "Wife/Husband or children infected      0\n",
       "Medical_Expenses_Family                0\n",
       "Medical_Tent                         702\n",
       "City                                   2\n",
       "Deceased                               0\n",
       "dtype: int64"
      ]
     },
     "execution_count": 52,
     "metadata": {},
     "output_type": "execute_result"
    }
   ],
   "source": [
    "df.isnull().sum()"
   ]
  },
  {
   "cell_type": "markdown",
   "metadata": {},
   "source": [
    "#### **City column replacement:**\n",
    "\n",
    "On the dataframe with the NaN values we can see that the Family_Case_ID is the same for both patients. Therefore, we'll replace the values with the mode."
   ]
  },
  {
   "cell_type": "code",
   "execution_count": 53,
   "metadata": {},
   "outputs": [
    {
     "data": {
      "text/html": [
       "<div>\n",
       "<style scoped>\n",
       "    .dataframe tbody tr th:only-of-type {\n",
       "        vertical-align: middle;\n",
       "    }\n",
       "\n",
       "    .dataframe tbody tr th {\n",
       "        vertical-align: top;\n",
       "    }\n",
       "\n",
       "    .dataframe thead th {\n",
       "        text-align: right;\n",
       "    }\n",
       "</style>\n",
       "<table border=\"1\" class=\"dataframe\">\n",
       "  <thead>\n",
       "    <tr style=\"text-align: right;\">\n",
       "      <th></th>\n",
       "      <th>Patient_ID</th>\n",
       "      <th>Family_Case_ID</th>\n",
       "      <th>Severity</th>\n",
       "      <th>Name</th>\n",
       "      <th>Birthday_year</th>\n",
       "      <th>Parents or siblings infected</th>\n",
       "      <th>Wife/Husband or children infected</th>\n",
       "      <th>Medical_Expenses_Family</th>\n",
       "      <th>Medical_Tent</th>\n",
       "      <th>City</th>\n",
       "      <th>Deceased</th>\n",
       "    </tr>\n",
       "  </thead>\n",
       "  <tbody>\n",
       "    <tr>\n",
       "      <th>49</th>\n",
       "      <td>50</td>\n",
       "      <td>23155</td>\n",
       "      <td>1</td>\n",
       "      <td>Ms. Elizabeth Teri</td>\n",
       "      <td>1958.0</td>\n",
       "      <td>0</td>\n",
       "      <td>0</td>\n",
       "      <td>2240</td>\n",
       "      <td>B</td>\n",
       "      <td>NaN</td>\n",
       "      <td>0</td>\n",
       "    </tr>\n",
       "    <tr>\n",
       "      <th>530</th>\n",
       "      <td>531</td>\n",
       "      <td>23155</td>\n",
       "      <td>1</td>\n",
       "      <td>Ms. Tricia Kathryn</td>\n",
       "      <td>1982.0</td>\n",
       "      <td>0</td>\n",
       "      <td>0</td>\n",
       "      <td>2240</td>\n",
       "      <td>B</td>\n",
       "      <td>NaN</td>\n",
       "      <td>0</td>\n",
       "    </tr>\n",
       "  </tbody>\n",
       "</table>\n",
       "</div>"
      ],
      "text/plain": [
       "     Patient_ID  Family_Case_ID  Severity                Name  Birthday_year  \\\n",
       "49           50           23155         1  Ms. Elizabeth Teri         1958.0   \n",
       "530         531           23155         1  Ms. Tricia Kathryn         1982.0   \n",
       "\n",
       "     Parents or siblings infected  Wife/Husband or children infected  \\\n",
       "49                              0                                  0   \n",
       "530                             0                                  0   \n",
       "\n",
       "     Medical_Expenses_Family Medical_Tent City  Deceased  \n",
       "49                      2240            B  NaN         0  \n",
       "530                     2240            B  NaN         0  "
      ]
     },
     "execution_count": 53,
     "metadata": {},
     "output_type": "execute_result"
    }
   ],
   "source": [
    "df_city_nan = df[df['City'].isnull()]\n",
    "df_city_nan"
   ]
  },
  {
   "cell_type": "code",
   "execution_count": 54,
   "metadata": {},
   "outputs": [],
   "source": [
    "df['City'] = df['City'].fillna(\"Albuquerque\")"
   ]
  },
  {
   "cell_type": "markdown",
   "metadata": {},
   "source": [
    "#### **Medical_Tent column replacement:**\n",
    "\n",
    "We have 78% of the data missing here, isto is too much therefore we'll drop this column.\n",
    "\n",
    "We're going to drop on this step the Name column as well."
   ]
  },
  {
   "cell_type": "code",
   "execution_count": 55,
   "metadata": {},
   "outputs": [],
   "source": [
    "df = df.drop(['Name', 'Medical_Tent'], axis = 1)"
   ]
  },
  {
   "cell_type": "markdown",
   "metadata": {},
   "source": [
    "#### **Birthday_year column replacement:**\n",
    "\n",
    "Although we only have 13% of the data missing in this column we'll drop the rows where this column is null.\n",
    "Once we're working with epidemic data the cost of using artificial data is too high, so we won't replace this values.\n"
   ]
  },
  {
   "cell_type": "code",
   "execution_count": 56,
   "metadata": {},
   "outputs": [],
   "source": [
    "df = df.dropna(axis = 0)"
   ]
  },
  {
   "cell_type": "code",
   "execution_count": 57,
   "metadata": {},
   "outputs": [
    {
     "data": {
      "text/plain": [
       "Patient_ID                           0\n",
       "Family_Case_ID                       0\n",
       "Severity                             0\n",
       "Birthday_year                        0\n",
       "Parents or siblings infected         0\n",
       "Wife/Husband or children infected    0\n",
       "Medical_Expenses_Family              0\n",
       "City                                 0\n",
       "Deceased                             0\n",
       "dtype: int64"
      ]
     },
     "execution_count": 57,
     "metadata": {},
     "output_type": "execute_result"
    }
   ],
   "source": [
    "df.isnull().sum()"
   ]
  },
  {
   "cell_type": "code",
   "execution_count": 58,
   "metadata": {},
   "outputs": [
    {
     "data": {
      "text/plain": [
       "(723, 9)"
      ]
     },
     "execution_count": 58,
     "metadata": {},
     "output_type": "execute_result"
    }
   ],
   "source": [
    "df.shape\n",
    "#We have now 723 rows and 9 columns"
   ]
  },
  {
   "cell_type": "code",
   "execution_count": 59,
   "metadata": {},
   "outputs": [],
   "source": [
    "#Reset the index\n",
    "df = df.reset_index(drop = True)"
   ]
  },
  {
   "cell_type": "markdown",
   "metadata": {},
   "source": [
    "## 5. Removing Outliers"
   ]
  },
  {
   "cell_type": "code",
   "execution_count": 60,
   "metadata": {},
   "outputs": [],
   "source": [
    "import matplotlib.pyplot as plt"
   ]
  },
  {
   "cell_type": "code",
   "execution_count": 63,
   "metadata": {},
   "outputs": [
    {
     "data": {
      "text/plain": [
       "Index(['Patient_ID', 'Family_Case_ID', 'Severity', 'Birthday_year',\n",
       "       'Parents or siblings infected', 'Wife/Husband or children infected',\n",
       "       'Medical_Expenses_Family', 'City', 'Deceased'],\n",
       "      dtype='object')"
      ]
     },
     "execution_count": 63,
     "metadata": {},
     "output_type": "execute_result"
    }
   ],
   "source": [
    "df.columns"
   ]
  },
  {
   "cell_type": "code",
   "execution_count": 64,
   "metadata": {},
   "outputs": [
    {
     "data": {
      "image/png": "[encoded data removed]",
      "text/plain": [
       "<Figure size 432x288 with 1 Axes>"
      ]
     },
     "metadata": {
      "needs_background": "light"
     },
     "output_type": "display_data"
    },
    {
     "data": {
      "image/png": "[encoded data removed]",
      "text/plain": [
       "<Figure size 432x288 with 1 Axes>"
      ]
     },
     "metadata": {
      "needs_background": "light"
     },
     "output_type": "display_data"
    },
    {
     "data": {
      "image/png": "[encoded data removed]",
      "text/plain": [
       "<Figure size 432x288 with 1 Axes>"
      ]
     },
     "metadata": {
      "needs_background": "light"
     },
     "output_type": "display_data"
    },
    {
     "data": {
      "image/png": "[encoded data removed]",
      "text/plain": [
       "<Figure size 432x288 with 1 Axes>"
      ]
     },
     "metadata": {
      "needs_background": "light"
     },
     "output_type": "display_data"
    },
    {
     "data": {
      "image/png": "[encoded data removed]",
      "text/plain": [
       "<Figure size 432x288 with 1 Axes>"
      ]
     },
     "metadata": {
      "needs_background": "light"
     },
     "output_type": "display_data"
    }
   ],
   "source": [
    "col = ['Family_Case_ID', 'Severity', 'Parents or siblings infected', 'Wife/Husband or children infected',\n",
    "       'Medical_Expenses_Family']\n",
    "\n",
    "for col in col:\n",
    "\n",
    "    sns.boxplot(data = df[col], orient = \"h\", whis = 3.5)\n",
    "    plt.ylabel(col)\n",
    "    plt.show()"
   ]
  },
  {
   "cell_type": "markdown",
   "metadata": {},
   "source": [
    "We have outliers in: Family_Case_ID, Parents or siblings infected, Wife/Husband or children infected and Medical_Expenses_Family"
   ]
  },
  {
   "cell_type": "code",
   "execution_count": 68,
   "metadata": {},
   "outputs": [],
   "source": [
    "def zscore(series):\n",
    "    \"\"\"Returns the Z score\"\"\"\n",
    "    return (series-series.mean()) / series.std()"
   ]
  },
  {
   "cell_type": "code",
   "execution_count": 70,
   "metadata": {},
   "outputs": [],
   "source": [
    "out_1 = zscore(df['Family_Case_ID'])\n",
    "out_2 = zscore(df['Parents or siblings infected'])\n",
    "out_3 = zscore(df['Wife/Husband or children infected'])\n",
    "out_4 = zscore(df['Medical_Expenses_Family'])"
   ]
  },
  {
   "cell_type": "code",
   "execution_count": 71,
   "metadata": {},
   "outputs": [],
   "source": [
    "df_out = pd.DataFrame({'Family_Case_ID': out_1, 'Parents or siblings infected': out_2,\n",
    "                       'Wife/Husband or children infected': out_3, 'Medical_Expenses_Family': out_4\n",
    "                      })"
   ]
  },
  {
   "cell_type": "code",
   "execution_count": 72,
   "metadata": {},
   "outputs": [
    {
     "data": {
      "text/plain": [
       "(723, 4)"
      ]
     },
     "execution_count": 72,
     "metadata": {},
     "output_type": "execute_result"
    }
   ],
   "source": [
    "df_out.shape #Correct"
   ]
  },
  {
   "cell_type": "markdown",
   "metadata": {},
   "source": [
    "With a threshold of 3 we got 67 outliers that's about 7% of the data, too much.\n",
    "\n",
    "With a threshold of 4 we got 35 outliers that's about 4% of the data, this is fine."
   ]
  },
  {
   "cell_type": "code",
   "execution_count": 73,
   "metadata": {},
   "outputs": [],
   "source": [
    "df_out_1 = df_out[(df_out['Family_Case_ID'] > 4) | (df_out['Family_Case_ID'] < -4)]\n",
    "#df_out_1.shape\n",
    "#2 outliers with threshold = 3\n",
    "#2 outliers with threshold = 4\n",
    "list_1 = list(df_out_1.index)"
   ]
  },
  {
   "cell_type": "code",
   "execution_count": 74,
   "metadata": {},
   "outputs": [],
   "source": [
    "df_out_2 = df_out[(df_out['Parents or siblings infected'] > 4) | (df_out['Parents or siblings infected'] < -4)]\n",
    "#df_out_2.shape\n",
    "#15 outliers with threshold = 3\n",
    "#10 outliers with threshold = 4\n",
    "list_2 = list(df_out_2.index)"
   ]
  },
  {
   "cell_type": "markdown",
   "metadata": {},
   "source": [
    "df_out_3 = df_out[(df_out['Wife/Husband or children infected'] > 4) | (df_out['Wife/Husband or children infected'] < -4)]\n",
    "#df_out_3.shape\n",
    "#30 outliers with threshold = 3\n",
    "#12 outliers with threshold = 4\n",
    "list_3 = list(df_out_3.index)"
   ]
  },
  {
   "cell_type": "code",
   "execution_count": 76,
   "metadata": {},
   "outputs": [],
   "source": [
    "df_out_4 = df_out[(df_out['Medical_Expenses_Family'] > 4) | (df_out['Medical_Expenses_Family'] < -4)]\n",
    "#df_out_4.shape\n",
    "#20 outliers with threshold = 3\n",
    "#11 outliers with threshold = 4\n",
    "list_4 = list(df_out_4.index)"
   ]
  },
  {
   "cell_type": "code",
   "execution_count": 77,
   "metadata": {},
   "outputs": [],
   "source": [
    "#all outliers together\n",
    "list_all = list_1 + list_2 + list_3 + list_4\n",
    "\n",
    "list_to_remove = []\n",
    "\n",
    "for i in list_all:\n",
    "  if i not in list_to_remove:\n",
    "    list_to_remove.append(i)"
   ]
  },
  {
   "cell_type": "code",
   "execution_count": 79,
   "metadata": {},
   "outputs": [],
   "source": [
    "for i in list_to_remove:\n",
    "    df = df.drop([df.index[i]])"
   ]
  },
  {
   "cell_type": "code",
   "execution_count": 83,
   "metadata": {},
   "outputs": [],
   "source": [
    "df = df.reset_index(drop = True)"
   ]
  },
  {
   "cell_type": "markdown",
   "metadata": {},
   "source": [
    "We lost 4,43% of the data, not bad."
   ]
  },
  {
   "cell_type": "code",
   "execution_count": 86,
   "metadata": {},
   "outputs": [
    {
     "data": {
      "text/plain": [
       "(697, 9)"
      ]
     },
     "execution_count": 86,
     "metadata": {},
     "output_type": "execute_result"
    }
   ],
   "source": [
    "df.shape\n",
    "#697 rows and 9 columns"
   ]
  },
  {
   "cell_type": "markdown",
   "metadata": {},
   "source": [
    "## 6. Feature Selection"
   ]
  },
  {
   "cell_type": "code",
   "execution_count": 88,
   "metadata": {},
   "outputs": [],
   "source": [
    "from scipy.stats import spearmanr\n",
    "from sklearn.linear_model import LinearRegression\n",
    "from sklearn.feature_selection import RFE\n",
    "from sklearn.model_selection import train_test_split\n",
    "from sklearn.linear_model import LassoCV\n",
    "from sklearn.linear_model import RidgeCV"
   ]
  },
  {
   "cell_type": "code",
   "execution_count": 89,
   "metadata": {},
   "outputs": [
    {
     "data": {
      "text/plain": [
       "Index(['Patient_ID', 'Family_Case_ID', 'Severity', 'Birthday_year',\n",
       "       'Parents or siblings infected', 'Wife/Husband or children infected',\n",
       "       'Medical_Expenses_Family', 'City', 'Deceased'],\n",
       "      dtype='object')"
      ]
     },
     "execution_count": 89,
     "metadata": {},
     "output_type": "execute_result"
    }
   ],
   "source": [
    "df.columns"
   ]
  },
  {
   "cell_type": "markdown",
   "metadata": {},
   "source": [
    "`FEATURES`categorical and numerical<br>\n",
    "\n",
    "`TARGET` categorical<br>\n",
    "\n",
    "Once we have categorical and numerical input we need to divide the features in order to decide which numerical and categorical feature contributes the most:\n",
    "\n",
    "1. Numerical Input/ Categorical Output: ANOVA and Kendall's\n",
    "\n",
    "2. Categorical Input/ Categorical Output: Chi-Squared and Mutual Information"
   ]
  },
  {
   "cell_type": "markdown",
   "metadata": {},
   "source": [
    "#### 1. ANOVA - Feature selection for numeric input and categorical output"
   ]
  },
  {
   "cell_type": "code",
   "execution_count": 92,
   "metadata": {},
   "outputs": [],
   "source": [
    "df_ANOVA_X = df[['Birthday_year', 'Parents or siblings infected', \n",
    "              'Wife/Husband or children infected', 'Medical_Expenses_Family']]\n",
    "\n",
    "df_ANOVA_y = df['Deceased']\n",
    "\n",
    "X = df_ANOVA_X.to_numpy()\n",
    "\n",
    "y = df_ANOVA_y.to_numpy()"
   ]
  },
  {
   "cell_type": "code",
   "execution_count": 95,
   "metadata": {},
   "outputs": [],
   "source": [
    "from sklearn.datasets import make_classification\n",
    "from sklearn.feature_selection import SelectKBest, f_classif"
   ]
  },
  {
   "cell_type": "code",
   "execution_count": 105,
   "metadata": {},
   "outputs": [
    {
     "name": "stdout",
     "output_type": "stream",
     "text": [
      "[[-1.02070937 -1.2382596 ]\n",
      " [ 0.33799075 -0.75824727]\n",
      " [ 1.04468223  0.10268952]\n",
      " ...\n",
      " [ 0.02202496  0.32149047]\n",
      " [-0.15779783 -2.7455081 ]\n",
      " [ 1.34904322  0.8998374 ]]\n"
     ]
    },
    {
     "ename": "NameError",
     "evalue": "name 'scores' is not defined",
     "output_type": "error",
     "traceback": [
      "\u001b[0;31m---------------------------------------------------------------------------\u001b[0m",
      "\u001b[0;31mNameError\u001b[0m                                 Traceback (most recent call last)",
      "\u001b[0;32m<ipython-input-105-bb996099931f>\u001b[0m in \u001b[0;36m<module>\u001b[0;34m\u001b[0m\n\u001b[1;32m      7\u001b[0m \u001b[0mX_selected\u001b[0m \u001b[0;34m=\u001b[0m \u001b[0mfs\u001b[0m\u001b[0;34m.\u001b[0m\u001b[0mfit_transform\u001b[0m\u001b[0;34m(\u001b[0m\u001b[0mX\u001b[0m\u001b[0;34m,\u001b[0m \u001b[0my\u001b[0m\u001b[0;34m)\u001b[0m\u001b[0;34m\u001b[0m\u001b[0;34m\u001b[0m\u001b[0m\n\u001b[1;32m      8\u001b[0m \u001b[0mprint\u001b[0m\u001b[0;34m(\u001b[0m\u001b[0mX_selected\u001b[0m\u001b[0;34m)\u001b[0m \u001b[0;31m# 2 best out of 4\u001b[0m\u001b[0;34m\u001b[0m\u001b[0;34m\u001b[0m\u001b[0m\n\u001b[0;32m----> 9\u001b[0;31m \u001b[0mscores\u001b[0m\u001b[0;34m(\u001b[0m\u001b[0mX_selected\u001b[0m\u001b[0;34m)\u001b[0m\u001b[0;34m\u001b[0m\u001b[0;34m\u001b[0m\u001b[0m\n\u001b[0m\u001b[1;32m     10\u001b[0m \u001b[0;31m#features_selected = pd.Series(X_selected, index = df_ANOVA_X.columns)\u001b[0m\u001b[0;34m\u001b[0m\u001b[0;34m\u001b[0m\u001b[0;34m\u001b[0m\u001b[0m\n\u001b[1;32m     11\u001b[0m \u001b[0;34m\u001b[0m\u001b[0m\n",
      "\u001b[0;31mNameError\u001b[0m: name 'scores' is not defined"
     ]
    }
   ],
   "source": [
    "X, y = make_classification(n_samples = 600, n_features = 4, n_informative = 2)\n",
    "\n",
    "# define feature selection: ANOVA\n",
    "fs = SelectKBest(score_func = f_classif, k = 2)\n",
    "\n",
    "# apply feature selection\n",
    "X_selected = fs.fit_transform(X, y)\n",
    "print(X_selected) # 2 best out of 4\n",
    "scores(X_selected)\n",
    "#features_selected = pd.Series(X_selected, index = df_ANOVA_X.columns)\n",
    "\n"
   ]
  },
  {
   "cell_type": "code",
   "execution_count": null,
   "metadata": {},
   "outputs": [],
   "source": []
  }
 ],
 "metadata": {
  "kernelspec": {
   "display_name": "Python 3",
   "language": "python",
   "name": "python3"
  },
  "language_info": {
   "codemirror_mode": {
    "name": "ipython",
    "version": 3
   },
   "file_extension": ".py",
   "mimetype": "text/x-python",
   "name": "python",
   "nbconvert_exporter": "python",
   "pygments_lexer": "ipython3",
   "version": "3.7.5"
  }
 },
 "nbformat": 4,
 "nbformat_minor": 4
}
