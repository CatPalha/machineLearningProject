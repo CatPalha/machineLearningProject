{
 "cells": [
  {
   "cell_type": "markdown",
   "metadata": {},
   "source": [
    "![alt text](BooleanPandemic.jpg)"
   ]
  },
  {
   "cell_type": "markdown",
   "metadata": {},
   "source": [
    "### <h1><center>**The Boolean Pandemic**</center></h1>\n",
    "#### <center> **Machine Learning Project** </center> \n",
    "\n",
    "   <center> Catarina Palha - M20190156\n",
    "    <br>\n",
    "    Mafalda Zúquete - M20190257\n",
    "    <br>\n",
    "    Maren Leuthner - M20190134\n",
    "    <br>\n",
    "    Pedro Carvalho - M20190417</center>"
   ]
  },
  {
   "cell_type": "markdown",
   "metadata": {},
   "source": [
    "###  Methodology <a class=\"anchor\"><a id='toc'></a></b><br>\n",
    "\n",
    "* [1. Introduction](#intro)\n",
    "    * [1.1 Loading the data and packages](#packages)\n",
    "    * [1.2 About the data](#data)\n",
    "        * [1.2.1. First Look at the data](#look)\n",
    "        * [1.2.2. Null and absurd values](#absurd)\n",
    "        * [1.2.3. Class Balance](#balance)\n",
    "    \n",
    "    \n",
    "* [2. Data Cleaning and Preprocessing](#cleaning)\n",
    "    * [2.1 Adding new Variables](#var)\n",
    "    * [2.2 Encoding Categorical Values](#encoding)\n",
    "    * [2.3 Replacing Nulls](#nulls)\n",
    "    * [2.4 Removing Outliers](#removing)\n",
    "    * [2.5 Oversampling](#oversampling)\n",
    "\n",
    "\n",
    "* [3. Finding the Best Model](#testing)\n",
    "    * [3.1 Tuning Hyperparameters](#hyperp)\n",
    "    * [3.2 Data Cleaning and Scaling](#dataclean)\n",
    "    * [3.3 Feature Selection](#featureselc)\n",
    "\n",
    "\n",
    "* [4. Ensemble Models](#ensembles)\n",
    "    * [4.1 Bagging](#bagging)\n",
    " \n",
    " \n",
    "* [5. Best Model](#model)\n",
    "\n",
    "\n",
    "* [6. Classifying New Data](#newdata)\n",
    "\n",
    "\n",
    "* [7. Keras Experimenation](#keras)"
   ]
  },
  {
   "cell_type": "markdown",
   "metadata": {},
   "source": [
    "  ### <font color='#E8800A'>1. Introduction</font> <a class=\"anchor\" id=\"intro\"></a>\n",
    "  [Back to TOC](#toc)"
   ]
  },
  {
   "cell_type": "markdown",
   "metadata": {},
   "source": [
    "On January 1st, 2020, an epidemy was originated in Albuquerque, in New Mexico state, and spread on the\n",
    "following days to Santa Fe and Taos. It is estimated that the epidemy has already affected more than 1000\n",
    "people at the end of February, with a mortality rate of more than 50%.\n",
    "\n",
    "\n",
    "While the conditions of the transmission of the virus is still unknown and there are no certainties of what leads a patient to survive or not to the virus, it seems there are some groups of people more prone to survive than others. The goal of the challenge was to build a predictive model that answers the question:\n",
    "\n",
    "\n",
    "**\"What are the people more likely to survive to the boolean pandemic?\"**\n",
    "\n",
    "\n",
    "As data scientists, our team was asked to analyze and transform the data available and apply different models in order to answer in a more accurate way the defined question above. \n",
    "**The ultimate goal was to design a model that can predict if a patient will survive, or not, to the boolean pandemic.**"
   ]
  },
  {
   "cell_type": "markdown",
   "metadata": {},
   "source": [
    "  ### <font color='#E8800A'>1.1 Loading the data and packages</font> <a class=\"anchor\" id=\"packages\"></a>\n",
    "  [Back to TOC](#toc)"
   ]
  },
  {
   "cell_type": "code",
   "execution_count": 1,
   "metadata": {},
   "outputs": [],
   "source": [
    "import pandas as pd\n",
    "import numpy as np\n",
    "from sklearn.impute import KNNImputer\n",
    "from sklearn.preprocessing import LabelEncoder,OneHotEncoder,StandardScaler,MinMaxScaler,RobustScaler,MaxAbsScaler\n",
    "import seaborn as sns\n",
    "import matplotlib.pyplot as plt\n",
    "from sklearn.feature_selection import f_classif, chi2, RFECV\n",
    "from sklearn.neighbors import KNeighborsClassifier\n",
    "from sklearn.naive_bayes import GaussianNB\n",
    "from sklearn.svm import SVC\n",
    "from sklearn.linear_model import LogisticRegression\n",
    "from sklearn.neural_network import MLPClassifier\n",
    "from sklearn.tree import DecisionTreeClassifier\n",
    "from sklearn.ensemble import StackingClassifier,AdaBoostClassifier,GradientBoostingClassifier,RandomForestClassifier,BaggingClassifier\n",
    "from sklearn.model_selection import StratifiedKFold,GridSearchCV,RandomizedSearchCV\n",
    "import time\n",
    "from sklearn.metrics import classification_report,confusion_matrix\n",
    "from copy import deepcopy\n",
    "\n",
    "import warnings\n",
    "warnings.filterwarnings('ignore')"
   ]
  },
  {
   "cell_type": "code",
   "execution_count": 2,
   "metadata": {},
   "outputs": [],
   "source": [
    "train = pd.read_csv('train.csv')"
   ]
  },
  {
   "cell_type": "markdown",
   "metadata": {},
   "source": [
    "  ### <font color='#E8800A'>1.2 About the data</font> <a class=\"anchor\" id=\"data\"></a>\n",
    "  [Back to TOC](#toc)"
   ]
  },
  {
   "cell_type": "markdown",
   "metadata": {},
   "source": [
    "`Patient_ID` The unique identifier of the patient<br>\n",
    "`Family_Case_ID` The family identification<br>\n",
    "`Severity`The severity of the disease, where 1 is the lowest and 3 the highest severity<br>\n",
    "`Name`The name of the patient<br>\n",
    "`Birthday_year`The year of birthday of the patient<br>\n",
    "`Parents_Siblings_Infected` The number of parents and/or siblings infected<br>\n",
    "`Partner_Children_Infected`The number of partner and/or children infected<br>\n",
    "`Medical_Expenses_Family`The medical expenses associated to try to contain the epidemy on the family<br>\n",
    "`Medical_Tent` The medical tent where the patient is / was lodged<br>\n",
    "`City` The original city of the patient<br>\n",
    "`Deceased` Flag if the patient deceased or not with the virus (0 = No, 1 = Yes)<br>"
   ]
  },
  {
   "cell_type": "code",
   "execution_count": 3,
   "metadata": {},
   "outputs": [
    {
     "data": {
      "text/html": [
       "<div>\n",
       "<style scoped>\n",
       "    .dataframe tbody tr th:only-of-type {\n",
       "        vertical-align: middle;\n",
       "    }\n",
       "\n",
       "    .dataframe tbody tr th {\n",
       "        vertical-align: top;\n",
       "    }\n",
       "\n",
       "    .dataframe thead th {\n",
       "        text-align: right;\n",
       "    }\n",
       "</style>\n",
       "<table border=\"1\" class=\"dataframe\">\n",
       "  <thead>\n",
       "    <tr style=\"text-align: right;\">\n",
       "      <th></th>\n",
       "      <th>Patient_ID</th>\n",
       "      <th>Family_Case_ID</th>\n",
       "      <th>Severity</th>\n",
       "      <th>Name</th>\n",
       "      <th>Birthday_year</th>\n",
       "      <th>Parents or siblings infected</th>\n",
       "      <th>Wife/Husband or children infected</th>\n",
       "      <th>Medical_Expenses_Family</th>\n",
       "      <th>Medical_Tent</th>\n",
       "      <th>City</th>\n",
       "      <th>Deceased</th>\n",
       "    </tr>\n",
       "  </thead>\n",
       "  <tbody>\n",
       "    <tr>\n",
       "      <th>0</th>\n",
       "      <td>1</td>\n",
       "      <td>4696</td>\n",
       "      <td>3</td>\n",
       "      <td>Miss Linda Betty</td>\n",
       "      <td>NaN</td>\n",
       "      <td>0</td>\n",
       "      <td>0</td>\n",
       "      <td>225</td>\n",
       "      <td>NaN</td>\n",
       "      <td>Santa Fe</td>\n",
       "      <td>1</td>\n",
       "    </tr>\n",
       "    <tr>\n",
       "      <th>1</th>\n",
       "      <td>2</td>\n",
       "      <td>21436</td>\n",
       "      <td>1</td>\n",
       "      <td>Ms. Ramona Elvira</td>\n",
       "      <td>1966.0</td>\n",
       "      <td>0</td>\n",
       "      <td>1</td>\n",
       "      <td>1663</td>\n",
       "      <td>NaN</td>\n",
       "      <td>Albuquerque</td>\n",
       "      <td>0</td>\n",
       "    </tr>\n",
       "    <tr>\n",
       "      <th>2</th>\n",
       "      <td>3</td>\n",
       "      <td>7273</td>\n",
       "      <td>3</td>\n",
       "      <td>Mr. Mario Vernon</td>\n",
       "      <td>1982.0</td>\n",
       "      <td>0</td>\n",
       "      <td>0</td>\n",
       "      <td>221</td>\n",
       "      <td>NaN</td>\n",
       "      <td>Santa Fe</td>\n",
       "      <td>1</td>\n",
       "    </tr>\n",
       "    <tr>\n",
       "      <th>3</th>\n",
       "      <td>4</td>\n",
       "      <td>8226</td>\n",
       "      <td>3</td>\n",
       "      <td>Mr. Hector Joe</td>\n",
       "      <td>1997.0</td>\n",
       "      <td>0</td>\n",
       "      <td>0</td>\n",
       "      <td>220</td>\n",
       "      <td>NaN</td>\n",
       "      <td>Santa Fe</td>\n",
       "      <td>1</td>\n",
       "    </tr>\n",
       "    <tr>\n",
       "      <th>4</th>\n",
       "      <td>5</td>\n",
       "      <td>19689</td>\n",
       "      <td>3</td>\n",
       "      <td>Ms. Jennie Debra</td>\n",
       "      <td>1994.0</td>\n",
       "      <td>0</td>\n",
       "      <td>0</td>\n",
       "      <td>222</td>\n",
       "      <td>NaN</td>\n",
       "      <td>Santa Fe</td>\n",
       "      <td>0</td>\n",
       "    </tr>\n",
       "  </tbody>\n",
       "</table>\n",
       "</div>"
      ],
      "text/plain": [
       "   Patient_ID  Family_Case_ID  Severity               Name  Birthday_year  \\\n",
       "0           1            4696         3   Miss Linda Betty            NaN   \n",
       "1           2           21436         1  Ms. Ramona Elvira         1966.0   \n",
       "2           3            7273         3   Mr. Mario Vernon         1982.0   \n",
       "3           4            8226         3     Mr. Hector Joe         1997.0   \n",
       "4           5           19689         3   Ms. Jennie Debra         1994.0   \n",
       "\n",
       "   Parents or siblings infected  Wife/Husband or children infected  \\\n",
       "0                             0                                  0   \n",
       "1                             0                                  1   \n",
       "2                             0                                  0   \n",
       "3                             0                                  0   \n",
       "4                             0                                  0   \n",
       "\n",
       "   Medical_Expenses_Family Medical_Tent         City  Deceased  \n",
       "0                      225          NaN     Santa Fe         1  \n",
       "1                     1663          NaN  Albuquerque         0  \n",
       "2                      221          NaN     Santa Fe         1  \n",
       "3                      220          NaN     Santa Fe         1  \n",
       "4                      222          NaN     Santa Fe         0  "
      ]
     },
     "execution_count": 3,
     "metadata": {},
     "output_type": "execute_result"
    }
   ],
   "source": [
    "train.head()"
   ]
  },
  {
   "cell_type": "markdown",
   "metadata": {},
   "source": [
    "  ### <font color='#E8800A'>1.2.1 First Look at the data</font> <a class=\"anchor\" id=\"look\"></a>\n",
    "  [Back to TOC](#toc)"
   ]
  },
  {
   "cell_type": "code",
   "execution_count": 4,
   "metadata": {},
   "outputs": [
    {
     "data": {
      "text/plain": [
       "(900, 11)"
      ]
     },
     "execution_count": 4,
     "metadata": {},
     "output_type": "execute_result"
    }
   ],
   "source": [
    "train.shape"
   ]
  },
  {
   "cell_type": "code",
   "execution_count": 5,
   "metadata": {},
   "outputs": [
    {
     "data": {
      "text/plain": [
       "Index(['Patient_ID', 'Family_Case_ID', 'Severity', 'Name', 'Birthday_year',\n",
       "       'Parents or siblings infected', 'Wife/Husband or children infected',\n",
       "       'Medical_Expenses_Family', 'Medical_Tent', 'City', 'Deceased'],\n",
       "      dtype='object')"
      ]
     },
     "execution_count": 5,
     "metadata": {},
     "output_type": "execute_result"
    }
   ],
   "source": [
    "train.columns"
   ]
  },
  {
   "cell_type": "code",
   "execution_count": 6,
   "metadata": {},
   "outputs": [
    {
     "data": {
      "text/plain": [
       "Patient_ID                             int64\n",
       "Family_Case_ID                         int64\n",
       "Severity                               int64\n",
       "Name                                  object\n",
       "Birthday_year                        float64\n",
       "Parents or siblings infected           int64\n",
       "Wife/Husband or children infected      int64\n",
       "Medical_Expenses_Family                int64\n",
       "Medical_Tent                          object\n",
       "City                                  object\n",
       "Deceased                               int64\n",
       "dtype: object"
      ]
     },
     "execution_count": 6,
     "metadata": {},
     "output_type": "execute_result"
    }
   ],
   "source": [
    "train.dtypes"
   ]
  },
  {
   "cell_type": "markdown",
   "metadata": {},
   "source": [
    "### <font color='#E8800A'>1.2.2 Null and absurd values</font> <a class=\"anchor\" id=\"absurd\"></a>\n",
    "  [Back to TOC](#toc)\n",
    " "
   ]
  },
  {
   "cell_type": "code",
   "execution_count": 7,
   "metadata": {
    "scrolled": true
   },
   "outputs": [
    {
     "name": "stdout",
     "output_type": "stream",
     "text": [
      "<class 'pandas.core.frame.DataFrame'>\n",
      "RangeIndex: 900 entries, 0 to 899\n",
      "Data columns (total 11 columns):\n",
      " #   Column                             Non-Null Count  Dtype  \n",
      "---  ------                             --------------  -----  \n",
      " 0   Patient_ID                         900 non-null    int64  \n",
      " 1   Family_Case_ID                     900 non-null    int64  \n",
      " 2   Severity                           900 non-null    int64  \n",
      " 3   Name                               900 non-null    object \n",
      " 4   Birthday_year                      723 non-null    float64\n",
      " 5   Parents or siblings infected       900 non-null    int64  \n",
      " 6   Wife/Husband or children infected  900 non-null    int64  \n",
      " 7   Medical_Expenses_Family            900 non-null    int64  \n",
      " 8   Medical_Tent                       198 non-null    object \n",
      " 9   City                               898 non-null    object \n",
      " 10  Deceased                           900 non-null    int64  \n",
      "dtypes: float64(1), int64(7), object(3)\n",
      "memory usage: 77.5+ KB\n"
     ]
    }
   ],
   "source": [
    "train.info()"
   ]
  },
  {
   "cell_type": "code",
   "execution_count": 8,
   "metadata": {},
   "outputs": [
    {
     "data": {
      "text/html": [
       "<div>\n",
       "<style scoped>\n",
       "    .dataframe tbody tr th:only-of-type {\n",
       "        vertical-align: middle;\n",
       "    }\n",
       "\n",
       "    .dataframe tbody tr th {\n",
       "        vertical-align: top;\n",
       "    }\n",
       "\n",
       "    .dataframe thead th {\n",
       "        text-align: right;\n",
       "    }\n",
       "</style>\n",
       "<table border=\"1\" class=\"dataframe\">\n",
       "  <thead>\n",
       "    <tr style=\"text-align: right;\">\n",
       "      <th></th>\n",
       "      <th>Patient_ID</th>\n",
       "      <th>Family_Case_ID</th>\n",
       "      <th>Severity</th>\n",
       "      <th>Birthday_year</th>\n",
       "      <th>Parents or siblings infected</th>\n",
       "      <th>Wife/Husband or children infected</th>\n",
       "      <th>Medical_Expenses_Family</th>\n",
       "      <th>Deceased</th>\n",
       "    </tr>\n",
       "  </thead>\n",
       "  <tbody>\n",
       "    <tr>\n",
       "      <th>count</th>\n",
       "      <td>900.000000</td>\n",
       "      <td>900.000000</td>\n",
       "      <td>900.000000</td>\n",
       "      <td>723.000000</td>\n",
       "      <td>900.000000</td>\n",
       "      <td>900.000000</td>\n",
       "      <td>900.000000</td>\n",
       "      <td>900.000000</td>\n",
       "    </tr>\n",
       "    <tr>\n",
       "      <th>mean</th>\n",
       "      <td>450.500000</td>\n",
       "      <td>14305.827778</td>\n",
       "      <td>2.313333</td>\n",
       "      <td>1990.266943</td>\n",
       "      <td>0.380000</td>\n",
       "      <td>0.521111</td>\n",
       "      <td>895.743333</td>\n",
       "      <td>0.614444</td>\n",
       "    </tr>\n",
       "    <tr>\n",
       "      <th>std</th>\n",
       "      <td>259.951919</td>\n",
       "      <td>25418.153900</td>\n",
       "      <td>0.834223</td>\n",
       "      <td>14.523335</td>\n",
       "      <td>0.803247</td>\n",
       "      <td>1.098385</td>\n",
       "      <td>1385.829926</td>\n",
       "      <td>0.486997</td>\n",
       "    </tr>\n",
       "    <tr>\n",
       "      <th>min</th>\n",
       "      <td>1.000000</td>\n",
       "      <td>345.000000</td>\n",
       "      <td>1.000000</td>\n",
       "      <td>1940.000000</td>\n",
       "      <td>0.000000</td>\n",
       "      <td>0.000000</td>\n",
       "      <td>0.000000</td>\n",
       "      <td>0.000000</td>\n",
       "    </tr>\n",
       "    <tr>\n",
       "      <th>25%</th>\n",
       "      <td>225.750000</td>\n",
       "      <td>8203.000000</td>\n",
       "      <td>2.000000</td>\n",
       "      <td>1982.000000</td>\n",
       "      <td>0.000000</td>\n",
       "      <td>0.000000</td>\n",
       "      <td>221.000000</td>\n",
       "      <td>0.000000</td>\n",
       "    </tr>\n",
       "    <tr>\n",
       "      <th>50%</th>\n",
       "      <td>450.500000</td>\n",
       "      <td>13593.500000</td>\n",
       "      <td>3.000000</td>\n",
       "      <td>1992.000000</td>\n",
       "      <td>0.000000</td>\n",
       "      <td>0.000000</td>\n",
       "      <td>405.000000</td>\n",
       "      <td>1.000000</td>\n",
       "    </tr>\n",
       "    <tr>\n",
       "      <th>75%</th>\n",
       "      <td>675.250000</td>\n",
       "      <td>18906.500000</td>\n",
       "      <td>3.000000</td>\n",
       "      <td>1999.500000</td>\n",
       "      <td>0.000000</td>\n",
       "      <td>1.000000</td>\n",
       "      <td>861.250000</td>\n",
       "      <td>1.000000</td>\n",
       "    </tr>\n",
       "    <tr>\n",
       "      <th>max</th>\n",
       "      <td>900.000000</td>\n",
       "      <td>742836.000000</td>\n",
       "      <td>3.000000</td>\n",
       "      <td>2019.000000</td>\n",
       "      <td>6.000000</td>\n",
       "      <td>8.000000</td>\n",
       "      <td>14345.000000</td>\n",
       "      <td>1.000000</td>\n",
       "    </tr>\n",
       "  </tbody>\n",
       "</table>\n",
       "</div>"
      ],
      "text/plain": [
       "       Patient_ID  Family_Case_ID    Severity  Birthday_year  \\\n",
       "count  900.000000      900.000000  900.000000     723.000000   \n",
       "mean   450.500000    14305.827778    2.313333    1990.266943   \n",
       "std    259.951919    25418.153900    0.834223      14.523335   \n",
       "min      1.000000      345.000000    1.000000    1940.000000   \n",
       "25%    225.750000     8203.000000    2.000000    1982.000000   \n",
       "50%    450.500000    13593.500000    3.000000    1992.000000   \n",
       "75%    675.250000    18906.500000    3.000000    1999.500000   \n",
       "max    900.000000   742836.000000    3.000000    2019.000000   \n",
       "\n",
       "       Parents or siblings infected  Wife/Husband or children infected  \\\n",
       "count                    900.000000                         900.000000   \n",
       "mean                       0.380000                           0.521111   \n",
       "std                        0.803247                           1.098385   \n",
       "min                        0.000000                           0.000000   \n",
       "25%                        0.000000                           0.000000   \n",
       "50%                        0.000000                           0.000000   \n",
       "75%                        0.000000                           1.000000   \n",
       "max                        6.000000                           8.000000   \n",
       "\n",
       "       Medical_Expenses_Family    Deceased  \n",
       "count               900.000000  900.000000  \n",
       "mean                895.743333    0.614444  \n",
       "std                1385.829926    0.486997  \n",
       "min                   0.000000    0.000000  \n",
       "25%                 221.000000    0.000000  \n",
       "50%                 405.000000    1.000000  \n",
       "75%                 861.250000    1.000000  \n",
       "max               14345.000000    1.000000  "
      ]
     },
     "execution_count": 8,
     "metadata": {},
     "output_type": "execute_result"
    }
   ],
   "source": [
    "train.describe()"
   ]
  },
  {
   "cell_type": "code",
   "execution_count": 9,
   "metadata": {},
   "outputs": [
    {
     "name": "stdout",
     "output_type": "stream",
     "text": [
      "Severity: [3 1 2]\n",
      "Birthday_year: [  nan 1966. 1982. 1997. 1994. 1984. 1989. 2000. 2009. 1999. 1991. 2019.\n",
      " 1964. 2017. 1987. 2011. 1998. 2002. 1992. 1981. 1990. 1978. 2001. 1958.\n",
      " 1996. 2004. 1962. 1970. 1985. 1965. 2018. 1995. 1956. 2003. 1986. 1971.\n",
      " 1983. 2005. 1975. 1950. 2016. 2013. 1980. 1979. 2014. 1988. 1993. 1968.\n",
      " 2006. 1973. 2007. 2012. 1946. 1974. 1972. 2008. 1976. 1961. 1957. 1960.\n",
      " 1959. 2015. 2010. 1969. 1949. 1955. 1977. 1963. 1954. 1967. 1940.]\n",
      "Medical_Tent: [nan 'F' 'B' 'A' 'E' 'C' 'D' 'G' 'T']\n",
      "City: ['Santa Fe' 'Albuquerque' 'Taos' nan]\n"
     ]
    }
   ],
   "source": [
    "for col in ['Severity','Birthday_year','Medical_Tent','City']:\n",
    "    print(col + ':', train[col].unique())"
   ]
  },
  {
   "cell_type": "code",
   "execution_count": 10,
   "metadata": {},
   "outputs": [
    {
     "data": {
      "text/plain": [
       "False"
      ]
     },
     "execution_count": 10,
     "metadata": {},
     "output_type": "execute_result"
    }
   ],
   "source": [
    "train.duplicated().any()"
   ]
  },
  {
   "cell_type": "markdown",
   "metadata": {},
   "source": [
    "### <font color='#E8800A'>1.2.3 Class Balance</font> <a class=\"anchor\" id=\"balance\"></a>\n",
    "  [Back to TOC](#toc)\n",
    " "
   ]
  },
  {
   "cell_type": "code",
   "execution_count": 11,
   "metadata": {},
   "outputs": [
    {
     "data": {
      "text/html": [
       "<div>\n",
       "<style scoped>\n",
       "    .dataframe tbody tr th:only-of-type {\n",
       "        vertical-align: middle;\n",
       "    }\n",
       "\n",
       "    .dataframe tbody tr th {\n",
       "        vertical-align: top;\n",
       "    }\n",
       "\n",
       "    .dataframe thead th {\n",
       "        text-align: right;\n",
       "    }\n",
       "</style>\n",
       "<table border=\"1\" class=\"dataframe\">\n",
       "  <thead>\n",
       "    <tr style=\"text-align: right;\">\n",
       "      <th></th>\n",
       "      <th>Patient_ID</th>\n",
       "      <th>Family_Case_ID</th>\n",
       "      <th>Severity</th>\n",
       "      <th>Name</th>\n",
       "      <th>Birthday_year</th>\n",
       "      <th>Parents or siblings infected</th>\n",
       "      <th>Wife/Husband or children infected</th>\n",
       "      <th>Medical_Expenses_Family</th>\n",
       "      <th>Medical_Tent</th>\n",
       "      <th>City</th>\n",
       "    </tr>\n",
       "    <tr>\n",
       "      <th>Deceased</th>\n",
       "      <th></th>\n",
       "      <th></th>\n",
       "      <th></th>\n",
       "      <th></th>\n",
       "      <th></th>\n",
       "      <th></th>\n",
       "      <th></th>\n",
       "      <th></th>\n",
       "      <th></th>\n",
       "      <th></th>\n",
       "    </tr>\n",
       "  </thead>\n",
       "  <tbody>\n",
       "    <tr>\n",
       "      <th>0</th>\n",
       "      <td>347</td>\n",
       "      <td>347</td>\n",
       "      <td>347</td>\n",
       "      <td>347</td>\n",
       "      <td>295</td>\n",
       "      <td>347</td>\n",
       "      <td>347</td>\n",
       "      <td>347</td>\n",
       "      <td>131</td>\n",
       "      <td>345</td>\n",
       "    </tr>\n",
       "    <tr>\n",
       "      <th>1</th>\n",
       "      <td>553</td>\n",
       "      <td>553</td>\n",
       "      <td>553</td>\n",
       "      <td>553</td>\n",
       "      <td>428</td>\n",
       "      <td>553</td>\n",
       "      <td>553</td>\n",
       "      <td>553</td>\n",
       "      <td>67</td>\n",
       "      <td>553</td>\n",
       "    </tr>\n",
       "  </tbody>\n",
       "</table>\n",
       "</div>"
      ],
      "text/plain": [
       "          Patient_ID  Family_Case_ID  Severity  Name  Birthday_year  \\\n",
       "Deceased                                                              \n",
       "0                347             347       347   347            295   \n",
       "1                553             553       553   553            428   \n",
       "\n",
       "          Parents or siblings infected  Wife/Husband or children infected  \\\n",
       "Deceased                                                                    \n",
       "0                                  347                                347   \n",
       "1                                  553                                553   \n",
       "\n",
       "          Medical_Expenses_Family  Medical_Tent  City  \n",
       "Deceased                                               \n",
       "0                             347           131   345  \n",
       "1                             553            67   553  "
      ]
     },
     "execution_count": 11,
     "metadata": {},
     "output_type": "execute_result"
    }
   ],
   "source": [
    "train.groupby(['Deceased']).count()"
   ]
  },
  {
   "cell_type": "markdown",
   "metadata": {},
   "source": [
    "Only three columns: Severity, Medical_Tent, and City, are categorical variables, and only Name, Medical_Tent, and City are non-numerical.\n",
    "\n",
    "The values for all variables seem to be within the expected range.\n",
    "\n",
    "There are null values in the columns: Birthday_year, Medical_Tent, and City.\n",
    "\n",
    "There are no duplicated lines.\n",
    "\n",
    "The target classes are not balanced (40%/60% split) but not unbalanced enough to be worth it to look at metrics besides accuracy."
   ]
  },
  {
   "cell_type": "markdown",
   "metadata": {},
   "source": [
    "  ### <font color='#E8800A'>2. Data Cleaning and Preprocessing</font> <a class=\"anchor\" id=\"cleaning\"></a>\n",
    "  [Back to TOC](#toc)"
   ]
  },
  {
   "cell_type": "code",
   "execution_count": 12,
   "metadata": {},
   "outputs": [],
   "source": [
    "data = train.drop(['Patient_ID','Deceased'],1)\n",
    "target = train['Deceased']"
   ]
  },
  {
   "cell_type": "markdown",
   "metadata": {},
   "source": [
    "  ### <font color='#E8800A'>2.1 Add New Variables</font> <a class=\"anchor\" id=\"var\"></a>\n",
    "  [Back to TOC](#toc)\n",
    " "
   ]
  },
  {
   "cell_type": "markdown",
   "metadata": {},
   "source": [
    "`Infected_per_Family` Sum of Parents or sibilings infected and Wife/Husband or children infected<br>\n",
    "`Marital_state` 1 if it is married 0 otherwise <br>\n",
    "`Gender` 1 if it is female 0 otherwise <br>\n",
    "`Is_young: `0 if the age is lower than 60, 1 otherwise<br>"
   ]
  },
  {
   "cell_type": "code",
   "execution_count": 13,
   "metadata": {},
   "outputs": [],
   "source": [
    "data['Infected_per_Family'] = data['Parents or siblings infected'] + data['Wife/Husband or children infected']\n",
    "data['Marital_Status'] = 0\n",
    "data['Gender'] = 0\n",
    "# 2020-60 = 1960\n",
    "data['Is_young'] = 0\n",
    "for i in data.index:\n",
    "    if data['Birthday_year'][i]<=1960:\n",
    "        data['Is_young'][i] = 0\n",
    "    elif data['Birthday_year'][i]>1960:\n",
    "        data['Is_young'][i] = 1\n",
    "    else:\n",
    "        data['Is_young'][i] = None"
   ]
  },
  {
   "cell_type": "markdown",
   "metadata": {},
   "source": [
    "From the `Name` variable the title of the individual could be gathered. Culturally, it is known that using Mr. or Mrs. before the name signals that the individual is married, and that using Miss or Master signals the opposite. In the case of Ms. the marital status is unknown. This means that the gender of the individuals can also be deduced."
   ]
  },
  {
   "cell_type": "code",
   "execution_count": 14,
   "metadata": {},
   "outputs": [],
   "source": [
    "data['Title_Miss'] = data['Name']\n",
    "data['Title_Ms'] = data['Name']\n",
    "data['Title_Mrs'] = data['Name']\n",
    "data['Title_Mr'] = data['Name']\n",
    "data['Title_Master'] = data['Name']\n",
    "\n",
    "for i in data.index:\n",
    "    if data['Name'][i].startswith('Miss'):\n",
    "        data['Marital_Status'][i] = 0\n",
    "        data['Gender'][i] = 1\n",
    "        data['Title_Miss'][i] = 1\n",
    "        data['Title_Ms'][i] = 0\n",
    "        data['Title_Mrs'][i] = 0\n",
    "        data['Title_Mr'][i] = 0\n",
    "        data['Title_Master'][i] = 0\n",
    "        \n",
    "    elif data['Name'][i].startswith('Ms.'):\n",
    "        data['Marital_Status'][i] = None\n",
    "        data['Gender'][i] = 1\n",
    "        data['Title_Miss'][i] = 0\n",
    "        data['Title_Ms'][i] = 1\n",
    "        data['Title_Mrs'][i] = 0\n",
    "        data['Title_Mr'][i] = 0\n",
    "        data['Title_Master'][i] = 0\n",
    "        \n",
    "    elif data['Name'][i].startswith('Mrs.'):\n",
    "        data['Marital_Status'][i] = 1\n",
    "        data['Gender'][i] = 1\n",
    "        data['Title_Miss'][i] = 0\n",
    "        data['Title_Ms'][i] = 0\n",
    "        data['Title_Mrs'][i] = 1\n",
    "        data['Title_Mr'][i] = 0\n",
    "        data['Title_Master'][i] = 0\n",
    "        \n",
    "    elif data['Name'][i].startswith('Mr.'):\n",
    "        data['Marital_Status'][i] = 1\n",
    "        data['Gender'][i] = 0\n",
    "        data['Title_Miss'][i] = 0\n",
    "        data['Title_Ms'][i] = 0\n",
    "        data['Title_Mrs'][i] = 0\n",
    "        data['Title_Mr'][i] = 1\n",
    "        data['Title_Master'][i] = 0\n",
    "        \n",
    "    elif data['Name'][i].startswith('Master'):\n",
    "        data['Marital_Status'][i] = 0\n",
    "        data['Gender'][i] = 0\n",
    "        data['Title_Miss'][i] = 0\n",
    "        data['Title_Ms'][i] = 0\n",
    "        data['Title_Mrs'][i] = 0\n",
    "        data['Title_Mr'][i] = 0\n",
    "        data['Title_Master'][i] = 1"
   ]
  },
  {
   "cell_type": "code",
   "execution_count": 15,
   "metadata": {
    "scrolled": false
   },
   "outputs": [
    {
     "data": {
      "text/plain": [
       "(209, 18)"
      ]
     },
     "execution_count": 15,
     "metadata": {},
     "output_type": "execute_result"
    }
   ],
   "source": [
    "data[data['Marital_Status'].isnull()].shape"
   ]
  },
  {
   "cell_type": "markdown",
   "metadata": {},
   "source": [
    "  ### <font color='#E8800A'>2.2 Encoding Categorical Values</font> <a class=\"anchor\" id=\"encoding\"></a>\n",
    "  [Back to TOC](#toc)"
   ]
  },
  {
   "cell_type": "markdown",
   "metadata": {},
   "source": [
    "The dataset had two catregorical variables: `City` and `Medical_Tent`, but since `Medical_Tent` is mostly null data, it will be dealt with later. While a simple LabelEncoder could have been applied, in algorithms such as k-Nearest Neighbors or Decision Trees, by simply encoding strings with integers would create aditional information regarding distance between instances which would not be true. For that reason, dummy variables were created to represent the different cities. Even though econding each value of `City` as a binary variable results in perfect colinearity, it was decided that all of them would still be encoded and during feature selection it would be checked if removing them would improve the accuracy score.\n",
    "\n",
    "Also, the feature `City` has two null values. While we're dealing with null values in a more general manner further down the notebook, it was decided to replace the null values in `City` with the mode right away, since there were only two of them. "
   ]
  },
  {
   "cell_type": "code",
   "execution_count": 16,
   "metadata": {},
   "outputs": [
    {
     "data": {
      "text/plain": [
       "'Santa Fe'"
      ]
     },
     "execution_count": 16,
     "metadata": {},
     "output_type": "execute_result"
    }
   ],
   "source": [
    "data['City'].mode()[0]"
   ]
  },
  {
   "cell_type": "code",
   "execution_count": 17,
   "metadata": {},
   "outputs": [],
   "source": [
    "data['City'] = data['City'].fillna(data['City'].mode()[0])"
   ]
  },
  {
   "cell_type": "code",
   "execution_count": 18,
   "metadata": {},
   "outputs": [],
   "source": [
    "data['City_SantaFe'] = data['City']\n",
    "data['City_Albuquerque'] = data['City']\n",
    "data['City_Taos'] = data['City']\n",
    "\n",
    "for i in data['City'].index:\n",
    "    if data['City'][i] == 'Santa Fe':\n",
    "        data['City_SantaFe'][i] = 1\n",
    "        data['City_Albuquerque'][i] = 0\n",
    "        data['City_Taos'][i] = 0\n",
    "    elif data['City'][i] == 'Albuquerque':\n",
    "        data['City_SantaFe'][i] = 0\n",
    "        data['City_Albuquerque'][i] = 1\n",
    "        data['City_Taos'][i] = 0\n",
    "    elif data['City'][i] == 'Taos':\n",
    "        data['City_SantaFe'][i] = 0\n",
    "        data['City_Albuquerque'][i] = 0\n",
    "        data['City_Taos'][i] = 1"
   ]
  },
  {
   "cell_type": "code",
   "execution_count": 19,
   "metadata": {
    "scrolled": true
   },
   "outputs": [
    {
     "data": {
      "text/html": [
       "<div>\n",
       "<style scoped>\n",
       "    .dataframe tbody tr th:only-of-type {\n",
       "        vertical-align: middle;\n",
       "    }\n",
       "\n",
       "    .dataframe tbody tr th {\n",
       "        vertical-align: top;\n",
       "    }\n",
       "\n",
       "    .dataframe thead th {\n",
       "        text-align: right;\n",
       "    }\n",
       "</style>\n",
       "<table border=\"1\" class=\"dataframe\">\n",
       "  <thead>\n",
       "    <tr style=\"text-align: right;\">\n",
       "      <th></th>\n",
       "      <th>Family_Case_ID</th>\n",
       "      <th>Severity</th>\n",
       "      <th>Name</th>\n",
       "      <th>Birthday_year</th>\n",
       "      <th>Parents or siblings infected</th>\n",
       "      <th>Wife/Husband or children infected</th>\n",
       "      <th>Medical_Expenses_Family</th>\n",
       "      <th>Medical_Tent</th>\n",
       "      <th>City</th>\n",
       "      <th>Infected_per_Family</th>\n",
       "      <th>...</th>\n",
       "      <th>Gender</th>\n",
       "      <th>Is_young</th>\n",
       "      <th>Title_Miss</th>\n",
       "      <th>Title_Ms</th>\n",
       "      <th>Title_Mrs</th>\n",
       "      <th>Title_Mr</th>\n",
       "      <th>Title_Master</th>\n",
       "      <th>City_SantaFe</th>\n",
       "      <th>City_Albuquerque</th>\n",
       "      <th>City_Taos</th>\n",
       "    </tr>\n",
       "  </thead>\n",
       "  <tbody>\n",
       "    <tr>\n",
       "      <th>0</th>\n",
       "      <td>4696</td>\n",
       "      <td>3</td>\n",
       "      <td>Miss Linda Betty</td>\n",
       "      <td>NaN</td>\n",
       "      <td>0</td>\n",
       "      <td>0</td>\n",
       "      <td>225</td>\n",
       "      <td>NaN</td>\n",
       "      <td>Santa Fe</td>\n",
       "      <td>0</td>\n",
       "      <td>...</td>\n",
       "      <td>1</td>\n",
       "      <td>NaN</td>\n",
       "      <td>1</td>\n",
       "      <td>0</td>\n",
       "      <td>0</td>\n",
       "      <td>0</td>\n",
       "      <td>0</td>\n",
       "      <td>1</td>\n",
       "      <td>0</td>\n",
       "      <td>0</td>\n",
       "    </tr>\n",
       "    <tr>\n",
       "      <th>1</th>\n",
       "      <td>21436</td>\n",
       "      <td>1</td>\n",
       "      <td>Ms. Ramona Elvira</td>\n",
       "      <td>1966.0</td>\n",
       "      <td>0</td>\n",
       "      <td>1</td>\n",
       "      <td>1663</td>\n",
       "      <td>NaN</td>\n",
       "      <td>Albuquerque</td>\n",
       "      <td>1</td>\n",
       "      <td>...</td>\n",
       "      <td>1</td>\n",
       "      <td>1.0</td>\n",
       "      <td>0</td>\n",
       "      <td>1</td>\n",
       "      <td>0</td>\n",
       "      <td>0</td>\n",
       "      <td>0</td>\n",
       "      <td>0</td>\n",
       "      <td>1</td>\n",
       "      <td>0</td>\n",
       "    </tr>\n",
       "    <tr>\n",
       "      <th>2</th>\n",
       "      <td>7273</td>\n",
       "      <td>3</td>\n",
       "      <td>Mr. Mario Vernon</td>\n",
       "      <td>1982.0</td>\n",
       "      <td>0</td>\n",
       "      <td>0</td>\n",
       "      <td>221</td>\n",
       "      <td>NaN</td>\n",
       "      <td>Santa Fe</td>\n",
       "      <td>0</td>\n",
       "      <td>...</td>\n",
       "      <td>0</td>\n",
       "      <td>1.0</td>\n",
       "      <td>0</td>\n",
       "      <td>0</td>\n",
       "      <td>0</td>\n",
       "      <td>1</td>\n",
       "      <td>0</td>\n",
       "      <td>1</td>\n",
       "      <td>0</td>\n",
       "      <td>0</td>\n",
       "    </tr>\n",
       "    <tr>\n",
       "      <th>3</th>\n",
       "      <td>8226</td>\n",
       "      <td>3</td>\n",
       "      <td>Mr. Hector Joe</td>\n",
       "      <td>1997.0</td>\n",
       "      <td>0</td>\n",
       "      <td>0</td>\n",
       "      <td>220</td>\n",
       "      <td>NaN</td>\n",
       "      <td>Santa Fe</td>\n",
       "      <td>0</td>\n",
       "      <td>...</td>\n",
       "      <td>0</td>\n",
       "      <td>1.0</td>\n",
       "      <td>0</td>\n",
       "      <td>0</td>\n",
       "      <td>0</td>\n",
       "      <td>1</td>\n",
       "      <td>0</td>\n",
       "      <td>1</td>\n",
       "      <td>0</td>\n",
       "      <td>0</td>\n",
       "    </tr>\n",
       "    <tr>\n",
       "      <th>4</th>\n",
       "      <td>19689</td>\n",
       "      <td>3</td>\n",
       "      <td>Ms. Jennie Debra</td>\n",
       "      <td>1994.0</td>\n",
       "      <td>0</td>\n",
       "      <td>0</td>\n",
       "      <td>222</td>\n",
       "      <td>NaN</td>\n",
       "      <td>Santa Fe</td>\n",
       "      <td>0</td>\n",
       "      <td>...</td>\n",
       "      <td>1</td>\n",
       "      <td>1.0</td>\n",
       "      <td>0</td>\n",
       "      <td>1</td>\n",
       "      <td>0</td>\n",
       "      <td>0</td>\n",
       "      <td>0</td>\n",
       "      <td>1</td>\n",
       "      <td>0</td>\n",
       "      <td>0</td>\n",
       "    </tr>\n",
       "  </tbody>\n",
       "</table>\n",
       "<p>5 rows × 21 columns</p>\n",
       "</div>"
      ],
      "text/plain": [
       "   Family_Case_ID  Severity               Name  Birthday_year  \\\n",
       "0            4696         3   Miss Linda Betty            NaN   \n",
       "1           21436         1  Ms. Ramona Elvira         1966.0   \n",
       "2            7273         3   Mr. Mario Vernon         1982.0   \n",
       "3            8226         3     Mr. Hector Joe         1997.0   \n",
       "4           19689         3   Ms. Jennie Debra         1994.0   \n",
       "\n",
       "   Parents or siblings infected  Wife/Husband or children infected  \\\n",
       "0                             0                                  0   \n",
       "1                             0                                  1   \n",
       "2                             0                                  0   \n",
       "3                             0                                  0   \n",
       "4                             0                                  0   \n",
       "\n",
       "   Medical_Expenses_Family Medical_Tent         City  Infected_per_Family  \\\n",
       "0                      225          NaN     Santa Fe                    0   \n",
       "1                     1663          NaN  Albuquerque                    1   \n",
       "2                      221          NaN     Santa Fe                    0   \n",
       "3                      220          NaN     Santa Fe                    0   \n",
       "4                      222          NaN     Santa Fe                    0   \n",
       "\n",
       "   ...  Gender  Is_young  Title_Miss Title_Ms Title_Mrs Title_Mr Title_Master  \\\n",
       "0  ...       1       NaN           1        0         0        0            0   \n",
       "1  ...       1       1.0           0        1         0        0            0   \n",
       "2  ...       0       1.0           0        0         0        1            0   \n",
       "3  ...       0       1.0           0        0         0        1            0   \n",
       "4  ...       1       1.0           0        1         0        0            0   \n",
       "\n",
       "  City_SantaFe City_Albuquerque City_Taos  \n",
       "0            1                0         0  \n",
       "1            0                1         0  \n",
       "2            1                0         0  \n",
       "3            1                0         0  \n",
       "4            1                0         0  \n",
       "\n",
       "[5 rows x 21 columns]"
      ]
     },
     "execution_count": 19,
     "metadata": {},
     "output_type": "execute_result"
    }
   ],
   "source": [
    "data.head()"
   ]
  },
  {
   "cell_type": "markdown",
   "metadata": {},
   "source": [
    "  ### <font color='#E8800A'>2.3 Replacing Nulls</font> <a class=\"anchor\" id=\"nulls\"></a>\n",
    "  [Back to TOC](#toc)"
   ]
  },
  {
   "cell_type": "markdown",
   "metadata": {},
   "source": [
    "There were null values in the columns `Birthday_year`, `City` and `Medical_Tent`.\n",
    "\n",
    "- `Birthday_year` 117 (13% of the data)\n",
    "- `Medical_Tent` 702 (78% of the data)\n",
    "- `City` 2\n",
    "\n",
    "And the new columns `Marital_Status` and `Is_young` also have null values:\n",
    "\n",
    "- `Marital_Status` 209 (23% of the data)\n",
    "- `Is_young` 117 (13% of the data)\n",
    "\n",
    "Since there were so few null values in the `City` column those were already replaced with the mode above.\n",
    "\n",
    "There are 78% of the data missing on the `Medical_Tent` column, which was considered to be too great a proportion of unknown data for the feature to be relevant, so this column was dropped.\n",
    "\n",
    "In the `Birthday_year` column values can be replaced with either the median (since it's less sensible to outliers), or KNNImputer, and for the `Is_young` column the mode or KNNImputer can be used, if `Birthday_year` is not available to compute it, since `Is_young` is dependent on `Birthday_year`."
   ]
  },
  {
   "cell_type": "code",
   "execution_count": 20,
   "metadata": {
    "scrolled": true
   },
   "outputs": [
    {
     "data": {
      "text/html": [
       "<div>\n",
       "<style scoped>\n",
       "    .dataframe tbody tr th:only-of-type {\n",
       "        vertical-align: middle;\n",
       "    }\n",
       "\n",
       "    .dataframe tbody tr th {\n",
       "        vertical-align: top;\n",
       "    }\n",
       "\n",
       "    .dataframe thead th {\n",
       "        text-align: right;\n",
       "    }\n",
       "</style>\n",
       "<table border=\"1\" class=\"dataframe\">\n",
       "  <thead>\n",
       "    <tr style=\"text-align: right;\">\n",
       "      <th></th>\n",
       "      <th>Family_Case_ID</th>\n",
       "      <th>Severity</th>\n",
       "      <th>Name</th>\n",
       "      <th>Birthday_year</th>\n",
       "      <th>Parents or siblings infected</th>\n",
       "      <th>Wife/Husband or children infected</th>\n",
       "      <th>Medical_Expenses_Family</th>\n",
       "      <th>Medical_Tent</th>\n",
       "      <th>City</th>\n",
       "      <th>Infected_per_Family</th>\n",
       "      <th>...</th>\n",
       "      <th>Gender</th>\n",
       "      <th>Is_young</th>\n",
       "      <th>Title_Miss</th>\n",
       "      <th>Title_Ms</th>\n",
       "      <th>Title_Mrs</th>\n",
       "      <th>Title_Mr</th>\n",
       "      <th>Title_Master</th>\n",
       "      <th>City_SantaFe</th>\n",
       "      <th>City_Albuquerque</th>\n",
       "      <th>City_Taos</th>\n",
       "    </tr>\n",
       "  </thead>\n",
       "  <tbody>\n",
       "    <tr>\n",
       "      <th>0</th>\n",
       "      <td>4696</td>\n",
       "      <td>3</td>\n",
       "      <td>Miss Linda Betty</td>\n",
       "      <td>NaN</td>\n",
       "      <td>0</td>\n",
       "      <td>0</td>\n",
       "      <td>225</td>\n",
       "      <td>NaN</td>\n",
       "      <td>Santa Fe</td>\n",
       "      <td>0</td>\n",
       "      <td>...</td>\n",
       "      <td>1</td>\n",
       "      <td>NaN</td>\n",
       "      <td>1</td>\n",
       "      <td>0</td>\n",
       "      <td>0</td>\n",
       "      <td>0</td>\n",
       "      <td>0</td>\n",
       "      <td>1</td>\n",
       "      <td>0</td>\n",
       "      <td>0</td>\n",
       "    </tr>\n",
       "    <tr>\n",
       "      <th>1</th>\n",
       "      <td>21436</td>\n",
       "      <td>1</td>\n",
       "      <td>Ms. Ramona Elvira</td>\n",
       "      <td>1966.0</td>\n",
       "      <td>0</td>\n",
       "      <td>1</td>\n",
       "      <td>1663</td>\n",
       "      <td>NaN</td>\n",
       "      <td>Albuquerque</td>\n",
       "      <td>1</td>\n",
       "      <td>...</td>\n",
       "      <td>1</td>\n",
       "      <td>1.0</td>\n",
       "      <td>0</td>\n",
       "      <td>1</td>\n",
       "      <td>0</td>\n",
       "      <td>0</td>\n",
       "      <td>0</td>\n",
       "      <td>0</td>\n",
       "      <td>1</td>\n",
       "      <td>0</td>\n",
       "    </tr>\n",
       "    <tr>\n",
       "      <th>2</th>\n",
       "      <td>7273</td>\n",
       "      <td>3</td>\n",
       "      <td>Mr. Mario Vernon</td>\n",
       "      <td>1982.0</td>\n",
       "      <td>0</td>\n",
       "      <td>0</td>\n",
       "      <td>221</td>\n",
       "      <td>NaN</td>\n",
       "      <td>Santa Fe</td>\n",
       "      <td>0</td>\n",
       "      <td>...</td>\n",
       "      <td>0</td>\n",
       "      <td>1.0</td>\n",
       "      <td>0</td>\n",
       "      <td>0</td>\n",
       "      <td>0</td>\n",
       "      <td>1</td>\n",
       "      <td>0</td>\n",
       "      <td>1</td>\n",
       "      <td>0</td>\n",
       "      <td>0</td>\n",
       "    </tr>\n",
       "    <tr>\n",
       "      <th>3</th>\n",
       "      <td>8226</td>\n",
       "      <td>3</td>\n",
       "      <td>Mr. Hector Joe</td>\n",
       "      <td>1997.0</td>\n",
       "      <td>0</td>\n",
       "      <td>0</td>\n",
       "      <td>220</td>\n",
       "      <td>NaN</td>\n",
       "      <td>Santa Fe</td>\n",
       "      <td>0</td>\n",
       "      <td>...</td>\n",
       "      <td>0</td>\n",
       "      <td>1.0</td>\n",
       "      <td>0</td>\n",
       "      <td>0</td>\n",
       "      <td>0</td>\n",
       "      <td>1</td>\n",
       "      <td>0</td>\n",
       "      <td>1</td>\n",
       "      <td>0</td>\n",
       "      <td>0</td>\n",
       "    </tr>\n",
       "    <tr>\n",
       "      <th>4</th>\n",
       "      <td>19689</td>\n",
       "      <td>3</td>\n",
       "      <td>Ms. Jennie Debra</td>\n",
       "      <td>1994.0</td>\n",
       "      <td>0</td>\n",
       "      <td>0</td>\n",
       "      <td>222</td>\n",
       "      <td>NaN</td>\n",
       "      <td>Santa Fe</td>\n",
       "      <td>0</td>\n",
       "      <td>...</td>\n",
       "      <td>1</td>\n",
       "      <td>1.0</td>\n",
       "      <td>0</td>\n",
       "      <td>1</td>\n",
       "      <td>0</td>\n",
       "      <td>0</td>\n",
       "      <td>0</td>\n",
       "      <td>1</td>\n",
       "      <td>0</td>\n",
       "      <td>0</td>\n",
       "    </tr>\n",
       "    <tr>\n",
       "      <th>...</th>\n",
       "      <td>...</td>\n",
       "      <td>...</td>\n",
       "      <td>...</td>\n",
       "      <td>...</td>\n",
       "      <td>...</td>\n",
       "      <td>...</td>\n",
       "      <td>...</td>\n",
       "      <td>...</td>\n",
       "      <td>...</td>\n",
       "      <td>...</td>\n",
       "      <td>...</td>\n",
       "      <td>...</td>\n",
       "      <td>...</td>\n",
       "      <td>...</td>\n",
       "      <td>...</td>\n",
       "      <td>...</td>\n",
       "      <td>...</td>\n",
       "      <td>...</td>\n",
       "      <td>...</td>\n",
       "      <td>...</td>\n",
       "      <td>...</td>\n",
       "    </tr>\n",
       "    <tr>\n",
       "      <th>895</th>\n",
       "      <td>6253</td>\n",
       "      <td>3</td>\n",
       "      <td>Ms. Linda Wilcox</td>\n",
       "      <td>1998.0</td>\n",
       "      <td>1</td>\n",
       "      <td>1</td>\n",
       "      <td>344</td>\n",
       "      <td>NaN</td>\n",
       "      <td>Santa Fe</td>\n",
       "      <td>2</td>\n",
       "      <td>...</td>\n",
       "      <td>1</td>\n",
       "      <td>1.0</td>\n",
       "      <td>0</td>\n",
       "      <td>1</td>\n",
       "      <td>0</td>\n",
       "      <td>0</td>\n",
       "      <td>0</td>\n",
       "      <td>1</td>\n",
       "      <td>0</td>\n",
       "      <td>0</td>\n",
       "    </tr>\n",
       "    <tr>\n",
       "      <th>896</th>\n",
       "      <td>6483</td>\n",
       "      <td>3</td>\n",
       "      <td>Mr. Haiden Vance</td>\n",
       "      <td>2006.0</td>\n",
       "      <td>0</td>\n",
       "      <td>0</td>\n",
       "      <td>258</td>\n",
       "      <td>NaN</td>\n",
       "      <td>Santa Fe</td>\n",
       "      <td>0</td>\n",
       "      <td>...</td>\n",
       "      <td>0</td>\n",
       "      <td>1.0</td>\n",
       "      <td>0</td>\n",
       "      <td>0</td>\n",
       "      <td>0</td>\n",
       "      <td>1</td>\n",
       "      <td>0</td>\n",
       "      <td>1</td>\n",
       "      <td>0</td>\n",
       "      <td>0</td>\n",
       "    </tr>\n",
       "    <tr>\n",
       "      <th>897</th>\n",
       "      <td>981</td>\n",
       "      <td>3</td>\n",
       "      <td>Miss Anaiya Love</td>\n",
       "      <td>1990.0</td>\n",
       "      <td>0</td>\n",
       "      <td>0</td>\n",
       "      <td>214</td>\n",
       "      <td>NaN</td>\n",
       "      <td>Taos</td>\n",
       "      <td>0</td>\n",
       "      <td>...</td>\n",
       "      <td>1</td>\n",
       "      <td>1.0</td>\n",
       "      <td>1</td>\n",
       "      <td>0</td>\n",
       "      <td>0</td>\n",
       "      <td>0</td>\n",
       "      <td>0</td>\n",
       "      <td>0</td>\n",
       "      <td>0</td>\n",
       "      <td>1</td>\n",
       "    </tr>\n",
       "    <tr>\n",
       "      <th>898</th>\n",
       "      <td>16418</td>\n",
       "      <td>2</td>\n",
       "      <td>Mr. Robert Williams</td>\n",
       "      <td>1994.0</td>\n",
       "      <td>1</td>\n",
       "      <td>1</td>\n",
       "      <td>812</td>\n",
       "      <td>NaN</td>\n",
       "      <td>Santa Fe</td>\n",
       "      <td>2</td>\n",
       "      <td>...</td>\n",
       "      <td>0</td>\n",
       "      <td>1.0</td>\n",
       "      <td>0</td>\n",
       "      <td>0</td>\n",
       "      <td>0</td>\n",
       "      <td>1</td>\n",
       "      <td>0</td>\n",
       "      <td>1</td>\n",
       "      <td>0</td>\n",
       "      <td>0</td>\n",
       "    </tr>\n",
       "    <tr>\n",
       "      <th>899</th>\n",
       "      <td>3782</td>\n",
       "      <td>3</td>\n",
       "      <td>Ms. Marjorie Hays</td>\n",
       "      <td>2002.0</td>\n",
       "      <td>0</td>\n",
       "      <td>0</td>\n",
       "      <td>202</td>\n",
       "      <td>C</td>\n",
       "      <td>Albuquerque</td>\n",
       "      <td>0</td>\n",
       "      <td>...</td>\n",
       "      <td>1</td>\n",
       "      <td>1.0</td>\n",
       "      <td>0</td>\n",
       "      <td>1</td>\n",
       "      <td>0</td>\n",
       "      <td>0</td>\n",
       "      <td>0</td>\n",
       "      <td>0</td>\n",
       "      <td>1</td>\n",
       "      <td>0</td>\n",
       "    </tr>\n",
       "  </tbody>\n",
       "</table>\n",
       "<p>796 rows × 21 columns</p>\n",
       "</div>"
      ],
      "text/plain": [
       "     Family_Case_ID  Severity                 Name  Birthday_year  \\\n",
       "0              4696         3     Miss Linda Betty            NaN   \n",
       "1             21436         1    Ms. Ramona Elvira         1966.0   \n",
       "2              7273         3     Mr. Mario Vernon         1982.0   \n",
       "3              8226         3       Mr. Hector Joe         1997.0   \n",
       "4             19689         3     Ms. Jennie Debra         1994.0   \n",
       "..              ...       ...                  ...            ...   \n",
       "895            6253         3     Ms. Linda Wilcox         1998.0   \n",
       "896            6483         3     Mr. Haiden Vance         2006.0   \n",
       "897             981         3     Miss Anaiya Love         1990.0   \n",
       "898           16418         2  Mr. Robert Williams         1994.0   \n",
       "899            3782         3    Ms. Marjorie Hays         2002.0   \n",
       "\n",
       "     Parents or siblings infected  Wife/Husband or children infected  \\\n",
       "0                               0                                  0   \n",
       "1                               0                                  1   \n",
       "2                               0                                  0   \n",
       "3                               0                                  0   \n",
       "4                               0                                  0   \n",
       "..                            ...                                ...   \n",
       "895                             1                                  1   \n",
       "896                             0                                  0   \n",
       "897                             0                                  0   \n",
       "898                             1                                  1   \n",
       "899                             0                                  0   \n",
       "\n",
       "     Medical_Expenses_Family Medical_Tent         City  Infected_per_Family  \\\n",
       "0                        225          NaN     Santa Fe                    0   \n",
       "1                       1663          NaN  Albuquerque                    1   \n",
       "2                        221          NaN     Santa Fe                    0   \n",
       "3                        220          NaN     Santa Fe                    0   \n",
       "4                        222          NaN     Santa Fe                    0   \n",
       "..                       ...          ...          ...                  ...   \n",
       "895                      344          NaN     Santa Fe                    2   \n",
       "896                      258          NaN     Santa Fe                    0   \n",
       "897                      214          NaN         Taos                    0   \n",
       "898                      812          NaN     Santa Fe                    2   \n",
       "899                      202            C  Albuquerque                    0   \n",
       "\n",
       "     ...  Gender  Is_young  Title_Miss Title_Ms Title_Mrs Title_Mr  \\\n",
       "0    ...       1       NaN           1        0         0        0   \n",
       "1    ...       1       1.0           0        1         0        0   \n",
       "2    ...       0       1.0           0        0         0        1   \n",
       "3    ...       0       1.0           0        0         0        1   \n",
       "4    ...       1       1.0           0        1         0        0   \n",
       "..   ...     ...       ...         ...      ...       ...      ...   \n",
       "895  ...       1       1.0           0        1         0        0   \n",
       "896  ...       0       1.0           0        0         0        1   \n",
       "897  ...       1       1.0           1        0         0        0   \n",
       "898  ...       0       1.0           0        0         0        1   \n",
       "899  ...       1       1.0           0        1         0        0   \n",
       "\n",
       "    Title_Master City_SantaFe City_Albuquerque City_Taos  \n",
       "0              0            1                0         0  \n",
       "1              0            0                1         0  \n",
       "2              0            1                0         0  \n",
       "3              0            1                0         0  \n",
       "4              0            1                0         0  \n",
       "..           ...          ...              ...       ...  \n",
       "895            0            1                0         0  \n",
       "896            0            1                0         0  \n",
       "897            0            0                0         1  \n",
       "898            0            1                0         0  \n",
       "899            0            0                1         0  \n",
       "\n",
       "[796 rows x 21 columns]"
      ]
     },
     "execution_count": 20,
     "metadata": {},
     "output_type": "execute_result"
    }
   ],
   "source": [
    "data[data.isnull().any(axis=1)]"
   ]
  },
  {
   "cell_type": "code",
   "execution_count": 21,
   "metadata": {},
   "outputs": [
    {
     "data": {
      "text/plain": [
       "(796, 21)"
      ]
     },
     "execution_count": 21,
     "metadata": {},
     "output_type": "execute_result"
    }
   ],
   "source": [
    "data[data.isnull().any(axis=1)].shape"
   ]
  },
  {
   "cell_type": "code",
   "execution_count": 22,
   "metadata": {},
   "outputs": [],
   "source": [
    "null_ind = data[data.isnull().any(axis=1)].index"
   ]
  },
  {
   "cell_type": "code",
   "execution_count": 23,
   "metadata": {},
   "outputs": [
    {
     "data": {
      "text/plain": [
       "796"
      ]
     },
     "execution_count": 23,
     "metadata": {},
     "output_type": "execute_result"
    }
   ],
   "source": [
    "len(null_ind)"
   ]
  },
  {
   "cell_type": "markdown",
   "metadata": {},
   "source": [
    "Since the null values can be replaced using KNNImputer, with different values of k, or using statistical measures, such as the mean or the median, and it is imporssible to say right away which of these alternatives will lead to better accuracy from the model, a function was created to streamline the testing process:"
   ]
  },
  {
   "cell_type": "code",
   "execution_count": 24,
   "metadata": {},
   "outputs": [],
   "source": [
    "def null_values(data, method='knn', k=1): \n",
    "    # drop the Medical_Tent column \n",
    "    data = data.drop(['Medical_Tent'],1)\n",
    "    \n",
    "    if method == 'knn':\n",
    "        imputer = KNNImputer(n_neighbors=k)\n",
    "        imputer.fit(data)\n",
    "        data = pd.DataFrame(data=imputer.transform(data),columns=data.columns,index=data.index)\n",
    "        \n",
    "    if method == 'stat':\n",
    "        cols = []\n",
    "        for col in ['Birthday_year','Is_young','Marital_Status']:\n",
    "            if col in data.columns:\n",
    "                cols.append(col)\n",
    "                \n",
    "        if 'Birthday_year' in cols:\n",
    "            data['Birthday_year'] = data['Birthday_year'].fillna(round(data['Birthday_year'].median()))\n",
    "            for i in data['Is_young'].isna().index:\n",
    "                if data['Birthday_year'][i]<=1960:\n",
    "                    data['Is_young'][i] = 0\n",
    "                elif data['Birthday_year'][i]>1960:\n",
    "                    data['Is_young'][i] = 1\n",
    "        elif 'Is_young' in cols:\n",
    "            data['Is_young'] = data['Is_young'].fillna(float(data['Is_young'].mode()))\n",
    "            \n",
    "        if 'Marital_Status' in cols:\n",
    "            data['Marital_Status'] = data['Marital_Status'].fillna(float(data['Marital_Status'].mode()))\n",
    "                \n",
    "    return data"
   ]
  },
  {
   "cell_type": "code",
   "execution_count": 25,
   "metadata": {},
   "outputs": [
    {
     "data": {
      "text/html": [
       "<div>\n",
       "<style scoped>\n",
       "    .dataframe tbody tr th:only-of-type {\n",
       "        vertical-align: middle;\n",
       "    }\n",
       "\n",
       "    .dataframe tbody tr th {\n",
       "        vertical-align: top;\n",
       "    }\n",
       "\n",
       "    .dataframe thead th {\n",
       "        text-align: right;\n",
       "    }\n",
       "</style>\n",
       "<table border=\"1\" class=\"dataframe\">\n",
       "  <thead>\n",
       "    <tr style=\"text-align: right;\">\n",
       "      <th></th>\n",
       "      <th>Family_Case_ID</th>\n",
       "      <th>Severity</th>\n",
       "      <th>Birthday_year</th>\n",
       "      <th>Parents or siblings infected</th>\n",
       "      <th>Wife/Husband or children infected</th>\n",
       "      <th>Medical_Expenses_Family</th>\n",
       "      <th>Infected_per_Family</th>\n",
       "      <th>Marital_Status</th>\n",
       "      <th>Gender</th>\n",
       "      <th>Is_young</th>\n",
       "      <th>Title_Miss</th>\n",
       "      <th>Title_Ms</th>\n",
       "      <th>Title_Mrs</th>\n",
       "      <th>Title_Mr</th>\n",
       "      <th>Title_Master</th>\n",
       "      <th>City_SantaFe</th>\n",
       "      <th>City_Albuquerque</th>\n",
       "      <th>City_Taos</th>\n",
       "    </tr>\n",
       "  </thead>\n",
       "  <tbody>\n",
       "    <tr>\n",
       "      <th>0</th>\n",
       "      <td>4696</td>\n",
       "      <td>3</td>\n",
       "      <td>1992.0</td>\n",
       "      <td>0</td>\n",
       "      <td>0</td>\n",
       "      <td>225</td>\n",
       "      <td>0</td>\n",
       "      <td>0.0</td>\n",
       "      <td>1</td>\n",
       "      <td>1.0</td>\n",
       "      <td>1</td>\n",
       "      <td>0</td>\n",
       "      <td>0</td>\n",
       "      <td>0</td>\n",
       "      <td>0</td>\n",
       "      <td>1</td>\n",
       "      <td>0</td>\n",
       "      <td>0</td>\n",
       "    </tr>\n",
       "    <tr>\n",
       "      <th>1</th>\n",
       "      <td>21436</td>\n",
       "      <td>1</td>\n",
       "      <td>1966.0</td>\n",
       "      <td>0</td>\n",
       "      <td>1</td>\n",
       "      <td>1663</td>\n",
       "      <td>1</td>\n",
       "      <td>1.0</td>\n",
       "      <td>1</td>\n",
       "      <td>1.0</td>\n",
       "      <td>0</td>\n",
       "      <td>1</td>\n",
       "      <td>0</td>\n",
       "      <td>0</td>\n",
       "      <td>0</td>\n",
       "      <td>0</td>\n",
       "      <td>1</td>\n",
       "      <td>0</td>\n",
       "    </tr>\n",
       "    <tr>\n",
       "      <th>2</th>\n",
       "      <td>7273</td>\n",
       "      <td>3</td>\n",
       "      <td>1982.0</td>\n",
       "      <td>0</td>\n",
       "      <td>0</td>\n",
       "      <td>221</td>\n",
       "      <td>0</td>\n",
       "      <td>1.0</td>\n",
       "      <td>0</td>\n",
       "      <td>1.0</td>\n",
       "      <td>0</td>\n",
       "      <td>0</td>\n",
       "      <td>0</td>\n",
       "      <td>1</td>\n",
       "      <td>0</td>\n",
       "      <td>1</td>\n",
       "      <td>0</td>\n",
       "      <td>0</td>\n",
       "    </tr>\n",
       "    <tr>\n",
       "      <th>3</th>\n",
       "      <td>8226</td>\n",
       "      <td>3</td>\n",
       "      <td>1997.0</td>\n",
       "      <td>0</td>\n",
       "      <td>0</td>\n",
       "      <td>220</td>\n",
       "      <td>0</td>\n",
       "      <td>1.0</td>\n",
       "      <td>0</td>\n",
       "      <td>1.0</td>\n",
       "      <td>0</td>\n",
       "      <td>0</td>\n",
       "      <td>0</td>\n",
       "      <td>1</td>\n",
       "      <td>0</td>\n",
       "      <td>1</td>\n",
       "      <td>0</td>\n",
       "      <td>0</td>\n",
       "    </tr>\n",
       "    <tr>\n",
       "      <th>4</th>\n",
       "      <td>19689</td>\n",
       "      <td>3</td>\n",
       "      <td>1994.0</td>\n",
       "      <td>0</td>\n",
       "      <td>0</td>\n",
       "      <td>222</td>\n",
       "      <td>0</td>\n",
       "      <td>1.0</td>\n",
       "      <td>1</td>\n",
       "      <td>1.0</td>\n",
       "      <td>0</td>\n",
       "      <td>1</td>\n",
       "      <td>0</td>\n",
       "      <td>0</td>\n",
       "      <td>0</td>\n",
       "      <td>1</td>\n",
       "      <td>0</td>\n",
       "      <td>0</td>\n",
       "    </tr>\n",
       "    <tr>\n",
       "      <th>...</th>\n",
       "      <td>...</td>\n",
       "      <td>...</td>\n",
       "      <td>...</td>\n",
       "      <td>...</td>\n",
       "      <td>...</td>\n",
       "      <td>...</td>\n",
       "      <td>...</td>\n",
       "      <td>...</td>\n",
       "      <td>...</td>\n",
       "      <td>...</td>\n",
       "      <td>...</td>\n",
       "      <td>...</td>\n",
       "      <td>...</td>\n",
       "      <td>...</td>\n",
       "      <td>...</td>\n",
       "      <td>...</td>\n",
       "      <td>...</td>\n",
       "      <td>...</td>\n",
       "    </tr>\n",
       "    <tr>\n",
       "      <th>895</th>\n",
       "      <td>6253</td>\n",
       "      <td>3</td>\n",
       "      <td>1998.0</td>\n",
       "      <td>1</td>\n",
       "      <td>1</td>\n",
       "      <td>344</td>\n",
       "      <td>2</td>\n",
       "      <td>1.0</td>\n",
       "      <td>1</td>\n",
       "      <td>1.0</td>\n",
       "      <td>0</td>\n",
       "      <td>1</td>\n",
       "      <td>0</td>\n",
       "      <td>0</td>\n",
       "      <td>0</td>\n",
       "      <td>1</td>\n",
       "      <td>0</td>\n",
       "      <td>0</td>\n",
       "    </tr>\n",
       "    <tr>\n",
       "      <th>896</th>\n",
       "      <td>6483</td>\n",
       "      <td>3</td>\n",
       "      <td>2006.0</td>\n",
       "      <td>0</td>\n",
       "      <td>0</td>\n",
       "      <td>258</td>\n",
       "      <td>0</td>\n",
       "      <td>1.0</td>\n",
       "      <td>0</td>\n",
       "      <td>1.0</td>\n",
       "      <td>0</td>\n",
       "      <td>0</td>\n",
       "      <td>0</td>\n",
       "      <td>1</td>\n",
       "      <td>0</td>\n",
       "      <td>1</td>\n",
       "      <td>0</td>\n",
       "      <td>0</td>\n",
       "    </tr>\n",
       "    <tr>\n",
       "      <th>897</th>\n",
       "      <td>981</td>\n",
       "      <td>3</td>\n",
       "      <td>1990.0</td>\n",
       "      <td>0</td>\n",
       "      <td>0</td>\n",
       "      <td>214</td>\n",
       "      <td>0</td>\n",
       "      <td>0.0</td>\n",
       "      <td>1</td>\n",
       "      <td>1.0</td>\n",
       "      <td>1</td>\n",
       "      <td>0</td>\n",
       "      <td>0</td>\n",
       "      <td>0</td>\n",
       "      <td>0</td>\n",
       "      <td>0</td>\n",
       "      <td>0</td>\n",
       "      <td>1</td>\n",
       "    </tr>\n",
       "    <tr>\n",
       "      <th>898</th>\n",
       "      <td>16418</td>\n",
       "      <td>2</td>\n",
       "      <td>1994.0</td>\n",
       "      <td>1</td>\n",
       "      <td>1</td>\n",
       "      <td>812</td>\n",
       "      <td>2</td>\n",
       "      <td>1.0</td>\n",
       "      <td>0</td>\n",
       "      <td>1.0</td>\n",
       "      <td>0</td>\n",
       "      <td>0</td>\n",
       "      <td>0</td>\n",
       "      <td>1</td>\n",
       "      <td>0</td>\n",
       "      <td>1</td>\n",
       "      <td>0</td>\n",
       "      <td>0</td>\n",
       "    </tr>\n",
       "    <tr>\n",
       "      <th>899</th>\n",
       "      <td>3782</td>\n",
       "      <td>3</td>\n",
       "      <td>2002.0</td>\n",
       "      <td>0</td>\n",
       "      <td>0</td>\n",
       "      <td>202</td>\n",
       "      <td>0</td>\n",
       "      <td>1.0</td>\n",
       "      <td>1</td>\n",
       "      <td>1.0</td>\n",
       "      <td>0</td>\n",
       "      <td>1</td>\n",
       "      <td>0</td>\n",
       "      <td>0</td>\n",
       "      <td>0</td>\n",
       "      <td>0</td>\n",
       "      <td>1</td>\n",
       "      <td>0</td>\n",
       "    </tr>\n",
       "  </tbody>\n",
       "</table>\n",
       "<p>796 rows × 18 columns</p>\n",
       "</div>"
      ],
      "text/plain": [
       "     Family_Case_ID  Severity  Birthday_year  Parents or siblings infected  \\\n",
       "0              4696         3         1992.0                             0   \n",
       "1             21436         1         1966.0                             0   \n",
       "2              7273         3         1982.0                             0   \n",
       "3              8226         3         1997.0                             0   \n",
       "4             19689         3         1994.0                             0   \n",
       "..              ...       ...            ...                           ...   \n",
       "895            6253         3         1998.0                             1   \n",
       "896            6483         3         2006.0                             0   \n",
       "897             981         3         1990.0                             0   \n",
       "898           16418         2         1994.0                             1   \n",
       "899            3782         3         2002.0                             0   \n",
       "\n",
       "     Wife/Husband or children infected  Medical_Expenses_Family  \\\n",
       "0                                    0                      225   \n",
       "1                                    1                     1663   \n",
       "2                                    0                      221   \n",
       "3                                    0                      220   \n",
       "4                                    0                      222   \n",
       "..                                 ...                      ...   \n",
       "895                                  1                      344   \n",
       "896                                  0                      258   \n",
       "897                                  0                      214   \n",
       "898                                  1                      812   \n",
       "899                                  0                      202   \n",
       "\n",
       "     Infected_per_Family  Marital_Status  Gender  Is_young Title_Miss  \\\n",
       "0                      0             0.0       1       1.0          1   \n",
       "1                      1             1.0       1       1.0          0   \n",
       "2                      0             1.0       0       1.0          0   \n",
       "3                      0             1.0       0       1.0          0   \n",
       "4                      0             1.0       1       1.0          0   \n",
       "..                   ...             ...     ...       ...        ...   \n",
       "895                    2             1.0       1       1.0          0   \n",
       "896                    0             1.0       0       1.0          0   \n",
       "897                    0             0.0       1       1.0          1   \n",
       "898                    2             1.0       0       1.0          0   \n",
       "899                    0             1.0       1       1.0          0   \n",
       "\n",
       "    Title_Ms Title_Mrs Title_Mr Title_Master City_SantaFe City_Albuquerque  \\\n",
       "0          0         0        0            0            1                0   \n",
       "1          1         0        0            0            0                1   \n",
       "2          0         0        1            0            1                0   \n",
       "3          0         0        1            0            1                0   \n",
       "4          1         0        0            0            1                0   \n",
       "..       ...       ...      ...          ...          ...              ...   \n",
       "895        1         0        0            0            1                0   \n",
       "896        0         0        1            0            1                0   \n",
       "897        0         0        0            0            0                0   \n",
       "898        0         0        1            0            1                0   \n",
       "899        1         0        0            0            0                1   \n",
       "\n",
       "    City_Taos  \n",
       "0           0  \n",
       "1           0  \n",
       "2           0  \n",
       "3           0  \n",
       "4           0  \n",
       "..        ...  \n",
       "895         0  \n",
       "896         0  \n",
       "897         1  \n",
       "898         0  \n",
       "899         0  \n",
       "\n",
       "[796 rows x 18 columns]"
      ]
     },
     "execution_count": 25,
     "metadata": {},
     "output_type": "execute_result"
    }
   ],
   "source": [
    "null_values(data.drop(['Name','City'],1),method='stat').iloc[null_ind,:]"
   ]
  },
  {
   "cell_type": "markdown",
   "metadata": {},
   "source": [
    "### <font color='#E8800A'>2.4 Removing Outliers</font> <a class=\"anchor\" id=\"removing\"></a>\n",
    "  [Back to TOC](#toc)"
   ]
  },
  {
   "cell_type": "markdown",
   "metadata": {},
   "source": [
    "Since all categorical variables have values within the expected range, we're going to check only the continuous variables for outliers."
   ]
  },
  {
   "cell_type": "code",
   "execution_count": 26,
   "metadata": {},
   "outputs": [
    {
     "data": {
      "text/plain": [
       "Index(['Family_Case_ID', 'Severity', 'Name', 'Birthday_year',\n",
       "       'Parents or siblings infected', 'Wife/Husband or children infected',\n",
       "       'Medical_Expenses_Family', 'Medical_Tent', 'City',\n",
       "       'Infected_per_Family', 'Marital_Status', 'Gender', 'Is_young',\n",
       "       'Title_Miss', 'Title_Ms', 'Title_Mrs', 'Title_Mr', 'Title_Master',\n",
       "       'City_SantaFe', 'City_Albuquerque', 'City_Taos'],\n",
       "      dtype='object')"
      ]
     },
     "execution_count": 26,
     "metadata": {},
     "output_type": "execute_result"
    }
   ],
   "source": [
    "data.columns"
   ]
  },
  {
   "cell_type": "code",
   "execution_count": 27,
   "metadata": {
    "scrolled": true
   },
   "outputs": [
    {
     "data": {
      "image/png": "[encoded data removed]",
      "text/plain": [
       "<Figure size 432x288 with 1 Axes>"
      ]
     },
     "metadata": {
      "needs_background": "light"
     },
     "output_type": "display_data"
    },
    {
     "data": {
      "image/png": "[encoded data removed]",
      "text/plain": [
       "<Figure size 432x288 with 1 Axes>"
      ]
     },
     "metadata": {
      "needs_background": "light"
     },
     "output_type": "display_data"
    },
    {
     "data": {
      "image/png": "[encoded data removed]",
      "text/plain": [
       "<Figure size 432x288 with 1 Axes>"
      ]
     },
     "metadata": {
      "needs_background": "light"
     },
     "output_type": "display_data"
    },
    {
     "data": {
      "image/png": "[encoded data removed]",
      "text/plain": [
       "<Figure size 432x288 with 1 Axes>"
      ]
     },
     "metadata": {
      "needs_background": "light"
     },
     "output_type": "display_data"
    },
    {
     "data": {
      "image/png": "[encoded data removed]",
      "text/plain": [
       "<Figure size 432x288 with 1 Axes>"
      ]
     },
     "metadata": {
      "needs_background": "light"
     },
     "output_type": "display_data"
    }
   ],
   "source": [
    "col = ['Birthday_year','Parents or siblings infected','Wife/Husband or children infected','Medical_Expenses_Family','Infected_per_Family']\n",
    "\n",
    "for c in col:\n",
    "    sns.boxplot(data=data[c],orient='h',whis=3.5)\n",
    "    plt.ylabel(c)\n",
    "    plt.show()"
   ]
  },
  {
   "cell_type": "markdown",
   "metadata": {},
   "source": [
    "We have outliers in: `Parents or siblings infected`, `Wife/Husband or children infected`, `Medical_Expenses_Family`, and `Infected_per_Family`"
   ]
  },
  {
   "cell_type": "markdown",
   "metadata": {},
   "source": [
    "Similarly to the replacement of null values, it is impossible to know whether it will be better for the model to remove outliers or not, and another function was created for testing purposes."
   ]
  },
  {
   "cell_type": "code",
   "execution_count": 28,
   "metadata": {},
   "outputs": [],
   "source": [
    "def outliers(data, target, std=3, remove=False, pr=False):\n",
    "    cols = []\n",
    "    for col in ['Birthday_year','Parents or siblings infected','Wife/Husband or children infected','Medical_Expenses_Family','Infected_per_Family']:\n",
    "        if col in data.columns:\n",
    "            cols.append(col)\n",
    "    \n",
    "    ind = []\n",
    "    ind_to_remove = []\n",
    "    \n",
    "    if len(cols)>0:\n",
    "        out = data[cols]\n",
    "        out = pd.DataFrame(data=StandardScaler().fit_transform(out),index=out.index,columns=out.columns)\n",
    "\n",
    "        for col in out.columns:\n",
    "            ind_col = list(out[(out[col]<-std)|(out[col]>std)].index)\n",
    "            ind += ind_col\n",
    "\n",
    "        for i in ind:\n",
    "            if i not in ind_to_remove:\n",
    "                ind_to_remove.append(i)\n",
    "            \n",
    "    if pr == True:\n",
    "        print(len(ind_to_remove))\n",
    "    \n",
    "    if remove == True:\n",
    "        for i in ind_to_remove:\n",
    "            data = data.drop(i,0)\n",
    "            target = target.drop(i,0)\n",
    "        \n",
    "        return data, target"
   ]
  },
  {
   "cell_type": "code",
   "execution_count": 29,
   "metadata": {},
   "outputs": [
    {
     "name": "stdout",
     "output_type": "stream",
     "text": [
      "66\n"
     ]
    }
   ],
   "source": [
    "outliers(data, target, pr=True)"
   ]
  },
  {
   "cell_type": "code",
   "execution_count": 30,
   "metadata": {},
   "outputs": [
    {
     "name": "stdout",
     "output_type": "stream",
     "text": [
      "32\n"
     ]
    }
   ],
   "source": [
    "outliers(data, target, std=4, pr=True)"
   ]
  },
  {
   "cell_type": "markdown",
   "metadata": {},
   "source": [
    "If we use 3 standard deviations to find the outliers, we get 66 outliers (7% of the data) which is an acceptable number of records to drop. However this can be prejudicial for the model so tests are going to be made regarding whether or not to remove the outliers and whether 3 or 4 standard deviations should be used."
   ]
  },
  {
   "cell_type": "markdown",
   "metadata": {},
   "source": [
    "  ### <font color='#E8800A'>2.5 Oversampling</font> <a class=\"anchor\" id=\"oversampling\"></a>\n",
    "  [Back to TOC](#toc) "
   ]
  },
  {
   "cell_type": "markdown",
   "metadata": {},
   "source": [
    "Since the target variable is unbalanced, a hypothesis is to balance the dataset through oversampling. Undersampling was not considered because there's not much data to begin with."
   ]
  },
  {
   "cell_type": "code",
   "execution_count": 31,
   "metadata": {},
   "outputs": [],
   "source": [
    "def oversample(data, target):\n",
    "    X = pd.concat([data, target], axis=1)      \n",
    "\n",
    "    false = X[X.Deceased==0]\n",
    "    true = X[X.Deceased==1]    \n",
    "\n",
    "    false_upsampled = resample(false,\n",
    "                               replace=True, # sample with replacement\n",
    "                               n_samples=len(medium), # match number in majority class\n",
    "                               random_state=27) # reproducible results        \n",
    "\n",
    "    upsampled = pd.concat([false_upsampled, true])\n",
    "\n",
    "    data = upsampled.drop(['Deceased'],1)\n",
    "    target = upsampled['Deceased']   \n",
    "\n",
    "    return data, target"
   ]
  },
  {
   "cell_type": "markdown",
   "metadata": {},
   "source": [
    "  ### <font color='#E8800A'>3. Finding the Best Model</font> <a class=\"anchor\" id=\"testing\"></a>\n",
    "  [Back to TOC](#toc) "
   ]
  },
  {
   "cell_type": "markdown",
   "metadata": {},
   "source": [
    "  ### <font color='#E8800A'>3.1 Tuning Hyperparameters</font> <a class=\"anchor\" id=\"hyperp\"></a>\n",
    "  [Back to TOC](#toc) "
   ]
  },
  {
   "cell_type": "code",
   "execution_count": 32,
   "metadata": {},
   "outputs": [],
   "source": [
    "def avg_score(model_, method='knn', k=1, remove=False, std=3, oversampling=False, scaler=MinMaxScaler(), grid_search=False, parameters=None, features=False):\n",
    "    # apply kfold\n",
    "    kf = StratifiedKFold(n_splits=5,shuffle=True,random_state=42)\n",
    "    \n",
    "    # create lists to store the results from the different models \n",
    "    score_train = []\n",
    "    score_test = []\n",
    "    timer = []\n",
    "    n_iter = []\n",
    "    \n",
    "    data__ = data.drop(['Name','City'],1)\n",
    "    \n",
    "    for train_index, test_index in kf.split(data__,target):\n",
    "        model = deepcopy(model_)\n",
    "        \n",
    "        # get the indexes of the observations assigned for each partition\n",
    "        X_train, X_test = data__.iloc[train_index], data__.iloc[test_index]\n",
    "        y_train, y_test = target.iloc[train_index], target.iloc[test_index]\n",
    "        \n",
    "        # deal with the null values\n",
    "        X_train = null_values(X_train, method=method, k=k)\n",
    "        X_test = null_values(X_test, method=method,k=k)\n",
    "            \n",
    "        # deal with outliers\n",
    "        if remove == True:\n",
    "            X_train, y_train = outliers(X_train, y_train, std=std, remove=remove)\n",
    "        \n",
    "        # oversample the minority class\n",
    "        if oversampling == True:\n",
    "            X_train, y_train = oversample(X_train, y_train)\n",
    "            \n",
    "        # scale the data\n",
    "        scaler.fit(X_train)\n",
    "        X_train = scaler.transform(X_train)\n",
    "        X_test = scaler.transform(X_test)\n",
    "        \n",
    "        # start counting time\n",
    "        begin = time.perf_counter()\n",
    "        \n",
    "        # find the best features\n",
    "        if features == True:\n",
    "            rfe = RFECV(estimator = model,n_jobs=-1,scoring='accuracy')\n",
    "            X_train = rfe.fit_transform(X_train,y_train)\n",
    "            X_test = rfe.transform(X_test)\n",
    "            print(rfe.ranking_)\n",
    "            print(X_train.shape)\n",
    "        \n",
    "        # find the best hyperparameters\n",
    "        if grid_search == True:\n",
    "            clf = GridSearchCV(model,parameters,n_jobs=-1,scoring='accuracy')\n",
    "            clf.fit(X_train,y_train)\n",
    "            model = clf.best_estimator_\n",
    "            print(clf.best_params_)\n",
    "            \n",
    "        # fit the model to the data\n",
    "        model.fit(X_train, y_train)\n",
    "        \n",
    "        # finish counting time\n",
    "        end = time.perf_counter()\n",
    "        \n",
    "        # predictions\n",
    "        Y_pred = model.predict(X_train)\n",
    "        y_pred = model.predict(X_test)\n",
    "        \n",
    "        # check the mean f1-score for the train\n",
    "        value_train = model.score(X_train,y_train)\n",
    "        \n",
    "        # check the mean f1-score for the test\n",
    "        value_test = model.score(X_test,y_test)\n",
    "        \n",
    "        # print a classification report and confusion matrix\n",
    "        print(classification_report(y_true=y_test,y_pred=y_pred))\n",
    "        print(confusion_matrix(y_true=y_test,y_pred=y_pred))\n",
    "        \n",
    "        # append the scores, the time and the number of iterations in the corresponding list\n",
    "        score_train.append(value_train)\n",
    "        score_test.append(value_test)\n",
    "        timer.append(end-begin)\n",
    "        #n_iter.append(model.n_iter_)\n",
    "    # calculate the average and the std for each measure (accuracy, time and number of iterations)\n",
    "    avg_time = round(np.mean(timer),3)\n",
    "    avg_train = round(np.mean(score_train),3)\n",
    "    avg_test = round(np.mean(score_test),3)\n",
    "    std_time = round(np.std(timer),2)\n",
    "    std_train = round(np.std(score_train),2)\n",
    "    std_test = round(np.std(score_test),2)\n",
    "    #avg_iter = round(np.mean(n_iter),1)\n",
    "    #std_iter = round(np.std(n_iter),1)\n",
    "    \n",
    "    return str(avg_time) + '+/-' + str(std_time), str(avg_train) + '+/-' + str(std_train),\\\n",
    "str(avg_test) + '+/-' + str(std_test)#, str(avg_iter) + '+/-' + str(std_iter)"
   ]
  },
  {
   "cell_type": "code",
   "execution_count": 33,
   "metadata": {},
   "outputs": [],
   "source": [
    "def show_results(df, models, method = 'knn', k = 1, remove = False, std = 3, oversampling = False, scaler = MinMaxScaler(), parameters = None,features=False):\n",
    "    \"\"\"\n",
    "    Receive an empty dataframe and the different models and call the function avg_score\n",
    "    \"\"\"\n",
    "    count = 0\n",
    "    # for each model passed as argument\n",
    "    for model in models:\n",
    "        parameter_space = None\n",
    "        if parameters != None:\n",
    "            parameter_space = parameters[models.index(model)]\n",
    "            \n",
    "        if parameter_space == None:\n",
    "            grid_search = False\n",
    "        else:\n",
    "            grid_search = True\n",
    "                \n",
    "        print('----------------------------------')\n",
    "        # obtain the results provided by avg_score\n",
    "        time, avg_train, avg_test = avg_score(model, method = method, k = k, remove = remove, std = std, oversampling = oversampling, grid_search = grid_search, scaler = scaler, parameters = parameter_space, features = features)\n",
    "        # store the results in the right row\n",
    "        df.iloc[count] = time, avg_train, avg_test#, avg_iter\n",
    "        count+=1\n",
    "\n",
    "    return df"
   ]
  },
  {
   "cell_type": "markdown",
   "metadata": {},
   "source": [
    "Before blindly applying GridSearchCV with all the possible hyperparameter values for the algorithms used, a few preliminary tests were run in order to get a general idea of which parameters would be better than others. Here, not all tests that were run are shown, but only the example of the MLPClassifier. These and all tests were done using 5-fold cross validation in order to strike a balance between avoiding overfitting but also having enough data in the test set for the tests to be relevant. Since using 5-fold cross validation means that the train/test split will be 80%/20%, which is a common split, and that the test set has approximately 180 instances, this was the chosen split for the tests that were run."
   ]
  },
  {
   "cell_type": "code",
   "execution_count": 34,
   "metadata": {},
   "outputs": [
    {
     "data": {
      "text/plain": [
       "'model_simple = MLPClassifier(hidden_layer_sizes=(1,),max_iter=1000,random_state=0)\\nmodel_medium = MLPClassifier(hidden_layer_sizes=(50,50),max_iter=1000,random_state=0)\\nmodel_complex = MLPClassifier(hidden_layer_sizes=(100,100,100),max_iter=1000,random_state=0)'"
      ]
     },
     "execution_count": 34,
     "metadata": {},
     "output_type": "execute_result"
    }
   ],
   "source": [
    "\"\"\"model_simple = MLPClassifier(hidden_layer_sizes=(1,),max_iter=1000,random_state=0)\n",
    "model_medium = MLPClassifier(hidden_layer_sizes=(50,50),max_iter=1000,random_state=0)\n",
    "model_complex = MLPClassifier(hidden_layer_sizes=(100,100,100),max_iter=1000,random_state=0)\"\"\""
   ]
  },
  {
   "cell_type": "code",
   "execution_count": 35,
   "metadata": {
    "scrolled": true
   },
   "outputs": [
    {
     "data": {
      "text/plain": [
       "\"df = pd.DataFrame(columns=['Time','Train','Test'],index=['Simple','Medium','Complex'])\\nshow_results(df,[model_simple,model_medium,model_complex])\""
      ]
     },
     "execution_count": 35,
     "metadata": {},
     "output_type": "execute_result"
    }
   ],
   "source": [
    "\"\"\"df = pd.DataFrame(columns=['Time','Train','Test'],index=['Simple','Medium','Complex'])\n",
    "show_results(df,[model_simple,model_medium,model_complex])\"\"\""
   ]
  },
  {
   "cell_type": "markdown",
   "metadata": {},
   "source": [
    "Performs better with a medium sized network."
   ]
  },
  {
   "cell_type": "code",
   "execution_count": 36,
   "metadata": {},
   "outputs": [
    {
     "data": {
      "text/plain": [
       "\"model_relu = MLPClassifier(activation='relu',max_iter=1000,random_state=0)\\nmodel_logistic = MLPClassifier(activation='logistic',max_iter=1000,random_state=0)\\nmodel_tanh = MLPClassifier(activation='tanh',max_iter=1000,random_state=0)\\nmodel_identity = MLPClassifier(activation='identity',max_iter=1000,random_state=0)\""
      ]
     },
     "execution_count": 36,
     "metadata": {},
     "output_type": "execute_result"
    }
   ],
   "source": [
    "\"\"\"model_relu = MLPClassifier(activation='relu',max_iter=1000,random_state=0)\n",
    "model_logistic = MLPClassifier(activation='logistic',max_iter=1000,random_state=0)\n",
    "model_tanh = MLPClassifier(activation='tanh',max_iter=1000,random_state=0)\n",
    "model_identity = MLPClassifier(activation='identity',max_iter=1000,random_state=0)\"\"\""
   ]
  },
  {
   "cell_type": "code",
   "execution_count": 37,
   "metadata": {},
   "outputs": [
    {
     "data": {
      "text/plain": [
       "\"df = pd.DataFrame(columns=['Time','Train','Test'],index=['relu','logistic','tanh','identity'])\\nshow_results(df,[model_relu,model_logistic,model_tanh,model_identity])\""
      ]
     },
     "execution_count": 37,
     "metadata": {},
     "output_type": "execute_result"
    }
   ],
   "source": [
    "\"\"\"df = pd.DataFrame(columns=['Time','Train','Test'],index=['relu','logistic','tanh','identity'])\n",
    "show_results(df,[model_relu,model_logistic,model_tanh,model_identity])\"\"\""
   ]
  },
  {
   "cell_type": "markdown",
   "metadata": {},
   "source": [
    "Performs better with activation function relu."
   ]
  },
  {
   "cell_type": "code",
   "execution_count": 38,
   "metadata": {},
   "outputs": [
    {
     "data": {
      "text/plain": [
       "\"model_lr_big = MLPClassifier(solver='sgd',learning_rate_init=0.5,max_iter=1000,random_state=0)\\nmodel_lr_medium = MLPClassifier(solver='sgd',learning_rate_init=0.001,max_iter=1000,random_state=0)\\nmodel_lr_small = MLPClassifier(solver='sgd',learning_rate_init=0.000001,max_iter=1000,random_state=0)\""
      ]
     },
     "execution_count": 38,
     "metadata": {},
     "output_type": "execute_result"
    }
   ],
   "source": [
    "\"\"\"model_lr_big = MLPClassifier(solver='sgd',learning_rate_init=0.5,max_iter=1000,random_state=0)\n",
    "model_lr_medium = MLPClassifier(solver='sgd',learning_rate_init=0.001,max_iter=1000,random_state=0)\n",
    "model_lr_small = MLPClassifier(solver='sgd',learning_rate_init=0.000001,max_iter=1000,random_state=0)\"\"\""
   ]
  },
  {
   "cell_type": "code",
   "execution_count": 39,
   "metadata": {},
   "outputs": [
    {
     "data": {
      "text/plain": [
       "\"df = pd.DataFrame(columns=['Time','Train','Test'],index=['big','medium','small'])\\nshow_results(df,[model_lr_big,model_lr_medium,model_lr_small])\""
      ]
     },
     "execution_count": 39,
     "metadata": {},
     "output_type": "execute_result"
    }
   ],
   "source": [
    "\"\"\"df = pd.DataFrame(columns=['Time','Train','Test'],index=['big','medium','small'])\n",
    "show_results(df,[model_lr_big,model_lr_medium,model_lr_small])\"\"\""
   ]
  },
  {
   "cell_type": "markdown",
   "metadata": {},
   "source": [
    "Performs better with a big learning rate."
   ]
  },
  {
   "cell_type": "code",
   "execution_count": 40,
   "metadata": {},
   "outputs": [
    {
     "data": {
      "text/plain": [
       "\"model_lr_big_inv = MLPClassifier(solver='sgd',learning_rate_init=0.5,learning_rate='invscaling',max_iter=1000,random_state=0)\\nmodel_lr_medium_inv = MLPClassifier(solver='sgd',learning_rate_init=0.001,learning_rate='invscaling',max_iter=1000,random_state=0)\\nmodel_lr_big_adap = MLPClassifier(solver='sgd',learning_rate_init=0.5,learning_rate='adaptive',max_iter=1000,random_state=0)\\nmodel_lr_medium_adap = MLPClassifier(solver='sgd',learning_rate_init=0.001,learning_rate='adaptive',max_iter=1000,random_state=0)\""
      ]
     },
     "execution_count": 40,
     "metadata": {},
     "output_type": "execute_result"
    }
   ],
   "source": [
    "\"\"\"model_lr_big_inv = MLPClassifier(solver='sgd',learning_rate_init=0.5,learning_rate='invscaling',max_iter=1000,random_state=0)\n",
    "model_lr_medium_inv = MLPClassifier(solver='sgd',learning_rate_init=0.001,learning_rate='invscaling',max_iter=1000,random_state=0)\n",
    "model_lr_big_adap = MLPClassifier(solver='sgd',learning_rate_init=0.5,learning_rate='adaptive',max_iter=1000,random_state=0)\n",
    "model_lr_medium_adap = MLPClassifier(solver='sgd',learning_rate_init=0.001,learning_rate='adaptive',max_iter=1000,random_state=0)\"\"\""
   ]
  },
  {
   "cell_type": "code",
   "execution_count": 41,
   "metadata": {},
   "outputs": [
    {
     "data": {
      "text/plain": [
       "\"df = pd.DataFrame(columns=['Time','Train','Test'],index=['big_inv','medium_inv','big_adap','medium_adap'])\\nshow_results(df,[model_lr_big_inv,model_lr_medium_inv,model_lr_big_adap,model_lr_medium_adap])\""
      ]
     },
     "execution_count": 41,
     "metadata": {},
     "output_type": "execute_result"
    }
   ],
   "source": [
    "\"\"\"df = pd.DataFrame(columns=['Time','Train','Test'],index=['big_inv','medium_inv','big_adap','medium_adap'])\n",
    "show_results(df,[model_lr_big_inv,model_lr_medium_inv,model_lr_big_adap,model_lr_medium_adap])\"\"\""
   ]
  },
  {
   "cell_type": "markdown",
   "metadata": {},
   "source": [
    "With an adaptive learning rate the model performs better."
   ]
  },
  {
   "cell_type": "code",
   "execution_count": 42,
   "metadata": {},
   "outputs": [
    {
     "data": {
      "text/plain": [
       "\"model_lr_big = MLPClassifier(solver='adam',learning_rate_init=0.5,max_iter=1000,random_state=0)\\nmodel_lr_medium = MLPClassifier(solver='adam',learning_rate_init=0.001,max_iter=1000,random_state=0)\\nmodel_lr_small = MLPClassifier(solver='adam',learning_rate_init=0.000001,max_iter=1000,random_state=0)\""
      ]
     },
     "execution_count": 42,
     "metadata": {},
     "output_type": "execute_result"
    }
   ],
   "source": [
    "\"\"\"model_lr_big = MLPClassifier(solver='adam',learning_rate_init=0.5,max_iter=1000,random_state=0)\n",
    "model_lr_medium = MLPClassifier(solver='adam',learning_rate_init=0.001,max_iter=1000,random_state=0)\n",
    "model_lr_small = MLPClassifier(solver='adam',learning_rate_init=0.000001,max_iter=1000,random_state=0)\"\"\""
   ]
  },
  {
   "cell_type": "code",
   "execution_count": 43,
   "metadata": {},
   "outputs": [
    {
     "data": {
      "text/plain": [
       "\"df = pd.DataFrame(columns=['Time','Train','Test'],index=['big','medium','small'])\\nshow_results(df,[model_lr_big,model_lr_medium,model_lr_small])\""
      ]
     },
     "execution_count": 43,
     "metadata": {},
     "output_type": "execute_result"
    }
   ],
   "source": [
    "\"\"\"df = pd.DataFrame(columns=['Time','Train','Test'],index=['big','medium','small'])\n",
    "show_results(df,[model_lr_big,model_lr_medium,model_lr_small])\"\"\""
   ]
  },
  {
   "cell_type": "markdown",
   "metadata": {},
   "source": [
    "medium learning rate has the best performance."
   ]
  },
  {
   "cell_type": "code",
   "execution_count": 44,
   "metadata": {},
   "outputs": [
    {
     "data": {
      "text/plain": [
       "\"model_sgd = MLPClassifier(solver='sgd',learning_rate_init=0.5,learning_rate='adaptive',max_iter=1000,random_state=0)\\nmodel_adam = MLPClassifier(solver='adam',learning_rate_init=0.001,max_iter=1000,random_state=0)\\nmodel_lbfgs = MLPClassifier(solver='lbfgs',max_iter=5000,random_state=0)\""
      ]
     },
     "execution_count": 44,
     "metadata": {},
     "output_type": "execute_result"
    }
   ],
   "source": [
    "\"\"\"model_sgd = MLPClassifier(solver='sgd',learning_rate_init=0.5,learning_rate='adaptive',max_iter=1000,random_state=0)\n",
    "model_adam = MLPClassifier(solver='adam',learning_rate_init=0.001,max_iter=1000,random_state=0)\n",
    "model_lbfgs = MLPClassifier(solver='lbfgs',max_iter=5000,random_state=0)\"\"\""
   ]
  },
  {
   "cell_type": "code",
   "execution_count": 45,
   "metadata": {
    "scrolled": true
   },
   "outputs": [
    {
     "data": {
      "text/plain": [
       "\"df = pd.DataFrame(columns=['Time','Train','Test'],index=['sgd','adam','lbfgs'])\\nshow_results(df,[model_sgd,model_adam,model_lbfgs])\""
      ]
     },
     "execution_count": 45,
     "metadata": {},
     "output_type": "execute_result"
    }
   ],
   "source": [
    "\"\"\"df = pd.DataFrame(columns=['Time','Train','Test'],index=['sgd','adam','lbfgs'])\n",
    "show_results(df,[model_sgd,model_adam,model_lbfgs])\"\"\""
   ]
  },
  {
   "cell_type": "markdown",
   "metadata": {},
   "source": [
    "adam performs slightly better."
   ]
  },
  {
   "cell_type": "code",
   "execution_count": 46,
   "metadata": {},
   "outputs": [
    {
     "data": {
      "text/plain": [
       "'model_batch5 = MLPClassifier(batch_size=5,max_iter=1000,random_state=0)\\nmodel_batch50 = MLPClassifier(batch_size=50,max_iter=1000,random_state=0)\\nmodel_batch500 = MLPClassifier(batch_size=500,max_iter=1000,random_state=0)'"
      ]
     },
     "execution_count": 46,
     "metadata": {},
     "output_type": "execute_result"
    }
   ],
   "source": [
    "\"\"\"model_batch5 = MLPClassifier(batch_size=5,max_iter=1000,random_state=0)\n",
    "model_batch50 = MLPClassifier(batch_size=50,max_iter=1000,random_state=0)\n",
    "model_batch500 = MLPClassifier(batch_size=500,max_iter=1000,random_state=0)\"\"\""
   ]
  },
  {
   "cell_type": "code",
   "execution_count": 47,
   "metadata": {
    "scrolled": true
   },
   "outputs": [
    {
     "data": {
      "text/plain": [
       "\"df = pd.DataFrame(columns=['Time','Train','Test'],index=[50,500,5000])\\nshow_results(df,[model_batch5,model_batch50,model_batch500])\""
      ]
     },
     "execution_count": 47,
     "metadata": {},
     "output_type": "execute_result"
    }
   ],
   "source": [
    "\"\"\"df = pd.DataFrame(columns=['Time','Train','Test'],index=[50,500,5000])\n",
    "show_results(df,[model_batch5,model_batch50,model_batch500])\"\"\""
   ]
  },
  {
   "cell_type": "markdown",
   "metadata": {},
   "source": [
    "All values have similar performances, but 50 and 500 are way faster."
   ]
  },
  {
   "cell_type": "markdown",
   "metadata": {},
   "source": [
    "After these tests were done a smaller parameter space was set up for future tests."
   ]
  },
  {
   "cell_type": "code",
   "execution_count": 48,
   "metadata": {},
   "outputs": [
    {
     "data": {
      "text/plain": [
       "\"parameter_space = {\\n    'batch_size':[50,500],\\n    'max_iter':[5000],\\n    'random_state':[0]\\n}\""
      ]
     },
     "execution_count": 48,
     "metadata": {},
     "output_type": "execute_result"
    }
   ],
   "source": [
    "\"\"\"parameter_space = {\n",
    "    'batch_size':[50,500],\n",
    "    'max_iter':[5000],\n",
    "    'random_state':[0]\n",
    "}\"\"\""
   ]
  },
  {
   "cell_type": "markdown",
   "metadata": {},
   "source": [
    "  ### <font color='#E8800A'>3.2 Data Cleaning and Scaling</font> <a class=\"anchor\" id=\"dataclean\"></a>\n",
    "  [Back to TOC](#toc) "
   ]
  },
  {
   "cell_type": "markdown",
   "metadata": {},
   "source": [
    "Given that there are so many alternatives on how to clean and scale the data, they're going to be tested against each other."
   ]
  },
  {
   "cell_type": "markdown",
   "metadata": {},
   "source": [
    "***Normalizing the data***"
   ]
  },
  {
   "cell_type": "markdown",
   "metadata": {},
   "source": [
    "Scaling the train data set with the following alternatives:\n",
    "- **MinMaxScaler**\n",
    "- **StandardScaler**\n",
    "- **RobustScaler**\n",
    "- **MaxAbsScaler**"
   ]
  },
  {
   "cell_type": "code",
   "execution_count": 49,
   "metadata": {},
   "outputs": [],
   "source": [
    "#scaler = MinMaxScaler()\n",
    "#scaler = StandardScaler()\n",
    "scaler = RobustScaler()\n",
    "#scaler = MaxAbsScaler\n",
    "\n",
    "remove = True\n",
    "#remove = False\n",
    "\n",
    "#std = 3\n",
    "std = 4\n",
    "\n",
    "method = 'knn'\n",
    "#method = 'stat'\n",
    "\n",
    "#k = 1\n",
    "k = 2\n",
    "#k = 3\n",
    "#k = 4\n",
    "#k = 5\n",
    "\n",
    "models = [\n",
    "    #('knn',KNeighborsClassifier(algorithm='ball_tree',metric='minkowski',n_neighbors=40,p=1,weights='distance')),\n",
    "    ('nb',GaussianNB()),\n",
    "    #('svc',SVC(kernel='poly',degree=4,C=1,random_state=0)),\n",
    "    #('lr',LogisticRegression(random_state=0,C=0.1,fit_intercept=False,l1_ratio=0.9,multi_class='multinomial',\n",
    "                             #penalty='elasticnet',solver='saga',warm_start=True)),\n",
    "    ('nn',MLPClassifier(random_state=0,max_iter=2000,batch_size=500)),\n",
    "    #('dt',DecisionTreeClassifier(random_state=0,splitter='random',max_depth=10,criterion='entropy',ccp_alpha=0.005)),\n",
    "    #('ada',AdaBoostClassifier(random_state=0,algorithm='SAMME.R',learning_rate=0.1,n_estimators=50)),\n",
    "    ('gb',GradientBoostingClassifier(loss='deviance',max_depth=4,min_samples_split=5,n_estimators=100,\n",
    "                                     random_state=0,subsample=0.5,warm_start=True)),\n",
    "    ('rf',RandomForestClassifier(warm_start=True,random_state=0,n_estimators=550,max_depth=19,criterion='entropy',\n",
    "                                 ccp_alpha=0))\n",
    "]\n",
    "\n",
    "#model = KNeighborsClassifier()\n",
    "#model = GaussianNB()\n",
    "#model = SVC()\n",
    "#model = LogisticRegression()\n",
    "model = MLPClassifier()\n",
    "#model = DecisionTreeClassifier()\n",
    "#model = AbaBoostClassifier()\n",
    "#model = GradientBoostingClassifier()\n",
    "#model = RandomForestClassifier()\n",
    "#model = StackingClassifier(estimators=models)"
   ]
  },
  {
   "cell_type": "markdown",
   "metadata": {},
   "source": [
    "Not all algorithms were included in order to run the Stacking classifier, due to the fact that it appeared that the accuracy of the test set decreased when any more models were added besides the ones that were included."
   ]
  },
  {
   "cell_type": "code",
   "execution_count": 50,
   "metadata": {
    "scrolled": true
   },
   "outputs": [
    {
     "data": {
      "text/plain": [
       "\"df = pd.DataFrame(columns=['Time','Train','Test'], index=['model'])\\nshow_results(df,[model],scaler=scaler,remove=remove,std=std,k=k,method=method,parameters=[parameter_space])\""
      ]
     },
     "execution_count": 50,
     "metadata": {},
     "output_type": "execute_result"
    }
   ],
   "source": [
    "\"\"\"df = pd.DataFrame(columns=['Time','Train','Test'], index=['model'])\n",
    "show_results(df,[model],scaler=scaler,remove=remove,std=std,k=k,method=method,parameters=[parameter_space])\"\"\""
   ]
  },
  {
   "cell_type": "markdown",
   "metadata": {},
   "source": [
    "The results of these tests can be found in the following tables:\n",
    "\n",
    "![alt text](knn.jpg \"K-Nearest Neighbors results\")\n",
    "![alt text](nb.jpg \"Naive Bayes results\")\n",
    "![alt text](lr.jpg \"Logistic Regression results\")\n",
    "![alt text](svc.jpg \"Support Vector Machine results\")\n",
    "![alt text](mlp.jpg \"Multi-Layer Perceptron results\")\n",
    "![alt text](dt.jpg \"Decision Tree results\")\n",
    "![alt text](adaboost.jpg \"AdaBoost results\")\n",
    "![alt text](gradientboosting.jpg \"GradientBoosting results\")\n",
    "![alt text](randomforest.jpg \"Random Forest results\")\n",
    "![alt text](stacking.jpg \"Stacking results\")"
   ]
  },
  {
   "cell_type": "markdown",
   "metadata": {},
   "source": [
    "  ### <font color='#E8800A'>3.3 Feature Selection</font> <a class=\"anchor\" id=\"featureselc\"></a>\n",
    "  [Back to TOC](#toc) "
   ]
  },
  {
   "cell_type": "markdown",
   "metadata": {},
   "source": [
    "After looking at the best hyperparameters for each model and figuring the optimal way to remove null values for each scaler and approach to remove outliers, each feature was removed separately in order to figure out which ones could be removed. After figuring out which feature most improved the accuracy of the model when removed, the feature would be dropped and the process was repeated until there was no more improvement."
   ]
  },
  {
   "cell_type": "code",
   "execution_count": 51,
   "metadata": {},
   "outputs": [],
   "source": [
    "#scaler = MinMaxScaler()\n",
    "#scaler = StandardScaler()\n",
    "scaler = RobustScaler()\n",
    "#scaler = MaxAbsScaler\n",
    "\n",
    "remove = True\n",
    "#remove = False\n",
    "\n",
    "#std = 3\n",
    "std = 4\n",
    "\n",
    "method = 'knn'\n",
    "#method = 'stat'\n",
    "\n",
    "#k = 1\n",
    "k = 2\n",
    "#k = 3\n",
    "#k = 4\n",
    "#k = 5\n",
    "\n",
    "#model = KNeighborsClassifier(algorithm='ball_tree',metric='minkowski',n_neighbors=40,p=1,weights='distance')\n",
    "#model = GaussianNB()\n",
    "#model = SVC(kernel='poly',degree=4,C=1,random_state=0)\n",
    "#model = LogisticRegression(random_state=0,C=0.1,fit_intercept=False,l1_ratio=0.9,multi_class='multinomial',\n",
    "                           #penalty='elasticnet',solver='saga',warm_start=True)\n",
    "model = MLPClassifier(random_state=0,max_iter=2000,batch_size=500)\n",
    "#model = DecisionTreeClassifier(random_state=0,splitter='random',max_depth=10,criterion='entropy',ccp_alpha=0.005)\n",
    "#model = AdaBoostClassifier(random_state=0,algorithm='SAMME.R',learning_rate=0.1,n_estimators=50)\n",
    "#model = GradientBoostingClassifier(loss='deviance',max_depth=4,min_samples_split=5,n_estimators=100,random_state=0,\n",
    "                                   #subsample=0.5,warm_start=True)\n",
    "#model = RandomForestClassifier(warm_start=True,random_state=0,n_estimators=550,max_depth=19,criterion='entropy',ccp_alpha=0)"
   ]
  },
  {
   "cell_type": "code",
   "execution_count": 52,
   "metadata": {},
   "outputs": [],
   "source": [
    "data_ = data"
   ]
  },
  {
   "cell_type": "code",
   "execution_count": 53,
   "metadata": {
    "scrolled": true
   },
   "outputs": [
    {
     "data": {
      "text/plain": [
       "\"df = pd.DataFrame(columns=['Time','Train','Test'], index=['model'])\\nfor col in data_.columns:\\n    if col not in ['Name','Medical_Tent','City']:\\n        data = data_.drop(col,1)\\n        print(col)\\n        print(show_results(df,[model],scaler=scaler,remove=remove,std=std,k=k,method=method))\""
      ]
     },
     "execution_count": 53,
     "metadata": {},
     "output_type": "execute_result"
    }
   ],
   "source": [
    "\"\"\"df = pd.DataFrame(columns=['Time','Train','Test'], index=['model'])\n",
    "for col in data_.columns:\n",
    "    if col not in ['Name','Medical_Tent','City']:\n",
    "        data = data_.drop(col,1)\n",
    "        print(col)\n",
    "        print(show_results(df,[model],scaler=scaler,remove=remove,std=std,k=k,method=method))\"\"\""
   ]
  },
  {
   "cell_type": "markdown",
   "metadata": {},
   "source": [
    "The results of these tests can be found in the following tables. For the Logistic Regression, Decision Trees and Naive Bayes, since the results before feature selection were not that good to begin with it was decided that feature selection wouldn't be done for those models:\n",
    "\n",
    "(in yellow are the features removed in order to reach the result in the the column `Multiple`, in green is the model that had the best mean accuracy regarding the validation set, and in red are the cases where removing feature didn't improve at all the accuracy of the model)\n",
    "\n",
    "![alt text](knn_features.jpg \"K-Nearest Neighbors results\")\n",
    "![alt text](svc_features.jpg \"Support Vector Machine results\")\n",
    "![alt text](mlp_features.jpg \"Multi-Layer Perceptron results\")\n",
    "![alt text](adaboost_features.jpg \"AdaBoost results\")\n",
    "![alt text](gradientboosting_features.jpg \"GradientBoosting results\")\n",
    "![alt text](randomforest_features.jpg \"Random Forest results\")\n",
    "![alt text](stacking_features.jpg \"Stacking results\")"
   ]
  },
  {
   "cell_type": "markdown",
   "metadata": {},
   "source": [
    "  ### <font color='#E8800A'>4. Ensemble Models</font> <a class=\"anchor\" id=\"ensembles\"></a>\n",
    "  [Back to TOC](#toc) "
   ]
  },
  {
   "cell_type": "markdown",
   "metadata": {},
   "source": [
    "After finding the best parametrization and features, as well as the best way to clean the data for each model, tests were done with regards to bagging, using the best model as the base."
   ]
  },
  {
   "cell_type": "code",
   "execution_count": 54,
   "metadata": {},
   "outputs": [
    {
     "data": {
      "text/plain": [
       "\"data = data_.drop(['Birthday_year','City_Taos'],1)\""
      ]
     },
     "execution_count": 54,
     "metadata": {},
     "output_type": "execute_result"
    }
   ],
   "source": [
    "\"\"\"data = data_.drop(['Birthday_year','City_Taos'],1)\"\"\""
   ]
  },
  {
   "cell_type": "code",
   "execution_count": 55,
   "metadata": {},
   "outputs": [
    {
     "data": {
      "text/plain": [
       "\"df = pd.DataFrame(columns=['Time','Train','Test'], index=['model'])\\nbagging = BaggingClassifier(base_estimator=MLPClassifier(random_state=0,max_iter=2000,batch_size=500), random_state=5)\""
      ]
     },
     "execution_count": 55,
     "metadata": {},
     "output_type": "execute_result"
    }
   ],
   "source": [
    "\"\"\"df = pd.DataFrame(columns=['Time','Train','Test'], index=['model'])\n",
    "bagging = BaggingClassifier(base_estimator=MLPClassifier(random_state=0,max_iter=2000,batch_size=500), random_state=5)\"\"\""
   ]
  },
  {
   "cell_type": "code",
   "execution_count": 56,
   "metadata": {
    "scrolled": true
   },
   "outputs": [
    {
     "data": {
      "text/plain": [
       "'show_results(df,[bagging],k=2,remove=True,std=4,scaler=RobustScaler())'"
      ]
     },
     "execution_count": 56,
     "metadata": {},
     "output_type": "execute_result"
    }
   ],
   "source": [
    "\"\"\"show_results(df,[bagging],k=2,remove=True,std=4,scaler=RobustScaler())\"\"\""
   ]
  },
  {
   "cell_type": "markdown",
   "metadata": {},
   "source": [
    "  ### <font color='#E8800A'>4.1 Bagging</font> <a class=\"anchor\" id=\"bagging\"></a>\n",
    "  [Back to TOC](#toc)  "
   ]
  },
  {
   "cell_type": "markdown",
   "metadata": {},
   "source": [
    "In order to get the best results for bagging it is also necessary to tune the hyperparameters of bagging."
   ]
  },
  {
   "cell_type": "code",
   "execution_count": 57,
   "metadata": {},
   "outputs": [],
   "source": [
    "#model = KNeighborsClassifier(algorithm='ball_tree',metric='minkowski',n_neighbors=40,p=1,weights='distance')\n",
    "#model = GaussianNB()\n",
    "#model = SVC(kernel='poly',degree=4,C=1,random_state=0)\n",
    "#model = LogisticRegression(random_state=0,C=0.1,fit_intercept=False,l1_ratio=0.9,multi_class='multinomial',\n",
    "                           #penalty='elasticnet',solver='saga',warm_start=True)\n",
    "model = MLPClassifier(random_state=0,max_iter=2000,batch_size=500)\n",
    "#model = DecisionTreeClassifier(random_state=0,splitter='random',max_depth=10,criterion='entropy',ccp_alpha=0.005)\n",
    "#model = AdaBoostClassifier(random_state=0,algorithm='SAMME.R',learning_rate=0.1,n_estimators=50)\n",
    "#model = GradientBoostingClassifier(loss='deviance',max_depth=4,min_samples_split=5,n_estimators=100,random_state=0,\n",
    "                                   #subsample=0.5,warm_start=True)\n",
    "#model = RandomForestClassifier(warm_start=True,random_state=0,n_estimators=550,max_depth=19,criterion='entropy',ccp_alpha=0)"
   ]
  },
  {
   "cell_type": "code",
   "execution_count": 58,
   "metadata": {},
   "outputs": [
    {
     "data": {
      "text/plain": [
       "'bagging_5 = BaggingClassifier(base_estimator=model, random_state=5, n_estimators=5)\\nbagging_10 = BaggingClassifier(base_estimator=model, random_state=5, n_estimators=10)\\nbagging_15 = BaggingClassifier(base_estimator=model, random_state=5, n_estimators=15)\\nbagging_20 = BaggingClassifier(base_estimator=model, random_state=5, n_estimators=20)\\nbagging_25 = BaggingClassifier(base_estimator=model, random_state=5, n_estimators=25)\\nbagging_30 = BaggingClassifier(base_estimator=model, random_state=5, n_estimators=30)\\nbagging_35 = BaggingClassifier(base_estimator=model, random_state=5, n_estimators=35)\\nbagging_40 = BaggingClassifier(base_estimator=model, random_state=5, n_estimators=40)\\nbagging_45 = BaggingClassifier(base_estimator=model, random_state=5, n_estimators=45)\\nbagging_50 = BaggingClassifier(base_estimator=model, random_state=5, n_estimators=50)'"
      ]
     },
     "execution_count": 58,
     "metadata": {},
     "output_type": "execute_result"
    }
   ],
   "source": [
    "\"\"\"bagging_5 = BaggingClassifier(base_estimator=model, random_state=5, n_estimators=5)\n",
    "bagging_10 = BaggingClassifier(base_estimator=model, random_state=5, n_estimators=10)\n",
    "bagging_15 = BaggingClassifier(base_estimator=model, random_state=5, n_estimators=15)\n",
    "bagging_20 = BaggingClassifier(base_estimator=model, random_state=5, n_estimators=20)\n",
    "bagging_25 = BaggingClassifier(base_estimator=model, random_state=5, n_estimators=25)\n",
    "bagging_30 = BaggingClassifier(base_estimator=model, random_state=5, n_estimators=30)\n",
    "bagging_35 = BaggingClassifier(base_estimator=model, random_state=5, n_estimators=35)\n",
    "bagging_40 = BaggingClassifier(base_estimator=model, random_state=5, n_estimators=40)\n",
    "bagging_45 = BaggingClassifier(base_estimator=model, random_state=5, n_estimators=45)\n",
    "bagging_50 = BaggingClassifier(base_estimator=model, random_state=5, n_estimators=50)\"\"\""
   ]
  },
  {
   "cell_type": "code",
   "execution_count": 59,
   "metadata": {
    "scrolled": true
   },
   "outputs": [
    {
     "data": {
      "text/plain": [
       "\"df = pd.DataFrame(columns=['Time','Train','Test'],index=range(5,55,5))\\nshow_results(df,[bagging_5,bagging_10,bagging_15,bagging_20,bagging_25,bagging_30,bagging_35,bagging_40,bagging_45,bagging_50],method='stat',scaler=MaxAbsScaler())\""
      ]
     },
     "execution_count": 59,
     "metadata": {},
     "output_type": "execute_result"
    }
   ],
   "source": [
    "\"\"\"df = pd.DataFrame(columns=['Time','Train','Test'],index=range(5,55,5))\n",
    "show_results(df,[bagging_5,bagging_10,bagging_15,bagging_20,bagging_25,bagging_30,bagging_35,bagging_40,bagging_45,bagging_50],method='stat',scaler=MaxAbsScaler())\"\"\""
   ]
  },
  {
   "cell_type": "markdown",
   "metadata": {},
   "source": [
    "Performs better with 5 estimators."
   ]
  },
  {
   "cell_type": "code",
   "execution_count": 60,
   "metadata": {},
   "outputs": [
    {
     "data": {
      "text/plain": [
       "'bagging_05 = BaggingClassifier(base_estimator=model, random_state=5, max_samples=0.5)\\nbagging_06 = BaggingClassifier(base_estimator=model, random_state=5, max_samples=0.6)\\nbagging_07 = BaggingClassifier(base_estimator=model, random_state=5, max_samples=0.7)\\nbagging_08 = BaggingClassifier(base_estimator=model, random_state=5, max_samples=0.8)\\nbagging_09 = BaggingClassifier(base_estimator=model, random_state=5, max_samples=0.9)\\nbagging_10 = BaggingClassifier(base_estimator=model, random_state=5, max_samples=1.0)'"
      ]
     },
     "execution_count": 60,
     "metadata": {},
     "output_type": "execute_result"
    }
   ],
   "source": [
    "\"\"\"bagging_05 = BaggingClassifier(base_estimator=model, random_state=5, max_samples=0.5)\n",
    "bagging_06 = BaggingClassifier(base_estimator=model, random_state=5, max_samples=0.6)\n",
    "bagging_07 = BaggingClassifier(base_estimator=model, random_state=5, max_samples=0.7)\n",
    "bagging_08 = BaggingClassifier(base_estimator=model, random_state=5, max_samples=0.8)\n",
    "bagging_09 = BaggingClassifier(base_estimator=model, random_state=5, max_samples=0.9)\n",
    "bagging_10 = BaggingClassifier(base_estimator=model, random_state=5, max_samples=1.0)\"\"\""
   ]
  },
  {
   "cell_type": "code",
   "execution_count": 61,
   "metadata": {},
   "outputs": [
    {
     "data": {
      "text/plain": [
       "\"df = pd.DataFrame(columns=['Time','Train','Test'],index=[0.5,0.6,0.7,0.8,0.9,1.0])\\nshow_results(df,[bagging_05,bagging_06,bagging_07,bagging_08,bagging_09,bagging_10],method='stat',scaler=MaxAbsScaler())\""
      ]
     },
     "execution_count": 61,
     "metadata": {},
     "output_type": "execute_result"
    }
   ],
   "source": [
    "\"\"\"df = pd.DataFrame(columns=['Time','Train','Test'],index=[0.5,0.6,0.7,0.8,0.9,1.0])\n",
    "show_results(df,[bagging_05,bagging_06,bagging_07,bagging_08,bagging_09,bagging_10],method='stat',scaler=MaxAbsScaler())\"\"\""
   ]
  },
  {
   "cell_type": "markdown",
   "metadata": {},
   "source": [
    "Performs better with all samples."
   ]
  },
  {
   "cell_type": "code",
   "execution_count": 62,
   "metadata": {},
   "outputs": [
    {
     "data": {
      "text/plain": [
       "'bagging_05 = BaggingClassifier(base_estimator=model, random_state=5, max_features=0.5)\\nbagging_06 = BaggingClassifier(base_estimator=model, random_state=5, max_features=0.6)\\nbagging_07 = BaggingClassifier(base_estimator=model, random_state=5, max_features=0.7)\\nbagging_08 = BaggingClassifier(base_estimator=model, random_state=5, max_features=0.8)\\nbagging_09 = BaggingClassifier(base_estimator=model, random_state=5, max_features=0.9)\\nbagging_10 = BaggingClassifier(base_estimator=model, random_state=5, max_features=1.0)'"
      ]
     },
     "execution_count": 62,
     "metadata": {},
     "output_type": "execute_result"
    }
   ],
   "source": [
    "\"\"\"bagging_05 = BaggingClassifier(base_estimator=model, random_state=5, max_features=0.5)\n",
    "bagging_06 = BaggingClassifier(base_estimator=model, random_state=5, max_features=0.6)\n",
    "bagging_07 = BaggingClassifier(base_estimator=model, random_state=5, max_features=0.7)\n",
    "bagging_08 = BaggingClassifier(base_estimator=model, random_state=5, max_features=0.8)\n",
    "bagging_09 = BaggingClassifier(base_estimator=model, random_state=5, max_features=0.9)\n",
    "bagging_10 = BaggingClassifier(base_estimator=model, random_state=5, max_features=1.0)\"\"\""
   ]
  },
  {
   "cell_type": "code",
   "execution_count": 63,
   "metadata": {},
   "outputs": [
    {
     "data": {
      "text/plain": [
       "\"df = pd.DataFrame(columns=['Time','Train','Test'],index=[0.5,0.6,0.7,0.8,0.9,1.0])\\nshow_results(df,[bagging_05,bagging_06,bagging_07,bagging_08,bagging_09,bagging_10],method='stat',scaler=MaxAbsScaler())\""
      ]
     },
     "execution_count": 63,
     "metadata": {},
     "output_type": "execute_result"
    }
   ],
   "source": [
    "\"\"\"df = pd.DataFrame(columns=['Time','Train','Test'],index=[0.5,0.6,0.7,0.8,0.9,1.0])\n",
    "show_results(df,[bagging_05,bagging_06,bagging_07,bagging_08,bagging_09,bagging_10],method='stat',scaler=MaxAbsScaler())\"\"\""
   ]
  },
  {
   "cell_type": "markdown",
   "metadata": {},
   "source": [
    "Performs better with 0.6 features."
   ]
  },
  {
   "cell_type": "code",
   "execution_count": 64,
   "metadata": {},
   "outputs": [
    {
     "data": {
      "text/plain": [
       "'bagging_0 = BaggingClassifier(base_estimator=model, random_state=5, bootstrap=False)\\nbagging_1 = BaggingClassifier(base_estimator=model, random_state=5, bootstrap=True)'"
      ]
     },
     "execution_count": 64,
     "metadata": {},
     "output_type": "execute_result"
    }
   ],
   "source": [
    "\"\"\"bagging_0 = BaggingClassifier(base_estimator=model, random_state=5, bootstrap=False)\n",
    "bagging_1 = BaggingClassifier(base_estimator=model, random_state=5, bootstrap=True)\"\"\""
   ]
  },
  {
   "cell_type": "code",
   "execution_count": 65,
   "metadata": {},
   "outputs": [
    {
     "data": {
      "text/plain": [
       "\"df = pd.DataFrame(columns=['Time','Train','Test'],index=['no bootstrapping','bootstrapping'])\\nshow_results(df,[bagging_0,bagging_1],method='stat',scaler=MaxAbsScaler())\""
      ]
     },
     "execution_count": 65,
     "metadata": {},
     "output_type": "execute_result"
    }
   ],
   "source": [
    "\"\"\"df = pd.DataFrame(columns=['Time','Train','Test'],index=['no bootstrapping','bootstrapping'])\n",
    "show_results(df,[bagging_0,bagging_1],method='stat',scaler=MaxAbsScaler())\"\"\""
   ]
  },
  {
   "cell_type": "markdown",
   "metadata": {},
   "source": [
    "Performs better with bootstrapping."
   ]
  },
  {
   "cell_type": "code",
   "execution_count": 66,
   "metadata": {},
   "outputs": [
    {
     "data": {
      "text/plain": [
       "'bagging_0 = BaggingClassifier(base_estimator=model, random_state=5, bootstrap_features=False)\\nbagging_1 = BaggingClassifier(base_estimator=model, random_state=5, bootstrap_features=True)'"
      ]
     },
     "execution_count": 66,
     "metadata": {},
     "output_type": "execute_result"
    }
   ],
   "source": [
    "\"\"\"bagging_0 = BaggingClassifier(base_estimator=model, random_state=5, bootstrap_features=False)\n",
    "bagging_1 = BaggingClassifier(base_estimator=model, random_state=5, bootstrap_features=True)\"\"\""
   ]
  },
  {
   "cell_type": "code",
   "execution_count": 67,
   "metadata": {},
   "outputs": [
    {
     "data": {
      "text/plain": [
       "\"df = pd.DataFrame(columns=['Time','Train','Test'],index=['no bootstrapping','bootstrapping'])\\nshow_results(df,[bagging_0,bagging_1],method='stat',scaler=MaxAbsScaler())\""
      ]
     },
     "execution_count": 67,
     "metadata": {},
     "output_type": "execute_result"
    }
   ],
   "source": [
    "\"\"\"df = pd.DataFrame(columns=['Time','Train','Test'],index=['no bootstrapping','bootstrapping'])\n",
    "show_results(df,[bagging_0,bagging_1],method='stat',scaler=MaxAbsScaler())\"\"\""
   ]
  },
  {
   "cell_type": "markdown",
   "metadata": {},
   "source": [
    "Performs better with bootstrapping."
   ]
  },
  {
   "cell_type": "code",
   "execution_count": 68,
   "metadata": {},
   "outputs": [
    {
     "data": {
      "text/plain": [
       "'bagging_0 = BaggingClassifier(base_estimator=model, random_state=5, warm_start=False)\\nbagging_1 = BaggingClassifier(base_estimator=model, random_state=5, warm_start=True)'"
      ]
     },
     "execution_count": 68,
     "metadata": {},
     "output_type": "execute_result"
    }
   ],
   "source": [
    "\"\"\"bagging_0 = BaggingClassifier(base_estimator=model, random_state=5, warm_start=False)\n",
    "bagging_1 = BaggingClassifier(base_estimator=model, random_state=5, warm_start=True)\"\"\""
   ]
  },
  {
   "cell_type": "code",
   "execution_count": 69,
   "metadata": {},
   "outputs": [
    {
     "data": {
      "text/plain": [
       "\"df = pd.DataFrame(columns=['Time','Train','Test'],index=['no warm start','warm start'])\\nshow_results(df,[bagging_0,bagging_1],method='stat',scaler=MaxAbsScaler())\""
      ]
     },
     "execution_count": 69,
     "metadata": {},
     "output_type": "execute_result"
    }
   ],
   "source": [
    "\"\"\"df = pd.DataFrame(columns=['Time','Train','Test'],index=['no warm start','warm start'])\n",
    "show_results(df,[bagging_0,bagging_1],method='stat',scaler=MaxAbsScaler())\"\"\""
   ]
  },
  {
   "cell_type": "markdown",
   "metadata": {},
   "source": [
    "Inconclusive."
   ]
  },
  {
   "cell_type": "code",
   "execution_count": 70,
   "metadata": {},
   "outputs": [
    {
     "data": {
      "text/plain": [
       "\"parameter_space = {\\n    'n_estimators':[5],\\n    'max_features':[0.7,0.6,],\\n    'bootstrap':[True,False],\\n    'bootstrap_features':[True,False],\\n    #'warm_start':[True,False],\\n    'base_estimator':[model],\\n    'random_state':[5]\\n}\\n\\nbagging = BaggingClassifier(base_estimator=model, random_state=5)\""
      ]
     },
     "execution_count": 70,
     "metadata": {},
     "output_type": "execute_result"
    }
   ],
   "source": [
    "\"\"\"parameter_space = {\n",
    "    'n_estimators':[5],\n",
    "    'max_features':[0.7,0.6,],\n",
    "    'bootstrap':[True,False],\n",
    "    'bootstrap_features':[True,False],\n",
    "    #'warm_start':[True,False],\n",
    "    'base_estimator':[model],\n",
    "    'random_state':[5]\n",
    "}\n",
    "\n",
    "bagging = BaggingClassifier(base_estimator=model, random_state=5)\"\"\""
   ]
  },
  {
   "cell_type": "code",
   "execution_count": 71,
   "metadata": {},
   "outputs": [
    {
     "data": {
      "text/plain": [
       "\"df = pd.DataFrame(columns=['Time','Train','Test'], index=['model'])\\nshow_results(df,[bagging],k=2,remove=True,std=4,scaler=RobustScaler(),parameters=[parameter_space])\""
      ]
     },
     "execution_count": 71,
     "metadata": {},
     "output_type": "execute_result"
    }
   ],
   "source": [
    "\"\"\"df = pd.DataFrame(columns=['Time','Train','Test'], index=['model'])\n",
    "show_results(df,[bagging],k=2,remove=True,std=4,scaler=RobustScaler(),parameters=[parameter_space])\"\"\""
   ]
  },
  {
   "cell_type": "markdown",
   "metadata": {},
   "source": [
    "  ### <font color='#E8800A'>5. Best Model</font> <a class=\"anchor\" id=\"model\"></a>\n",
    "  [Back to TOC](#toc) "
   ]
  },
  {
   "cell_type": "code",
   "execution_count": 72,
   "metadata": {},
   "outputs": [],
   "source": [
    "classifier = StackingClassifier(estimators=models)"
   ]
  },
  {
   "cell_type": "code",
   "execution_count": 73,
   "metadata": {},
   "outputs": [
    {
     "name": "stdout",
     "output_type": "stream",
     "text": [
      "              precision    recall  f1-score   support\n",
      "\n",
      "           0       0.98      0.90      0.94       347\n",
      "           1       0.94      0.99      0.96       553\n",
      "\n",
      "    accuracy                           0.96       900\n",
      "   macro avg       0.96      0.95      0.95       900\n",
      "weighted avg       0.96      0.96      0.96       900\n",
      "\n",
      "[[314  33]\n",
      " [  7 546]]\n"
     ]
    }
   ],
   "source": [
    "X_train = data_.drop(['Name','City','Marital_Status'],1)\n",
    "y_train = target\n",
    "\n",
    "# deal with the null values\n",
    "X_train = null_values(X_train,k=3)\n",
    "\n",
    "# scale the data\n",
    "scaler = RobustScaler()\n",
    "scaler.fit(X_train)\n",
    "X_train = scaler.transform(X_train)\n",
    "\n",
    "# fit the model to the data\n",
    "classifier.fit(X_train,y_train)\n",
    "\n",
    "# predictions\n",
    "Y_pred = classifier.predict(X_train)\n",
    "\n",
    "# check the mean accuracy for the train\n",
    "value_train = classifier.score(X_train,y_train)\n",
    "\n",
    "# print a classification report and confusion matrix\n",
    "print(classification_report(y_true=y_train,y_pred=Y_pred))\n",
    "print(confusion_matrix(y_true=y_train,y_pred=Y_pred))"
   ]
  },
  {
   "cell_type": "markdown",
   "metadata": {},
   "source": [
    "  ### <font color='#E8800A'>6. Classifying New Data</font> <a class=\"anchor\" id=\"newdata\"></a>\n",
    "  [Back to TOC](#toc) "
   ]
  },
  {
   "cell_type": "code",
   "execution_count": 74,
   "metadata": {},
   "outputs": [],
   "source": [
    "test = pd.read_csv('test.csv')"
   ]
  },
  {
   "cell_type": "code",
   "execution_count": 75,
   "metadata": {},
   "outputs": [
    {
     "data": {
      "text/html": [
       "<div>\n",
       "<style scoped>\n",
       "    .dataframe tbody tr th:only-of-type {\n",
       "        vertical-align: middle;\n",
       "    }\n",
       "\n",
       "    .dataframe tbody tr th {\n",
       "        vertical-align: top;\n",
       "    }\n",
       "\n",
       "    .dataframe thead th {\n",
       "        text-align: right;\n",
       "    }\n",
       "</style>\n",
       "<table border=\"1\" class=\"dataframe\">\n",
       "  <thead>\n",
       "    <tr style=\"text-align: right;\">\n",
       "      <th></th>\n",
       "      <th>Patient_ID</th>\n",
       "      <th>Family_Case_ID</th>\n",
       "      <th>Severity</th>\n",
       "      <th>Name</th>\n",
       "      <th>Birthday_year</th>\n",
       "      <th>Parents or siblings infected</th>\n",
       "      <th>Wife/Husband or children infected</th>\n",
       "      <th>Medical_Expenses_Family</th>\n",
       "      <th>Medical_Tent</th>\n",
       "      <th>City</th>\n",
       "    </tr>\n",
       "  </thead>\n",
       "  <tbody>\n",
       "    <tr>\n",
       "      <th>0</th>\n",
       "      <td>901</td>\n",
       "      <td>49242</td>\n",
       "      <td>3</td>\n",
       "      <td>Mr. Jody Pedro</td>\n",
       "      <td>NaN</td>\n",
       "      <td>0</td>\n",
       "      <td>0</td>\n",
       "      <td>203</td>\n",
       "      <td>NaN</td>\n",
       "      <td>Santa Fe</td>\n",
       "    </tr>\n",
       "    <tr>\n",
       "      <th>1</th>\n",
       "      <td>902</td>\n",
       "      <td>10400</td>\n",
       "      <td>3</td>\n",
       "      <td>Mr. Kevin Brent</td>\n",
       "      <td>1988.0</td>\n",
       "      <td>0</td>\n",
       "      <td>0</td>\n",
       "      <td>631</td>\n",
       "      <td>NaN</td>\n",
       "      <td>Santa Fe</td>\n",
       "    </tr>\n",
       "    <tr>\n",
       "      <th>2</th>\n",
       "      <td>903</td>\n",
       "      <td>10795</td>\n",
       "      <td>3</td>\n",
       "      <td>Mr. Frankie Cary</td>\n",
       "      <td>1981.0</td>\n",
       "      <td>1</td>\n",
       "      <td>0</td>\n",
       "      <td>376</td>\n",
       "      <td>NaN</td>\n",
       "      <td>Albuquerque</td>\n",
       "    </tr>\n",
       "    <tr>\n",
       "      <th>3</th>\n",
       "      <td>904</td>\n",
       "      <td>62440</td>\n",
       "      <td>3</td>\n",
       "      <td>Mr. Rick Pete</td>\n",
       "      <td>NaN</td>\n",
       "      <td>0</td>\n",
       "      <td>1</td>\n",
       "      <td>405</td>\n",
       "      <td>NaN</td>\n",
       "      <td>Albuquerque</td>\n",
       "    </tr>\n",
       "    <tr>\n",
       "      <th>4</th>\n",
       "      <td>905</td>\n",
       "      <td>81311</td>\n",
       "      <td>2</td>\n",
       "      <td>Mr. Matthew Erick</td>\n",
       "      <td>1996.0</td>\n",
       "      <td>0</td>\n",
       "      <td>0</td>\n",
       "      <td>378</td>\n",
       "      <td>NaN</td>\n",
       "      <td>Santa Fe</td>\n",
       "    </tr>\n",
       "  </tbody>\n",
       "</table>\n",
       "</div>"
      ],
      "text/plain": [
       "   Patient_ID  Family_Case_ID  Severity               Name  Birthday_year  \\\n",
       "0         901           49242         3     Mr. Jody Pedro            NaN   \n",
       "1         902           10400         3    Mr. Kevin Brent         1988.0   \n",
       "2         903           10795         3   Mr. Frankie Cary         1981.0   \n",
       "3         904           62440         3      Mr. Rick Pete            NaN   \n",
       "4         905           81311         2  Mr. Matthew Erick         1996.0   \n",
       "\n",
       "   Parents or siblings infected  Wife/Husband or children infected  \\\n",
       "0                             0                                  0   \n",
       "1                             0                                  0   \n",
       "2                             1                                  0   \n",
       "3                             0                                  1   \n",
       "4                             0                                  0   \n",
       "\n",
       "   Medical_Expenses_Family Medical_Tent         City  \n",
       "0                      203          NaN     Santa Fe  \n",
       "1                      631          NaN     Santa Fe  \n",
       "2                      376          NaN  Albuquerque  \n",
       "3                      405          NaN  Albuquerque  \n",
       "4                      378          NaN     Santa Fe  "
      ]
     },
     "execution_count": 75,
     "metadata": {},
     "output_type": "execute_result"
    }
   ],
   "source": [
    "test.head()"
   ]
  },
  {
   "cell_type": "code",
   "execution_count": 76,
   "metadata": {},
   "outputs": [
    {
     "data": {
      "text/plain": [
       "Index(['Patient_ID', 'Family_Case_ID', 'Severity', 'Name', 'Birthday_year',\n",
       "       'Parents or siblings infected', 'Wife/Husband or children infected',\n",
       "       'Medical_Expenses_Family', 'Medical_Tent', 'City'],\n",
       "      dtype='object')"
      ]
     },
     "execution_count": 76,
     "metadata": {},
     "output_type": "execute_result"
    }
   ],
   "source": [
    "test.columns"
   ]
  },
  {
   "cell_type": "code",
   "execution_count": 77,
   "metadata": {},
   "outputs": [
    {
     "data": {
      "text/plain": [
       "Patient_ID                             int64\n",
       "Family_Case_ID                         int64\n",
       "Severity                               int64\n",
       "Name                                  object\n",
       "Birthday_year                        float64\n",
       "Parents or siblings infected           int64\n",
       "Wife/Husband or children infected      int64\n",
       "Medical_Expenses_Family                int64\n",
       "Medical_Tent                          object\n",
       "City                                  object\n",
       "dtype: object"
      ]
     },
     "execution_count": 77,
     "metadata": {},
     "output_type": "execute_result"
    }
   ],
   "source": [
    "test.dtypes"
   ]
  },
  {
   "cell_type": "code",
   "execution_count": 78,
   "metadata": {},
   "outputs": [
    {
     "data": {
      "text/plain": [
       "(400, 10)"
      ]
     },
     "execution_count": 78,
     "metadata": {},
     "output_type": "execute_result"
    }
   ],
   "source": [
    "test.shape"
   ]
  },
  {
   "cell_type": "code",
   "execution_count": 79,
   "metadata": {},
   "outputs": [
    {
     "data": {
      "text/html": [
       "<div>\n",
       "<style scoped>\n",
       "    .dataframe tbody tr th:only-of-type {\n",
       "        vertical-align: middle;\n",
       "    }\n",
       "\n",
       "    .dataframe tbody tr th {\n",
       "        vertical-align: top;\n",
       "    }\n",
       "\n",
       "    .dataframe thead th {\n",
       "        text-align: right;\n",
       "    }\n",
       "</style>\n",
       "<table border=\"1\" class=\"dataframe\">\n",
       "  <thead>\n",
       "    <tr style=\"text-align: right;\">\n",
       "      <th></th>\n",
       "      <th>Patient_ID</th>\n",
       "      <th>Family_Case_ID</th>\n",
       "      <th>Severity</th>\n",
       "      <th>Birthday_year</th>\n",
       "      <th>Parents or siblings infected</th>\n",
       "      <th>Wife/Husband or children infected</th>\n",
       "      <th>Medical_Expenses_Family</th>\n",
       "    </tr>\n",
       "  </thead>\n",
       "  <tbody>\n",
       "    <tr>\n",
       "      <th>count</th>\n",
       "      <td>400.000000</td>\n",
       "      <td>400.000000</td>\n",
       "      <td>400.000000</td>\n",
       "      <td>318.000000</td>\n",
       "      <td>400.000000</td>\n",
       "      <td>400.000000</td>\n",
       "      <td>400.000000</td>\n",
       "    </tr>\n",
       "    <tr>\n",
       "      <th>mean</th>\n",
       "      <td>1100.500000</td>\n",
       "      <td>46024.932500</td>\n",
       "      <td>2.247500</td>\n",
       "      <td>1989.707547</td>\n",
       "      <td>0.400000</td>\n",
       "      <td>0.452500</td>\n",
       "      <td>1013.870000</td>\n",
       "    </tr>\n",
       "    <tr>\n",
       "      <th>std</th>\n",
       "      <td>115.614301</td>\n",
       "      <td>39279.856807</td>\n",
       "      <td>0.844409</td>\n",
       "      <td>14.171527</td>\n",
       "      <td>0.998746</td>\n",
       "      <td>0.910944</td>\n",
       "      <td>1587.588114</td>\n",
       "    </tr>\n",
       "    <tr>\n",
       "      <th>min</th>\n",
       "      <td>901.000000</td>\n",
       "      <td>1162.000000</td>\n",
       "      <td>1.000000</td>\n",
       "      <td>1944.000000</td>\n",
       "      <td>0.000000</td>\n",
       "      <td>0.000000</td>\n",
       "      <td>0.000000</td>\n",
       "    </tr>\n",
       "    <tr>\n",
       "      <th>25%</th>\n",
       "      <td>1000.750000</td>\n",
       "      <td>13487.000000</td>\n",
       "      <td>1.000000</td>\n",
       "      <td>1980.250000</td>\n",
       "      <td>0.000000</td>\n",
       "      <td>0.000000</td>\n",
       "      <td>221.000000</td>\n",
       "    </tr>\n",
       "    <tr>\n",
       "      <th>50%</th>\n",
       "      <td>1100.500000</td>\n",
       "      <td>26721.500000</td>\n",
       "      <td>3.000000</td>\n",
       "      <td>1993.000000</td>\n",
       "      <td>0.000000</td>\n",
       "      <td>0.000000</td>\n",
       "      <td>406.000000</td>\n",
       "    </tr>\n",
       "    <tr>\n",
       "      <th>75%</th>\n",
       "      <td>1200.250000</td>\n",
       "      <td>79045.000000</td>\n",
       "      <td>3.000000</td>\n",
       "      <td>1999.000000</td>\n",
       "      <td>0.000000</td>\n",
       "      <td>1.000000</td>\n",
       "      <td>883.250000</td>\n",
       "    </tr>\n",
       "    <tr>\n",
       "      <th>max</th>\n",
       "      <td>1300.000000</td>\n",
       "      <td>128562.000000</td>\n",
       "      <td>3.000000</td>\n",
       "      <td>2019.000000</td>\n",
       "      <td>9.000000</td>\n",
       "      <td>8.000000</td>\n",
       "      <td>14345.000000</td>\n",
       "    </tr>\n",
       "  </tbody>\n",
       "</table>\n",
       "</div>"
      ],
      "text/plain": [
       "        Patient_ID  Family_Case_ID    Severity  Birthday_year  \\\n",
       "count   400.000000      400.000000  400.000000     318.000000   \n",
       "mean   1100.500000    46024.932500    2.247500    1989.707547   \n",
       "std     115.614301    39279.856807    0.844409      14.171527   \n",
       "min     901.000000     1162.000000    1.000000    1944.000000   \n",
       "25%    1000.750000    13487.000000    1.000000    1980.250000   \n",
       "50%    1100.500000    26721.500000    3.000000    1993.000000   \n",
       "75%    1200.250000    79045.000000    3.000000    1999.000000   \n",
       "max    1300.000000   128562.000000    3.000000    2019.000000   \n",
       "\n",
       "       Parents or siblings infected  Wife/Husband or children infected  \\\n",
       "count                    400.000000                         400.000000   \n",
       "mean                       0.400000                           0.452500   \n",
       "std                        0.998746                           0.910944   \n",
       "min                        0.000000                           0.000000   \n",
       "25%                        0.000000                           0.000000   \n",
       "50%                        0.000000                           0.000000   \n",
       "75%                        0.000000                           1.000000   \n",
       "max                        9.000000                           8.000000   \n",
       "\n",
       "       Medical_Expenses_Family  \n",
       "count               400.000000  \n",
       "mean               1013.870000  \n",
       "std                1587.588114  \n",
       "min                   0.000000  \n",
       "25%                 221.000000  \n",
       "50%                 406.000000  \n",
       "75%                 883.250000  \n",
       "max               14345.000000  "
      ]
     },
     "execution_count": 79,
     "metadata": {},
     "output_type": "execute_result"
    }
   ],
   "source": [
    "test.describe()"
   ]
  },
  {
   "cell_type": "code",
   "execution_count": 80,
   "metadata": {},
   "outputs": [
    {
     "name": "stdout",
     "output_type": "stream",
     "text": [
      "<class 'pandas.core.frame.DataFrame'>\n",
      "RangeIndex: 400 entries, 0 to 399\n",
      "Data columns (total 10 columns):\n",
      " #   Column                             Non-Null Count  Dtype  \n",
      "---  ------                             --------------  -----  \n",
      " 0   Patient_ID                         400 non-null    int64  \n",
      " 1   Family_Case_ID                     400 non-null    int64  \n",
      " 2   Severity                           400 non-null    int64  \n",
      " 3   Name                               400 non-null    object \n",
      " 4   Birthday_year                      318 non-null    float64\n",
      " 5   Parents or siblings infected       400 non-null    int64  \n",
      " 6   Wife/Husband or children infected  400 non-null    int64  \n",
      " 7   Medical_Expenses_Family            400 non-null    int64  \n",
      " 8   Medical_Tent                       89 non-null     object \n",
      " 9   City                               400 non-null    object \n",
      "dtypes: float64(1), int64(6), object(3)\n",
      "memory usage: 31.4+ KB\n"
     ]
    }
   ],
   "source": [
    "test.info()"
   ]
  },
  {
   "cell_type": "code",
   "execution_count": 81,
   "metadata": {},
   "outputs": [
    {
     "data": {
      "text/plain": [
       "False"
      ]
     },
     "execution_count": 81,
     "metadata": {},
     "output_type": "execute_result"
    }
   ],
   "source": [
    "test.duplicated().any()"
   ]
  },
  {
   "cell_type": "code",
   "execution_count": 82,
   "metadata": {},
   "outputs": [],
   "source": [
    "test['Infected_per_Family'] = test['Parents or siblings infected'] + test['Wife/Husband or children infected']\n",
    "test['Marital_Status'] = 0\n",
    "test['Gender'] = 0\n",
    "# 2020-60 = 1960\n",
    "test['Is_young'] = 0\n",
    "for i in test.index:\n",
    "    if test['Birthday_year'][i]<=1960:\n",
    "        test['Is_young'][i] = 0\n",
    "    elif test['Birthday_year'][i]>1960:\n",
    "        test['Is_young'][i] = 1\n",
    "    else:\n",
    "        test['Is_young'][i] = None"
   ]
  },
  {
   "cell_type": "code",
   "execution_count": 83,
   "metadata": {},
   "outputs": [],
   "source": [
    "test['Title_Miss'] = test['Name']\n",
    "test['Title_Ms'] = test['Name']\n",
    "test['Title_Mrs'] = test['Name']\n",
    "test['Title_Mr'] = test['Name']\n",
    "test['Title_Master'] = test['Name']\n",
    "\n",
    "for i in test.index:\n",
    "    if test['Name'][i].startswith('Miss'):\n",
    "        test['Marital_Status'][i] = 0\n",
    "        test['Gender'][i] = 1\n",
    "        test['Title_Miss'][i] = 1\n",
    "        test['Title_Ms'][i] = 0\n",
    "        test['Title_Mrs'][i] = 0\n",
    "        test['Title_Mr'][i] = 0\n",
    "        test['Title_Master'][i] = 0\n",
    "        \n",
    "    elif test['Name'][i].startswith('Ms.'):\n",
    "        test['Marital_Status'][i] = None\n",
    "        test['Gender'][i] = 1\n",
    "        test['Title_Miss'][i] = 0\n",
    "        test['Title_Ms'][i] = 1\n",
    "        test['Title_Mrs'][i] = 0\n",
    "        test['Title_Mr'][i] = 0\n",
    "        test['Title_Master'][i] = 0\n",
    "        \n",
    "    elif test['Name'][i].startswith('Mrs.'):\n",
    "        test['Marital_Status'][i] = 1\n",
    "        test['Gender'][i] = 1\n",
    "        test['Title_Miss'][i] = 0\n",
    "        test['Title_Ms'][i] = 0\n",
    "        test['Title_Mrs'][i] = 1\n",
    "        test['Title_Mr'][i] = 0\n",
    "        test['Title_Master'][i] = 0\n",
    "        \n",
    "    elif test['Name'][i].startswith('Mr.'):\n",
    "        test['Marital_Status'][i] = 1\n",
    "        test['Gender'][i] = 0\n",
    "        test['Title_Miss'][i] = 0\n",
    "        test['Title_Ms'][i] = 0\n",
    "        test['Title_Mrs'][i] = 0\n",
    "        test['Title_Mr'][i] = 1\n",
    "        test['Title_Master'][i] = 0\n",
    "        \n",
    "    elif test['Name'][i].startswith('Master'):\n",
    "        test['Marital_Status'][i] = 0\n",
    "        test['Gender'][i] = 0\n",
    "        test['Title_Miss'][i] = 0\n",
    "        test['Title_Ms'][i] = 0\n",
    "        test['Title_Mrs'][i] = 0\n",
    "        test['Title_Mr'][i] = 0\n",
    "        test['Title_Master'][i] = 1"
   ]
  },
  {
   "cell_type": "code",
   "execution_count": 84,
   "metadata": {},
   "outputs": [],
   "source": [
    "test['City_SantaFe'] = test['City']\n",
    "test['City_Albuquerque'] = test['City']\n",
    "test['City_Taos'] = test['City']\n",
    "\n",
    "for i in test['City'].index:\n",
    "    if test['City'][i] == 'Santa Fe':\n",
    "        test['City_SantaFe'][i] = 1\n",
    "        test['City_Albuquerque'][i] = 0\n",
    "        test['City_Taos'][i] = 0\n",
    "    elif test['City'][i] == 'Albuquerque':\n",
    "        test['City_SantaFe'][i] = 0\n",
    "        test['City_Albuquerque'][i] = 1\n",
    "        test['City_Taos'][i] = 0\n",
    "    elif test['City'][i] == 'Taos':\n",
    "        test['City_SantaFe'][i] = 0\n",
    "        test['City_Albuquerque'][i] = 0\n",
    "        test['City_Taos'][i] = 1"
   ]
  },
  {
   "cell_type": "code",
   "execution_count": 85,
   "metadata": {},
   "outputs": [
    {
     "data": {
      "text/html": [
       "<div>\n",
       "<style scoped>\n",
       "    .dataframe tbody tr th:only-of-type {\n",
       "        vertical-align: middle;\n",
       "    }\n",
       "\n",
       "    .dataframe tbody tr th {\n",
       "        vertical-align: top;\n",
       "    }\n",
       "\n",
       "    .dataframe thead th {\n",
       "        text-align: right;\n",
       "    }\n",
       "</style>\n",
       "<table border=\"1\" class=\"dataframe\">\n",
       "  <thead>\n",
       "    <tr style=\"text-align: right;\">\n",
       "      <th></th>\n",
       "      <th>Patient_ID</th>\n",
       "      <th>Family_Case_ID</th>\n",
       "      <th>Severity</th>\n",
       "      <th>Name</th>\n",
       "      <th>Birthday_year</th>\n",
       "      <th>Parents or siblings infected</th>\n",
       "      <th>Wife/Husband or children infected</th>\n",
       "      <th>Medical_Expenses_Family</th>\n",
       "      <th>Medical_Tent</th>\n",
       "      <th>City</th>\n",
       "      <th>...</th>\n",
       "      <th>Gender</th>\n",
       "      <th>Is_young</th>\n",
       "      <th>Title_Miss</th>\n",
       "      <th>Title_Ms</th>\n",
       "      <th>Title_Mrs</th>\n",
       "      <th>Title_Mr</th>\n",
       "      <th>Title_Master</th>\n",
       "      <th>City_SantaFe</th>\n",
       "      <th>City_Albuquerque</th>\n",
       "      <th>City_Taos</th>\n",
       "    </tr>\n",
       "  </thead>\n",
       "  <tbody>\n",
       "    <tr>\n",
       "      <th>0</th>\n",
       "      <td>901</td>\n",
       "      <td>49242</td>\n",
       "      <td>3</td>\n",
       "      <td>Mr. Jody Pedro</td>\n",
       "      <td>NaN</td>\n",
       "      <td>0</td>\n",
       "      <td>0</td>\n",
       "      <td>203</td>\n",
       "      <td>NaN</td>\n",
       "      <td>Santa Fe</td>\n",
       "      <td>...</td>\n",
       "      <td>0</td>\n",
       "      <td>NaN</td>\n",
       "      <td>0</td>\n",
       "      <td>0</td>\n",
       "      <td>0</td>\n",
       "      <td>1</td>\n",
       "      <td>0</td>\n",
       "      <td>1</td>\n",
       "      <td>0</td>\n",
       "      <td>0</td>\n",
       "    </tr>\n",
       "    <tr>\n",
       "      <th>1</th>\n",
       "      <td>902</td>\n",
       "      <td>10400</td>\n",
       "      <td>3</td>\n",
       "      <td>Mr. Kevin Brent</td>\n",
       "      <td>1988.0</td>\n",
       "      <td>0</td>\n",
       "      <td>0</td>\n",
       "      <td>631</td>\n",
       "      <td>NaN</td>\n",
       "      <td>Santa Fe</td>\n",
       "      <td>...</td>\n",
       "      <td>0</td>\n",
       "      <td>1.0</td>\n",
       "      <td>0</td>\n",
       "      <td>0</td>\n",
       "      <td>0</td>\n",
       "      <td>1</td>\n",
       "      <td>0</td>\n",
       "      <td>1</td>\n",
       "      <td>0</td>\n",
       "      <td>0</td>\n",
       "    </tr>\n",
       "    <tr>\n",
       "      <th>2</th>\n",
       "      <td>903</td>\n",
       "      <td>10795</td>\n",
       "      <td>3</td>\n",
       "      <td>Mr. Frankie Cary</td>\n",
       "      <td>1981.0</td>\n",
       "      <td>1</td>\n",
       "      <td>0</td>\n",
       "      <td>376</td>\n",
       "      <td>NaN</td>\n",
       "      <td>Albuquerque</td>\n",
       "      <td>...</td>\n",
       "      <td>0</td>\n",
       "      <td>1.0</td>\n",
       "      <td>0</td>\n",
       "      <td>0</td>\n",
       "      <td>0</td>\n",
       "      <td>1</td>\n",
       "      <td>0</td>\n",
       "      <td>0</td>\n",
       "      <td>1</td>\n",
       "      <td>0</td>\n",
       "    </tr>\n",
       "    <tr>\n",
       "      <th>3</th>\n",
       "      <td>904</td>\n",
       "      <td>62440</td>\n",
       "      <td>3</td>\n",
       "      <td>Mr. Rick Pete</td>\n",
       "      <td>NaN</td>\n",
       "      <td>0</td>\n",
       "      <td>1</td>\n",
       "      <td>405</td>\n",
       "      <td>NaN</td>\n",
       "      <td>Albuquerque</td>\n",
       "      <td>...</td>\n",
       "      <td>0</td>\n",
       "      <td>NaN</td>\n",
       "      <td>0</td>\n",
       "      <td>0</td>\n",
       "      <td>0</td>\n",
       "      <td>1</td>\n",
       "      <td>0</td>\n",
       "      <td>0</td>\n",
       "      <td>1</td>\n",
       "      <td>0</td>\n",
       "    </tr>\n",
       "    <tr>\n",
       "      <th>4</th>\n",
       "      <td>905</td>\n",
       "      <td>81311</td>\n",
       "      <td>2</td>\n",
       "      <td>Mr. Matthew Erick</td>\n",
       "      <td>1996.0</td>\n",
       "      <td>0</td>\n",
       "      <td>0</td>\n",
       "      <td>378</td>\n",
       "      <td>NaN</td>\n",
       "      <td>Santa Fe</td>\n",
       "      <td>...</td>\n",
       "      <td>0</td>\n",
       "      <td>1.0</td>\n",
       "      <td>0</td>\n",
       "      <td>0</td>\n",
       "      <td>0</td>\n",
       "      <td>1</td>\n",
       "      <td>0</td>\n",
       "      <td>1</td>\n",
       "      <td>0</td>\n",
       "      <td>0</td>\n",
       "    </tr>\n",
       "  </tbody>\n",
       "</table>\n",
       "<p>5 rows × 22 columns</p>\n",
       "</div>"
      ],
      "text/plain": [
       "   Patient_ID  Family_Case_ID  Severity               Name  Birthday_year  \\\n",
       "0         901           49242         3     Mr. Jody Pedro            NaN   \n",
       "1         902           10400         3    Mr. Kevin Brent         1988.0   \n",
       "2         903           10795         3   Mr. Frankie Cary         1981.0   \n",
       "3         904           62440         3      Mr. Rick Pete            NaN   \n",
       "4         905           81311         2  Mr. Matthew Erick         1996.0   \n",
       "\n",
       "   Parents or siblings infected  Wife/Husband or children infected  \\\n",
       "0                             0                                  0   \n",
       "1                             0                                  0   \n",
       "2                             1                                  0   \n",
       "3                             0                                  1   \n",
       "4                             0                                  0   \n",
       "\n",
       "   Medical_Expenses_Family Medical_Tent         City  ...  Gender  Is_young  \\\n",
       "0                      203          NaN     Santa Fe  ...       0       NaN   \n",
       "1                      631          NaN     Santa Fe  ...       0       1.0   \n",
       "2                      376          NaN  Albuquerque  ...       0       1.0   \n",
       "3                      405          NaN  Albuquerque  ...       0       NaN   \n",
       "4                      378          NaN     Santa Fe  ...       0       1.0   \n",
       "\n",
       "   Title_Miss  Title_Ms Title_Mrs Title_Mr Title_Master City_SantaFe  \\\n",
       "0           0         0         0        1            0            1   \n",
       "1           0         0         0        1            0            1   \n",
       "2           0         0         0        1            0            0   \n",
       "3           0         0         0        1            0            0   \n",
       "4           0         0         0        1            0            1   \n",
       "\n",
       "  City_Albuquerque City_Taos  \n",
       "0                0         0  \n",
       "1                0         0  \n",
       "2                1         0  \n",
       "3                1         0  \n",
       "4                0         0  \n",
       "\n",
       "[5 rows x 22 columns]"
      ]
     },
     "execution_count": 85,
     "metadata": {},
     "output_type": "execute_result"
    }
   ],
   "source": [
    "test.head()"
   ]
  },
  {
   "cell_type": "code",
   "execution_count": 86,
   "metadata": {},
   "outputs": [],
   "source": [
    "X_test = test.drop(['Patient_ID','Name','City','Marital_Status'],1)"
   ]
  },
  {
   "cell_type": "code",
   "execution_count": 87,
   "metadata": {},
   "outputs": [],
   "source": [
    "# deal with the null values\n",
    "X_test = null_values(X_test,k=3)"
   ]
  },
  {
   "cell_type": "code",
   "execution_count": 88,
   "metadata": {},
   "outputs": [],
   "source": [
    "# scale the data\n",
    "X_test = scaler.transform(X_test)"
   ]
  },
  {
   "cell_type": "code",
   "execution_count": 89,
   "metadata": {},
   "outputs": [],
   "source": [
    "pred = classifier.predict(X_test)"
   ]
  },
  {
   "cell_type": "code",
   "execution_count": 90,
   "metadata": {},
   "outputs": [
    {
     "data": {
      "text/plain": [
       "array([1, 1, 1, 1, 1, 1, 1, 1, 1, 0, 1, 1, 0, 0, 1, 1, 1, 0, 1, 0, 1, 0,\n",
       "       0, 1, 1, 1, 0, 1, 0, 0, 1, 1, 0, 1, 0, 0, 1, 1, 1, 1, 1, 1, 0, 1,\n",
       "       1, 1, 1, 1, 0, 1, 1, 1, 1, 1, 1, 1, 1, 0, 1, 0, 1, 1, 1, 1, 1, 0,\n",
       "       1, 1, 1, 1, 1, 1, 1, 1, 1, 0, 1, 1, 0, 1, 1, 1, 1, 1, 1, 0, 0, 1,\n",
       "       0, 1, 0, 0, 1, 1, 0, 1, 1, 0, 0, 0, 1, 1, 1, 0, 1, 1, 1, 0, 1, 1,\n",
       "       1, 1, 1, 1, 1, 0, 1, 1, 1, 1, 0, 1, 0, 0, 0, 0, 0, 1, 0, 0, 1, 1,\n",
       "       1, 0, 0, 1, 1, 1, 1, 0, 1, 0, 1, 0, 1, 0, 0, 1, 0, 0, 1, 0, 1, 1,\n",
       "       1, 1, 1, 0, 1, 0, 0, 1, 1, 1, 1, 0, 1, 1, 0, 1, 1, 1, 0, 1, 1, 0,\n",
       "       1, 0, 1, 0, 1, 1, 1, 1, 1, 1, 1, 0, 0, 0, 1, 1, 0, 1, 0, 0, 1, 1,\n",
       "       1, 0, 1, 0, 0, 0, 1, 1, 1, 1, 1, 1, 1, 1, 1, 1, 0, 0, 1, 1, 0, 1,\n",
       "       0, 1, 0, 1, 1, 0, 0, 1, 0, 1, 0, 0, 1, 1, 1, 1, 1, 1, 0, 1, 1, 1,\n",
       "       0, 0, 1, 0, 0, 0, 1, 1, 1, 1, 0, 1, 1, 1, 1, 0, 1, 1, 0, 1, 0, 0,\n",
       "       1, 1, 1, 0, 1, 1, 1, 1, 1, 0, 1, 1, 1, 1, 0, 1, 1, 0, 1, 0, 0, 1,\n",
       "       1, 1, 1, 0, 1, 0, 1, 1, 1, 1, 1, 0, 1, 0, 1, 0, 0, 1, 0, 1, 1, 0,\n",
       "       0, 1, 0, 0, 1, 1, 1, 1, 1, 0, 1, 1, 0, 1, 1, 0, 1, 1, 0, 1, 1, 1,\n",
       "       1, 0, 1, 0, 1, 1, 1, 1, 1, 1, 0, 1, 1, 1, 1, 1, 1, 1, 1, 0, 0, 0,\n",
       "       1, 1, 0, 0, 1, 1, 1, 0, 0, 1, 1, 0, 0, 1, 0, 1, 0, 1, 1, 1, 1, 1,\n",
       "       0, 0, 1, 0, 1, 1, 0, 1, 1, 1, 0, 1, 0, 1, 1, 1, 1, 1, 1, 0, 1, 1,\n",
       "       1, 0, 1, 0], dtype=int64)"
      ]
     },
     "execution_count": 90,
     "metadata": {},
     "output_type": "execute_result"
    }
   ],
   "source": [
    "pred"
   ]
  },
  {
   "cell_type": "code",
   "execution_count": 91,
   "metadata": {},
   "outputs": [],
   "source": [
    "prediction = pd.DataFrame({'Patient_ID':test['Patient_ID'],'Deceased':pred})"
   ]
  },
  {
   "cell_type": "code",
   "execution_count": 92,
   "metadata": {},
   "outputs": [
    {
     "data": {
      "text/html": [
       "<div>\n",
       "<style scoped>\n",
       "    .dataframe tbody tr th:only-of-type {\n",
       "        vertical-align: middle;\n",
       "    }\n",
       "\n",
       "    .dataframe tbody tr th {\n",
       "        vertical-align: top;\n",
       "    }\n",
       "\n",
       "    .dataframe thead th {\n",
       "        text-align: right;\n",
       "    }\n",
       "</style>\n",
       "<table border=\"1\" class=\"dataframe\">\n",
       "  <thead>\n",
       "    <tr style=\"text-align: right;\">\n",
       "      <th></th>\n",
       "      <th>Patient_ID</th>\n",
       "      <th>Deceased</th>\n",
       "    </tr>\n",
       "  </thead>\n",
       "  <tbody>\n",
       "    <tr>\n",
       "      <th>0</th>\n",
       "      <td>901</td>\n",
       "      <td>1</td>\n",
       "    </tr>\n",
       "    <tr>\n",
       "      <th>1</th>\n",
       "      <td>902</td>\n",
       "      <td>1</td>\n",
       "    </tr>\n",
       "    <tr>\n",
       "      <th>2</th>\n",
       "      <td>903</td>\n",
       "      <td>1</td>\n",
       "    </tr>\n",
       "    <tr>\n",
       "      <th>3</th>\n",
       "      <td>904</td>\n",
       "      <td>1</td>\n",
       "    </tr>\n",
       "    <tr>\n",
       "      <th>4</th>\n",
       "      <td>905</td>\n",
       "      <td>1</td>\n",
       "    </tr>\n",
       "    <tr>\n",
       "      <th>...</th>\n",
       "      <td>...</td>\n",
       "      <td>...</td>\n",
       "    </tr>\n",
       "    <tr>\n",
       "      <th>395</th>\n",
       "      <td>1296</td>\n",
       "      <td>1</td>\n",
       "    </tr>\n",
       "    <tr>\n",
       "      <th>396</th>\n",
       "      <td>1297</td>\n",
       "      <td>1</td>\n",
       "    </tr>\n",
       "    <tr>\n",
       "      <th>397</th>\n",
       "      <td>1298</td>\n",
       "      <td>0</td>\n",
       "    </tr>\n",
       "    <tr>\n",
       "      <th>398</th>\n",
       "      <td>1299</td>\n",
       "      <td>1</td>\n",
       "    </tr>\n",
       "    <tr>\n",
       "      <th>399</th>\n",
       "      <td>1300</td>\n",
       "      <td>0</td>\n",
       "    </tr>\n",
       "  </tbody>\n",
       "</table>\n",
       "<p>400 rows × 2 columns</p>\n",
       "</div>"
      ],
      "text/plain": [
       "     Patient_ID  Deceased\n",
       "0           901         1\n",
       "1           902         1\n",
       "2           903         1\n",
       "3           904         1\n",
       "4           905         1\n",
       "..          ...       ...\n",
       "395        1296         1\n",
       "396        1297         1\n",
       "397        1298         0\n",
       "398        1299         1\n",
       "399        1300         0\n",
       "\n",
       "[400 rows x 2 columns]"
      ]
     },
     "execution_count": 92,
     "metadata": {},
     "output_type": "execute_result"
    }
   ],
   "source": [
    "prediction"
   ]
  },
  {
   "cell_type": "code",
   "execution_count": 93,
   "metadata": {},
   "outputs": [],
   "source": [
    "prediction.to_csv('final_stacking.csv',index=False)"
   ]
  },
  {
   "cell_type": "markdown",
   "metadata": {},
   "source": [
    "  ### <font color='#E8800A'>7. Keras</font> <a class=\"anchor\" id=\"keras\"></a>\n",
    "  [Back to TOC](#toc) "
   ]
  },
  {
   "cell_type": "markdown",
   "metadata": {},
   "source": [
    "As an extra challenge we decided to experiment with packages besides sklearn and so we used keras to build a neural network."
   ]
  },
  {
   "cell_type": "code",
   "execution_count": 94,
   "metadata": {},
   "outputs": [
    {
     "data": {
      "text/plain": [
       "'from keras import models,layers,regularizers\\nimport tensorflow as tf'"
      ]
     },
     "execution_count": 94,
     "metadata": {},
     "output_type": "execute_result"
    }
   ],
   "source": [
    "\"\"\"from keras import models,layers,regularizers\n",
    "import tensorflow as tf\"\"\""
   ]
  },
  {
   "cell_type": "code",
   "execution_count": 95,
   "metadata": {},
   "outputs": [
    {
     "data": {
      "text/plain": [
       "'data = data_'"
      ]
     },
     "execution_count": 95,
     "metadata": {},
     "output_type": "execute_result"
    }
   ],
   "source": [
    "\"\"\"data = data_\"\"\""
   ]
  },
  {
   "cell_type": "code",
   "execution_count": 96,
   "metadata": {},
   "outputs": [],
   "source": [
    "def avg_score_2(model_, method='knn', k=1, remove=False, std=3, oversampling=False, scaler=MinMaxScaler(), grid_search=False, parameters=None, features=False):\n",
    "    # apply kfold\n",
    "    kf = StratifiedKFold(n_splits=5,shuffle=True,random_state=42)\n",
    "    \n",
    "    # create lists to store the results from the different models \n",
    "    score_train = []\n",
    "    score_test = []\n",
    "    timer = []\n",
    "    n_iter = []\n",
    "    \n",
    "    data__ = data.drop(['Name','City'],1)\n",
    "    \n",
    "    for train_index, test_index in kf.split(data__,target):\n",
    "        model = deepcopy(model_)\n",
    "        \n",
    "        # get the indexes of the observations assigned for each partition\n",
    "        X_train, X_test = data__.iloc[train_index], data__.iloc[test_index]\n",
    "        y_train, y_test = target.iloc[train_index], target.iloc[test_index]\n",
    "        \n",
    "        # deal with the null values\n",
    "        X_train = null_values(X_train, method=method, k=k)\n",
    "        X_test = null_values(X_test, method=method,k=k)\n",
    "            \n",
    "        # deal with outliers\n",
    "        if remove == True:\n",
    "            X_train, y_train = outliers(X_train, y_train, std=std, remove=remove)\n",
    "        \n",
    "        # oversample the minority class\n",
    "        if oversampling == True:\n",
    "            X_train, y_train = oversample(X_train, y_train)\n",
    "            \n",
    "        # scale the data\n",
    "        scaler.fit(X_train)\n",
    "        X_train = scaler.transform(X_train)\n",
    "        X_test = scaler.transform(X_test)\n",
    "        \n",
    "        # start counting time\n",
    "        begin = time.perf_counter()\n",
    "        \n",
    "        # find the best features\n",
    "        if features == True:\n",
    "            rfe = RFECV(estimator = model,n_jobs=-1,scoring='accuracy')\n",
    "            X_train = rfe.fit_transform(X_train,y_train)\n",
    "            X_test = rfe.transform(X_test)\n",
    "            print(rfe.ranking_)\n",
    "            print(X_train.shape)\n",
    "        \n",
    "        # find the best hyperparameters\n",
    "        if grid_search == True:\n",
    "            clf = GridSearchCV(model,parameters,n_jobs=-1,scoring='accuracy')\n",
    "            clf.fit(X_train,y_train)\n",
    "            model = clf.best_estimator_\n",
    "            print(clf.best_params_)\n",
    "            \n",
    "        # fit the model to the data\n",
    "        model.fit(X_train,y_train,validation_data=(X_test,y_test),epochs=250,batch_size=32,verbose=0)\n",
    "        \n",
    "        # finish counting time\n",
    "        end = time.perf_counter()\n",
    "        \n",
    "        # predictions\n",
    "        Y_pred = model.predict(X_train)\n",
    "        y_pred = model.predict(X_test)\n",
    "        \n",
    "        # check the mean f1-score for the train\n",
    "        value_train = model.evaluate(X_train,y_train)[1]\n",
    "        print(value_train)\n",
    "        \n",
    "        # check the mean f1-score for the test\n",
    "        value_test = model.score(X_test,y_test)[1]\n",
    "        print(value_test)\n",
    "                \n",
    "        # append the scores, the time and the number of iterations in the corresponding list\n",
    "        score_train.append(value_train)\n",
    "        score_test.append(value_test)\n",
    "        timer.append(end-begin)\n",
    "        #n_iter.append(model.n_iter_)\n",
    "    # calculate the average and the std for each measure (accuracy, time and number of iterations)\n",
    "    avg_time = round(np.mean(timer),3)\n",
    "    avg_train = round(np.mean(score_train),3)\n",
    "    avg_test = round(np.mean(score_test),3)\n",
    "    std_time = round(np.std(timer),2)\n",
    "    std_train = round(np.std(score_train),2)\n",
    "    std_test = round(np.std(score_test),2)\n",
    "    #avg_iter = round(np.mean(n_iter),1)\n",
    "    #std_iter = round(np.std(n_iter),1)\n",
    "    \n",
    "    return str(avg_time) + '+/-' + str(std_time), str(avg_train) + '+/-' + str(std_train),\\\n",
    "str(avg_test) + '+/-' + str(std_test)#, str(avg_iter) + '+/-' + str(std_iter)"
   ]
  },
  {
   "cell_type": "code",
   "execution_count": 97,
   "metadata": {},
   "outputs": [],
   "source": [
    "def show_results_2(df, models, method = 'knn', k = 1, remove = False, std = 3, oversampling = False, scaler = MinMaxScaler(), parameters = None,features=False):\n",
    "    \"\"\"\n",
    "    Receive an empty dataframe and the different models and call the function avg_score\n",
    "    \"\"\"\n",
    "    count = 0\n",
    "    # for each model passed as argument\n",
    "    for model in models:\n",
    "        parameter_space = None\n",
    "        if parameters != None:\n",
    "            parameter_space = parameters[models.index(model)]\n",
    "            \n",
    "        if parameter_space == None:\n",
    "            grid_search = False\n",
    "        else:\n",
    "            grid_search = True\n",
    "                \n",
    "        print('----------------------------------')\n",
    "        # obtain the results provided by avg_score\n",
    "        time, avg_train, avg_test = avg_score_2(model, method = method, k = k, remove = remove, std = std, oversampling = oversampling, grid_search = grid_search, scaler = scaler, parameters = parameter_space, features = features)\n",
    "        # store the results in the right row\n",
    "        df.iloc[count] = time, avg_train, avg_test\n",
    "        count+=1\n",
    "\n",
    "    return df"
   ]
  },
  {
   "cell_type": "code",
   "execution_count": 98,
   "metadata": {},
   "outputs": [],
   "source": [
    "def build_model(shape,nodes=64,activation='relu',optimizer='rmsprop',loss='binary_crossentropy'):\n",
    "    np.random.seed(1)\n",
    "    tf.random.set_seed(2)\n",
    "    model = models.Sequential()\n",
    "    model.add(layers.Dense(nodes,activation=activation,input_shape=(shape,)))\n",
    "    model.add(layers.Dropout(0.5))\n",
    "    #model.add(layers.Dense(nodes,kernel_regularizer=regularizers.l2(0.001),activation=activation,input_shape=(shape,)))\n",
    "    model.add(layers.Dense(nodes,activation=activation))\n",
    "    model.add(layers.Dropout(0.5))\n",
    "    #model.add(layers.Dense(nodes,kernel_regularizer=regularizers.l2(0.001),activation=activation))\n",
    "    model.add(layers.Dense(1,activation='sigmoid'))\n",
    "    model.compile(optimizer=optimizer,loss=loss,metrics=['accuracy'])\n",
    "    return model"
   ]
  },
  {
   "cell_type": "markdown",
   "metadata": {},
   "source": [
    "## Tuning Hyperparameters"
   ]
  },
  {
   "cell_type": "code",
   "execution_count": 99,
   "metadata": {},
   "outputs": [
    {
     "data": {
      "text/plain": [
       "'model_16 = build_model(18,16)\\nmodel_32 = build_model(18,32)\\nmodel_64 = build_model(18)\\nmodel_128 = build_model(18,128)'"
      ]
     },
     "execution_count": 99,
     "metadata": {},
     "output_type": "execute_result"
    }
   ],
   "source": [
    "\"\"\"model_16 = build_model(18,16)\n",
    "model_32 = build_model(18,32)\n",
    "model_64 = build_model(18)\n",
    "model_128 = build_model(18,128)\"\"\""
   ]
  },
  {
   "cell_type": "code",
   "execution_count": 100,
   "metadata": {},
   "outputs": [
    {
     "data": {
      "text/plain": [
       "\"df = pd.DataFrame(columns=['Time','Train','Test'],index=[16,32,64,128])\\nshow_results_2(df,[model_16,model_32,model_64,model_128])\""
      ]
     },
     "execution_count": 100,
     "metadata": {},
     "output_type": "execute_result"
    }
   ],
   "source": [
    "\"\"\"df = pd.DataFrame(columns=['Time','Train','Test'],index=[16,32,64,128])\n",
    "show_results_2(df,[model_16,model_32,model_64,model_128])\"\"\""
   ]
  },
  {
   "cell_type": "code",
   "execution_count": 101,
   "metadata": {},
   "outputs": [
    {
     "data": {
      "text/plain": [
       "\"model_relu = build_model(18)\\nmodel_tanh = build_model(18,activation='tanh')\""
      ]
     },
     "execution_count": 101,
     "metadata": {},
     "output_type": "execute_result"
    }
   ],
   "source": [
    "\"\"\"model_relu = build_model(18)\n",
    "model_tanh = build_model(18,activation='tanh')\"\"\""
   ]
  },
  {
   "cell_type": "code",
   "execution_count": 102,
   "metadata": {},
   "outputs": [
    {
     "data": {
      "text/plain": [
       "\"df = pd.DataFrame(columns=['Time','Train','Test'],index=['relu','tanh'])\\nshow_results_2(df,[model_relu,model_tanh])\""
      ]
     },
     "execution_count": 102,
     "metadata": {},
     "output_type": "execute_result"
    }
   ],
   "source": [
    "\"\"\"df = pd.DataFrame(columns=['Time','Train','Test'],index=['relu','tanh'])\n",
    "show_results_2(df,[model_relu,model_tanh])\"\"\""
   ]
  },
  {
   "cell_type": "code",
   "execution_count": 103,
   "metadata": {},
   "outputs": [
    {
     "data": {
      "text/plain": [
       "\"model_rmsprop = build_model(18)\\nmodel_adam = build_model(18,optimizer='adam')\""
      ]
     },
     "execution_count": 103,
     "metadata": {},
     "output_type": "execute_result"
    }
   ],
   "source": [
    "\"\"\"model_rmsprop = build_model(18)\n",
    "model_adam = build_model(18,optimizer='adam')\"\"\""
   ]
  },
  {
   "cell_type": "code",
   "execution_count": 104,
   "metadata": {},
   "outputs": [
    {
     "data": {
      "text/plain": [
       "\"df = pd.DataFrame(columns=['Time','Train','Test'],index=['rmsprop','adam'])\\nshow_results_2(df,[model_rmsprop,model_adam])\""
      ]
     },
     "execution_count": 104,
     "metadata": {},
     "output_type": "execute_result"
    }
   ],
   "source": [
    "\"\"\"df = pd.DataFrame(columns=['Time','Train','Test'],index=['rmsprop','adam'])\n",
    "show_results_2(df,[model_rmsprop,model_adam])\"\"\""
   ]
  },
  {
   "cell_type": "code",
   "execution_count": 105,
   "metadata": {},
   "outputs": [
    {
     "data": {
      "text/plain": [
       "\"model_bin = build_model(18)\\nmodel_mse = build_model(18,loss='mse')\""
      ]
     },
     "execution_count": 105,
     "metadata": {},
     "output_type": "execute_result"
    }
   ],
   "source": [
    "\"\"\"model_bin = build_model(18)\n",
    "model_mse = build_model(18,loss='mse')\"\"\""
   ]
  },
  {
   "cell_type": "code",
   "execution_count": 106,
   "metadata": {},
   "outputs": [
    {
     "data": {
      "text/plain": [
       "\"df = pd.DataFrame(columns=['Time','Train','Test'],index=['binary','mse'])\\nshow_results_2(df,[model_bin,model_mse])\""
      ]
     },
     "execution_count": 106,
     "metadata": {},
     "output_type": "execute_result"
    }
   ],
   "source": [
    "\"\"\"df = pd.DataFrame(columns=['Time','Train','Test'],index=['binary','mse'])\n",
    "show_results_2(df,[model_bin,model_mse])\"\"\""
   ]
  },
  {
   "cell_type": "code",
   "execution_count": 107,
   "metadata": {},
   "outputs": [
    {
     "data": {
      "text/plain": [
       "\"model = build_model(18)\\ndf = pd.DataFrame(columns=['Time','Train','Test'],index=['model'])\\nshow_results_2(df,[model])\""
      ]
     },
     "execution_count": 107,
     "metadata": {},
     "output_type": "execute_result"
    }
   ],
   "source": [
    "\"\"\"model = build_model(18)\n",
    "df = pd.DataFrame(columns=['Time','Train','Test'],index=['model'])\n",
    "show_results_2(df,[model])\"\"\""
   ]
  },
  {
   "cell_type": "markdown",
   "metadata": {},
   "source": [
    "## Data Cleaning and Scaling"
   ]
  },
  {
   "cell_type": "code",
   "execution_count": 108,
   "metadata": {},
   "outputs": [],
   "source": [
    "#scaler = MinMaxScaler()\n",
    "#scaler = StandardScaler()\n",
    "scaler = RobustScaler()\n",
    "#scaler = MaxAbsScaler\n",
    "\n",
    "#remove = True\n",
    "remove = False\n",
    "\n",
    "std = 3\n",
    "#std = 4\n",
    "\n",
    "method = 'knn'\n",
    "#method = 'stat'\n",
    "\n",
    "#k = 1\n",
    "k = 2\n",
    "#k = 3\n",
    "#k = 4\n",
    "#k = 5"
   ]
  },
  {
   "cell_type": "code",
   "execution_count": 109,
   "metadata": {},
   "outputs": [
    {
     "data": {
      "text/plain": [
       "\"df = pd.DataFrame(columns=['Time','Train','Test'], index=['model'])\\nshow_results_2(df,[model],scaler=scaler,remove=remove,std=std,k=k,method=method,parameters=[parameter_space])\""
      ]
     },
     "execution_count": 109,
     "metadata": {},
     "output_type": "execute_result"
    }
   ],
   "source": [
    "\"\"\"df = pd.DataFrame(columns=['Time','Train','Test'], index=['model'])\n",
    "show_results_2(df,[model],scaler=scaler,remove=remove,std=std,k=k,method=method,parameters=[parameter_space])\"\"\""
   ]
  },
  {
   "cell_type": "markdown",
   "metadata": {},
   "source": [
    "The results of these tests can be found in the following tables:\n",
    "\n",
    "![alt text](keras.jpg \"Keras results\")"
   ]
  },
  {
   "cell_type": "code",
   "execution_count": 110,
   "metadata": {},
   "outputs": [],
   "source": [
    "#scaler = MinMaxScaler()\n",
    "#scaler = StandardScaler()\n",
    "scaler = RobustScaler()\n",
    "#scaler = MaxAbsScaler\n",
    "\n",
    "#remove = True\n",
    "remove = False\n",
    "\n",
    "std = 3\n",
    "#std = 4\n",
    "\n",
    "method = 'knn'\n",
    "#method = 'stat'\n",
    "\n",
    "#k = 1\n",
    "k = 2\n",
    "#k = 3\n",
    "#k = 4\n",
    "#k = 5"
   ]
  },
  {
   "cell_type": "code",
   "execution_count": 111,
   "metadata": {},
   "outputs": [
    {
     "data": {
      "text/plain": [
       "\"df = pd.DataFrame(columns=['Time','Train','Test'], index=['model'])\\nmodel = build_model(17)\\nfor col in data_.columns:\\n    if col not in ['Name','Medical_Tent','City']:\\n        data = data_.drop(col,1)\\n        print(col)\\n        print(show_results_2(df,[model],scaler=scaler,remove=remove,std=std,k=k,method=method))\""
      ]
     },
     "execution_count": 111,
     "metadata": {},
     "output_type": "execute_result"
    }
   ],
   "source": [
    "\"\"\"df = pd.DataFrame(columns=['Time','Train','Test'], index=['model'])\n",
    "model = build_model(17)\n",
    "for col in data_.columns:\n",
    "    if col not in ['Name','Medical_Tent','City']:\n",
    "        data = data_.drop(col,1)\n",
    "        print(col)\n",
    "        print(show_results_2(df,[model],scaler=scaler,remove=remove,std=std,k=k,method=method))\"\"\""
   ]
  },
  {
   "cell_type": "markdown",
   "metadata": {},
   "source": [
    "The results of these tests can be found in the following tables:\n",
    "\n",
    "(in yellow are the features removed in order to reach the result in the the column `Multiple`, in green is the model that had the best mean accuracy regarding the validation set, and in red are the cases where removing feature didn't improve at all the accuracy of the model)\n",
    "\n",
    "![alt text](keras_features.jpg \"Keras results\")"
   ]
  },
  {
   "cell_type": "markdown",
   "metadata": {},
   "source": [
    "## Train the Model"
   ]
  },
  {
   "cell_type": "code",
   "execution_count": 112,
   "metadata": {},
   "outputs": [
    {
     "data": {
      "text/plain": [
       "\"X_train = data_.drop(['Name','City','Parents or siblings infected'],1)\\ny_train = target\\n\\n# deal with the null values\\nX_train = null_values(X_train,k=2)\\n\\n# scale the data\\nscaler = RobustScaler()\\nscaler.fit(X_train)\\nX_train = scaler.transform(X_train)\\n\\n# fit the model to the data\\nmodel.fit(X_train,y_train,epochs=250,batch_size=32)\\n\\n# predictions\\nY_pred = model.predict(X_train)\\n\\nvalue_train = model.evaluate(X_train,y_train)[1]\\nprint(value_train)\""
      ]
     },
     "execution_count": 112,
     "metadata": {},
     "output_type": "execute_result"
    }
   ],
   "source": [
    "\"\"\"X_train = data_.drop(['Name','City','Parents or siblings infected'],1)\n",
    "y_train = target\n",
    "\n",
    "# deal with the null values\n",
    "X_train = null_values(X_train,k=2)\n",
    "\n",
    "# scale the data\n",
    "scaler = RobustScaler()\n",
    "scaler.fit(X_train)\n",
    "X_train = scaler.transform(X_train)\n",
    "\n",
    "# fit the model to the data\n",
    "model.fit(X_train,y_train,epochs=250,batch_size=32)\n",
    "\n",
    "# predictions\n",
    "Y_pred = model.predict(X_train)\n",
    "\n",
    "value_train = model.evaluate(X_train,y_train)[1]\n",
    "print(value_train)\"\"\""
   ]
  },
  {
   "cell_type": "markdown",
   "metadata": {},
   "source": [
    "## Predicting new values"
   ]
  },
  {
   "cell_type": "code",
   "execution_count": 113,
   "metadata": {},
   "outputs": [
    {
     "data": {
      "text/plain": [
       "\"X_test = test.drop(['Patient_ID','Name','City','Parents or siblings infected'],1)\""
      ]
     },
     "execution_count": 113,
     "metadata": {},
     "output_type": "execute_result"
    }
   ],
   "source": [
    "\"\"\"X_test = test.drop(['Patient_ID','Name','City','Parents or siblings infected'],1)\"\"\""
   ]
  },
  {
   "cell_type": "code",
   "execution_count": 114,
   "metadata": {},
   "outputs": [
    {
     "data": {
      "text/plain": [
       "'# deal with the null values\\nX_test = null_values(X_test,k=2)'"
      ]
     },
     "execution_count": 114,
     "metadata": {},
     "output_type": "execute_result"
    }
   ],
   "source": [
    "\"\"\"# deal with the null values\n",
    "X_test = null_values(X_test,k=2)\"\"\""
   ]
  },
  {
   "cell_type": "code",
   "execution_count": 115,
   "metadata": {},
   "outputs": [
    {
     "data": {
      "text/plain": [
       "'# scale the data\\nX_test = scaler.transform(X_test)'"
      ]
     },
     "execution_count": 115,
     "metadata": {},
     "output_type": "execute_result"
    }
   ],
   "source": [
    "\"\"\"# scale the data\n",
    "X_test = scaler.transform(X_test)\"\"\""
   ]
  },
  {
   "cell_type": "code",
   "execution_count": 116,
   "metadata": {},
   "outputs": [
    {
     "data": {
      "text/plain": [
       "'pred = model.predict(X_test)'"
      ]
     },
     "execution_count": 116,
     "metadata": {},
     "output_type": "execute_result"
    }
   ],
   "source": [
    "\"\"\"pred = model.predict(X_test)\"\"\""
   ]
  },
  {
   "cell_type": "code",
   "execution_count": 117,
   "metadata": {},
   "outputs": [
    {
     "data": {
      "text/plain": [
       "'pred'"
      ]
     },
     "execution_count": 117,
     "metadata": {},
     "output_type": "execute_result"
    }
   ],
   "source": [
    "\"\"\"pred\"\"\""
   ]
  },
  {
   "cell_type": "code",
   "execution_count": 118,
   "metadata": {},
   "outputs": [
    {
     "data": {
      "text/plain": [
       "'pred_ = []\\nfor p in pred:\\n    #print(p)\\n    if p[0] < 0.5:\\n        p_ = 0\\n    else:\\n        p_ = 1\\n    pred_.append(p_)\\npred_'"
      ]
     },
     "execution_count": 118,
     "metadata": {},
     "output_type": "execute_result"
    }
   ],
   "source": [
    "\"\"\"pred_ = []\n",
    "for p in pred:\n",
    "    #print(p)\n",
    "    if p[0] < 0.5:\n",
    "        p_ = 0\n",
    "    else:\n",
    "        p_ = 1\n",
    "    pred_.append(p_)\n",
    "pred_\"\"\""
   ]
  },
  {
   "cell_type": "code",
   "execution_count": 119,
   "metadata": {},
   "outputs": [
    {
     "data": {
      "text/plain": [
       "\"prediction = pd.DataFrame({'Patient_ID':test['Patient_ID'],'Deceased':pred_})\""
      ]
     },
     "execution_count": 119,
     "metadata": {},
     "output_type": "execute_result"
    }
   ],
   "source": [
    "\"\"\"prediction = pd.DataFrame({'Patient_ID':test['Patient_ID'],'Deceased':pred_})\"\"\""
   ]
  },
  {
   "cell_type": "code",
   "execution_count": 120,
   "metadata": {},
   "outputs": [
    {
     "data": {
      "text/plain": [
       "'prediction'"
      ]
     },
     "execution_count": 120,
     "metadata": {},
     "output_type": "execute_result"
    }
   ],
   "source": [
    "\"\"\"prediction\"\"\""
   ]
  },
  {
   "cell_type": "code",
   "execution_count": 121,
   "metadata": {},
   "outputs": [
    {
     "data": {
      "text/plain": [
       "\"prediction.to_csv('keras.csv',index=False)\""
      ]
     },
     "execution_count": 121,
     "metadata": {},
     "output_type": "execute_result"
    }
   ],
   "source": [
    "\"\"\"prediction.to_csv('keras.csv',index=False)\"\"\""
   ]
  }
 ],
 "metadata": {
  "kernelspec": {
   "display_name": "Python 3",
   "language": "python",
   "name": "python3"
  },
  "language_info": {
   "codemirror_mode": {
    "name": "ipython",
    "version": 3
   },
   "file_extension": ".py",
   "mimetype": "text/x-python",
   "name": "python",
   "nbconvert_exporter": "python",
   "pygments_lexer": "ipython3",
   "version": "3.7.7"
  }
 },
 "nbformat": 4,
 "nbformat_minor": 4
}
